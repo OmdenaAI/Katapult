{
 "cells": [
  {
   "cell_type": "code",
   "execution_count": 155,
   "metadata": {
    "id": "HrRVXPuP8A98"
   },
   "outputs": [],
   "source": [
    "%matplotlib inline\n",
    "import numpy as np\n",
    "import pandas as pd\n",
    "import matplotlib.pyplot as plt\n",
    "import seaborn as sns\n",
    "from sklearn.svm import SVC\n",
    "from sklearn.model_selection import train_test_split\n",
    "from sklearn.preprocessing import StandardScaler, normalize\n",
    "from sklearn.manifold import TSNE\n",
    "from sklearn.linear_model import LogisticRegression, LogisticRegressionCV\n",
    "from sklearn.tree import DecisionTreeClassifier\n",
    "from sklearn.ensemble import RandomForestClassifier, AdaBoostClassifier, GradientBoostingClassifier, VotingClassifier\n",
    "from sklearn.metrics import accuracy_score, classification_report, silhouette_score, confusion_matrix, classification_report\n",
    "from sklearn.cluster import KMeans"
   ]
  },
  {
   "cell_type": "code",
   "execution_count": 156,
   "metadata": {
    "id": "GupQsn348A-H"
   },
   "outputs": [],
   "source": [
    "sns.set_style('darkgrid')\n",
    "plt.style.use('ggplot')"
   ]
  },
  {
   "cell_type": "code",
   "execution_count": 157,
   "metadata": {
    "colab": {
     "base_uri": "https://localhost:8080/",
     "height": 206
    },
    "id": "LRVGblQa8A-Z",
    "outputId": "86415b87-0aeb-440e-85a2-4efd518970ce"
   },
   "outputs": [
    {
     "data": {
      "text/html": [
       "<div>\n",
       "<style scoped>\n",
       "    .dataframe tbody tr th:only-of-type {\n",
       "        vertical-align: middle;\n",
       "    }\n",
       "\n",
       "    .dataframe tbody tr th {\n",
       "        vertical-align: top;\n",
       "    }\n",
       "\n",
       "    .dataframe thead th {\n",
       "        text-align: right;\n",
       "    }\n",
       "</style>\n",
       "<table border=\"1\" class=\"dataframe\">\n",
       "  <thead>\n",
       "    <tr style=\"text-align: right;\">\n",
       "      <th></th>\n",
       "      <th>company_id</th>\n",
       "      <th>event_name</th>\n",
       "      <th>country</th>\n",
       "      <th>industry</th>\n",
       "      <th>business_stage</th>\n",
       "      <th>incorporated</th>\n",
       "      <th>incorporation_date</th>\n",
       "      <th>Age today</th>\n",
       "      <th>Number of team members</th>\n",
       "      <th>revenue_model_commission</th>\n",
       "      <th>...</th>\n",
       "      <th>Unnamed: 80</th>\n",
       "      <th>Unnamed: 81</th>\n",
       "      <th>Unnamed: 82</th>\n",
       "      <th>WEBSITE DEAD?</th>\n",
       "      <th>Unnamed: 84</th>\n",
       "      <th>Unnamed: 85</th>\n",
       "      <th>Funding after the event?</th>\n",
       "      <th>FUNDING - ALL FROM 3RD PARTY</th>\n",
       "      <th>total funding</th>\n",
       "      <th>age at the time of final funding (in months)</th>\n",
       "    </tr>\n",
       "  </thead>\n",
       "  <tbody>\n",
       "    <tr>\n",
       "      <th>0</th>\n",
       "      <td>1</td>\n",
       "      <td>Seedstars Tashkent</td>\n",
       "      <td>Uzbekistan</td>\n",
       "      <td>Consumer Services</td>\n",
       "      <td>Revenue Stage</td>\n",
       "      <td>0.0</td>\n",
       "      <td>2017-09</td>\n",
       "      <td>36.0</td>\n",
       "      <td>4.0</td>\n",
       "      <td>0.0</td>\n",
       "      <td>...</td>\n",
       "      <td>NaN</td>\n",
       "      <td>NaN</td>\n",
       "      <td>NaN</td>\n",
       "      <td>Alive</td>\n",
       "      <td>NaN</td>\n",
       "      <td>NaN</td>\n",
       "      <td>NaN</td>\n",
       "      <td>NaN</td>\n",
       "      <td>NaN</td>\n",
       "      <td>NaN</td>\n",
       "    </tr>\n",
       "    <tr>\n",
       "      <th>1</th>\n",
       "      <td>2</td>\n",
       "      <td>Seedstars Shanghai</td>\n",
       "      <td>China</td>\n",
       "      <td>Sports</td>\n",
       "      <td>Pre-Revenue Stage</td>\n",
       "      <td>1.0</td>\n",
       "      <td>2017-02</td>\n",
       "      <td>43.0</td>\n",
       "      <td>7.0</td>\n",
       "      <td>0.0</td>\n",
       "      <td>...</td>\n",
       "      <td>NaN</td>\n",
       "      <td>NaN</td>\n",
       "      <td>NaN</td>\n",
       "      <td>Dead</td>\n",
       "      <td>NaN</td>\n",
       "      <td>NaN</td>\n",
       "      <td>NaN</td>\n",
       "      <td>NaN</td>\n",
       "      <td>NaN</td>\n",
       "      <td>NaN</td>\n",
       "    </tr>\n",
       "    <tr>\n",
       "      <th>2</th>\n",
       "      <td>3</td>\n",
       "      <td>Seedstars Maputo</td>\n",
       "      <td>Mozambique</td>\n",
       "      <td>Education</td>\n",
       "      <td>Beta Testing Stage</td>\n",
       "      <td>1.0</td>\n",
       "      <td>2015-11</td>\n",
       "      <td>58.0</td>\n",
       "      <td>3.0</td>\n",
       "      <td>0.0</td>\n",
       "      <td>...</td>\n",
       "      <td>NaN</td>\n",
       "      <td>NaN</td>\n",
       "      <td>NaN</td>\n",
       "      <td>Dead</td>\n",
       "      <td>NaN</td>\n",
       "      <td>NaN</td>\n",
       "      <td>NaN</td>\n",
       "      <td>NaN</td>\n",
       "      <td>NaN</td>\n",
       "      <td>NaN</td>\n",
       "    </tr>\n",
       "    <tr>\n",
       "      <th>3</th>\n",
       "      <td>4</td>\n",
       "      <td>Seedstars Vicente Lopez</td>\n",
       "      <td>Argentina</td>\n",
       "      <td>Industrial / Energy / Clean Tech</td>\n",
       "      <td>Expansion Stage</td>\n",
       "      <td>1.0</td>\n",
       "      <td>2016-03</td>\n",
       "      <td>54.0</td>\n",
       "      <td>3.0</td>\n",
       "      <td>0.0</td>\n",
       "      <td>...</td>\n",
       "      <td>NaN</td>\n",
       "      <td>NaN</td>\n",
       "      <td>NaN</td>\n",
       "      <td>Dead</td>\n",
       "      <td>NaN</td>\n",
       "      <td>NaN</td>\n",
       "      <td>NaN</td>\n",
       "      <td>NaN</td>\n",
       "      <td>NaN</td>\n",
       "      <td>NaN</td>\n",
       "    </tr>\n",
       "    <tr>\n",
       "      <th>4</th>\n",
       "      <td>5</td>\n",
       "      <td>Seedstars Dhaka</td>\n",
       "      <td>Bangladesh</td>\n",
       "      <td>Education</td>\n",
       "      <td>Revenue Stage</td>\n",
       "      <td>1.0</td>\n",
       "      <td>2015-05</td>\n",
       "      <td>64.0</td>\n",
       "      <td>2.0</td>\n",
       "      <td>0.0</td>\n",
       "      <td>...</td>\n",
       "      <td>NaN</td>\n",
       "      <td>NaN</td>\n",
       "      <td>NaN</td>\n",
       "      <td>Alive</td>\n",
       "      <td>NaN</td>\n",
       "      <td>NaN</td>\n",
       "      <td>NaN</td>\n",
       "      <td>NaN</td>\n",
       "      <td>NaN</td>\n",
       "      <td>NaN</td>\n",
       "    </tr>\n",
       "  </tbody>\n",
       "</table>\n",
       "<p>5 rows × 90 columns</p>\n",
       "</div>"
      ],
      "text/plain": [
       "   company_id               event_name     country  \\\n",
       "0           1       Seedstars Tashkent  Uzbekistan   \n",
       "1           2       Seedstars Shanghai       China   \n",
       "2           3         Seedstars Maputo  Mozambique   \n",
       "3           4  Seedstars Vicente Lopez   Argentina   \n",
       "4           5          Seedstars Dhaka  Bangladesh   \n",
       "\n",
       "                           industry      business_stage  incorporated  \\\n",
       "0                 Consumer Services       Revenue Stage           0.0   \n",
       "1                            Sports   Pre-Revenue Stage           1.0   \n",
       "2                         Education  Beta Testing Stage           1.0   \n",
       "3  Industrial / Energy / Clean Tech     Expansion Stage           1.0   \n",
       "4                         Education       Revenue Stage           1.0   \n",
       "\n",
       "  incorporation_date  Age today  Number of team members  \\\n",
       "0            2017-09       36.0                     4.0   \n",
       "1            2017-02       43.0                     7.0   \n",
       "2            2015-11       58.0                     3.0   \n",
       "3            2016-03       54.0                     3.0   \n",
       "4            2015-05       64.0                     2.0   \n",
       "\n",
       "   revenue_model_commission  ...  Unnamed: 80  Unnamed: 81  Unnamed: 82  \\\n",
       "0                       0.0  ...          NaN          NaN          NaN   \n",
       "1                       0.0  ...          NaN          NaN          NaN   \n",
       "2                       0.0  ...          NaN          NaN          NaN   \n",
       "3                       0.0  ...          NaN          NaN          NaN   \n",
       "4                       0.0  ...          NaN          NaN          NaN   \n",
       "\n",
       "   WEBSITE DEAD?  Unnamed: 84  Unnamed: 85  Funding after the event?  \\\n",
       "0          Alive          NaN          NaN                       NaN   \n",
       "1           Dead          NaN          NaN                       NaN   \n",
       "2           Dead          NaN          NaN                       NaN   \n",
       "3           Dead          NaN          NaN                       NaN   \n",
       "4          Alive          NaN          NaN                       NaN   \n",
       "\n",
       "   FUNDING - ALL FROM 3RD PARTY  total funding  \\\n",
       "0                           NaN            NaN   \n",
       "1                           NaN            NaN   \n",
       "2                           NaN            NaN   \n",
       "3                           NaN            NaN   \n",
       "4                           NaN            NaN   \n",
       "\n",
       "   age at the time of final funding (in months)  \n",
       "0                                           NaN  \n",
       "1                                           NaN  \n",
       "2                                           NaN  \n",
       "3                                           NaN  \n",
       "4                                           NaN  \n",
       "\n",
       "[5 rows x 90 columns]"
      ]
     },
     "execution_count": 157,
     "metadata": {},
     "output_type": "execute_result"
    }
   ],
   "source": [
    "data_1=pd.read_csv('Seedstars IRS alumni data analysis - Anonymised.xlsx - pasted values only.csv')\n",
    "data_1.head()"
   ]
  },
  {
   "cell_type": "code",
   "execution_count": 158,
   "metadata": {
    "colab": {
     "base_uri": "https://localhost:8080/",
     "height": 34
    },
    "id": "C62TvH-v8A-g",
    "outputId": "d0aed8e9-b1e6-435a-c870-b4e5a5a9f4fb"
   },
   "outputs": [
    {
     "data": {
      "text/plain": [
       "(4255, 90)"
      ]
     },
     "execution_count": 158,
     "metadata": {},
     "output_type": "execute_result"
    }
   ],
   "source": [
    "data_1.shape"
   ]
  },
  {
   "cell_type": "code",
   "execution_count": 159,
   "metadata": {
    "colab": {
     "base_uri": "https://localhost:8080/",
     "height": 52
    },
    "id": "1enrewUX8A_q",
    "outputId": "b49b2276-c6cb-4907-cb83-c53c8247ad9e"
   },
   "outputs": [
    {
     "name": "stdout",
     "output_type": "stream",
     "text": [
      " categorical features:  37\n",
      " numerircal features:  53\n"
     ]
    }
   ],
   "source": [
    "total_features=data_1.shape[1]\n",
    "num_features=len((data_1.select_dtypes(include=np.number)).columns.tolist())\n",
    "cat_features=total_features-num_features\n",
    "print(' categorical features: ', cat_features)\n",
    "print(' numerircal features: ', num_features)"
   ]
  },
  {
   "cell_type": "code",
   "execution_count": 160,
   "metadata": {},
   "outputs": [
    {
     "name": "stdout",
     "output_type": "stream",
     "text": [
      "<class 'pandas.core.frame.DataFrame'>\n",
      "RangeIndex: 4255 entries, 0 to 4254\n",
      "Data columns (total 90 columns):\n",
      " #   Column                                                                                  Non-Null Count  Dtype  \n",
      "---  ------                                                                                  --------------  -----  \n",
      " 0   company_id                                                                              4255 non-null   int64  \n",
      " 1   event_name                                                                              4237 non-null   object \n",
      " 2   country                                                                                 4242 non-null   object \n",
      " 3   industry                                                                                4133 non-null   object \n",
      " 4   business_stage                                                                          3560 non-null   object \n",
      " 5   incorporated                                                                            3561 non-null   float64\n",
      " 6   incorporation_date                                                                      3690 non-null   object \n",
      " 7   Age today                                                                               3690 non-null   float64\n",
      " 8   Number of team members                                                                  3776 non-null   float64\n",
      " 9   revenue_model_commission                                                                3538 non-null   float64\n",
      " 10  revenue_model_product                                                                   3538 non-null   float64\n",
      " 11  revenue_model_on-demand                                                                 3538 non-null   float64\n",
      " 12  revenue_model_subscription                                                              3538 non-null   float64\n",
      " 13  revenue_model_freemium                                                                  3538 non-null   float64\n",
      " 14  revenue_model_advertising                                                               3538 non-null   float64\n",
      " 15  revenue_model_licensing                                                                 3538 non-null   float64\n",
      " 16  customer_type - B-to-B-to-C                                                             3539 non-null   float64\n",
      " 17  customer_type - B-to-B                                                                  3539 non-null   float64\n",
      " 18  customer_type - B-to-C                                                                  3539 non-null   float64\n",
      " 19  customer_type - B-to-G                                                                  3539 non-null   float64\n",
      " 20  customer_interaction - web                                                              1230 non-null   float64\n",
      " 21  customer_interaction - mobile                                                           1230 non-null   float64\n",
      " 22  customer_interaction - physical                                                         1230 non-null   float64\n",
      " 23  accelerator                                                                             4247 non-null   float64\n",
      " 24  amount_to_raise                                                                         2402 non-null   object \n",
      " 25  status_of_funding                                                                       3028 non-null   object \n",
      " 26  funding at the time of application                                                      3504 non-null   object \n",
      " 27  number_employees                                                                        3940 non-null   float64\n",
      " 28  revenue_1month                                                                          3469 non-null   object \n",
      " 29  revenue_2month                                                                          3468 non-null   object \n",
      " 30  revenue_3month                                                                          3468 non-null   object \n",
      " 31  users_1month                                                                            3469 non-null   float64\n",
      " 32  users_2month                                                                            3468 non-null   float64\n",
      " 33  users_3month                                                                            3468 non-null   float64\n",
      " 34  paying_users_1month                                                                     3469 non-null   float64\n",
      " 35  paying_users_2month                                                                     3468 non-null   float64\n",
      " 36  paying_users_3month                                                                     3468 non-null   float64\n",
      " 37  number_transactions_1month                                                              1213 non-null   float64\n",
      " 38  number_transactions_2month                                                              1212 non-null   float64\n",
      " 39  number_transactions_3month                                                              1212 non-null   float64\n",
      " 40  burn_rate                                                                               3469 non-null   object \n",
      " 41  date_first_sale                                                                         695 non-null    object \n",
      " 42  number of competitors                                                                   3037 non-null   float64\n",
      " 43  role_0                                                                                  3571 non-null   object \n",
      " 44  gender_0                                                                                3393 non-null   float64\n",
      " 45  birthdate_0                                                                             1510 non-null   object \n",
      " 46  Age of the entrepreneur 0                                                               1510 non-null   float64\n",
      " 47  city_0                                                                                  2591 non-null   object \n",
      " 48  country_0                                                                               2609 non-null   object \n",
      " 49  role_1                                                                                  2980 non-null   object \n",
      " 50  gender_1                                                                                2315 non-null   float64\n",
      " 51  birthdate_1                                                                             506 non-null    object \n",
      " 52  Age of the entrepreneur 1                                                               506 non-null    float64\n",
      " 53  city_1                                                                                  1040 non-null   object \n",
      " 54  country_1                                                                               1041 non-null   object \n",
      " 55  role_2                                                                                  1942 non-null   object \n",
      " 56  gender_2                                                                                1494 non-null   float64\n",
      " 57  birthdate_2                                                                             292 non-null    object \n",
      " 58  Age of the entrepreneur 2                                                               292 non-null    float64\n",
      " 59  city_2                                                                                  561 non-null    object \n",
      " 60  country_2                                                                               563 non-null    object \n",
      " 61  company_logo                                                                            4255 non-null   int64  \n",
      " 62  date_created                                                                            1658 non-null   object \n",
      " 63  Unnamed: 63                                                                             0 non-null      float64\n",
      " 64  Unnamed: 64                                                                             0 non-null      float64\n",
      " 65  Unnamed: 65                                                                             0 non-null      float64\n",
      " 66  Unnamed: 66                                                                             0 non-null      float64\n",
      " 67  Latest annualized revenues USD                                                          50 non-null     object \n",
      " 68  CAGR since incorporation                                                                37 non-null     object \n",
      " 69  # of employees - normalise it or average it + add the date when the data was collected  322 non-null    object \n",
      " 70  Date we collected the information                                                       324 non-null    object \n",
      " 71  Funding before Seedstars                                                                3504 non-null   object \n",
      " 72  FUNDING AFTER THE EVENT                                                                 429 non-null    object \n",
      " 73  Unnamed: 73                                                                             0 non-null      float64\n",
      " 74  Unnamed: 74                                                                             0 non-null      float64\n",
      " 75  Unnamed: 75                                                                             0 non-null      float64\n",
      " 76  Unnamed: 76                                                                             0 non-null      float64\n",
      " 77  Total Funding                                                                           3550 non-null   object \n",
      " 78  Unnamed: 78                                                                             0 non-null      float64\n",
      " 79  NEW DATA?                                                                               1650 non-null   object \n",
      " 80  Unnamed: 80                                                                             0 non-null      float64\n",
      " 81  Unnamed: 81                                                                             0 non-null      float64\n",
      " 82  Unnamed: 82                                                                             0 non-null      float64\n",
      " 83  WEBSITE DEAD?                                                                           4255 non-null   object \n",
      " 84  Unnamed: 84                                                                             0 non-null      float64\n",
      " 85  Unnamed: 85                                                                             0 non-null      float64\n",
      " 86  Funding after the event?                                                                429 non-null    object \n",
      " 87  FUNDING - ALL FROM 3RD PARTY                                                            429 non-null    object \n",
      " 88  total funding                                                                           0 non-null      float64\n",
      " 89  age at the time of final funding (in months)                                            0 non-null      float64\n",
      "dtypes: float64(51), int64(2), object(37)\n",
      "memory usage: 2.9+ MB\n"
     ]
    }
   ],
   "source": [
    "data_1.info()"
   ]
  },
  {
   "cell_type": "code",
   "execution_count": 161,
   "metadata": {
    "colab": {
     "base_uri": "https://localhost:8080/",
     "height": 439
    },
    "id": "USO1zkad8A_u",
    "outputId": "495600a3-2ca8-4f88-da58-57f0c5391099"
   },
   "outputs": [
    {
     "data": {
      "text/plain": [
       "<AxesSubplot:ylabel='WEBSITE DEAD?'>"
      ]
     },
     "execution_count": 161,
     "metadata": {},
     "output_type": "execute_result"
    },
    {
     "data": {
      "image/png": "[encoded data removed]",
      "text/plain": [
       "<Figure size 432x288 with 1 Axes>"
      ]
     },
     "metadata": {},
     "output_type": "display_data"
    }
   ],
   "source": [
    "data_1['WEBSITE DEAD?'].value_counts().plot.pie()\n",
    "#sns.countplot('WEBSITE DEAD?', data=data_1)\n"
   ]
  },
  {
   "cell_type": "code",
   "execution_count": 165,
   "metadata": {
    "colab": {
     "base_uri": "https://localhost:8080/",
     "height": 69
    },
    "id": "PRdYSicy8A_x",
    "outputId": "000f787f-50a1-4f85-d7d9-0ae8c5857437"
   },
   "outputs": [
    {
     "data": {
      "text/plain": [
       "Alive         0.709095\n",
       "Dead          0.242460\n",
       "No website    0.048445\n",
       "Maybe dead    0.010449\n",
       "Name: WEBSITE DEAD?, dtype: float64"
      ]
     },
     "execution_count": 165,
     "metadata": {},
     "output_type": "execute_result"
    }
   ],
   "source": [
    "#(data_1['WEBSITE DEAD?'].value_counts()/data_1.shape[0])*100\n",
    "data_1['WEBSITE DEAD?'].value_counts()/4211"
   ]
  },
  {
   "cell_type": "code",
   "execution_count": 166,
   "metadata": {
    "id": "zjDhEEX08A_1"
   },
   "outputs": [],
   "source": [
    "#data['PotentialFraud'].replace(['No', 'Yes'], [0,1], inplace=True)\n",
    "#data_1['WEBSITE DEAD?'].value_counts()/4211\n",
    "data_1['WEBSITE DEAD?'] = data_1['WEBSITE DEAD?'].replace(['Alive', 'Dead', 'No website', 'Maybe dead'], [1,0,-1,np.random.choice([1,0,-1], p=[0.709095, 0.242460, 0.048445])])"
   ]
  },
  {
   "cell_type": "code",
   "execution_count": 167,
   "metadata": {},
   "outputs": [
    {
     "data": {
      "text/plain": [
       " 1    3030\n",
       " 0    1021\n",
       "-1     204\n",
       "Name: WEBSITE DEAD?, dtype: int64"
      ]
     },
     "execution_count": 167,
     "metadata": {},
     "output_type": "execute_result"
    }
   ],
   "source": [
    "data_1['WEBSITE DEAD?'].value_counts()"
   ]
  },
  {
   "cell_type": "markdown",
   "metadata": {},
   "source": [
    "## I- First Step: Working with Numerical Features"
   ]
  },
  {
   "cell_type": "code",
   "execution_count": 182,
   "metadata": {
    "colab": {
     "base_uri": "https://localhost:8080/",
     "height": 34
    },
    "id": "tgO7p1_o8A_-",
    "outputId": "669da6ba-f9bb-4914-b29b-03341ebf5b8c"
   },
   "outputs": [
    {
     "data": {
      "text/plain": [
       "(4255, 54)"
      ]
     },
     "execution_count": 182,
     "metadata": {},
     "output_type": "execute_result"
    }
   ],
   "source": [
    "num_data = data_1.select_dtypes(include=np.number)\n",
    "num_data.shape"
   ]
  },
  {
   "cell_type": "code",
   "execution_count": 183,
   "metadata": {},
   "outputs": [],
   "source": [
    "k=['Unnamed: 63',\n",
    " 'Unnamed: 64',\n",
    " 'Unnamed: 65',\n",
    " 'Unnamed: 66',\n",
    " 'Unnamed: 73',\n",
    " 'Unnamed: 74',\n",
    " 'Unnamed: 75',\n",
    " 'Unnamed: 76',\n",
    " 'Unnamed: 78',\n",
    " 'Unnamed: 80',\n",
    " 'Unnamed: 81',\n",
    " 'Unnamed: 82','Unnamed: 84',\n",
    " 'Unnamed: 85', 'total funding', 'age at the time of final funding (in months)']"
   ]
  },
  {
   "cell_type": "code",
   "execution_count": 184,
   "metadata": {},
   "outputs": [],
   "source": [
    "for i in k:\n",
    "    num_data.drop(i, axis=1, inplace=True)"
   ]
  },
  {
   "cell_type": "code",
   "execution_count": 187,
   "metadata": {},
   "outputs": [
    {
     "data": {
      "text/plain": [
       "['company_id',\n",
       " 'incorporated',\n",
       " 'Age today',\n",
       " 'Number of team members',\n",
       " 'revenue_model_commission',\n",
       " 'revenue_model_product',\n",
       " 'revenue_model_on-demand',\n",
       " 'revenue_model_subscription',\n",
       " 'revenue_model_freemium',\n",
       " 'revenue_model_advertising',\n",
       " 'revenue_model_licensing',\n",
       " 'customer_type - B-to-B-to-C',\n",
       " 'customer_type - B-to-B',\n",
       " 'customer_type - B-to-C',\n",
       " 'customer_type - B-to-G',\n",
       " 'customer_interaction - web',\n",
       " 'customer_interaction - mobile',\n",
       " 'customer_interaction - physical',\n",
       " 'accelerator',\n",
       " 'number_employees',\n",
       " 'users_1month',\n",
       " 'users_2month',\n",
       " 'users_3month',\n",
       " 'paying_users_1month',\n",
       " 'paying_users_2month',\n",
       " 'paying_users_3month',\n",
       " 'number_transactions_1month',\n",
       " 'number_transactions_2month',\n",
       " 'number_transactions_3month',\n",
       " 'number of competitors',\n",
       " 'gender_0',\n",
       " 'Age of the entrepreneur 0',\n",
       " 'gender_1',\n",
       " 'Age of the entrepreneur 1',\n",
       " 'gender_2',\n",
       " 'Age of the entrepreneur 2',\n",
       " 'company_logo',\n",
       " 'WEBSITE DEAD?']"
      ]
     },
     "execution_count": 187,
     "metadata": {},
     "output_type": "execute_result"
    }
   ],
   "source": [
    "num_data.columns.tolist()"
   ]
  },
  {
   "cell_type": "markdown",
   "metadata": {},
   "source": [
    "### 1- Missing Values Ablation by sampling from the distribution"
   ]
  },
  {
   "cell_type": "code",
   "execution_count": 191,
   "metadata": {},
   "outputs": [
    {
     "name": "stderr",
     "output_type": "stream",
     "text": [
      "/Users/christian/opt/anaconda3/lib/python3.8/site-packages/seaborn/_decorators.py:36: FutureWarning: Pass the following variable as a keyword arg: x. From version 0.12, the only valid positional argument will be `data`, and passing other arguments without an explicit keyword will result in an error or misinterpretation.\n",
      "  warnings.warn(\n"
     ]
    },
    {
     "data": {
      "text/plain": [
       "<AxesSubplot:xlabel='number_transactions_3month'>"
      ]
     },
     "execution_count": 191,
     "metadata": {},
     "output_type": "execute_result"
    },
    {
     "data": {
      "image/png": "[encoded data removed]",
      "text/plain": [
       "<Figure size 432x288 with 1 Axes>"
      ]
     },
     "metadata": {},
     "output_type": "display_data"
    }
   ],
   "source": [
    "sns.boxplot(num_data['number_transactions_3month'])"
   ]
  },
  {
   "cell_type": "code",
   "execution_count": 185,
   "metadata": {
    "scrolled": false
   },
   "outputs": [],
   "source": [
    "#num_data.head()\n",
    "for i in num_data.columns.tolist():\n",
    "    if i!='WEBSITE DEAD?':\n",
    "        l = num_data[i].dropna()\n",
    "        value_dict = {}\n",
    "        for el in l:\n",
    "            if el in value_dict :\n",
    "                value_dict[el] += 1\n",
    "            else:\n",
    "                value_dict[el] =1\n",
    "        keys = list(value_dict.keys())\n",
    "        values = list(value_dict.values())\n",
    "        prob_values = [i/np.sum(values) for i in values]\n",
    "        num_data[i].fillna(value=np.random.choice(a=keys, p=prob_values), inplace=True)"
   ]
  },
  {
   "cell_type": "code",
   "execution_count": 192,
   "metadata": {},
   "outputs": [],
   "source": [
    "#num_data.info()"
   ]
  },
  {
   "cell_type": "code",
   "execution_count": 193,
   "metadata": {},
   "outputs": [
    {
     "data": {
      "text/plain": [
       "<AxesSubplot:>"
      ]
     },
     "execution_count": 193,
     "metadata": {},
     "output_type": "execute_result"
    },
    {
     "data": {
      "image/png": "[encoded data removed]",
      "text/plain": [
       "<Figure size 432x288 with 2 Axes>"
      ]
     },
     "metadata": {},
     "output_type": "display_data"
    }
   ],
   "source": [
    "sns.heatmap(num_data.corr())"
   ]
  },
  {
   "cell_type": "markdown",
   "metadata": {},
   "source": [
    "### 2- TSNE Dimensionality Reduction"
   ]
  },
  {
   "cell_type": "code",
   "execution_count": 194,
   "metadata": {},
   "outputs": [
    {
     "data": {
      "text/plain": [
       "(4255, 38)"
      ]
     },
     "execution_count": 194,
     "metadata": {},
     "output_type": "execute_result"
    }
   ],
   "source": [
    "num_data.shape"
   ]
  },
  {
   "cell_type": "markdown",
   "metadata": {},
   "source": [
    "Some features present a negligibe number of outlier as depicted in boxplot that we can delet"
   ]
  },
  {
   "cell_type": "code",
   "execution_count": 195,
   "metadata": {},
   "outputs": [],
   "source": [
    "def clean_dataset(df):\n",
    "    assert isinstance(df, pd.DataFrame), \"df needs to be a pd.DataFrame\"\n",
    "    df.dropna(inplace=True)\n",
    "    indices_to_keep = ~df.isin([np.nan, np.inf, -np.inf]).any(1)\n",
    "    return df[indices_to_keep].astype(np.float64)"
   ]
  },
  {
   "cell_type": "code",
   "execution_count": 196,
   "metadata": {},
   "outputs": [
    {
     "name": "stderr",
     "output_type": "stream",
     "text": [
      "<ipython-input-195-19e362bcb334>:3: SettingWithCopyWarning: \n",
      "A value is trying to be set on a copy of a slice from a DataFrame\n",
      "\n",
      "See the caveats in the documentation: https://pandas.pydata.org/pandas-docs/stable/user_guide/indexing.html#returning-a-view-versus-a-copy\n",
      "  df.dropna(inplace=True)\n"
     ]
    }
   ],
   "source": [
    "num_data=clean_dataset(num_data)"
   ]
  },
  {
   "cell_type": "code",
   "execution_count": 197,
   "metadata": {},
   "outputs": [],
   "source": [
    "scaler = StandardScaler()\n",
    "# isomap = Isomap()\n",
    "# isomap_data = isomap.fit_transform(scaler.fit_transform(num_data))\n",
    "\n",
    "tsne = TSNE()\n",
    "tsne_data = tsne.fit_transform(scaler.fit_transform(num_data))"
   ]
  },
  {
   "cell_type": "code",
   "execution_count": 199,
   "metadata": {},
   "outputs": [
    {
     "name": "stderr",
     "output_type": "stream",
     "text": [
      "No handles with labels found to put in legend.\n"
     ]
    },
    {
     "data": {
      "text/plain": [
       "<matplotlib.legend.Legend at 0x7fc113613d60>"
      ]
     },
     "execution_count": 199,
     "metadata": {},
     "output_type": "execute_result"
    },
    {
     "data": {
      "image/png": "[encoded data removed]",
      "text/plain": [
       "<Figure size 432x288 with 1 Axes>"
      ]
     },
     "metadata": {},
     "output_type": "display_data"
    }
   ],
   "source": [
    "i = -1\n",
    "for color in ['green', 'blue', 'red']:\n",
    "    plt.scatter(tsne_data[num_data['WEBSITE DEAD?'] == i][:,0], tsne_data[num_data['WEBSITE DEAD?'] == i][:,1], c=color, s=100,\n",
    "               alpha=0.7, edgecolors='none')\n",
    "    i+=1\n",
    "plt.legend() "
   ]
  },
  {
   "cell_type": "markdown",
   "metadata": {},
   "source": [
    "### 3- KMeans Clustering (Baseline)"
   ]
  },
  {
   "cell_type": "code",
   "execution_count": 200,
   "metadata": {},
   "outputs": [],
   "source": [
    "from sklearn.cluster import KMeans\n",
    "kmean = KMeans(2)\n",
    "kmean_data = kmean.fit(normalize(num_data))"
   ]
  },
  {
   "cell_type": "code",
   "execution_count": 201,
   "metadata": {},
   "outputs": [
    {
     "data": {
      "text/plain": [
       "<matplotlib.collections.PathCollection at 0x7fc113c1e100>"
      ]
     },
     "execution_count": 201,
     "metadata": {},
     "output_type": "execute_result"
    },
    {
     "data": {
      "image/png": "[encoded data removed]",
      "text/plain": [
       "<Figure size 432x288 with 1 Axes>"
      ]
     },
     "metadata": {},
     "output_type": "display_data"
    }
   ],
   "source": [
    "plt.scatter(normalize(num_data)[:, 0], normalize(num_data)[:, 1], c=kmean_data.labels_)"
   ]
  },
  {
   "cell_type": "code",
   "execution_count": 202,
   "metadata": {},
   "outputs": [
    {
     "data": {
      "text/plain": [
       "2540"
      ]
     },
     "execution_count": 202,
     "metadata": {},
     "output_type": "execute_result"
    }
   ],
   "source": [
    "sum(kmean_data.labels_ == num_data['WEBSITE DEAD?'])"
   ]
  },
  {
   "cell_type": "code",
   "execution_count": 203,
   "metadata": {},
   "outputs": [
    {
     "data": {
      "text/plain": [
       "array([[   0,    7,  197],\n",
       "       [   0,  139,  882],\n",
       "       [   0,  629, 2401]])"
      ]
     },
     "execution_count": 203,
     "metadata": {},
     "output_type": "execute_result"
    }
   ],
   "source": [
    "from sklearn.metrics import confusion_matrix, classification_report\n",
    "confusion_matrix(num_data['WEBSITE DEAD?'],kmean.labels_)"
   ]
  },
  {
   "cell_type": "code",
   "execution_count": 204,
   "metadata": {},
   "outputs": [
    {
     "name": "stdout",
     "output_type": "stream",
     "text": [
      "              precision    recall  f1-score   support\n",
      "\n",
      "        -1.0       0.00      0.00      0.00       204\n",
      "         0.0       0.18      0.14      0.15      1021\n",
      "         1.0       0.69      0.79      0.74      3030\n",
      "\n",
      "    accuracy                           0.60      4255\n",
      "   macro avg       0.29      0.31      0.30      4255\n",
      "weighted avg       0.53      0.60      0.56      4255\n",
      "\n"
     ]
    },
    {
     "name": "stderr",
     "output_type": "stream",
     "text": [
      "/Users/christian/opt/anaconda3/lib/python3.8/site-packages/sklearn/metrics/_classification.py:1221: UndefinedMetricWarning: Precision and F-score are ill-defined and being set to 0.0 in labels with no predicted samples. Use `zero_division` parameter to control this behavior.\n",
      "  _warn_prf(average, modifier, msg_start, len(result))\n"
     ]
    }
   ],
   "source": [
    "print(classification_report(num_data['WEBSITE DEAD?'], kmean.labels_))"
   ]
  },
  {
   "cell_type": "markdown",
   "metadata": {},
   "source": [
    "### 4- Modeling"
   ]
  },
  {
   "cell_type": "markdown",
   "metadata": {},
   "source": [
    "Our models will take as input the results from the TSNE transformation, a 2D dataset."
   ]
  },
  {
   "cell_type": "code",
   "execution_count": 205,
   "metadata": {},
   "outputs": [],
   "source": [
    "X = tsne_data\n",
    "y = num_data['WEBSITE DEAD?']\n",
    "X_train, X_test, y_train, y_test = train_test_split(X, y, test_size = .1, shuffle=True, random_state=123)"
   ]
  },
  {
   "cell_type": "code",
   "execution_count": 206,
   "metadata": {},
   "outputs": [
    {
     "name": "stdout",
     "output_type": "stream",
     "text": [
      "\t RANDOM FOREST :\n",
      "Accuracy:  0.863849765258216\n",
      "              precision    recall  f1-score   support\n",
      "\n",
      "        -1.0       1.00      0.62      0.77        16\n",
      "         0.0       0.77      0.58      0.66        95\n",
      "         1.0       0.88      0.96      0.92       315\n",
      "\n",
      "    accuracy                           0.86       426\n",
      "   macro avg       0.88      0.72      0.78       426\n",
      "weighted avg       0.86      0.86      0.86       426\n",
      "\n",
      "\t SVM :\n",
      "Accuracy:  0.8004694835680751\n",
      "              precision    recall  f1-score   support\n",
      "\n",
      "        -1.0       1.00      0.44      0.61        16\n",
      "         0.0       1.00      0.20      0.33        95\n",
      "         1.0       0.79      1.00      0.88       315\n",
      "\n",
      "    accuracy                           0.80       426\n",
      "   macro avg       0.93      0.55      0.61       426\n",
      "weighted avg       0.84      0.80      0.75       426\n",
      "\n",
      "\t LOGISTIC REGRESSION :\n",
      "Accuracy:  0.7535211267605634\n",
      "              precision    recall  f1-score   support\n",
      "\n",
      "        -1.0       1.00      0.31      0.48        16\n",
      "         0.0       0.38      0.03      0.06        95\n",
      "         1.0       0.76      0.99      0.86       315\n",
      "\n",
      "    accuracy                           0.75       426\n",
      "   macro avg       0.71      0.45      0.46       426\n",
      "weighted avg       0.68      0.75      0.67       426\n",
      "\n",
      "\t GRADIENT BOOST :\n",
      "Accuracy:  0.8075117370892019\n",
      "              precision    recall  f1-score   support\n",
      "\n",
      "        -1.0       0.89      0.50      0.64        16\n",
      "         0.0       0.76      0.33      0.46        95\n",
      "         1.0       0.81      0.97      0.88       315\n",
      "\n",
      "    accuracy                           0.81       426\n",
      "   macro avg       0.82      0.60      0.66       426\n",
      "weighted avg       0.80      0.81      0.78       426\n",
      "\n",
      "\t ADABOOST :\n",
      "Accuracy:  0.7816901408450704\n",
      "              precision    recall  f1-score   support\n",
      "\n",
      "        -1.0       0.00      0.00      0.00        16\n",
      "         0.0       0.61      0.23      0.34        95\n",
      "         1.0       0.80      0.99      0.88       315\n",
      "\n",
      "    accuracy                           0.78       426\n",
      "   macro avg       0.47      0.41      0.41       426\n",
      "weighted avg       0.73      0.78      0.73       426\n",
      "\n",
      "\t DECISION TREE :\n",
      "Accuracy:  0.8192488262910798\n",
      "              precision    recall  f1-score   support\n",
      "\n",
      "        -1.0       0.85      0.69      0.76        16\n",
      "         0.0       0.61      0.60      0.61        95\n",
      "         1.0       0.88      0.89      0.89       315\n",
      "\n",
      "    accuracy                           0.82       426\n",
      "   macro avg       0.78      0.73      0.75       426\n",
      "weighted avg       0.82      0.82      0.82       426\n",
      "\n"
     ]
    },
    {
     "name": "stderr",
     "output_type": "stream",
     "text": [
      "/Users/christian/opt/anaconda3/lib/python3.8/site-packages/sklearn/metrics/_classification.py:1221: UndefinedMetricWarning: Precision and F-score are ill-defined and being set to 0.0 in labels with no predicted samples. Use `zero_division` parameter to control this behavior.\n",
      "  _warn_prf(average, modifier, msg_start, len(result))\n"
     ]
    }
   ],
   "source": [
    "rf_clf = RandomForestClassifier()\n",
    "svm_clf = SVC()\n",
    "logr_clf = LogisticRegressionCV(max_iter=1000)\n",
    "gb_clf = GradientBoostingClassifier()\n",
    "adb_clf = AdaBoostClassifier()\n",
    "dt_clf = DecisionTreeClassifier()\n",
    "\n",
    "for name, model in zip(['Random Forest', 'SVM', 'Logistic Regression', 'Gradient Boost', 'AdaBoost', 'Decision Tree'],\n",
    "                       [rf_clf, svm_clf, logr_clf, gb_clf, adb_clf,dt_clf]):\n",
    "    print('\\t',name.upper(),':')\n",
    "    model.fit(X_train, y_train)\n",
    "    y_pred = model.predict(X_test)\n",
    "    print('Accuracy: ', accuracy_score(y_test, y_pred))\n",
    "    print(classification_report(y_test, y_pred))"
   ]
  },
  {
   "cell_type": "code",
   "execution_count": 207,
   "metadata": {},
   "outputs": [
    {
     "name": "stdout",
     "output_type": "stream",
     "text": [
      "Accuracy:  0.8450704225352113\n",
      "              precision    recall  f1-score   support\n",
      "\n",
      "        -1.0       0.90      0.56      0.69        16\n",
      "         0.0       0.74      0.54      0.62        95\n",
      "         1.0       0.86      0.95      0.91       315\n",
      "\n",
      "    accuracy                           0.85       426\n",
      "   macro avg       0.83      0.68      0.74       426\n",
      "weighted avg       0.84      0.85      0.83       426\n",
      "\n"
     ]
    }
   ],
   "source": [
    "vot_clf = VotingClassifier(estimators=[('rf', rf_clf),('gb', gb_clf),('dt',dt_clf)], voting='hard')\n",
    "vot_clf.fit(X_train, y_train)\n",
    "y_pred = vot_clf.predict(X_test)\n",
    "print('Accuracy: ', accuracy_score(y_test, y_pred))\n",
    "print(classification_report(y_test, y_pred))"
   ]
  },
  {
   "cell_type": "markdown",
   "metadata": {},
   "source": [
    "## II- Second Step: Working with Numerical and categorical Features"
   ]
  }
 ],
 "metadata": {
  "colab": {
   "name": "HEALTHCARE PROVIDER FRAUD DETECTION ANALYSIS(1).ipynb",
   "provenance": []
  },
  "kernelspec": {
   "display_name": "Python 3",
   "language": "python",
   "name": "python3"
  },
  "language_info": {
   "codemirror_mode": {
    "name": "ipython",
    "version": 3
   },
   "file_extension": ".py",
   "mimetype": "text/x-python",
   "name": "python",
   "nbconvert_exporter": "python",
   "pygments_lexer": "ipython3",
   "version": "3.8.5"
  },
  "widgets": {
   "application/vnd.jupyter.widget-state+json": {
    "091e3e61d6494df1b818051d225a13ca": {
     "model_module": "@jupyter-widgets/controls",
     "model_name": "DescriptionStyleModel",
     "state": {
      "_model_module": "@jupyter-widgets/controls",
      "_model_module_version": "1.5.0",
      "_model_name": "DescriptionStyleModel",
      "_view_count": null,
      "_view_module": "@jupyter-widgets/base",
      "_view_module_version": "1.2.0",
      "_view_name": "StyleView",
      "description_width": ""
     }
    },
    "09f64f494151449daa8b8af92838ca05": {
     "model_module": "@jupyter-widgets/base",
     "model_name": "LayoutModel",
     "state": {
      "_model_module": "@jupyter-widgets/base",
      "_model_module_version": "1.2.0",
      "_model_name": "LayoutModel",
      "_view_count": null,
      "_view_module": "@jupyter-widgets/base",
      "_view_module_version": "1.2.0",
      "_view_name": "LayoutView",
      "align_content": null,
      "align_items": null,
      "align_self": null,
      "border": null,
      "bottom": null,
      "display": null,
      "flex": null,
      "flex_flow": null,
      "grid_area": null,
      "grid_auto_columns": null,
      "grid_auto_flow": null,
      "grid_auto_rows": null,
      "grid_column": null,
      "grid_gap": null,
      "grid_row": null,
      "grid_template_areas": null,
      "grid_template_columns": null,
      "grid_template_rows": null,
      "height": null,
      "justify_content": null,
      "justify_items": null,
      "left": null,
      "margin": null,
      "max_height": null,
      "max_width": null,
      "min_height": null,
      "min_width": null,
      "object_fit": null,
      "object_position": null,
      "order": null,
      "overflow": null,
      "overflow_x": null,
      "overflow_y": null,
      "padding": null,
      "right": null,
      "top": null,
      "visibility": null,
      "width": null
     }
    },
    "172a3386aa584e69aae95da6bc09e69d": {
     "model_module": "@jupyter-widgets/base",
     "model_name": "LayoutModel",
     "state": {
      "_model_module": "@jupyter-widgets/base",
      "_model_module_version": "1.2.0",
      "_model_name": "LayoutModel",
      "_view_count": null,
      "_view_module": "@jupyter-widgets/base",
      "_view_module_version": "1.2.0",
      "_view_name": "LayoutView",
      "align_content": null,
      "align_items": null,
      "align_self": null,
      "border": null,
      "bottom": null,
      "display": null,
      "flex": null,
      "flex_flow": null,
      "grid_area": null,
      "grid_auto_columns": null,
      "grid_auto_flow": null,
      "grid_auto_rows": null,
      "grid_column": null,
      "grid_gap": null,
      "grid_row": null,
      "grid_template_areas": null,
      "grid_template_columns": null,
      "grid_template_rows": null,
      "height": null,
      "justify_content": null,
      "justify_items": null,
      "left": null,
      "margin": null,
      "max_height": null,
      "max_width": null,
      "min_height": null,
      "min_width": null,
      "object_fit": null,
      "object_position": null,
      "order": null,
      "overflow": null,
      "overflow_x": null,
      "overflow_y": null,
      "padding": null,
      "right": null,
      "top": null,
      "visibility": null,
      "width": null
     }
    },
    "18c53e1f55c24f459ce2e5202d9e32a1": {
     "model_module": "@jupyter-widgets/base",
     "model_name": "LayoutModel",
     "state": {
      "_model_module": "@jupyter-widgets/base",
      "_model_module_version": "1.2.0",
      "_model_name": "LayoutModel",
      "_view_count": null,
      "_view_module": "@jupyter-widgets/base",
      "_view_module_version": "1.2.0",
      "_view_name": "LayoutView",
      "align_content": null,
      "align_items": null,
      "align_self": null,
      "border": null,
      "bottom": null,
      "display": null,
      "flex": null,
      "flex_flow": null,
      "grid_area": null,
      "grid_auto_columns": null,
      "grid_auto_flow": null,
      "grid_auto_rows": null,
      "grid_column": null,
      "grid_gap": null,
      "grid_row": null,
      "grid_template_areas": null,
      "grid_template_columns": null,
      "grid_template_rows": null,
      "height": null,
      "justify_content": null,
      "justify_items": null,
      "left": null,
      "margin": null,
      "max_height": null,
      "max_width": null,
      "min_height": null,
      "min_width": null,
      "object_fit": null,
      "object_position": null,
      "order": null,
      "overflow": null,
      "overflow_x": null,
      "overflow_y": null,
      "padding": null,
      "right": null,
      "top": null,
      "visibility": null,
      "width": null
     }
    },
    "1a59cfc7b49c48bbbc4c0d5b49607683": {
     "model_module": "@jupyter-widgets/base",
     "model_name": "LayoutModel",
     "state": {
      "_model_module": "@jupyter-widgets/base",
      "_model_module_version": "1.2.0",
      "_model_name": "LayoutModel",
      "_view_count": null,
      "_view_module": "@jupyter-widgets/base",
      "_view_module_version": "1.2.0",
      "_view_name": "LayoutView",
      "align_content": null,
      "align_items": null,
      "align_self": null,
      "border": null,
      "bottom": null,
      "display": null,
      "flex": null,
      "flex_flow": null,
      "grid_area": null,
      "grid_auto_columns": null,
      "grid_auto_flow": null,
      "grid_auto_rows": null,
      "grid_column": null,
      "grid_gap": null,
      "grid_row": null,
      "grid_template_areas": null,
      "grid_template_columns": null,
      "grid_template_rows": null,
      "height": null,
      "justify_content": null,
      "justify_items": null,
      "left": null,
      "margin": null,
      "max_height": null,
      "max_width": null,
      "min_height": null,
      "min_width": null,
      "object_fit": null,
      "object_position": null,
      "order": null,
      "overflow": null,
      "overflow_x": null,
      "overflow_y": null,
      "padding": null,
      "right": null,
      "top": null,
      "visibility": null,
      "width": null
     }
    },
    "1a8041317a13483ebe893090859485da": {
     "model_module": "@jupyter-widgets/controls",
     "model_name": "HTMLModel",
     "state": {
      "_dom_classes": [],
      "_model_module": "@jupyter-widgets/controls",
      "_model_module_version": "1.5.0",
      "_model_name": "HTMLModel",
      "_view_count": null,
      "_view_module": "@jupyter-widgets/controls",
      "_view_module_version": "1.5.0",
      "_view_name": "HTMLView",
      "description": "",
      "description_tooltip": null,
      "layout": "IPY_MODEL_18c53e1f55c24f459ce2e5202d9e32a1",
      "placeholder": "​",
      "style": "IPY_MODEL_c52b844c79844c2fb179f4939092f568",
      "value": " 1/1 [01:17&lt;00:00, 77.52s/it]"
     }
    },
    "1c302ccf98c7416cbd97e225622a65f5": {
     "model_module": "@jupyter-widgets/base",
     "model_name": "LayoutModel",
     "state": {
      "_model_module": "@jupyter-widgets/base",
      "_model_module_version": "1.2.0",
      "_model_name": "LayoutModel",
      "_view_count": null,
      "_view_module": "@jupyter-widgets/base",
      "_view_module_version": "1.2.0",
      "_view_name": "LayoutView",
      "align_content": null,
      "align_items": null,
      "align_self": null,
      "border": null,
      "bottom": null,
      "display": null,
      "flex": null,
      "flex_flow": null,
      "grid_area": null,
      "grid_auto_columns": null,
      "grid_auto_flow": null,
      "grid_auto_rows": null,
      "grid_column": null,
      "grid_gap": null,
      "grid_row": null,
      "grid_template_areas": null,
      "grid_template_columns": null,
      "grid_template_rows": null,
      "height": null,
      "justify_content": null,
      "justify_items": null,
      "left": null,
      "margin": null,
      "max_height": null,
      "max_width": null,
      "min_height": null,
      "min_width": null,
      "object_fit": null,
      "object_position": null,
      "order": null,
      "overflow": null,
      "overflow_x": null,
      "overflow_y": null,
      "padding": null,
      "right": null,
      "top": null,
      "visibility": null,
      "width": null
     }
    },
    "1f15c8c5212d466e9b04a8937dbd0c6d": {
     "model_module": "@jupyter-widgets/controls",
     "model_name": "HTMLModel",
     "state": {
      "_dom_classes": [],
      "_model_module": "@jupyter-widgets/controls",
      "_model_module_version": "1.5.0",
      "_model_name": "HTMLModel",
      "_view_count": null,
      "_view_module": "@jupyter-widgets/controls",
      "_view_module_version": "1.5.0",
      "_view_name": "HTMLView",
      "description": "",
      "description_tooltip": null,
      "layout": "IPY_MODEL_09f64f494151449daa8b8af92838ca05",
      "placeholder": "​",
      "style": "IPY_MODEL_7f21a5249e954597bdb334d605527b4b",
      "value": " 68/? [04:02&lt;00:00,  3.56s/it, Completed]"
     }
    },
    "22a978fd470443ffadaa73990c40680f": {
     "model_module": "@jupyter-widgets/controls",
     "model_name": "FloatProgressModel",
     "state": {
      "_dom_classes": [],
      "_model_module": "@jupyter-widgets/controls",
      "_model_module_version": "1.5.0",
      "_model_name": "FloatProgressModel",
      "_view_count": null,
      "_view_module": "@jupyter-widgets/controls",
      "_view_module_version": "1.5.0",
      "_view_name": "ProgressView",
      "bar_style": "success",
      "description": "",
      "description_tooltip": null,
      "layout": "IPY_MODEL_bd3b9539b3bd46de84023406ebdb5ce3",
      "max": 1,
      "min": 0,
      "orientation": "horizontal",
      "style": "IPY_MODEL_b39b8d5457fc4f9eb8205619d3e5fa4d",
      "value": 1
     }
    },
    "2b7ff7af98cd486eaed308f148b03125": {
     "model_module": "@jupyter-widgets/base",
     "model_name": "LayoutModel",
     "state": {
      "_model_module": "@jupyter-widgets/base",
      "_model_module_version": "1.2.0",
      "_model_name": "LayoutModel",
      "_view_count": null,
      "_view_module": "@jupyter-widgets/base",
      "_view_module_version": "1.2.0",
      "_view_name": "LayoutView",
      "align_content": null,
      "align_items": null,
      "align_self": null,
      "border": null,
      "bottom": null,
      "display": null,
      "flex": null,
      "flex_flow": null,
      "grid_area": null,
      "grid_auto_columns": null,
      "grid_auto_flow": null,
      "grid_auto_rows": null,
      "grid_column": null,
      "grid_gap": null,
      "grid_row": null,
      "grid_template_areas": null,
      "grid_template_columns": null,
      "grid_template_rows": null,
      "height": null,
      "justify_content": null,
      "justify_items": null,
      "left": null,
      "margin": null,
      "max_height": null,
      "max_width": null,
      "min_height": null,
      "min_width": null,
      "object_fit": null,
      "object_position": null,
      "order": null,
      "overflow": null,
      "overflow_x": null,
      "overflow_y": null,
      "padding": null,
      "right": null,
      "top": null,
      "visibility": null,
      "width": null
     }
    },
    "2c7a72d72b9b41b2b7918495b1b66344": {
     "model_module": "@jupyter-widgets/controls",
     "model_name": "FloatProgressModel",
     "state": {
      "_dom_classes": [],
      "_model_module": "@jupyter-widgets/controls",
      "_model_module_version": "1.5.0",
      "_model_name": "FloatProgressModel",
      "_view_count": null,
      "_view_module": "@jupyter-widgets/controls",
      "_view_module_version": "1.5.0",
      "_view_name": "ProgressView",
      "bar_style": "success",
      "description": "",
      "description_tooltip": null,
      "layout": "IPY_MODEL_50854d40d86b42319c942c0782c712ab",
      "max": 66,
      "min": 0,
      "orientation": "horizontal",
      "style": "IPY_MODEL_c7e669dbf376488ca23184067892d2bd",
      "value": 66
     }
    },
    "50854d40d86b42319c942c0782c712ab": {
     "model_module": "@jupyter-widgets/base",
     "model_name": "LayoutModel",
     "state": {
      "_model_module": "@jupyter-widgets/base",
      "_model_module_version": "1.2.0",
      "_model_name": "LayoutModel",
      "_view_count": null,
      "_view_module": "@jupyter-widgets/base",
      "_view_module_version": "1.2.0",
      "_view_name": "LayoutView",
      "align_content": null,
      "align_items": null,
      "align_self": null,
      "border": null,
      "bottom": null,
      "display": null,
      "flex": null,
      "flex_flow": null,
      "grid_area": null,
      "grid_auto_columns": null,
      "grid_auto_flow": null,
      "grid_auto_rows": null,
      "grid_column": null,
      "grid_gap": null,
      "grid_row": null,
      "grid_template_areas": null,
      "grid_template_columns": null,
      "grid_template_rows": null,
      "height": null,
      "justify_content": null,
      "justify_items": null,
      "left": null,
      "margin": null,
      "max_height": null,
      "max_width": null,
      "min_height": null,
      "min_width": null,
      "object_fit": null,
      "object_position": null,
      "order": null,
      "overflow": null,
      "overflow_x": null,
      "overflow_y": null,
      "padding": null,
      "right": null,
      "top": null,
      "visibility": null,
      "width": null
     }
    },
    "6d625ab7594f4c9192f6e66d6b19e961": {
     "model_module": "@jupyter-widgets/base",
     "model_name": "LayoutModel",
     "state": {
      "_model_module": "@jupyter-widgets/base",
      "_model_module_version": "1.2.0",
      "_model_name": "LayoutModel",
      "_view_count": null,
      "_view_module": "@jupyter-widgets/base",
      "_view_module_version": "1.2.0",
      "_view_name": "LayoutView",
      "align_content": null,
      "align_items": null,
      "align_self": null,
      "border": null,
      "bottom": null,
      "display": null,
      "flex": null,
      "flex_flow": null,
      "grid_area": null,
      "grid_auto_columns": null,
      "grid_auto_flow": null,
      "grid_auto_rows": null,
      "grid_column": null,
      "grid_gap": null,
      "grid_row": null,
      "grid_template_areas": null,
      "grid_template_columns": null,
      "grid_template_rows": null,
      "height": null,
      "justify_content": null,
      "justify_items": null,
      "left": null,
      "margin": null,
      "max_height": null,
      "max_width": null,
      "min_height": null,
      "min_width": null,
      "object_fit": null,
      "object_position": null,
      "order": null,
      "overflow": null,
      "overflow_x": null,
      "overflow_y": null,
      "padding": null,
      "right": null,
      "top": null,
      "visibility": null,
      "width": null
     }
    },
    "702c3620f80c48b5a43e98b29ddbefe6": {
     "model_module": "@jupyter-widgets/controls",
     "model_name": "FloatProgressModel",
     "state": {
      "_dom_classes": [],
      "_model_module": "@jupyter-widgets/controls",
      "_model_module_version": "1.5.0",
      "_model_name": "FloatProgressModel",
      "_view_count": null,
      "_view_module": "@jupyter-widgets/controls",
      "_view_module_version": "1.5.0",
      "_view_name": "ProgressView",
      "bar_style": "success",
      "description": "",
      "description_tooltip": null,
      "layout": "IPY_MODEL_1c302ccf98c7416cbd97e225622a65f5",
      "max": 1,
      "min": 0,
      "orientation": "horizontal",
      "style": "IPY_MODEL_c25be7130e0d470b8566c0c4931676f6",
      "value": 1
     }
    },
    "7955e226320a4bc1b17dba1352172734": {
     "model_module": "@jupyter-widgets/controls",
     "model_name": "DescriptionStyleModel",
     "state": {
      "_model_module": "@jupyter-widgets/controls",
      "_model_module_version": "1.5.0",
      "_model_name": "DescriptionStyleModel",
      "_view_count": null,
      "_view_module": "@jupyter-widgets/base",
      "_view_module_version": "1.2.0",
      "_view_name": "StyleView",
      "description_width": ""
     }
    },
    "7f21a5249e954597bdb334d605527b4b": {
     "model_module": "@jupyter-widgets/controls",
     "model_name": "DescriptionStyleModel",
     "state": {
      "_model_module": "@jupyter-widgets/controls",
      "_model_module_version": "1.5.0",
      "_model_name": "DescriptionStyleModel",
      "_view_count": null,
      "_view_module": "@jupyter-widgets/base",
      "_view_module_version": "1.2.0",
      "_view_name": "StyleView",
      "description_width": ""
     }
    },
    "977b5ccd1e06407bab032cf6dea4ef1e": {
     "model_module": "@jupyter-widgets/controls",
     "model_name": "HTMLModel",
     "state": {
      "_dom_classes": [],
      "_model_module": "@jupyter-widgets/controls",
      "_model_module_version": "1.5.0",
      "_model_name": "HTMLModel",
      "_view_count": null,
      "_view_module": "@jupyter-widgets/controls",
      "_view_module_version": "1.5.0",
      "_view_name": "HTMLView",
      "description": "",
      "description_tooltip": null,
      "layout": "IPY_MODEL_2b7ff7af98cd486eaed308f148b03125",
      "placeholder": "​",
      "style": "IPY_MODEL_7955e226320a4bc1b17dba1352172734",
      "value": "Summarize dataset: "
     }
    },
    "99027261a58b404f9220d7d8b5519dba": {
     "model_module": "@jupyter-widgets/controls",
     "model_name": "HBoxModel",
     "state": {
      "_dom_classes": [],
      "_model_module": "@jupyter-widgets/controls",
      "_model_module_version": "1.5.0",
      "_model_name": "HBoxModel",
      "_view_count": null,
      "_view_module": "@jupyter-widgets/controls",
      "_view_module_version": "1.5.0",
      "_view_name": "HBoxView",
      "box_style": "",
      "children": [
       "IPY_MODEL_a25ef3181f7347e7b1b7a56ec985a34a",
       "IPY_MODEL_22a978fd470443ffadaa73990c40680f",
       "IPY_MODEL_1a8041317a13483ebe893090859485da"
      ],
      "layout": "IPY_MODEL_172a3386aa584e69aae95da6bc09e69d"
     }
    },
    "a25ef3181f7347e7b1b7a56ec985a34a": {
     "model_module": "@jupyter-widgets/controls",
     "model_name": "HTMLModel",
     "state": {
      "_dom_classes": [],
      "_model_module": "@jupyter-widgets/controls",
      "_model_module_version": "1.5.0",
      "_model_name": "HTMLModel",
      "_view_count": null,
      "_view_module": "@jupyter-widgets/controls",
      "_view_module_version": "1.5.0",
      "_view_name": "HTMLView",
      "description": "",
      "description_tooltip": null,
      "layout": "IPY_MODEL_a2e9a4170875452f9ea1d8797307b08c",
      "placeholder": "​",
      "style": "IPY_MODEL_b0bb9974d1e74d40a0912ce7f69e5203",
      "value": "Render HTML: 100%"
     }
    },
    "a2e9a4170875452f9ea1d8797307b08c": {
     "model_module": "@jupyter-widgets/base",
     "model_name": "LayoutModel",
     "state": {
      "_model_module": "@jupyter-widgets/base",
      "_model_module_version": "1.2.0",
      "_model_name": "LayoutModel",
      "_view_count": null,
      "_view_module": "@jupyter-widgets/base",
      "_view_module_version": "1.2.0",
      "_view_name": "LayoutView",
      "align_content": null,
      "align_items": null,
      "align_self": null,
      "border": null,
      "bottom": null,
      "display": null,
      "flex": null,
      "flex_flow": null,
      "grid_area": null,
      "grid_auto_columns": null,
      "grid_auto_flow": null,
      "grid_auto_rows": null,
      "grid_column": null,
      "grid_gap": null,
      "grid_row": null,
      "grid_template_areas": null,
      "grid_template_columns": null,
      "grid_template_rows": null,
      "height": null,
      "justify_content": null,
      "justify_items": null,
      "left": null,
      "margin": null,
      "max_height": null,
      "max_width": null,
      "min_height": null,
      "min_width": null,
      "object_fit": null,
      "object_position": null,
      "order": null,
      "overflow": null,
      "overflow_x": null,
      "overflow_y": null,
      "padding": null,
      "right": null,
      "top": null,
      "visibility": null,
      "width": null
     }
    },
    "b0bb9974d1e74d40a0912ce7f69e5203": {
     "model_module": "@jupyter-widgets/controls",
     "model_name": "DescriptionStyleModel",
     "state": {
      "_model_module": "@jupyter-widgets/controls",
      "_model_module_version": "1.5.0",
      "_model_name": "DescriptionStyleModel",
      "_view_count": null,
      "_view_module": "@jupyter-widgets/base",
      "_view_module_version": "1.2.0",
      "_view_name": "StyleView",
      "description_width": ""
     }
    },
    "b39b8d5457fc4f9eb8205619d3e5fa4d": {
     "model_module": "@jupyter-widgets/controls",
     "model_name": "ProgressStyleModel",
     "state": {
      "_model_module": "@jupyter-widgets/controls",
      "_model_module_version": "1.5.0",
      "_model_name": "ProgressStyleModel",
      "_view_count": null,
      "_view_module": "@jupyter-widgets/base",
      "_view_module_version": "1.2.0",
      "_view_name": "StyleView",
      "bar_color": null,
      "description_width": ""
     }
    },
    "bd3b9539b3bd46de84023406ebdb5ce3": {
     "model_module": "@jupyter-widgets/base",
     "model_name": "LayoutModel",
     "state": {
      "_model_module": "@jupyter-widgets/base",
      "_model_module_version": "1.2.0",
      "_model_name": "LayoutModel",
      "_view_count": null,
      "_view_module": "@jupyter-widgets/base",
      "_view_module_version": "1.2.0",
      "_view_name": "LayoutView",
      "align_content": null,
      "align_items": null,
      "align_self": null,
      "border": null,
      "bottom": null,
      "display": null,
      "flex": null,
      "flex_flow": null,
      "grid_area": null,
      "grid_auto_columns": null,
      "grid_auto_flow": null,
      "grid_auto_rows": null,
      "grid_column": null,
      "grid_gap": null,
      "grid_row": null,
      "grid_template_areas": null,
      "grid_template_columns": null,
      "grid_template_rows": null,
      "height": null,
      "justify_content": null,
      "justify_items": null,
      "left": null,
      "margin": null,
      "max_height": null,
      "max_width": null,
      "min_height": null,
      "min_width": null,
      "object_fit": null,
      "object_position": null,
      "order": null,
      "overflow": null,
      "overflow_x": null,
      "overflow_y": null,
      "padding": null,
      "right": null,
      "top": null,
      "visibility": null,
      "width": null
     }
    },
    "be517fc033b2485392a2621189997e50": {
     "model_module": "@jupyter-widgets/base",
     "model_name": "LayoutModel",
     "state": {
      "_model_module": "@jupyter-widgets/base",
      "_model_module_version": "1.2.0",
      "_model_name": "LayoutModel",
      "_view_count": null,
      "_view_module": "@jupyter-widgets/base",
      "_view_module_version": "1.2.0",
      "_view_name": "LayoutView",
      "align_content": null,
      "align_items": null,
      "align_self": null,
      "border": null,
      "bottom": null,
      "display": null,
      "flex": null,
      "flex_flow": null,
      "grid_area": null,
      "grid_auto_columns": null,
      "grid_auto_flow": null,
      "grid_auto_rows": null,
      "grid_column": null,
      "grid_gap": null,
      "grid_row": null,
      "grid_template_areas": null,
      "grid_template_columns": null,
      "grid_template_rows": null,
      "height": null,
      "justify_content": null,
      "justify_items": null,
      "left": null,
      "margin": null,
      "max_height": null,
      "max_width": null,
      "min_height": null,
      "min_width": null,
      "object_fit": null,
      "object_position": null,
      "order": null,
      "overflow": null,
      "overflow_x": null,
      "overflow_y": null,
      "padding": null,
      "right": null,
      "top": null,
      "visibility": null,
      "width": null
     }
    },
    "c25be7130e0d470b8566c0c4931676f6": {
     "model_module": "@jupyter-widgets/controls",
     "model_name": "ProgressStyleModel",
     "state": {
      "_model_module": "@jupyter-widgets/controls",
      "_model_module_version": "1.5.0",
      "_model_name": "ProgressStyleModel",
      "_view_count": null,
      "_view_module": "@jupyter-widgets/base",
      "_view_module_version": "1.2.0",
      "_view_name": "StyleView",
      "bar_color": null,
      "description_width": ""
     }
    },
    "c52b844c79844c2fb179f4939092f568": {
     "model_module": "@jupyter-widgets/controls",
     "model_name": "DescriptionStyleModel",
     "state": {
      "_model_module": "@jupyter-widgets/controls",
      "_model_module_version": "1.5.0",
      "_model_name": "DescriptionStyleModel",
      "_view_count": null,
      "_view_module": "@jupyter-widgets/base",
      "_view_module_version": "1.2.0",
      "_view_name": "StyleView",
      "description_width": ""
     }
    },
    "c7e669dbf376488ca23184067892d2bd": {
     "model_module": "@jupyter-widgets/controls",
     "model_name": "ProgressStyleModel",
     "state": {
      "_model_module": "@jupyter-widgets/controls",
      "_model_module_version": "1.5.0",
      "_model_name": "ProgressStyleModel",
      "_view_count": null,
      "_view_module": "@jupyter-widgets/base",
      "_view_module_version": "1.2.0",
      "_view_name": "StyleView",
      "bar_color": null,
      "description_width": ""
     }
    },
    "d7742ccde07d4c6c8cedaaf22a08820b": {
     "model_module": "@jupyter-widgets/controls",
     "model_name": "HTMLModel",
     "state": {
      "_dom_classes": [],
      "_model_module": "@jupyter-widgets/controls",
      "_model_module_version": "1.5.0",
      "_model_name": "HTMLModel",
      "_view_count": null,
      "_view_module": "@jupyter-widgets/controls",
      "_view_module_version": "1.5.0",
      "_view_name": "HTMLView",
      "description": "",
      "description_tooltip": null,
      "layout": "IPY_MODEL_6d625ab7594f4c9192f6e66d6b19e961",
      "placeholder": "​",
      "style": "IPY_MODEL_091e3e61d6494df1b818051d225a13ca",
      "value": "Generate report structure: 100%"
     }
    },
    "db295af01a584d769113ed90432e20b9": {
     "model_module": "@jupyter-widgets/controls",
     "model_name": "HBoxModel",
     "state": {
      "_dom_classes": [],
      "_model_module": "@jupyter-widgets/controls",
      "_model_module_version": "1.5.0",
      "_model_name": "HBoxModel",
      "_view_count": null,
      "_view_module": "@jupyter-widgets/controls",
      "_view_module_version": "1.5.0",
      "_view_name": "HBoxView",
      "box_style": "",
      "children": [
       "IPY_MODEL_977b5ccd1e06407bab032cf6dea4ef1e",
       "IPY_MODEL_2c7a72d72b9b41b2b7918495b1b66344",
       "IPY_MODEL_1f15c8c5212d466e9b04a8937dbd0c6d"
      ],
      "layout": "IPY_MODEL_faf156fad68947a098550c911679931f"
     }
    },
    "efb8f739494d41ea98be6c7dd02a5f36": {
     "model_module": "@jupyter-widgets/controls",
     "model_name": "HTMLModel",
     "state": {
      "_dom_classes": [],
      "_model_module": "@jupyter-widgets/controls",
      "_model_module_version": "1.5.0",
      "_model_name": "HTMLModel",
      "_view_count": null,
      "_view_module": "@jupyter-widgets/controls",
      "_view_module_version": "1.5.0",
      "_view_name": "HTMLView",
      "description": "",
      "description_tooltip": null,
      "layout": "IPY_MODEL_1a59cfc7b49c48bbbc4c0d5b49607683",
      "placeholder": "​",
      "style": "IPY_MODEL_f091dc9141b04ee19b4ac0d66a93f95c",
      "value": " 1/1 [00:22&lt;00:00, 22.04s/it]"
     }
    },
    "f091dc9141b04ee19b4ac0d66a93f95c": {
     "model_module": "@jupyter-widgets/controls",
     "model_name": "DescriptionStyleModel",
     "state": {
      "_model_module": "@jupyter-widgets/controls",
      "_model_module_version": "1.5.0",
      "_model_name": "DescriptionStyleModel",
      "_view_count": null,
      "_view_module": "@jupyter-widgets/base",
      "_view_module_version": "1.2.0",
      "_view_name": "StyleView",
      "description_width": ""
     }
    },
    "f22c76b51ba94d2e928377416fb61cd5": {
     "model_module": "@jupyter-widgets/controls",
     "model_name": "HBoxModel",
     "state": {
      "_dom_classes": [],
      "_model_module": "@jupyter-widgets/controls",
      "_model_module_version": "1.5.0",
      "_model_name": "HBoxModel",
      "_view_count": null,
      "_view_module": "@jupyter-widgets/controls",
      "_view_module_version": "1.5.0",
      "_view_name": "HBoxView",
      "box_style": "",
      "children": [
       "IPY_MODEL_d7742ccde07d4c6c8cedaaf22a08820b",
       "IPY_MODEL_702c3620f80c48b5a43e98b29ddbefe6",
       "IPY_MODEL_efb8f739494d41ea98be6c7dd02a5f36"
      ],
      "layout": "IPY_MODEL_be517fc033b2485392a2621189997e50"
     }
    },
    "faf156fad68947a098550c911679931f": {
     "model_module": "@jupyter-widgets/base",
     "model_name": "LayoutModel",
     "state": {
      "_model_module": "@jupyter-widgets/base",
      "_model_module_version": "1.2.0",
      "_model_name": "LayoutModel",
      "_view_count": null,
      "_view_module": "@jupyter-widgets/base",
      "_view_module_version": "1.2.0",
      "_view_name": "LayoutView",
      "align_content": null,
      "align_items": null,
      "align_self": null,
      "border": null,
      "bottom": null,
      "display": null,
      "flex": null,
      "flex_flow": null,
      "grid_area": null,
      "grid_auto_columns": null,
      "grid_auto_flow": null,
      "grid_auto_rows": null,
      "grid_column": null,
      "grid_gap": null,
      "grid_row": null,
      "grid_template_areas": null,
      "grid_template_columns": null,
      "grid_template_rows": null,
      "height": null,
      "justify_content": null,
      "justify_items": null,
      "left": null,
      "margin": null,
      "max_height": null,
      "max_width": null,
      "min_height": null,
      "min_width": null,
      "object_fit": null,
      "object_position": null,
      "order": null,
      "overflow": null,
      "overflow_x": null,
      "overflow_y": null,
      "padding": null,
      "right": null,
      "top": null,
      "visibility": null,
      "width": null
     }
    }
   }
  }
 },
 "nbformat": 4,
 "nbformat_minor": 1
}
