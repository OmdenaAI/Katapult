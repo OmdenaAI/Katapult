{
 "metadata": {
  "language_info": {
   "codemirror_mode": {
    "name": "ipython",
    "version": 3
   },
   "file_extension": ".py",
   "mimetype": "text/x-python",
   "name": "python",
   "nbconvert_exporter": "python",
   "pygments_lexer": "ipython3",
   "version": "3.7.9"
  },
  "orig_nbformat": 2,
  "kernelspec": {
   "name": "python37964bit92236a5c885a489bbddd3cee5a0fdf47",
   "display_name": "Python 3.7.9 64-bit"
  },
  "metadata": {
   "interpreter": {
    "hash": "fd69f43f58546b570e94fd7eba7b65e6bcc7a5bbc4eab0408017d18902915d69"
   }
  }
 },
 "nbformat": 4,
 "nbformat_minor": 2,
 "cells": [
  {
   "cell_type": "code",
   "execution_count": 1,
   "metadata": {},
   "outputs": [],
   "source": [
    "import pandas as pd \n",
    "import numpy as np \n",
    "from sklearn.model_selection import train_test_split\n",
    "import tensorflow as tf \n",
    "from tensorflow.keras.layers import Dense,Dropout\n",
    "from sklearn.preprocessing import MinMaxScaler\n",
    "from copy import deepcopy "
   ]
  },
  {
   "cell_type": "code",
   "execution_count": 2,
   "metadata": {},
   "outputs": [],
   "source": [
    "df = pd.read_csv('../task-11-Data-Cleaning/CLean Data/Seedstars_dataset_EDA_v0.csv', sep=\";\")"
   ]
  },
  {
   "source": [
    "# Variables exploitation analysis \n",
    "## Country"
   ],
   "cell_type": "markdown",
   "metadata": {}
  },
  {
   "cell_type": "code",
   "execution_count": 3,
   "metadata": {},
   "outputs": [
    {
     "output_type": "execute_result",
     "data": {
      "text/plain": [
       "array(['Uzbekistan', 'China', 'Mozambique', 'Argentina', 'Bangladesh',\n",
       "       'Indonesia', 'Iran', 'Australia', 'Kazakhstan', 'Malaysia',\n",
       "       'Vietnam', 'Guatemala', 'Philippines', 'Poland', 'Nigeria',\n",
       "       'Rwanda', 'Lebanon', 'Uganda', 'Ukraine', 'Senegal', 'Myanmar',\n",
       "       'Jordan', 'Armenia', 'Malawi', 'South Africa', 'Egypt',\n",
       "       'Singapore', 'India', 'Ecuador', 'Peru', 'Hong Kong', 'Estonia',\n",
       "       'Iraq', 'Uruguay', 'Ethiopia', 'Kenya', 'Taiwan', 'Czech Republic',\n",
       "       'United States', 'Colombia', 'Bulgaria', 'Serbia', 'Panama',\n",
       "       'Palestine', 'Thailand', 'Brazil', 'Botswana', 'Pakistan',\n",
       "       'Algeria', 'Gambia', \"Cote d'Ivoire\", 'Mali', 'Zimbabwe',\n",
       "       'Tunisia', 'Democratic Republic of Congo', 'Ghana', 'Tanzania',\n",
       "       'Switzerland', 'Morocco', 'Cameroon', 'Sierra Leone', 'Chile',\n",
       "       'Latvia', 'Mexico', 'Turkey', 'Russia', 'Bahrain', 'Saudi Arabia',\n",
       "       'Sri Lanka', 'United Arab Emirates', 'Bolivia', 'Azerbaijan',\n",
       "       'South Korea', 'Libya', 'Austria', 'Mongolia',\n",
       "       'Dominican Republic', 'Jamaica', 'United Kingdom', 'Croatia',\n",
       "       'Japan', 'Venezuela', 'Angola', 'Romania', 'Puerto Rico', 'Zambia',\n",
       "       'Costa Rica', 'Georgia', 'Paraguay', 'Namibia', 'Mauritius',\n",
       "       'Netherlands', 'Guinea-Bissau', 'Moldova', 'Nepal', 'Kuwait',\n",
       "       'Cabo Verde', 'Qatar', 'Ireland', 'Cambodia', 'Belarus', 'Denmark',\n",
       "       'Luxembourg', 'Fiji', 'Oman', 'Lesotho', 'France', 'Israel',\n",
       "       'Canada', 'Papua New Guinea', 'Benin', 'Samoa', 'Finland'],\n",
       "      dtype=object)"
      ]
     },
     "metadata": {},
     "execution_count": 3
    }
   ],
   "source": [
    "df['country'].unique()"
   ]
  },
  {
   "source": [
    "## Industry "
   ],
   "cell_type": "markdown",
   "metadata": {}
  },
  {
   "cell_type": "code",
   "execution_count": 4,
   "metadata": {},
   "outputs": [
    {
     "output_type": "execute_result",
     "data": {
      "text/plain": [
       "array(['Consumer Services', 'Travel and Transport', 'Financial Services',\n",
       "       'Enterprise Services', 'HR', 'Supply chain', 'Tech',\n",
       "       'Social Networking and Collaboration', 'Health / Wellness',\n",
       "       'Enterprise', 'Consumer Products', 'Education',\n",
       "       'Education: Ed Tech', 'Retail', 'Advertising and Marketing',\n",
       "       'MedTech / BioTech', 'Sports', 'Enterprise Products',\n",
       "       'HighTech / NanoTech / Materials', 'Other', 'ICT / Telcom',\n",
       "       'Industrial / Energy / Clean Tech', 'Audio and Media',\n",
       "       'Gaming / Entertainment', 'Agri: Agri Tech', 'Food and Beverage',\n",
       "       'Security', 'Media', 'Automotive', 'Financial Services: Fin Tech',\n",
       "       'Real Estate', 'Consumer Goods', 'Professional Services',\n",
       "       'Urban Development', 'Aerospace', 'Health: Health Tech',\n",
       "       'Ecosystem enabler', 'Finance', 'Government'], dtype=object)"
      ]
     },
     "metadata": {},
     "execution_count": 4
    }
   ],
   "source": [
    "df['industry'].unique()"
   ]
  },
  {
   "cell_type": "code",
   "execution_count": 5,
   "metadata": {},
   "outputs": [
    {
     "output_type": "execute_result",
     "data": {
      "text/plain": [
       "Other                                  474\n",
       "Consumer Services                      371\n",
       "Financial Services                     359\n",
       "Health / Wellness                      283\n",
       "Education                              270\n",
       "Travel and Transport                   260\n",
       "Enterprise Services                    230\n",
       "Advertising and Marketing              187\n",
       "Industrial / Energy / Clean Tech       157\n",
       "Agri: Agri Tech                        156\n",
       "Consumer Products                      138\n",
       "Social Networking and Collaboration    123\n",
       "HR                                     122\n",
       "Enterprise Products                    115\n",
       "Gaming / Entertainment                 111\n",
       "Food and Beverage                       91\n",
       "Enterprise                              82\n",
       "Financial Services: Fin Tech            78\n",
       "HighTech / NanoTech / Materials         78\n",
       "MedTech / BioTech                       66\n",
       "Education: Ed Tech                      61\n",
       "Real Estate                             59\n",
       "Tech                                    59\n",
       "Retail                                  53\n",
       "ICT / Telcom                            46\n",
       "Audio and Media                         40\n",
       "Sports                                  37\n",
       "Consumer Goods                          24\n",
       "Security                                22\n",
       "Aerospace                               17\n",
       "Automotive                              15\n",
       "Supply chain                            14\n",
       "Professional Services                   12\n",
       "Media                                   10\n",
       "Ecosystem enabler                        9\n",
       "Urban Development                        8\n",
       "Finance                                  4\n",
       "Health: Health Tech                      2\n",
       "Government                               1\n",
       "Name: industry, dtype: int64"
      ]
     },
     "metadata": {},
     "execution_count": 5
    }
   ],
   "source": [
    "df['industry'].value_counts()"
   ]
  },
  {
   "source": [
    "### Removing duplicates"
   ],
   "cell_type": "markdown",
   "metadata": {}
  },
  {
   "cell_type": "code",
   "execution_count": 6,
   "metadata": {},
   "outputs": [],
   "source": [
    "df['industry'].replace(to_replace=['Financial Services: Fin Tech','Finance'],value='Financial Services',inplace=True)"
   ]
  },
  {
   "cell_type": "code",
   "execution_count": 7,
   "metadata": {},
   "outputs": [],
   "source": [
    "df['industry'].replace(to_replace=['Health: Health Tech','MedTech / BioTech'],value='Health / Wellness',inplace=True)"
   ]
  },
  {
   "cell_type": "code",
   "execution_count": 8,
   "metadata": {},
   "outputs": [],
   "source": [
    "df['industry'].replace(to_replace='Education: Ed Tech',value='Education',inplace=True)"
   ]
  },
  {
   "cell_type": "code",
   "execution_count": 9,
   "metadata": {},
   "outputs": [],
   "source": [
    "df['industry'].replace(to_replace=['Enterprise Services','Enterprise Products'],value='Enterprise',inplace=True)"
   ]
  },
  {
   "cell_type": "code",
   "execution_count": 10,
   "metadata": {},
   "outputs": [],
   "source": [
    "df['industry'].replace(to_replace=['Consumer Services','Consumer Products','Consumer Goods'],value='Consumer',inplace=True)"
   ]
  },
  {
   "cell_type": "code",
   "execution_count": 11,
   "metadata": {},
   "outputs": [],
   "source": [
    "df['industry'].replace(to_replace='Media',value='Audio and Media',inplace=True)"
   ]
  },
  {
   "source": [
    "## Business stage"
   ],
   "cell_type": "markdown",
   "metadata": {}
  },
  {
   "cell_type": "code",
   "execution_count": 12,
   "metadata": {},
   "outputs": [
    {
     "output_type": "execute_result",
     "data": {
      "text/plain": [
       "array(['Revenue Stage', 'Development Stage', 'Beta Testing Stage',\n",
       "       'Pre-Revenue Stage', 'Expansion Stage', 'Other', 'Idea Stage',\n",
       "       'Acquired', 'Dead'], dtype=object)"
      ]
     },
     "metadata": {},
     "execution_count": 12
    }
   ],
   "source": [
    "df['business_stage'].unique()"
   ]
  },
  {
   "cell_type": "code",
   "execution_count": 13,
   "metadata": {},
   "outputs": [
    {
     "output_type": "execute_result",
     "data": {
      "text/plain": [
       "Revenue Stage         1119\n",
       "Pre-Revenue Stage      953\n",
       "Other                  685\n",
       "Beta Testing Stage     657\n",
       "Development Stage      506\n",
       "Expansion Stage        270\n",
       "Idea Stage              52\n",
       "Dead                     1\n",
       "Acquired                 1\n",
       "Name: business_stage, dtype: int64"
      ]
     },
     "metadata": {},
     "execution_count": 13
    }
   ],
   "source": [
    "df['business_stage'].value_counts()"
   ]
  },
  {
   "cell_type": "code",
   "execution_count": 14,
   "metadata": {},
   "outputs": [],
   "source": [
    "df.drop(df[df['business_stage'] =='Dead'].index, inplace = True)"
   ]
  },
  {
   "cell_type": "code",
   "execution_count": 15,
   "metadata": {},
   "outputs": [],
   "source": [
    "df.drop(df[df['business_stage'] =='Acquired'].index, inplace = True)"
   ]
  },
  {
   "source": [
    "## Incorporated"
   ],
   "cell_type": "markdown",
   "metadata": {}
  },
  {
   "cell_type": "code",
   "execution_count": 16,
   "metadata": {},
   "outputs": [
    {
     "output_type": "execute_result",
     "data": {
      "text/plain": [
       "array([0., 1.])"
      ]
     },
     "metadata": {},
     "execution_count": 16
    }
   ],
   "source": [
    "df['incorporated'].unique()"
   ]
  },
  {
   "source": [
    "## Incorporation date"
   ],
   "cell_type": "markdown",
   "metadata": {}
  },
  {
   "cell_type": "code",
   "execution_count": 17,
   "metadata": {},
   "outputs": [
    {
     "output_type": "execute_result",
     "data": {
      "text/plain": [
       "2017    1091\n",
       "2016     683\n",
       "2015     579\n",
       "2018     548\n",
       "2014     472\n",
       "2013     342\n",
       "2019     254\n",
       "2012     180\n",
       "2011      55\n",
       "2010      17\n",
       "2009       6\n",
       "2020       3\n",
       "2004       2\n",
       "2008       2\n",
       "1970       2\n",
       "2002       2\n",
       "1990       1\n",
       "2003       1\n",
       "2007       1\n",
       "2000       1\n",
       "Name: incorporation_date, dtype: int64"
      ]
     },
     "metadata": {},
     "execution_count": 17
    }
   ],
   "source": [
    "df['incorporation_date'].value_counts()"
   ]
  },
  {
   "cell_type": "code",
   "execution_count": 18,
   "metadata": {},
   "outputs": [],
   "source": [
    "df.drop(df[df['incorporation_date'] < 2009].index, inplace = True)"
   ]
  },
  {
   "source": [
    "## Number of team members"
   ],
   "cell_type": "markdown",
   "metadata": {}
  },
  {
   "cell_type": "code",
   "execution_count": 19,
   "metadata": {},
   "outputs": [
    {
     "output_type": "execute_result",
     "data": {
      "text/plain": [
       "2.0     1513\n",
       "3.0      929\n",
       "1.0      780\n",
       "4.0      500\n",
       "5.0      236\n",
       "6.0      114\n",
       "7.0       69\n",
       "8.0       35\n",
       "9.0       20\n",
       "10.0      13\n",
       "11.0       6\n",
       "13.0       3\n",
       "14.0       3\n",
       "16.0       3\n",
       "15.0       2\n",
       "12.0       2\n",
       "17.0       2\n",
       "Name: Number of team members, dtype: int64"
      ]
     },
     "metadata": {},
     "execution_count": 19
    }
   ],
   "source": [
    "df['Number of team members'].value_counts()"
   ]
  },
  {
   "cell_type": "code",
   "execution_count": 20,
   "metadata": {},
   "outputs": [
    {
     "output_type": "execute_result",
     "data": {
      "text/plain": [
       "array(['Founder', 'CEO', 'R&D', 'CMO', 'CFO', 'Founder, CEO', 'Other',\n",
       "       'SMM&User Acquisition', 'CEO & Co-Founder', 'CEO and Founder',\n",
       "       'CTO', 'CEO & Founder', 'Marketing Manager', 'Co-founder,',\n",
       "       'Co-Founder', 'Co-Founder, CEO', 'Operation Director',\n",
       "       'CEO/Co-founder', 'Chairman', 'Director',\n",
       "       'Chief Executive Officer & Co-Founder', 'Developer and programmer',\n",
       "       'Co-founder', 'Alex Macbeth, Head of Strategy & Content',\n",
       "       'Developer', 'Business Analyst', 'Creative Director/ Co-CEO',\n",
       "       'Software Engineer', 'Co-Founder & Dev', 'System Analyst and P',\n",
       "       'C', 'Founder / Android En', 'Head of Finance', 'Founder and CEO',\n",
       "       'Co-Founder and Full', 'Founder, Mobile & We',\n",
       "       'CEO & Happiness Offi', 'Head of Product', 'COO', 'Fundador & CEO',\n",
       "       'Co-Founder & CFO', 'CEO, Founder, Produc', 'Gerente',\n",
       "       'Co-Founder & Product Manager', 'Technical director',\n",
       "       'CEO / Founder', 'CTO - Cofounder', 'Creative, Voice.', 'Founders',\n",
       "       'Operation Officer', 'Java Engineer', 'Technical Lead',\n",
       "       'Co-Founder & COO', 'Fundador CTO', 'Co-Founder & CMO',\n",
       "       'Founder & Operations Manager', 'CFO & COO',\n",
       "       'Administrator & co-f', 'Director Comercial', 'Sales Director',\n",
       "       'Founder & CEO', 'Co-founder & CEO', 'Managing Director',\n",
       "       'Head of Growth', 'Co-Founder (tech)', 'Founder and Ceo',\n",
       "       'Head of Business Development', 'CTO & Co-Founder',\n",
       "       'Co-Founder and CEO', 'Co-Founder & CEO', 'Head Of Operations',\n",
       "       'Business Lead', 'co-founders', 'VP of Product',\n",
       "       'Chief of Product & Strategy', 'co-founder', 'CBDO',\n",
       "       'Product Manager', 'Strategic Analyst Officer', 'shiraz iran',\n",
       "       'Founder & business manager', 'UI/UX & Operational', 'ceo',\n",
       "       'marketing and content producing', 'executive director',\n",
       "       'Co-founder and CEO', 'Growth', 'CEO-CTO', 'Business Developer',\n",
       "       'CMO & Co-Founder', 'Founder / CMO', 'co-Founder / CEO',\n",
       "       'CEO / Co-Founder', 'Co-Founder/Marketing', 'CEO & developer',\n",
       "       'Business Development Director', 'Sales manager',\n",
       "       'Founder, Marketing coordinator', 'CTO / Founder',\n",
       "       'Brand Communication Director', 'CEO, Founder', 'Consultant',\n",
       "       'Founder & CEO+CTO', 'Chief Executive Officer',\n",
       "       'Compliance Officer', 'Operations Director', 'Co-founder, CEO',\n",
       "       'Investor Relations Manager', 'CEO/Founder',\n",
       "       'Business Development Lead', 'Cofounder, CEO', 'Founder & CPO',\n",
       "       'Founder - CEO', 'CSO & Co-Founder', 'assistant to chairman',\n",
       "       'Product Marketing', 'President', 'Investor & Advisor',\n",
       "       'CEO - Founder', 'CEO & CTO', 'Cofounder', 'Partner',\n",
       "       'Head of Business Development and Partnerships', 'CEO/Co-Founder',\n",
       "       'CEO, CTO', 'Business Development', 'Co-founder / CTO',\n",
       "       'CEO - Products/Custo', 'Co-founder, Operatio', 'Founder/CTO',\n",
       "       'Cofounder/COO', 'Business Manager', 'COO/CTO', 'Founder/CEO',\n",
       "       'founder', 'Managing Director / CTO', 'Brand & Operations',\n",
       "       'CEO / Team Lead', 'Chief Executive Officer (CEO)',\n",
       "       'CPO & Founder', 'CEO & Co-founder', 'Managing  Director',\n",
       "       'Founder&CEO', 'Only Founder and CEO',\n",
       "       'Co-founder and managing director', 'Assistant Public Relations',\n",
       "       'CEO & Creative Direc', 'Co-Founder & Managing Director',\n",
       "       'IT director', 'Technical Officer', 'Founder,MD & CTO',\n",
       "       'Co-Founder and COO', 'CEO and Cofounder', 'Managing director',\n",
       "       'CIO', 'Lead Hiker', 'Co-Founder, Product', 'CEF', 'Owner',\n",
       "       'Managing Partner', 'cofounder', 'Economist', 'Founder & Director',\n",
       "       'C.E.O', 'Co Founder &Head Strategic Partnerships',\n",
       "       'CEO-HR & Admin', 'Lead developer', 'CEO/Marketing Lead',\n",
       "       'COO & Co-Founder', 'Operations Manager', 'Reporter',\n",
       "       'promotions manager', 'CFO and COO', 'Project Manager',\n",
       "       'CEO, founder', 'Communications, Investor Relations',\n",
       "       'Founder, dev lead.', 'PM', 'CEO, co-founder', 'product manager',\n",
       "       'CEO/CTO', 'CEO / Co-founder', 'CMO/HR', 'CEO, Co-founder',\n",
       "       'CEO&Founder', 'Co-founder, Business development', 'CCO',\n",
       "       'Manager-R&D', 'CEO.', 'Directrice Marketing et Commerciale',\n",
       "       'Marketing Support', 'Project Leader', 'General Manager',\n",
       "       'Chief executive officer', 'Business development engineer',\n",
       "       'Founder\\\\CEO', 'Lead Engineer', 'Co-CEO', 'CEO and designer',\n",
       "       'CEO,CTO', 'Co-Founder/CEO', 'Content Marketing Sp',\n",
       "       'Chief Marketing Officer', 'Front-end Developer',\n",
       "       'Project Manager/ Business Development Specialist',\n",
       "       'content management', 'Co-founder, Presiden', 'Founder / CEO',\n",
       "       'CPO', 'Founder, Software En', 'Business Development Manager',\n",
       "       'Marketing Director', 'Ops Manager',\n",
       "       'Marketing Director & Co-Founder', 'Co-founder - CFO',\n",
       "       'Head of Sales', 'CEO - Innovation Dir', 'Health Lead',\n",
       "       'Head Designer', 'MD', 'Marketing & Business Manager',\n",
       "       'Co-founder & co-director', 'Co-founder+Product', 'Operations',\n",
       "       'Co-Founder, Visionary and Developer', 'COO & Founder',\n",
       "       'Joint CEO', 'Founder (CTO)', 'Community Manager',\n",
       "       'Co-founder & CCPO', 'Co-founder & CTO', 'Android Developer',\n",
       "       'CoFounder & CEO', 'Growth Hacker', 'Hustler & Driver',\n",
       "       'CEO and Co-founder', 'CFO & Co-Founder', 'Product Management,',\n",
       "       'lead designer', 'Co-founder & CMO', 'Sales and Marketing',\n",
       "       'Co founder', 'Director, Co-Founder', 'Executive Team Member',\n",
       "       'Communications', 'Gerente General', 'CEO - CoFounder',\n",
       "       'Co- Founder', 'CEO & Cofounder', 'Country Manager',\n",
       "       'Business strategy', 'Chief Technology officer',\n",
       "       'Chief Comercial Officer', 'CEO & co-founder',\n",
       "       'Chief Business Developer', 'Digital Marketing', 'Doing business',\n",
       "       'Buisness devlopment', 'project manager', 'UX, Cloud Architect',\n",
       "       'Product designer', 'CMO & CO-FOUNDER', 'co-founder (CEO)',\n",
       "       'CFO/Co-founder', 'Technical Manager', 'Founder & CCO',\n",
       "       'Funder/Pro Mgr', 'Co-founder/CEO', 'Co-Fouder', 'founder / CEO',\n",
       "       'Fonder and CEO', 'Cofounder & CEO', 'Founder, CTO',\n",
       "       'CEO/System Analyst', 'Marketing & Sales Director', 'Founding CEO',\n",
       "       'Marketing Planning', 'PM & UX designer', 'CBDO & Co-Founder',\n",
       "       'Sales, Programming', 'CEO (Founder)', 'Co-Fo & CEO',\n",
       "       'Data Analyst', 'Partnership Development & Events Manager',\n",
       "       'CCO, cofounder', 'Legal & IR consultant',\n",
       "       'Head of Communications', 'Senior Research Fellow',\n",
       "       'Account Manager', 'Ceo', 'Chief Product Officer', 'CBDO/CMO',\n",
       "       'Lider y Gestor de recursos Proyecto \"Cultiv@r\"', 'I&D Leader',\n",
       "       'Dirección general y mercadeo', 'Founder and director',\n",
       "       'Ejecutive Director', 'Project Director',\n",
       "       'product development and advertising', 'Technology',\n",
       "       'Strategy Manager', 'Executive Director',\n",
       "       'Financial and administrative coordinator', 'researcher leader',\n",
       "       'CEO y Fundador', 'Manager', 'Commercial Director', 'Leader',\n",
       "       'Marketing & PR', 'Business development', 'sales/marketing',\n",
       "       'Lead Business Developer', 'CEO/Programmer/Sales',\n",
       "       'Senior Developer', 'CEOFOUNDERDEVELOPER', 'CEO - COO',\n",
       "       'Chief Operations Officer', 'Co-Founder Sales&Mkt',\n",
       "       'Founder, Product Design & Business Development',\n",
       "       'CEO- Co Fundador', 'Founder / Director', 'Founder - Director',\n",
       "       'Panther in Chief CEO', 'Software Developer',\n",
       "       'Business Administrat', 'CEO | Ui/Ux Designer',\n",
       "       'Director/UI/UX/Proje', 'Founder & Managing Director',\n",
       "       'Associate Partner', 'Executive Assistant to the CEO',\n",
       "       'Co Founder/CEO', 'coo', 'Legal Manager', 'Founder - CSO',\n",
       "       'Head of Marketing', 'Fouder / CEO', 'director', 'VP',\n",
       "       'Business Inteligencie', 'Sales and accounting', 'Founder and MD',\n",
       "       'Co Founder And COO', 'CEO/ Lead Developer', 'Co Founder And CTO',\n",
       "       'CEO/ designer', 'Projects Manager', 'Vice President',\n",
       "       'CEO & Software Developer', 'Co-FoundHER', 'head to team',\n",
       "       'DEVELOPER', 'business development', 'CEO & developer.',\n",
       "       'devlopper', 'marketing manager', 'CEO/President',\n",
       "       'CEO, head of Communication',\n",
       "       'Co-Founder & Lead Designer/Developer',\n",
       "       'Founder, Project Lead - Electrical studies, Partnership and Business Development',\n",
       "       'Co Founder', 'CoFounder CEO', 'CEO, Marketing',\n",
       "       'Communications Manager', 'Social Impact Officer', 'Founder/ CEO',\n",
       "       'Business developer', 'Fonder , Ceo', 'CHIEF EXECUTIVE OFFICIER',\n",
       "       'founder and manager', 'Ingenieur', 'Country Director - Mali',\n",
       "       'Co-fondateur', 'Founder and Creative Director', 'co-Founder',\n",
       "       'Founder and Managing Partner', 'Founder/COO', 'Finance Director',\n",
       "       'Design the product', 'Head of farming operations',\n",
       "       'CEO - Business Development', 'Founder et CEO',\n",
       "       'Production Director', 'CEO and Co-Founder', 'C.E.O.',\n",
       "       'Manager général', 'Founder / C.E.O', 'Lead developer & CEO',\n",
       "       'Local Manager', 'Co-founder/ CEO', 'Communications Lead',\n",
       "       'Chief Technology Officer', 'Technical Director',\n",
       "       'Company founder & Projects and Operational Director',\n",
       "       'Team Leader - Managi', 'Chief Executive Officer n',\n",
       "       'Operations and company lead', 'Chief excutive Officer',\n",
       "       'Design lead', 'Co- Founder & Chief Executive  Officer',\n",
       "       'Team Lead & Founder', 'Secretary', 'CFO, Founding Partner',\n",
       "       'VP Business Development', 'Founder and General Manager',\n",
       "       'Founder & Chief Humanity Officer', 'Product and Strategy',\n",
       "       'Social Media manager', 'Founder/Developer',\n",
       "       'Sales & Marketing Manager', 'Founder - Manager',\n",
       "       'CEO and Co Founder', 'Founder and Director',\n",
       "       'Founder and manager', 'Associate Manager', 'General manager',\n",
       "       'Co-Founder and Chief Executive Officer', 'EXECUTIVE DIRECTOR',\n",
       "       'Founder / Software Team Lead', 'CID',\n",
       "       'Founder - Technical Development', 'CEO Founder',\n",
       "       'Cofounder - CEO', 'Co-founder; Operations and Sales',\n",
       "       'Market developer', 'Co-Founder and Chairman', 'CEO & COO',\n",
       "       'COO, Head of Product', 'CEO & Fundador', 'CEO & Co Founder',\n",
       "       'Comercial Coordinator', 'Hustler',\n",
       "       'Finance & Administration Director',\n",
       "       'Director of Business Development LATAM',\n",
       "       'Head of people & experience', 'Chief Operating Officer',\n",
       "       'Chief Product and Operatings Officer',\n",
       "       'Product & Finance Manager', 'CEO & FOUNDER',\n",
       "       'Cofounder, Mktg & BD', 'CEO& Co-Founder', 'Partner- Marketing&S',\n",
       "       'Founder & Android Dv', 'Teamlead', 'Co-founder, Head of Product',\n",
       "       'Tech Guy', 'CMO & Co-founder', 'communications', 'founder, CBDO',\n",
       "       'Creator', 'Business & Software Director', 'Product & Marketing',\n",
       "       'Research Manager', 'IT Development', 'Customer Relations Manager',\n",
       "       'Head of Marketing and communication', 'CTO & Founder',\n",
       "       'founder & CEO', 'Waistrepreneur and Founder',\n",
       "       'Marketing and Social Media Lead', 'Business Development manager',\n",
       "       'Founder & Chief Entrepreneurial Officer', 'Co Founder, CEO',\n",
       "       'Co -Founder/COO', 'Manager, Strategy & Business Development',\n",
       "       'Co Founder Chief Executive Officer', 'Head of Operations',\n",
       "       'Director Engineering', 'CEO/CTO/Dev', 'Inventor & Chairman',\n",
       "       'Technology Head', 'Business Admin', 'CEO, partner',\n",
       "       'Sales & PR Manager', 'Marketing', 'Hustler/Hipster',\n",
       "       'direction of the com', 'Blockchain Strategist', 'CMO- Founder',\n",
       "       'co-Founder and COO', 'CEO & founder', 'developer',\n",
       "       'Software developer', 'Founder, developer', 'Founder/Director',\n",
       "       'Founder & Designer', 'Founder / Chief Trav', 'operation&creator',\n",
       "       'Co-Founder and CTO', 'CSO', 'co - founder',\n",
       "       'General manager - 2d graphic designer',\n",
       "       'Business development manager', 'Shareholder and CEO',\n",
       "       'CEO, Co-Founder', 'Team leader', 'Ambassador',\n",
       "       'Founder &Team Leader', 'CIO & Co-Founder', 'Founder CEO',\n",
       "       'R&D Director', 'Project Manager(CEO)',\n",
       "       'Business Development Director and Chief Privacy Officer',\n",
       "       'Digital Marketer', 'Product Manager | Designer',\n",
       "       'MANAGING DIRECTOR', 'Chief Commercial Office - Board Member',\n",
       "       'Vice-Presidente', 'Responsável', 'Chief Communication Officer',\n",
       "       'Marketing and Commercial Director', 'CEO Bilhetes Online Angola',\n",
       "       'Partnerships Manager', 'Business Maestro', 'CEO/Manager',\n",
       "       'Strategy', 'Founder and Chairman', 'Co-Founder & Developer',\n",
       "       'Marketing & Product Manager/ Co-founder',\n",
       "       'co-founder and business development', 'cofounder & UX',\n",
       "       'Materials Engineer & Co-Founder', 'Teamworker',\n",
       "       'Software Developer Lead', 'Chief Entrepreneur',\n",
       "       'Executive Assistant', 'Co Founder and UI/UX', 'Chief',\n",
       "       'CO-FOUNDER', 'Founder, Chief Executive Officer', 'CEO Co-founder',\n",
       "       'Co-Founder / Business Development Officer',\n",
       "       'Co-Founder & Brand Manager',\n",
       "       'COO and product development coordinator', 'Co - Founder',\n",
       "       'Ingener and Marketing Manager', 'Founder and Managing Director',\n",
       "       'CTO , Developer', 'PR & Communications Officer',\n",
       "       'co-founder/ CEO',\n",
       "       'CEO, security architect, Full stack development',\n",
       "       'Co-Founder/ Chief Executive Officer', 'Chief Innovation Officer',\n",
       "       'Co-founder & COO', 'Creative director', 'Co-Founder & CTO',\n",
       "       'Co-founder and Operations Manager', 'COO & CoFounder',\n",
       "       'Technical Solutions'], dtype=object)"
      ]
     },
     "metadata": {},
     "execution_count": 20
    }
   ],
   "source": [
    "df['role_0'].unique()"
   ]
  },
  {
   "source": [
    "### Removing duplicates"
   ],
   "cell_type": "markdown",
   "metadata": {}
  },
  {
   "cell_type": "code",
   "execution_count": 21,
   "metadata": {},
   "outputs": [],
   "source": [
    "changed_list= []\n",
    "for role in df['role_0']: \n",
    "    role= role.lower()\n",
    "    if ('ceo' in role) or ('chief executive officer' in role): \n",
    "        role = 'CEO'\n",
    "    elif ('cto' in role) or ('chief technical officer' in role): \n",
    "        role = 'CTO'\n",
    "    elif ('coo' in role) or ('chief operative officer' in role): \n",
    "        role = 'COO'\n",
    "    elif 'design' in role: \n",
    "        role= 'Desiner'\n",
    "    elif ('marketing' in role) or ('cmo' in role): \n",
    "        role= 'Marketing'\n",
    "\n",
    "    elif ('cfo' in role) or ('financ' in role): \n",
    "        role= 'Finance'\n",
    "\n",
    "    changed_list.append(role)\n",
    "    \n",
    "         \n",
    "    "
   ]
  },
  {
   "cell_type": "code",
   "execution_count": 22,
   "metadata": {},
   "outputs": [],
   "source": [
    "testdf= deepcopy(df) \n"
   ]
  },
  {
   "cell_type": "code",
   "execution_count": 23,
   "metadata": {},
   "outputs": [],
   "source": [
    "testdf['role_0']= changed_list"
   ]
  },
  {
   "cell_type": "code",
   "execution_count": 24,
   "metadata": {},
   "outputs": [],
   "source": [
    "testdf.drop(['status_of_funding_AMOUNT','year_incorporated','Unnamed: 0','company_id','role_0', 'role_1','company_logo','Funding before Seedstars','lat', 'lon','year_segment','amount_to_raise'], axis=1,inplace=True)"
   ]
  },
  {
   "cell_type": "code",
   "execution_count": 25,
   "metadata": {},
   "outputs": [],
   "source": [
    "testdf['raised'] = testdf['Total Funding'].apply(lambda row: 1 if row>=70000 else 0) "
   ]
  },
  {
   "cell_type": "code",
   "execution_count": 26,
   "metadata": {},
   "outputs": [],
   "source": [
    "revenue_list= []\n",
    "users_list= []\n",
    "paying_users_list= []\n",
    "transactions_list= []\n",
    "for i in range(testdf.shape[0]):\n",
    "    revenue_list.append(testdf[['revenue_1month', 'revenue_2month','revenue_3month']].iloc[i].sum())\n",
    "    users_list.append(testdf[['users_1month', 'users_2month','users_3month']].iloc[i].sum())\n",
    "    transactions_list.append(testdf[['number_transactions_1month', 'number_transactions_2month','number_transactions_3month']].iloc[i].sum())\n",
    "    paying_users_list.append(testdf[['paying_users_1month', 'paying_users_2month','paying_users_3month']].iloc[i].sum())\n",
    "\n",
    "testdf['revenue']= revenue_list\n",
    "testdf['number of users']= users_list\n",
    "testdf['paying users']= paying_users_list\n",
    "testdf['number of transactions']= transactions_list"
   ]
  },
  {
   "cell_type": "code",
   "execution_count": 27,
   "metadata": {},
   "outputs": [],
   "source": [
    "testdf.drop(['funding at the time of application','burn_rate','gender_0','country_0','gender_1','Total Funding','status_of_funding_STATUS','revenue_1month', 'revenue_2month','revenue_3month','users_1month', 'users_2month','users_3month','number_transactions_1month', 'number_transactions_2month','number_transactions_3month','paying_users_1month', 'paying_users_2month','paying_users_3month',], axis=1,inplace=True)"
   ]
  },
  {
   "cell_type": "code",
   "execution_count": 28,
   "metadata": {},
   "outputs": [],
   "source": [
    "seed_data= deepcopy(testdf)"
   ]
  },
  {
   "source": [
    "## Features categorilization "
   ],
   "cell_type": "markdown",
   "metadata": {}
  },
  {
   "source": [
    "### Age"
   ],
   "cell_type": "markdown",
   "metadata": {}
  },
  {
   "cell_type": "code",
   "execution_count": 29,
   "metadata": {},
   "outputs": [],
   "source": [
    "seed_data['age']= 2020 - seed_data['incorporation_date']\n",
    "seed_data['age']= pd.cut(seed_data.age,bins=[0,2,5,seed_data['age'].max()],labels=['<=2 years','Between 2 and 5 years','>2 years'])"
   ]
  },
  {
   "source": [
    "### Number of team members"
   ],
   "cell_type": "markdown",
   "metadata": {}
  },
  {
   "cell_type": "code",
   "execution_count": 30,
   "metadata": {},
   "outputs": [],
   "source": [
    "seed_data['Number of team members']= pd.cut(seed_data['Number of team members'],bins=[0,5,10,seed_data['Number of team members'].max()],labels=['0 to  5' , '5 to 10' , 'more than 10'])"
   ]
  },
  {
   "source": [
    "### Number of competitors "
   ],
   "cell_type": "markdown",
   "metadata": {}
  },
  {
   "cell_type": "code",
   "execution_count": 31,
   "metadata": {},
   "outputs": [],
   "source": [
    "seed_data['number of competitors']= pd.cut(seed_data['number of competitors'],bins=[0,5,10,seed_data['number of competitors'].max()],labels=['0 to 5','5 to 10','more than 10'])"
   ]
  },
  {
   "source": [
    "### percent_increase_in_revenue"
   ],
   "cell_type": "markdown",
   "metadata": {}
  },
  {
   "cell_type": "code",
   "execution_count": 32,
   "metadata": {},
   "outputs": [],
   "source": [
    "seed_data['percent_increase_in_revenue']= pd.cut(seed_data['percent_increase_in_revenue'],bins=[seed_data['percent_increase_in_revenue'].min(),0,100,seed_data['percent_increase_in_revenue'].max()],labels=['Less than 0','Between 0 and 100','more than 100'])"
   ]
  },
  {
   "source": [
    "### percent_increase_in_users"
   ],
   "cell_type": "markdown",
   "metadata": {}
  },
  {
   "cell_type": "code",
   "execution_count": 33,
   "metadata": {},
   "outputs": [],
   "source": [
    "seed_data['percent_increase_in_users']= pd.cut(seed_data['percent_increase_in_users'],bins=[seed_data['percent_increase_in_users'].min(),0,100,seed_data['percent_increase_in_users'].max()],labels=['Less than 0','Between 0 and 100','more than 100'])"
   ]
  },
  {
   "source": [
    "### revenue"
   ],
   "cell_type": "markdown",
   "metadata": {}
  },
  {
   "cell_type": "code",
   "execution_count": 34,
   "metadata": {},
   "outputs": [],
   "source": [
    "seed_data['revenue']= pd.cut(seed_data['revenue'],bins=[0,1,20000,seed_data['revenue'].max()],labels=['No revenue' , '0 to 20K' , 'more than 20K'])"
   ]
  },
  {
   "cell_type": "code",
   "execution_count": 35,
   "metadata": {},
   "outputs": [],
   "source": [
    "seed_data.drop(['number_employees','number of users','paying users','percent_increase_in_users','number of transactions','incorporation_date'], axis=1,inplace=True)"
   ]
  },
  {
   "cell_type": "code",
   "execution_count": 36,
   "metadata": {},
   "outputs": [],
   "source": [
    "y = testdf['raised']\n",
    "seed_data.drop(['raised'], axis=1,inplace=True)"
   ]
  },
  {
   "cell_type": "code",
   "execution_count": 37,
   "metadata": {},
   "outputs": [],
   "source": [
    "X= pd.get_dummies(seed_data)\n",
    "\n",
    "\n",
    "X= np.array(X)\n",
    "y= np.array(y)"
   ]
  },
  {
   "cell_type": "code",
   "execution_count": 38,
   "metadata": {},
   "outputs": [],
   "source": [
    "X_train, X_test, y_train, y_test = train_test_split(X,y, test_size=0.2, random_state=1)"
   ]
  },
  {
   "cell_type": "code",
   "execution_count": 45,
   "metadata": {},
   "outputs": [],
   "source": [
    "model= tf.keras.Sequential()\n",
    "model.add(Dense(20, activation='relu',input_shape=(X.shape[1],) ))\n",
    "model.add(Dropout(0.3))\n",
    "model.add(Dense(20, activation='relu'))\n",
    "model.add(Dropout(0.2))\n",
    "#\n",
    "model.add(Dense(1, activation='sigmoid'))\n",
    "model.compile(optimizer='adam', loss='binary_crossentropy', metrics=['AUC','accuracy'])\n"
   ]
  },
  {
   "cell_type": "code",
   "execution_count": 46,
   "metadata": {},
   "outputs": [
    {
     "output_type": "stream",
     "name": "stdout",
     "text": [
      "Epoch 1/3\n",
      "423/423 [==============================] - 2s 3ms/step - loss: 0.5905 - auc: 0.5601 - accuracy: 0.7341 - val_loss: 0.4128 - val_auc: 0.8828 - val_accuracy: 0.8097\n",
      "Epoch 2/3\n",
      "423/423 [==============================] - 1s 2ms/step - loss: 0.4169 - auc: 0.8525 - accuracy: 0.7832 - val_loss: 0.3180 - val_auc: 0.9123 - val_accuracy: 0.8357\n",
      "Epoch 3/3\n",
      "423/423 [==============================] - 0s 1ms/step - loss: 0.3423 - auc: 0.8921 - accuracy: 0.8088 - val_loss: 0.3082 - val_auc: 0.9121 - val_accuracy: 0.8345\n"
     ]
    },
    {
     "output_type": "execute_result",
     "data": {
      "text/plain": [
       "<tensorflow.python.keras.callbacks.History at 0x7f8ff05e0a90>"
      ]
     },
     "metadata": {},
     "execution_count": 46
    }
   ],
   "source": [
    "model.fit(X_train, y_train,validation_data=(X_test,y_test), epochs=3, batch_size=8, verbose=1)\n"
   ]
  },
  {
   "cell_type": "code",
   "execution_count": 41,
   "metadata": {},
   "outputs": [
    {
     "output_type": "execute_result",
     "data": {
      "text/plain": [
       "'2.4.1'"
      ]
     },
     "metadata": {},
     "execution_count": 41
    }
   ],
   "source": [
    "tf.__version__\n"
   ]
  },
  {
   "cell_type": "code",
   "execution_count": 42,
   "metadata": {},
   "outputs": [],
   "source": [
    "#model.save(\"cat_V3_DL\")"
   ]
  }
 ]
}