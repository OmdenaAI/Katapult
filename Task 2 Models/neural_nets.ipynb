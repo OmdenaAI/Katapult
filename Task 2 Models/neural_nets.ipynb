{
 "metadata": {
  "language_info": {
   "codemirror_mode": {
    "name": "ipython",
    "version": 3
   },
   "file_extension": ".py",
   "mimetype": "text/x-python",
   "name": "python",
   "nbconvert_exporter": "python",
   "pygments_lexer": "ipython3",
   "version": "3.7.9"
  },
  "orig_nbformat": 2,
  "kernelspec": {
   "name": "python37964bit92236a5c885a489bbddd3cee5a0fdf47",
   "display_name": "Python 3.7.9 64-bit"
  },
  "metadata": {
   "interpreter": {
    "hash": "fd69f43f58546b570e94fd7eba7b65e6bcc7a5bbc4eab0408017d18902915d69"
   }
  }
 },
 "nbformat": 4,
 "nbformat_minor": 2,
 "cells": [
  {
   "cell_type": "code",
   "execution_count": 3,
   "metadata": {},
   "outputs": [
    {
     "output_type": "stream",
     "name": "stdout",
     "text": [
      "Requirement already satisfied: tensorflow in /home/karem/anaconda3/lib/python3.7/site-packages (2.3.1)\n",
      "Requirement already satisfied: grpcio>=1.8.6 in /home/karem/anaconda3/lib/python3.7/site-packages (from tensorflow) (1.29.0)\n",
      "Requirement already satisfied: absl-py>=0.7.0 in /home/karem/anaconda3/lib/python3.7/site-packages (from tensorflow) (0.8.1)\n",
      "Requirement already satisfied: termcolor>=1.1.0 in /home/karem/anaconda3/lib/python3.7/site-packages (from tensorflow) (1.1.0)\n",
      "Requirement already satisfied: wheel>=0.26 in /home/karem/anaconda3/lib/python3.7/site-packages (from tensorflow) (0.33.1)\n",
      "Requirement already satisfied: gast==0.3.3 in /home/karem/anaconda3/lib/python3.7/site-packages (from tensorflow) (0.3.3)\n",
      "Requirement already satisfied: six>=1.12.0 in /home/karem/.local/lib/python3.7/site-packages (from tensorflow) (1.15.0)\n",
      "Requirement already satisfied: h5py<2.11.0,>=2.10.0 in /home/karem/anaconda3/lib/python3.7/site-packages (from tensorflow) (2.10.0)\n",
      "Requirement already satisfied: keras-preprocessing<1.2,>=1.1.1 in /home/karem/anaconda3/lib/python3.7/site-packages (from tensorflow) (1.1.2)\n",
      "Requirement already satisfied: opt-einsum>=2.3.2 in /home/karem/anaconda3/lib/python3.7/site-packages (from tensorflow) (3.2.0)\n",
      "Requirement already satisfied: protobuf>=3.9.2 in /home/karem/anaconda3/lib/python3.7/site-packages (from tensorflow) (3.11.2)\n",
      "Requirement already satisfied: tensorflow-estimator<2.4.0,>=2.3.0 in /home/karem/anaconda3/lib/python3.7/site-packages (from tensorflow) (2.3.0)\n",
      "Requirement already satisfied: tensorboard<3,>=2.3.0 in /home/karem/anaconda3/lib/python3.7/site-packages (from tensorflow) (2.3.0)\n",
      "Collecting numpy<1.19.0,>=1.16.0\n",
      "  Downloading numpy-1.18.5-cp37-cp37m-manylinux1_x86_64.whl (20.1 MB)\n",
      "\u001b[K     |████████████████████████████████| 20.1 MB 74 kB/s \n",
      "\u001b[?25hRequirement already satisfied: google-pasta>=0.1.8 in /home/karem/anaconda3/lib/python3.7/site-packages (from tensorflow) (0.1.8)\n",
      "Requirement already satisfied: astunparse==1.6.3 in /home/karem/anaconda3/lib/python3.7/site-packages (from tensorflow) (1.6.3)\n",
      "Requirement already satisfied: wrapt>=1.11.1 in /home/karem/anaconda3/lib/python3.7/site-packages (from tensorflow) (1.11.1)\n",
      "Requirement already satisfied: setuptools in /home/karem/.local/lib/python3.7/site-packages (from protobuf>=3.9.2->tensorflow) (53.0.0)\n",
      "Requirement already satisfied: tensorboard-plugin-wit>=1.6.0 in /home/karem/anaconda3/lib/python3.7/site-packages (from tensorboard<3,>=2.3.0->tensorflow) (1.7.0)\n",
      "Requirement already satisfied: markdown>=2.6.8 in /home/karem/anaconda3/lib/python3.7/site-packages (from tensorboard<3,>=2.3.0->tensorflow) (3.1.1)\n",
      "Requirement already satisfied: google-auth<2,>=1.6.3 in /home/karem/.local/lib/python3.7/site-packages (from tensorboard<3,>=2.3.0->tensorflow) (1.26.0)\n",
      "Requirement already satisfied: requests<3,>=2.21.0 in /home/karem/.local/lib/python3.7/site-packages (from tensorboard<3,>=2.3.0->tensorflow) (2.25.1)\n",
      "Requirement already satisfied: werkzeug>=0.11.15 in /home/karem/.local/lib/python3.7/site-packages (from tensorboard<3,>=2.3.0->tensorflow) (1.0.1)\n",
      "Requirement already satisfied: google-auth-oauthlib<0.5,>=0.4.1 in /home/karem/.local/lib/python3.7/site-packages (from tensorboard<3,>=2.3.0->tensorflow) (0.4.2)\n",
      "Requirement already satisfied: pyasn1-modules>=0.2.1 in /home/karem/.local/lib/python3.7/site-packages (from google-auth<2,>=1.6.3->tensorboard<3,>=2.3.0->tensorflow) (0.2.8)\n",
      "Requirement already satisfied: rsa<5,>=3.1.4; python_version >= \"3.6\" in /home/karem/.local/lib/python3.7/site-packages (from google-auth<2,>=1.6.3->tensorboard<3,>=2.3.0->tensorflow) (4.7)\n",
      "Requirement already satisfied: cachetools<5.0,>=2.0.0 in /home/karem/.local/lib/python3.7/site-packages (from google-auth<2,>=1.6.3->tensorboard<3,>=2.3.0->tensorflow) (4.2.1)\n",
      "Requirement already satisfied: certifi>=2017.4.17 in /home/karem/.local/lib/python3.7/site-packages (from requests<3,>=2.21.0->tensorboard<3,>=2.3.0->tensorflow) (2020.12.5)\n",
      "Requirement already satisfied: idna<3,>=2.5 in /home/karem/.local/lib/python3.7/site-packages (from requests<3,>=2.21.0->tensorboard<3,>=2.3.0->tensorflow) (2.10)\n",
      "Requirement already satisfied: urllib3<1.27,>=1.21.1 in /home/karem/.local/lib/python3.7/site-packages (from requests<3,>=2.21.0->tensorboard<3,>=2.3.0->tensorflow) (1.26.3)\n",
      "Requirement already satisfied: chardet<5,>=3.0.2 in /home/karem/.local/lib/python3.7/site-packages (from requests<3,>=2.21.0->tensorboard<3,>=2.3.0->tensorflow) (4.0.0)\n",
      "Requirement already satisfied: requests-oauthlib>=0.7.0 in /home/karem/.local/lib/python3.7/site-packages (from google-auth-oauthlib<0.5,>=0.4.1->tensorboard<3,>=2.3.0->tensorflow) (1.3.0)\n",
      "Requirement already satisfied: pyasn1<0.5.0,>=0.4.6 in /home/karem/.local/lib/python3.7/site-packages (from pyasn1-modules>=0.2.1->google-auth<2,>=1.6.3->tensorboard<3,>=2.3.0->tensorflow) (0.4.8)\n",
      "Requirement already satisfied: oauthlib>=3.0.0 in /home/karem/.local/lib/python3.7/site-packages (from requests-oauthlib>=0.7.0->google-auth-oauthlib<0.5,>=0.4.1->tensorboard<3,>=2.3.0->tensorflow) (3.1.0)\n",
      "Installing collected packages: numpy\n",
      "  Attempting uninstall: numpy\n",
      "    Found existing installation: numpy 1.19.4\n",
      "    Uninstalling numpy-1.19.4:\n",
      "      Successfully uninstalled numpy-1.19.4\n",
      "\u001b[31mERROR: After October 2020 you may experience errors when installing or updating packages. This is because pip will change the way that it resolves dependency conflicts.\n",
      "\n",
      "We recommend you use --use-feature=2020-resolver to test your packages with the new resolver before it becomes the default.\n",
      "\n",
      "-ensorflow 2.0.0 requires gast==0.2.2, but you'll have gast 0.3.3 which is incompatible.\n",
      "-ensorflow 2.0.0 requires tensorboard<2.1.0,>=2.0.0, but you'll have tensorboard 2.3.0 which is incompatible.\n",
      "-ensorflow 2.0.0 requires tensorflow-estimator<2.1.0,>=2.0.0, but you'll have tensorflow-estimator 2.3.0 which is incompatible.\n",
      "resume-parser 0.6 requires numpy>=1.19.1, but you'll have numpy 1.18.5 which is incompatible.\u001b[0m\n",
      "Successfully installed numpy-1.18.5\n",
      "\u001b[33mWARNING: You are using pip version 20.2.3; however, version 21.0.1 is available.\n",
      "You should consider upgrading via the '/home/karem/anaconda3/bin/python -m pip install --upgrade pip' command.\u001b[0m\n"
     ]
    }
   ],
   "source": [
    "%pip install tensorflow "
   ]
  },
  {
   "cell_type": "code",
   "execution_count": 1,
   "metadata": {},
   "outputs": [],
   "source": [
    "import pandas as pd \n",
    "import numpy as np \n",
    "from sklearn.model_selection import train_test_split\n",
    "import tensorflow as tf \n",
    "from tensorflow.keras.layers import Dense\n",
    "from sklearn.preprocessing import MinMaxScaler\n",
    "from copy import deepcopy "
   ]
  },
  {
   "cell_type": "code",
   "execution_count": 2,
   "metadata": {},
   "outputs": [],
   "source": [
    "df = pd.read_csv('../task-11-Data-Cleaning/CLean Data/Seedstars_dataset_EDA_v0.csv', sep=\";\")"
   ]
  },
  {
   "source": [
    "# Multivariate analysis \n",
    "## Country"
   ],
   "cell_type": "markdown",
   "metadata": {}
  },
  {
   "cell_type": "code",
   "execution_count": 10,
   "metadata": {},
   "outputs": [
    {
     "output_type": "execute_result",
     "data": {
      "text/plain": [
       "array(['Uzbekistan', 'China', 'Mozambique', 'Argentina', 'Bangladesh',\n",
       "       'Indonesia', 'Iran', 'Australia', 'Kazakhstan', 'Malaysia',\n",
       "       'Vietnam', 'Guatemala', 'Philippines', 'Poland', 'Nigeria',\n",
       "       'Rwanda', 'Lebanon', 'Uganda', 'Ukraine', 'Senegal', 'Myanmar',\n",
       "       'Jordan', 'Armenia', 'Malawi', 'South Africa', 'Egypt',\n",
       "       'Singapore', 'India', 'Ecuador', 'Peru', 'Hong Kong', 'Estonia',\n",
       "       'Iraq', 'Uruguay', 'Ethiopia', 'Kenya', 'Taiwan', 'Czech Republic',\n",
       "       'United States', 'Colombia', 'Bulgaria', 'Serbia', 'Panama',\n",
       "       'Palestine', 'Thailand', 'Brazil', 'Botswana', 'Pakistan',\n",
       "       'Algeria', 'Gambia', \"Cote d'Ivoire\", 'Mali', 'Zimbabwe',\n",
       "       'Tunisia', 'Democratic Republic of Congo', 'Ghana', 'Tanzania',\n",
       "       'Switzerland', 'Morocco', 'Cameroon', 'Sierra Leone', 'Chile',\n",
       "       'Latvia', 'Mexico', 'Turkey', 'Russia', 'Bahrain', 'Saudi Arabia',\n",
       "       'Sri Lanka', 'United Arab Emirates', 'Bolivia', 'Azerbaijan',\n",
       "       'South Korea', 'Libya', 'Austria', 'Mongolia',\n",
       "       'Dominican Republic', 'Jamaica', 'United Kingdom', 'Croatia',\n",
       "       'Japan', 'Venezuela', 'Angola', 'Romania', 'Puerto Rico', 'Zambia',\n",
       "       'Costa Rica', 'Georgia', 'Paraguay', 'Namibia', 'Mauritius',\n",
       "       'Netherlands', 'Guinea-Bissau', 'Moldova', 'Nepal', 'Kuwait',\n",
       "       'Cabo Verde', 'Qatar', 'Ireland', 'Cambodia', 'Belarus', 'Denmark',\n",
       "       'Luxembourg', 'Fiji', 'Oman', 'Lesotho', 'France', 'Israel',\n",
       "       'Canada', 'Papua New Guinea', 'Benin', 'Samoa', 'Finland'],\n",
       "      dtype=object)"
      ]
     },
     "metadata": {},
     "execution_count": 10
    }
   ],
   "source": [
    "df['country'].unique()"
   ]
  },
  {
   "source": [
    "## Industry "
   ],
   "cell_type": "markdown",
   "metadata": {}
  },
  {
   "cell_type": "code",
   "execution_count": 24,
   "metadata": {},
   "outputs": [
    {
     "output_type": "execute_result",
     "data": {
      "text/plain": [
       "array(['Consumer', 'Travel and Transport', 'Financial Services',\n",
       "       'Enterprise', 'HR', 'Industrial / Energy / Clean Tech', 'Tech',\n",
       "       'Social Networking and Collaboration', 'Health / Wellness',\n",
       "       'Education', 'Retail', 'Advertising and Marketing', 'Sports',\n",
       "       'HighTech / NanoTech / Materials', 'Other', 'ICT / Telcom',\n",
       "       'Audio and Media', 'Gaming / Entertainment', 'Agri: Agri Tech',\n",
       "       'Food and Beverage', 'Security', 'Automotive', 'Real Estate',\n",
       "       'Professional Services', 'Urban Development', 'Aerospace',\n",
       "       'Ecosystem enabler', 'Government'], dtype=object)"
      ]
     },
     "metadata": {},
     "execution_count": 24
    }
   ],
   "source": [
    "df['industry'].unique()"
   ]
  },
  {
   "cell_type": "code",
   "execution_count": 21,
   "metadata": {},
   "outputs": [
    {
     "output_type": "execute_result",
     "data": {
      "text/plain": [
       "Consumer                               533\n",
       "Other                                  474\n",
       "Financial Services                     441\n",
       "Enterprise                             427\n",
       "Health / Wellness                      351\n",
       "Education                              331\n",
       "Travel and Transport                   260\n",
       "Advertising and Marketing              187\n",
       "Industrial / Energy / Clean Tech       171\n",
       "Agri: Agri Tech                        156\n",
       "Social Networking and Collaboration    123\n",
       "HR                                     122\n",
       "Gaming / Entertainment                 111\n",
       "Food and Beverage                       91\n",
       "HighTech / NanoTech / Materials         78\n",
       "Tech                                    59\n",
       "Real Estate                             59\n",
       "Retail                                  53\n",
       "Audio and Media                         50\n",
       "ICT / Telcom                            46\n",
       "Sports                                  37\n",
       "Security                                22\n",
       "Aerospace                               17\n",
       "Automotive                              15\n",
       "Professional Services                   12\n",
       "Ecosystem enabler                        9\n",
       "Urban Development                        8\n",
       "Government                               1\n",
       "Name: industry, dtype: int64"
      ]
     },
     "metadata": {},
     "execution_count": 21
    }
   ],
   "source": [
    "df['industry'].value_counts()"
   ]
  },
  {
   "cell_type": "code",
   "execution_count": 8,
   "metadata": {},
   "outputs": [],
   "source": [
    "df['industry'].replace(to_replace=['Financial Services: Fin Tech','Finance'],value='Financial Services',inplace=True)"
   ]
  },
  {
   "cell_type": "code",
   "execution_count": 10,
   "metadata": {},
   "outputs": [],
   "source": [
    "df['industry'].replace(to_replace=['Health: Health Tech','MedTech / BioTech'],value='Health / Wellness',inplace=True)"
   ]
  },
  {
   "cell_type": "code",
   "execution_count": 12,
   "metadata": {},
   "outputs": [],
   "source": [
    "df['industry'].replace(to_replace='Education: Ed Tech',value='Education',inplace=True)"
   ]
  },
  {
   "cell_type": "code",
   "execution_count": 14,
   "metadata": {},
   "outputs": [],
   "source": [
    "df['industry'].replace(to_replace=['Enterprise Services','Enterprise Products'],value='Enterprise',inplace=True)"
   ]
  },
  {
   "cell_type": "code",
   "execution_count": 16,
   "metadata": {},
   "outputs": [],
   "source": [
    "df['industry'].replace(to_replace=['Consumer Services','Consumer Products','Consumer Goods'],value='Consumer',inplace=True)"
   ]
  },
  {
   "cell_type": "code",
   "execution_count": 20,
   "metadata": {},
   "outputs": [],
   "source": [
    "df['industry'].replace(to_replace='Media',value='Audio and Media',inplace=True)"
   ]
  },
  {
   "source": [
    "## Business stage"
   ],
   "cell_type": "markdown",
   "metadata": {}
  },
  {
   "cell_type": "code",
   "execution_count": 25,
   "metadata": {},
   "outputs": [
    {
     "output_type": "execute_result",
     "data": {
      "text/plain": [
       "array(['Revenue Stage', 'Development Stage', 'Beta Testing Stage',\n",
       "       'Pre-Revenue Stage', 'Expansion Stage', 'Other', 'Idea Stage',\n",
       "       'Acquired', 'Dead'], dtype=object)"
      ]
     },
     "metadata": {},
     "execution_count": 25
    }
   ],
   "source": [
    "df['business_stage'].unique()"
   ]
  },
  {
   "cell_type": "code",
   "execution_count": 27,
   "metadata": {},
   "outputs": [
    {
     "output_type": "execute_result",
     "data": {
      "text/plain": [
       "Revenue Stage         1119\n",
       "Pre-Revenue Stage      953\n",
       "Other                  685\n",
       "Beta Testing Stage     657\n",
       "Development Stage      506\n",
       "Expansion Stage        270\n",
       "Idea Stage              52\n",
       "Dead                     1\n",
       "Acquired                 1\n",
       "Name: business_stage, dtype: int64"
      ]
     },
     "metadata": {},
     "execution_count": 27
    }
   ],
   "source": [
    "df['business_stage'].value_counts()"
   ]
  },
  {
   "cell_type": "code",
   "execution_count": 29,
   "metadata": {},
   "outputs": [],
   "source": [
    "df.drop(df[df['business_stage'] =='Dead'].index, inplace = True)"
   ]
  },
  {
   "cell_type": "code",
   "execution_count": 30,
   "metadata": {},
   "outputs": [],
   "source": [
    "df.drop(df[df['business_stage'] =='Acquired'].index, inplace = True)"
   ]
  },
  {
   "source": [
    "## Incorporated"
   ],
   "cell_type": "markdown",
   "metadata": {}
  },
  {
   "cell_type": "code",
   "execution_count": 33,
   "metadata": {},
   "outputs": [
    {
     "output_type": "execute_result",
     "data": {
      "text/plain": [
       "array([0., 1.])"
      ]
     },
     "metadata": {},
     "execution_count": 33
    }
   ],
   "source": [
    "df['incorporated'].unique()"
   ]
  },
  {
   "source": [
    "## Incorporation date"
   ],
   "cell_type": "markdown",
   "metadata": {}
  },
  {
   "cell_type": "code",
   "execution_count": 44,
   "metadata": {},
   "outputs": [
    {
     "output_type": "execute_result",
     "data": {
      "text/plain": [
       "8     1091\n",
       "7      683\n",
       "6      579\n",
       "9      548\n",
       "5      472\n",
       "4      342\n",
       "10     254\n",
       "3      180\n",
       "2       55\n",
       "1       17\n",
       "0        6\n",
       "11       3\n",
       "Name: incorporation_date, dtype: int64"
      ]
     },
     "metadata": {},
     "execution_count": 44
    }
   ],
   "source": [
    "df['incorporation_date'].value_counts()"
   ]
  },
  {
   "cell_type": "code",
   "execution_count": 39,
   "metadata": {},
   "outputs": [],
   "source": [
    "df.drop(df[df['incorporation_date'] < 2009].index, inplace = True)"
   ]
  },
  {
   "cell_type": "code",
   "execution_count": 43,
   "metadata": {},
   "outputs": [],
   "source": [
    "df['incorporation_date'] = df['incorporation_date'].apply(lambda x: x - 2009)"
   ]
  },
  {
   "source": [
    "## Number of team members"
   ],
   "cell_type": "markdown",
   "metadata": {}
  },
  {
   "cell_type": "code",
   "execution_count": 47,
   "metadata": {},
   "outputs": [
    {
     "output_type": "execute_result",
     "data": {
      "text/plain": [
       "2.0     1513\n",
       "3.0      929\n",
       "1.0      780\n",
       "4.0      500\n",
       "5.0      236\n",
       "6.0      114\n",
       "7.0       69\n",
       "8.0       35\n",
       "9.0       20\n",
       "10.0      13\n",
       "11.0       6\n",
       "13.0       3\n",
       "14.0       3\n",
       "16.0       3\n",
       "15.0       2\n",
       "12.0       2\n",
       "17.0       2\n",
       "Name: Number of team members, dtype: int64"
      ]
     },
     "metadata": {},
     "execution_count": 47
    }
   ],
   "source": [
    "df['Number of team members'].value_counts()"
   ]
  },
  {
   "cell_type": "code",
   "execution_count": 71,
   "metadata": {},
   "outputs": [
    {
     "output_type": "execute_result",
     "data": {
      "text/plain": [
       "Index(['Unnamed: 0', 'company_id', 'country', 'industry', 'business_stage',\n",
       "       'incorporated', 'incorporation_date', 'Number of team members',\n",
       "       'accelerator', 'amount_to_raise', 'funding at the time of application',\n",
       "       'number_employees', 'revenue_1month', 'revenue_2month',\n",
       "       'revenue_3month', 'users_1month', 'users_2month', 'users_3month',\n",
       "       'paying_users_1month', 'paying_users_2month', 'paying_users_3month',\n",
       "       'number_transactions_1month', 'number_transactions_2month',\n",
       "       'number_transactions_3month', 'burn_rate', 'number of competitors',\n",
       "       'role_0', 'gender_0', 'country_0', 'role_1', 'gender_1', 'company_logo',\n",
       "       'Funding before Seedstars', 'Total Funding', 'FUNDED',\n",
       "       'status_of_funding_AMOUNT', 'status_of_funding_STATUS',\n",
       "       'website_active', 'lat', 'lon', 'year_incorporated', 'year_segment',\n",
       "       'revenue_model_commission_Imputed', 'revenue_model_product_Imputed',\n",
       "       'revenue_model_on-demand_Imputed', 'revenue_model_subscription_Imputed',\n",
       "       'revenue_model_freemium_Imputed', 'revenue_model_advertising_Imputed',\n",
       "       'revenue_model_licensing_Imputed',\n",
       "       'customer_type - B-to-B-to-C_Imputed', 'customer_type - B-to-B_Imputed',\n",
       "       'customer_type - B-to-C_Imputed', 'customer_type - B-to-G_Imputed',\n",
       "       'percent_increase_in_revenue', 'percent_increase_in_users'],\n",
       "      dtype='object')"
      ]
     },
     "metadata": {},
     "execution_count": 71
    }
   ],
   "source": [
    "df.keys()"
   ]
  },
  {
   "cell_type": "code",
   "execution_count": 76,
   "metadata": {},
   "outputs": [
    {
     "output_type": "execute_result",
     "data": {
      "text/plain": [
       "array(['Founder', 'CEO', 'R&D', 'CMO', 'CFO', 'Founder, CEO', 'Other',\n",
       "       'SMM&User Acquisition', 'CEO & Co-Founder', 'CEO and Founder',\n",
       "       'CTO', 'CEO & Founder', 'Marketing Manager', 'Co-founder,',\n",
       "       'Co-Founder', 'Co-Founder, CEO', 'Operation Director',\n",
       "       'CEO/Co-founder', 'Chairman', 'Director',\n",
       "       'Chief Executive Officer & Co-Founder', 'Developer and programmer',\n",
       "       'Co-founder', 'Alex Macbeth, Head of Strategy & Content',\n",
       "       'Developer', 'Business Analyst', 'Creative Director/ Co-CEO',\n",
       "       'Software Engineer', 'Co-Founder & Dev', 'System Analyst and P',\n",
       "       'C', 'Founder / Android En', 'Head of Finance', 'Founder and CEO',\n",
       "       'Co-Founder and Full', 'Founder, Mobile & We',\n",
       "       'CEO & Happiness Offi', 'Head of Product', 'COO', 'Fundador & CEO',\n",
       "       'Co-Founder & CFO', 'CEO, Founder, Produc', 'Gerente',\n",
       "       'Co-Founder & Product Manager', 'Technical director',\n",
       "       'CEO / Founder', 'CTO - Cofounder', 'Creative, Voice.', 'Founders',\n",
       "       'Operation Officer', 'Java Engineer', 'Technical Lead',\n",
       "       'Co-Founder & COO', 'Fundador CTO', 'Co-Founder & CMO',\n",
       "       'Founder & Operations Manager', 'CFO & COO',\n",
       "       'Administrator & co-f', 'Director Comercial', 'Sales Director',\n",
       "       'Founder & CEO', 'Co-founder & CEO', 'Managing Director',\n",
       "       'Head of Growth', 'Co-Founder (tech)', 'Founder and Ceo',\n",
       "       'Head of Business Development', 'CTO & Co-Founder',\n",
       "       'Co-Founder and CEO', 'Co-Founder & CEO', 'Head Of Operations',\n",
       "       'Business Lead', 'co-founders', 'VP of Product',\n",
       "       'Chief of Product & Strategy', 'co-founder', 'CBDO',\n",
       "       'Product Manager', 'Strategic Analyst Officer', 'shiraz iran',\n",
       "       'Founder & business manager', 'UI/UX & Operational', 'ceo',\n",
       "       'marketing and content producing', 'executive director',\n",
       "       'Co-founder and CEO', 'Growth', 'CEO-CTO', 'Business Developer',\n",
       "       'CMO & Co-Founder', 'Founder / CMO', 'co-Founder / CEO',\n",
       "       'CEO / Co-Founder', 'Co-Founder/Marketing', 'CEO & developer',\n",
       "       'Business Development Director', 'Sales manager',\n",
       "       'Founder, Marketing coordinator', 'CTO / Founder',\n",
       "       'Brand Communication Director', 'CEO, Founder', 'Consultant',\n",
       "       'Founder & CEO+CTO', 'Chief Executive Officer',\n",
       "       'Compliance Officer', 'Operations Director', 'Co-founder, CEO',\n",
       "       'Investor Relations Manager', 'CEO/Founder',\n",
       "       'Business Development Lead', 'Cofounder, CEO', 'Founder & CPO',\n",
       "       'Founder - CEO', 'CSO & Co-Founder', 'assistant to chairman',\n",
       "       'Product Marketing', 'President', 'Investor & Advisor',\n",
       "       'CEO - Founder', 'CEO & CTO', 'Cofounder', 'Partner',\n",
       "       'Head of Business Development and Partnerships', 'CEO/Co-Founder',\n",
       "       'CEO, CTO', 'Business Development', 'Co-founder / CTO',\n",
       "       'CEO - Products/Custo', 'Co-founder, Operatio', 'Founder/CTO',\n",
       "       'Cofounder/COO', 'Business Manager', 'COO/CTO', 'Founder/CEO',\n",
       "       'founder', 'Managing Director / CTO', 'Brand & Operations',\n",
       "       'CEO / Team Lead', 'Chief Executive Officer (CEO)',\n",
       "       'CPO & Founder', 'CEO & Co-founder', 'Managing  Director',\n",
       "       'Founder&CEO', 'Only Founder and CEO',\n",
       "       'Co-founder and managing director', 'Assistant Public Relations',\n",
       "       'CEO & Creative Direc', 'Co-Founder & Managing Director',\n",
       "       'IT director', 'Technical Officer', 'Founder,MD & CTO',\n",
       "       'Co-Founder and COO', 'CEO and Cofounder', 'Managing director',\n",
       "       'CIO', 'Lead Hiker', 'Co-Founder, Product', 'CEF', 'Owner',\n",
       "       'Managing Partner', 'cofounder', 'Economist', 'Founder & Director',\n",
       "       'C.E.O', 'Co Founder &Head Strategic Partnerships',\n",
       "       'CEO-HR & Admin', 'Lead developer', 'CEO/Marketing Lead',\n",
       "       'COO & Co-Founder', 'Operations Manager', 'Reporter',\n",
       "       'promotions manager', 'CFO and COO', 'Project Manager',\n",
       "       'CEO, founder', 'Communications, Investor Relations',\n",
       "       'Founder, dev lead.', 'PM', 'CEO, co-founder', 'product manager',\n",
       "       'CEO/CTO', 'CEO / Co-founder', 'CMO/HR', 'CEO, Co-founder',\n",
       "       'CEO&Founder', 'Co-founder, Business development', 'CCO',\n",
       "       'Manager-R&D', 'CEO.', 'Directrice Marketing et Commerciale',\n",
       "       'Marketing Support', 'Project Leader', 'General Manager',\n",
       "       'Chief executive officer', 'Business development engineer',\n",
       "       'Founder\\\\CEO', 'Lead Engineer', 'Co-CEO', 'CEO and designer',\n",
       "       'CEO,CTO', 'Co-Founder/CEO', 'Content Marketing Sp',\n",
       "       'Chief Marketing Officer', 'Front-end Developer',\n",
       "       'Project Manager/ Business Development Specialist',\n",
       "       'content management', 'Co-founder, Presiden', 'Founder / CEO',\n",
       "       'CPO', 'Founder, Software En', 'Business Development Manager',\n",
       "       'Marketing Director', 'Ops Manager',\n",
       "       'Marketing Director & Co-Founder', 'Co-founder - CFO',\n",
       "       'Head of Sales', 'CEO - Innovation Dir', 'Health Lead',\n",
       "       'Head Designer', 'MD', 'Marketing & Business Manager',\n",
       "       'Co-founder & co-director', 'Co-founder+Product', 'Operations',\n",
       "       'Co-Founder, Visionary and Developer', 'COO & Founder',\n",
       "       'Joint CEO', 'Founder (CTO)', 'Community Manager',\n",
       "       'Co-founder & CCPO', 'Co-founder & CTO', 'Android Developer',\n",
       "       'CoFounder & CEO', 'Growth Hacker', 'Hustler & Driver',\n",
       "       'CEO and Co-founder', 'CFO & Co-Founder', 'Product Management,',\n",
       "       'lead designer', 'Co-founder & CMO', 'Sales and Marketing',\n",
       "       'Co founder', 'Director, Co-Founder', 'Executive Team Member',\n",
       "       'Communications', 'Gerente General', 'CEO - CoFounder',\n",
       "       'Co- Founder', 'CEO & Cofounder', 'Country Manager',\n",
       "       'Business strategy', 'Chief Technology officer',\n",
       "       'Chief Comercial Officer', 'CEO & co-founder',\n",
       "       'Chief Business Developer', 'Digital Marketing', 'Doing business',\n",
       "       'Buisness devlopment', 'project manager', 'UX, Cloud Architect',\n",
       "       'Product designer', 'CMO & CO-FOUNDER', 'co-founder (CEO)',\n",
       "       'CFO/Co-founder', 'Technical Manager', 'Founder & CCO',\n",
       "       'Funder/Pro Mgr', 'Co-founder/CEO', 'Co-Fouder', 'founder / CEO',\n",
       "       'Fonder and CEO', 'Cofounder & CEO', 'Founder, CTO',\n",
       "       'CEO/System Analyst', 'Marketing & Sales Director', 'Founding CEO',\n",
       "       'Marketing Planning', 'PM & UX designer', 'CBDO & Co-Founder',\n",
       "       'Sales, Programming', 'CEO (Founder)', 'Co-Fo & CEO',\n",
       "       'Data Analyst', 'Partnership Development & Events Manager',\n",
       "       'CCO, cofounder', 'Legal & IR consultant',\n",
       "       'Head of Communications', 'Senior Research Fellow',\n",
       "       'Account Manager', 'Ceo', 'Chief Product Officer', 'CBDO/CMO',\n",
       "       'Lider y Gestor de recursos Proyecto \"Cultiv@r\"', 'I&D Leader',\n",
       "       'Dirección general y mercadeo', 'Founder and director',\n",
       "       'Ejecutive Director', 'Project Director',\n",
       "       'product development and advertising', 'Technology',\n",
       "       'Strategy Manager', 'Executive Director',\n",
       "       'Financial and administrative coordinator', 'researcher leader',\n",
       "       'CEO y Fundador', 'Manager', 'Commercial Director', 'Leader',\n",
       "       'Marketing & PR', 'Business development', 'sales/marketing',\n",
       "       'Lead Business Developer', 'CEO/Programmer/Sales',\n",
       "       'Senior Developer', 'CEOFOUNDERDEVELOPER', 'CEO - COO',\n",
       "       'Chief Operations Officer', 'Co-Founder Sales&Mkt',\n",
       "       'Founder, Product Design & Business Development',\n",
       "       'CEO- Co Fundador', 'Founder / Director', 'Founder - Director',\n",
       "       'Panther in Chief CEO', 'Software Developer',\n",
       "       'Business Administrat', 'CEO | Ui/Ux Designer',\n",
       "       'Director/UI/UX/Proje', 'Founder & Managing Director',\n",
       "       'Associate Partner', 'Executive Assistant to the CEO',\n",
       "       'Co Founder/CEO', 'coo', 'Legal Manager', 'Founder - CSO',\n",
       "       'Head of Marketing', 'Fouder / CEO', 'director', 'VP',\n",
       "       'Business Inteligencie', 'Sales and accounting', 'Founder and MD',\n",
       "       'Co Founder And COO', 'CEO/ Lead Developer', 'Co Founder And CTO',\n",
       "       'CEO/ designer', 'Projects Manager', 'Vice President',\n",
       "       'CEO & Software Developer', 'Co-FoundHER', 'head to team',\n",
       "       'DEVELOPER', 'business development', 'CEO & developer.',\n",
       "       'devlopper', 'marketing manager', 'CEO/President',\n",
       "       'CEO, head of Communication',\n",
       "       'Co-Founder & Lead Designer/Developer',\n",
       "       'Founder, Project Lead - Electrical studies, Partnership and Business Development',\n",
       "       'Co Founder', 'CoFounder CEO', 'CEO, Marketing',\n",
       "       'Communications Manager', 'Social Impact Officer', 'Founder/ CEO',\n",
       "       'Business developer', 'Fonder , Ceo', 'CHIEF EXECUTIVE OFFICIER',\n",
       "       'founder and manager', 'Ingenieur', 'Country Director - Mali',\n",
       "       'Co-fondateur', 'Founder and Creative Director', 'co-Founder',\n",
       "       'Founder and Managing Partner', 'Founder/COO', 'Finance Director',\n",
       "       'Design the product', 'Head of farming operations',\n",
       "       'CEO - Business Development', 'Founder et CEO',\n",
       "       'Production Director', 'CEO and Co-Founder', 'C.E.O.',\n",
       "       'Manager général', 'Founder / C.E.O', 'Lead developer & CEO',\n",
       "       'Local Manager', 'Co-founder/ CEO', 'Communications Lead',\n",
       "       'Chief Technology Officer', 'Technical Director',\n",
       "       'Company founder & Projects and Operational Director',\n",
       "       'Team Leader - Managi', 'Chief Executive Officer n',\n",
       "       'Operations and company lead', 'Chief excutive Officer',\n",
       "       'Design lead', 'Co- Founder & Chief Executive  Officer',\n",
       "       'Team Lead & Founder', 'Secretary', 'CFO, Founding Partner',\n",
       "       'VP Business Development', 'Founder and General Manager',\n",
       "       'Founder & Chief Humanity Officer', 'Product and Strategy',\n",
       "       'Social Media manager', 'Founder/Developer',\n",
       "       'Sales & Marketing Manager', 'Founder - Manager',\n",
       "       'CEO and Co Founder', 'Founder and Director',\n",
       "       'Founder and manager', 'Associate Manager', 'General manager',\n",
       "       'Co-Founder and Chief Executive Officer', 'EXECUTIVE DIRECTOR',\n",
       "       'Founder / Software Team Lead', 'CID',\n",
       "       'Founder - Technical Development', 'CEO Founder',\n",
       "       'Cofounder - CEO', 'Co-founder; Operations and Sales',\n",
       "       'Market developer', 'Co-Founder and Chairman', 'CEO & COO',\n",
       "       'COO, Head of Product', 'CEO & Fundador', 'CEO & Co Founder',\n",
       "       'Comercial Coordinator', 'Hustler',\n",
       "       'Finance & Administration Director',\n",
       "       'Director of Business Development LATAM',\n",
       "       'Head of people & experience', 'Chief Operating Officer',\n",
       "       'Chief Product and Operatings Officer',\n",
       "       'Product & Finance Manager', 'CEO & FOUNDER',\n",
       "       'Cofounder, Mktg & BD', 'CEO& Co-Founder', 'Partner- Marketing&S',\n",
       "       'Founder & Android Dv', 'Teamlead', 'Co-founder, Head of Product',\n",
       "       'Tech Guy', 'CMO & Co-founder', 'communications', 'founder, CBDO',\n",
       "       'Creator', 'Business & Software Director', 'Product & Marketing',\n",
       "       'Research Manager', 'IT Development', 'Customer Relations Manager',\n",
       "       'Head of Marketing and communication', 'CTO & Founder',\n",
       "       'founder & CEO', 'Waistrepreneur and Founder',\n",
       "       'Marketing and Social Media Lead', 'Business Development manager',\n",
       "       'Founder & Chief Entrepreneurial Officer', 'Co Founder, CEO',\n",
       "       'Co -Founder/COO', 'Manager, Strategy & Business Development',\n",
       "       'Co Founder Chief Executive Officer', 'Head of Operations',\n",
       "       'Director Engineering', 'CEO/CTO/Dev', 'Inventor & Chairman',\n",
       "       'Technology Head', 'Business Admin', 'CEO, partner',\n",
       "       'Sales & PR Manager', 'Marketing', 'Hustler/Hipster',\n",
       "       'direction of the com', 'Blockchain Strategist', 'CMO- Founder',\n",
       "       'co-Founder and COO', 'CEO & founder', 'developer',\n",
       "       'Software developer', 'Founder, developer', 'Founder/Director',\n",
       "       'Founder & Designer', 'Founder / Chief Trav', 'operation&creator',\n",
       "       'Co-Founder and CTO', 'CSO', 'co - founder',\n",
       "       'General manager - 2d graphic designer',\n",
       "       'Business development manager', 'Shareholder and CEO',\n",
       "       'CEO, Co-Founder', 'Team leader', 'Ambassador',\n",
       "       'Founder &Team Leader', 'CIO & Co-Founder', 'Founder CEO',\n",
       "       'R&D Director', 'Project Manager(CEO)',\n",
       "       'Business Development Director and Chief Privacy Officer',\n",
       "       'Digital Marketer', 'Product Manager | Designer',\n",
       "       'MANAGING DIRECTOR', 'Chief Commercial Office - Board Member',\n",
       "       'Vice-Presidente', 'Responsável', 'Chief Communication Officer',\n",
       "       'Marketing and Commercial Director', 'CEO Bilhetes Online Angola',\n",
       "       'Partnerships Manager', 'Business Maestro', 'CEO/Manager',\n",
       "       'Strategy', 'Founder and Chairman', 'Co-Founder & Developer',\n",
       "       'Marketing & Product Manager/ Co-founder',\n",
       "       'co-founder and business development', 'cofounder & UX',\n",
       "       'Materials Engineer & Co-Founder', 'Teamworker',\n",
       "       'Software Developer Lead', 'Chief Entrepreneur',\n",
       "       'Executive Assistant', 'Co Founder and UI/UX', 'Chief',\n",
       "       'CO-FOUNDER', 'Founder, Chief Executive Officer', 'CEO Co-founder',\n",
       "       'Co-Founder / Business Development Officer',\n",
       "       'Co-Founder & Brand Manager',\n",
       "       'COO and product development coordinator', 'Co - Founder',\n",
       "       'Ingener and Marketing Manager', 'Founder and Managing Director',\n",
       "       'CTO , Developer', 'PR & Communications Officer',\n",
       "       'co-founder/ CEO',\n",
       "       'CEO, security architect, Full stack development',\n",
       "       'Co-Founder/ Chief Executive Officer', 'Chief Innovation Officer',\n",
       "       'Co-founder & COO', 'Creative director', 'Co-Founder & CTO',\n",
       "       'Co-founder and Operations Manager', 'COO & CoFounder',\n",
       "       'Technical Solutions'], dtype=object)"
      ]
     },
     "metadata": {},
     "execution_count": 76
    }
   ],
   "source": [
    "df['role_0'].unique()"
   ]
  },
  {
   "cell_type": "code",
   "execution_count": 83,
   "metadata": {},
   "outputs": [],
   "source": [
    "changed_list= []\n",
    "for role in df['role_0']: \n",
    "    role= role.lower()\n",
    "    if ('ceo' in role) or ('chief executive officer' in role): \n",
    "        role = 'CEO'\n",
    "    elif ('cto' in role) or ('chief technical officer' in role): \n",
    "        role = 'CTO'\n",
    "    elif ('coo' in role) or ('chief operative officer' in role): \n",
    "        role = 'COO'\n",
    "    elif 'design' in role: \n",
    "        role= 'Desiner'\n",
    "    elif ('marketing' in role) or ('cmo' in role): \n",
    "        role= 'Marketing'\n",
    "\n",
    "    elif ('cfo' in role) or ('financ' in role): \n",
    "        role= 'Finance'\n",
    "\n",
    "    changed_list.append(role)\n",
    "    \n",
    "         \n",
    "    "
   ]
  },
  {
   "cell_type": "code",
   "execution_count": 86,
   "metadata": {},
   "outputs": [
    {
     "output_type": "execute_result",
     "data": {
      "text/plain": [
       "      Unnamed: 0  company_id           country              industry  \\\n",
       "0              0           1        Uzbekistan              Consumer   \n",
       "1              1         224        Uzbekistan  Travel and Transport   \n",
       "2              2         365        Uzbekistan    Financial Services   \n",
       "3              3         440        Uzbekistan            Enterprise   \n",
       "4              4         866        Uzbekistan                    HR   \n",
       "...          ...         ...               ...                   ...   \n",
       "4239        4239        3864            Canada       Agri: Agri Tech   \n",
       "4240        4240        2593  Papua New Guinea             Education   \n",
       "4241        4241        3098             Benin     Health / Wellness   \n",
       "4242        4242        3394             Samoa    Financial Services   \n",
       "4243        4243        3472           Finland                    HR   \n",
       "\n",
       "          business_stage  incorporated  incorporation_date  \\\n",
       "0          Revenue Stage           0.0                   8   \n",
       "1      Development Stage           0.0                   8   \n",
       "2     Beta Testing Stage           1.0                  10   \n",
       "3          Revenue Stage           0.0                   8   \n",
       "4          Revenue Stage           1.0                  10   \n",
       "...                  ...           ...                 ...   \n",
       "4239   Development Stage           1.0                  10   \n",
       "4240       Revenue Stage           1.0                   8   \n",
       "4241   Pre-Revenue Stage           0.0                   8   \n",
       "4242   Development Stage           0.0                  10   \n",
       "4243       Revenue Stage           1.0                   8   \n",
       "\n",
       "      Number of team members  accelerator  amount_to_raise  ...  \\\n",
       "0                        4.0          1.0                0  ...   \n",
       "1                        4.0          0.0            30000  ...   \n",
       "2                        1.0          1.0             3000  ...   \n",
       "3                       10.0          0.0                0  ...   \n",
       "4                        5.0          0.0                0  ...   \n",
       "...                      ...          ...              ...  ...   \n",
       "4239                     3.0          1.0                0  ...   \n",
       "4240                     2.0          1.0           102000  ...   \n",
       "4241                     5.0          1.0                0  ...   \n",
       "4242                     2.0          1.0           200000  ...   \n",
       "4243                     5.0          1.0           150000  ...   \n",
       "\n",
       "      revenue_model_subscription_Imputed  revenue_model_freemium_Imputed  \\\n",
       "0                                    1.0                             0.0   \n",
       "1                                    1.0                             0.0   \n",
       "2                                    1.0                             1.0   \n",
       "3                                    1.0                             0.0   \n",
       "4                                    1.0                             0.0   \n",
       "...                                  ...                             ...   \n",
       "4239                                 0.0                             0.0   \n",
       "4240                                 1.0                             0.0   \n",
       "4241                                 1.0                             1.0   \n",
       "4242                                 1.0                             0.0   \n",
       "4243                                 1.0                             0.0   \n",
       "\n",
       "      revenue_model_advertising_Imputed  revenue_model_licensing_Imputed  \\\n",
       "0                                   0.0                              0.0   \n",
       "1                                   1.0                              0.0   \n",
       "2                                   1.0                              0.0   \n",
       "3                                   0.0                              0.0   \n",
       "4                                   0.0                              0.0   \n",
       "...                                 ...                              ...   \n",
       "4239                                0.0                              0.0   \n",
       "4240                                1.0                              0.0   \n",
       "4241                                1.0                              0.0   \n",
       "4242                                0.0                              0.0   \n",
       "4243                                0.0                              1.0   \n",
       "\n",
       "      customer_type - B-to-B-to-C_Imputed  customer_type - B-to-B_Imputed  \\\n",
       "0                                     1.0                             0.0   \n",
       "1                                     1.0                             1.0   \n",
       "2                                     0.0                             1.0   \n",
       "3                                     0.0                             1.0   \n",
       "4                                     0.0                             1.0   \n",
       "...                                   ...                             ...   \n",
       "4239                                  0.0                             1.0   \n",
       "4240                                  1.0                             1.0   \n",
       "4241                                  1.0                             0.0   \n",
       "4242                                  1.0                             1.0   \n",
       "4243                                  1.0                             0.0   \n",
       "\n",
       "      customer_type - B-to-C_Imputed  customer_type - B-to-G_Imputed  \\\n",
       "0                                0.0                             0.0   \n",
       "1                                1.0                             0.0   \n",
       "2                                0.0                             0.0   \n",
       "3                                0.0                             0.0   \n",
       "4                                0.0                             1.0   \n",
       "...                              ...                             ...   \n",
       "4239                             0.0                             0.0   \n",
       "4240                             1.0                             0.0   \n",
       "4241                             0.0                             0.0   \n",
       "4242                             0.0                             0.0   \n",
       "4243                             0.0                             0.0   \n",
       "\n",
       "      percent_increase_in_revenue  percent_increase_in_users  \n",
       "0                        9.459459                   9.782609  \n",
       "1                       43.744532                  69.230769  \n",
       "2                    25000.000000                  24.997500  \n",
       "3                      -14.446054                 -20.588235  \n",
       "4                      -49.765258                 -25.000000  \n",
       "...                           ...                        ...  \n",
       "4239                   233.033460                  50.000000  \n",
       "4240                   -49.988394                 -41.666667  \n",
       "4241                     0.000000                 -24.987506  \n",
       "4242                     0.000000                   0.000000  \n",
       "4243                     0.000000                 -25.000000  \n",
       "\n",
       "[4230 rows x 55 columns]"
      ],
      "text/html": "<div>\n<style scoped>\n    .dataframe tbody tr th:only-of-type {\n        vertical-align: middle;\n    }\n\n    .dataframe tbody tr th {\n        vertical-align: top;\n    }\n\n    .dataframe thead th {\n        text-align: right;\n    }\n</style>\n<table border=\"1\" class=\"dataframe\">\n  <thead>\n    <tr style=\"text-align: right;\">\n      <th></th>\n      <th>Unnamed: 0</th>\n      <th>company_id</th>\n      <th>country</th>\n      <th>industry</th>\n      <th>business_stage</th>\n      <th>incorporated</th>\n      <th>incorporation_date</th>\n      <th>Number of team members</th>\n      <th>accelerator</th>\n      <th>amount_to_raise</th>\n      <th>...</th>\n      <th>revenue_model_subscription_Imputed</th>\n      <th>revenue_model_freemium_Imputed</th>\n      <th>revenue_model_advertising_Imputed</th>\n      <th>revenue_model_licensing_Imputed</th>\n      <th>customer_type - B-to-B-to-C_Imputed</th>\n      <th>customer_type - B-to-B_Imputed</th>\n      <th>customer_type - B-to-C_Imputed</th>\n      <th>customer_type - B-to-G_Imputed</th>\n      <th>percent_increase_in_revenue</th>\n      <th>percent_increase_in_users</th>\n    </tr>\n  </thead>\n  <tbody>\n    <tr>\n      <th>0</th>\n      <td>0</td>\n      <td>1</td>\n      <td>Uzbekistan</td>\n      <td>Consumer</td>\n      <td>Revenue Stage</td>\n      <td>0.0</td>\n      <td>8</td>\n      <td>4.0</td>\n      <td>1.0</td>\n      <td>0</td>\n      <td>...</td>\n      <td>1.0</td>\n      <td>0.0</td>\n      <td>0.0</td>\n      <td>0.0</td>\n      <td>1.0</td>\n      <td>0.0</td>\n      <td>0.0</td>\n      <td>0.0</td>\n      <td>9.459459</td>\n      <td>9.782609</td>\n    </tr>\n    <tr>\n      <th>1</th>\n      <td>1</td>\n      <td>224</td>\n      <td>Uzbekistan</td>\n      <td>Travel and Transport</td>\n      <td>Development Stage</td>\n      <td>0.0</td>\n      <td>8</td>\n      <td>4.0</td>\n      <td>0.0</td>\n      <td>30000</td>\n      <td>...</td>\n      <td>1.0</td>\n      <td>0.0</td>\n      <td>1.0</td>\n      <td>0.0</td>\n      <td>1.0</td>\n      <td>1.0</td>\n      <td>1.0</td>\n      <td>0.0</td>\n      <td>43.744532</td>\n      <td>69.230769</td>\n    </tr>\n    <tr>\n      <th>2</th>\n      <td>2</td>\n      <td>365</td>\n      <td>Uzbekistan</td>\n      <td>Financial Services</td>\n      <td>Beta Testing Stage</td>\n      <td>1.0</td>\n      <td>10</td>\n      <td>1.0</td>\n      <td>1.0</td>\n      <td>3000</td>\n      <td>...</td>\n      <td>1.0</td>\n      <td>1.0</td>\n      <td>1.0</td>\n      <td>0.0</td>\n      <td>0.0</td>\n      <td>1.0</td>\n      <td>0.0</td>\n      <td>0.0</td>\n      <td>25000.000000</td>\n      <td>24.997500</td>\n    </tr>\n    <tr>\n      <th>3</th>\n      <td>3</td>\n      <td>440</td>\n      <td>Uzbekistan</td>\n      <td>Enterprise</td>\n      <td>Revenue Stage</td>\n      <td>0.0</td>\n      <td>8</td>\n      <td>10.0</td>\n      <td>0.0</td>\n      <td>0</td>\n      <td>...</td>\n      <td>1.0</td>\n      <td>0.0</td>\n      <td>0.0</td>\n      <td>0.0</td>\n      <td>0.0</td>\n      <td>1.0</td>\n      <td>0.0</td>\n      <td>0.0</td>\n      <td>-14.446054</td>\n      <td>-20.588235</td>\n    </tr>\n    <tr>\n      <th>4</th>\n      <td>4</td>\n      <td>866</td>\n      <td>Uzbekistan</td>\n      <td>HR</td>\n      <td>Revenue Stage</td>\n      <td>1.0</td>\n      <td>10</td>\n      <td>5.0</td>\n      <td>0.0</td>\n      <td>0</td>\n      <td>...</td>\n      <td>1.0</td>\n      <td>0.0</td>\n      <td>0.0</td>\n      <td>0.0</td>\n      <td>0.0</td>\n      <td>1.0</td>\n      <td>0.0</td>\n      <td>1.0</td>\n      <td>-49.765258</td>\n      <td>-25.000000</td>\n    </tr>\n    <tr>\n      <th>...</th>\n      <td>...</td>\n      <td>...</td>\n      <td>...</td>\n      <td>...</td>\n      <td>...</td>\n      <td>...</td>\n      <td>...</td>\n      <td>...</td>\n      <td>...</td>\n      <td>...</td>\n      <td>...</td>\n      <td>...</td>\n      <td>...</td>\n      <td>...</td>\n      <td>...</td>\n      <td>...</td>\n      <td>...</td>\n      <td>...</td>\n      <td>...</td>\n      <td>...</td>\n      <td>...</td>\n    </tr>\n    <tr>\n      <th>4239</th>\n      <td>4239</td>\n      <td>3864</td>\n      <td>Canada</td>\n      <td>Agri: Agri Tech</td>\n      <td>Development Stage</td>\n      <td>1.0</td>\n      <td>10</td>\n      <td>3.0</td>\n      <td>1.0</td>\n      <td>0</td>\n      <td>...</td>\n      <td>0.0</td>\n      <td>0.0</td>\n      <td>0.0</td>\n      <td>0.0</td>\n      <td>0.0</td>\n      <td>1.0</td>\n      <td>0.0</td>\n      <td>0.0</td>\n      <td>233.033460</td>\n      <td>50.000000</td>\n    </tr>\n    <tr>\n      <th>4240</th>\n      <td>4240</td>\n      <td>2593</td>\n      <td>Papua New Guinea</td>\n      <td>Education</td>\n      <td>Revenue Stage</td>\n      <td>1.0</td>\n      <td>8</td>\n      <td>2.0</td>\n      <td>1.0</td>\n      <td>102000</td>\n      <td>...</td>\n      <td>1.0</td>\n      <td>0.0</td>\n      <td>1.0</td>\n      <td>0.0</td>\n      <td>1.0</td>\n      <td>1.0</td>\n      <td>1.0</td>\n      <td>0.0</td>\n      <td>-49.988394</td>\n      <td>-41.666667</td>\n    </tr>\n    <tr>\n      <th>4241</th>\n      <td>4241</td>\n      <td>3098</td>\n      <td>Benin</td>\n      <td>Health / Wellness</td>\n      <td>Pre-Revenue Stage</td>\n      <td>0.0</td>\n      <td>8</td>\n      <td>5.0</td>\n      <td>1.0</td>\n      <td>0</td>\n      <td>...</td>\n      <td>1.0</td>\n      <td>1.0</td>\n      <td>1.0</td>\n      <td>0.0</td>\n      <td>1.0</td>\n      <td>0.0</td>\n      <td>0.0</td>\n      <td>0.0</td>\n      <td>0.000000</td>\n      <td>-24.987506</td>\n    </tr>\n    <tr>\n      <th>4242</th>\n      <td>4242</td>\n      <td>3394</td>\n      <td>Samoa</td>\n      <td>Financial Services</td>\n      <td>Development Stage</td>\n      <td>0.0</td>\n      <td>10</td>\n      <td>2.0</td>\n      <td>1.0</td>\n      <td>200000</td>\n      <td>...</td>\n      <td>1.0</td>\n      <td>0.0</td>\n      <td>0.0</td>\n      <td>0.0</td>\n      <td>1.0</td>\n      <td>1.0</td>\n      <td>0.0</td>\n      <td>0.0</td>\n      <td>0.000000</td>\n      <td>0.000000</td>\n    </tr>\n    <tr>\n      <th>4243</th>\n      <td>4243</td>\n      <td>3472</td>\n      <td>Finland</td>\n      <td>HR</td>\n      <td>Revenue Stage</td>\n      <td>1.0</td>\n      <td>8</td>\n      <td>5.0</td>\n      <td>1.0</td>\n      <td>150000</td>\n      <td>...</td>\n      <td>1.0</td>\n      <td>0.0</td>\n      <td>0.0</td>\n      <td>1.0</td>\n      <td>1.0</td>\n      <td>0.0</td>\n      <td>0.0</td>\n      <td>0.0</td>\n      <td>0.000000</td>\n      <td>-25.000000</td>\n    </tr>\n  </tbody>\n</table>\n<p>4230 rows × 55 columns</p>\n</div>"
     },
     "metadata": {},
     "execution_count": 86
    }
   ],
   "source": [
    "testdf= deepcopy(df) \n"
   ]
  },
  {
   "cell_type": "code",
   "execution_count": 87,
   "metadata": {},
   "outputs": [],
   "source": [
    "testdf['role_0']= changed_list"
   ]
  },
  {
   "cell_type": "code",
   "execution_count": 103,
   "metadata": {},
   "outputs": [
    {
     "output_type": "execute_result",
     "data": {
      "text/plain": [
       "Index(['country', 'industry', 'business_stage', 'incorporated',\n",
       "       'incorporation_date', 'Number of team members', 'accelerator',\n",
       "       'amount_to_raise', 'funding at the time of application',\n",
       "       'number_employees', 'revenue_1month', 'revenue_2month',\n",
       "       'revenue_3month', 'users_1month', 'users_2month', 'users_3month',\n",
       "       'paying_users_1month', 'paying_users_2month', 'paying_users_3month',\n",
       "       'number_transactions_1month', 'number_transactions_2month',\n",
       "       'number_transactions_3month', 'burn_rate', 'number of competitors',\n",
       "       'gender_0', 'country_0', 'gender_1', 'Total Funding', 'FUNDED',\n",
       "       'status_of_funding_AMOUNT', 'status_of_funding_STATUS',\n",
       "       'website_active', 'revenue_model_commission_Imputed',\n",
       "       'revenue_model_product_Imputed', 'revenue_model_on-demand_Imputed',\n",
       "       'revenue_model_subscription_Imputed', 'revenue_model_freemium_Imputed',\n",
       "       'revenue_model_advertising_Imputed', 'revenue_model_licensing_Imputed',\n",
       "       'customer_type - B-to-B-to-C_Imputed', 'customer_type - B-to-B_Imputed',\n",
       "       'customer_type - B-to-C_Imputed', 'customer_type - B-to-G_Imputed',\n",
       "       'percent_increase_in_revenue', 'percent_increase_in_users'],\n",
       "      dtype='object')"
      ]
     },
     "metadata": {},
     "execution_count": 103
    }
   ],
   "source": [
    "testdf.keys()"
   ]
  },
  {
   "cell_type": "code",
   "execution_count": 94,
   "metadata": {},
   "outputs": [],
   "source": [
    "testdf.drop(['status_of_funding_AMOUNT','year_incorporated','Unnamed: 0','company_id','role_0', 'role_1','company_logo','Funding before Seedstars','lat', 'lon','year_segment'], axis=1,inplace=True)"
   ]
  },
  {
   "cell_type": "code",
   "execution_count": 108,
   "metadata": {},
   "outputs": [],
   "source": [
    "testdf.drop(['amount_to_raise'], axis=1,inplace=True)"
   ]
  },
  {
   "cell_type": "code",
   "execution_count": 109,
   "metadata": {},
   "outputs": [
    {
     "output_type": "execute_result",
     "data": {
      "text/plain": [
       "      country              industry      business_stage  incorporated  \\\n",
       "0  Uzbekistan              Consumer       Revenue Stage           0.0   \n",
       "1  Uzbekistan  Travel and Transport   Development Stage           0.0   \n",
       "2  Uzbekistan    Financial Services  Beta Testing Stage           1.0   \n",
       "3  Uzbekistan            Enterprise       Revenue Stage           0.0   \n",
       "4  Uzbekistan                    HR       Revenue Stage           1.0   \n",
       "\n",
       "   incorporation_date  Number of team members  accelerator  \\\n",
       "0                   8                     4.0          1.0   \n",
       "1                   8                     4.0          0.0   \n",
       "2                  10                     1.0          1.0   \n",
       "3                   8                    10.0          0.0   \n",
       "4                  10                     5.0          0.0   \n",
       "\n",
       "   funding at the time of application  number_employees  revenue_1month  ...  \\\n",
       "0                                 0.0               1.0           110.0  ...   \n",
       "1                             30000.0               3.0          8000.0  ...   \n",
       "2                                 0.0               2.0             0.0  ...   \n",
       "3                                 0.0               9.0          1380.0  ...   \n",
       "4                                 0.0               5.0           212.0  ...   \n",
       "\n",
       "   revenue_model_subscription_Imputed  revenue_model_freemium_Imputed  \\\n",
       "0                                 1.0                             0.0   \n",
       "1                                 1.0                             0.0   \n",
       "2                                 1.0                             1.0   \n",
       "3                                 1.0                             0.0   \n",
       "4                                 1.0                             0.0   \n",
       "\n",
       "   revenue_model_advertising_Imputed  revenue_model_licensing_Imputed  \\\n",
       "0                                0.0                              0.0   \n",
       "1                                1.0                              0.0   \n",
       "2                                1.0                              0.0   \n",
       "3                                0.0                              0.0   \n",
       "4                                0.0                              0.0   \n",
       "\n",
       "   customer_type - B-to-B-to-C_Imputed  customer_type - B-to-B_Imputed  \\\n",
       "0                                  1.0                             0.0   \n",
       "1                                  1.0                             1.0   \n",
       "2                                  0.0                             1.0   \n",
       "3                                  0.0                             1.0   \n",
       "4                                  0.0                             1.0   \n",
       "\n",
       "   customer_type - B-to-C_Imputed  customer_type - B-to-G_Imputed  \\\n",
       "0                             0.0                             0.0   \n",
       "1                             1.0                             0.0   \n",
       "2                             0.0                             0.0   \n",
       "3                             0.0                             0.0   \n",
       "4                             0.0                             1.0   \n",
       "\n",
       "   percent_increase_in_revenue  percent_increase_in_users  \n",
       "0                     9.459459                   9.782609  \n",
       "1                    43.744532                  69.230769  \n",
       "2                 25000.000000                  24.997500  \n",
       "3                   -14.446054                 -20.588235  \n",
       "4                   -49.765258                 -25.000000  \n",
       "\n",
       "[5 rows x 43 columns]"
      ],
      "text/html": "<div>\n<style scoped>\n    .dataframe tbody tr th:only-of-type {\n        vertical-align: middle;\n    }\n\n    .dataframe tbody tr th {\n        vertical-align: top;\n    }\n\n    .dataframe thead th {\n        text-align: right;\n    }\n</style>\n<table border=\"1\" class=\"dataframe\">\n  <thead>\n    <tr style=\"text-align: right;\">\n      <th></th>\n      <th>country</th>\n      <th>industry</th>\n      <th>business_stage</th>\n      <th>incorporated</th>\n      <th>incorporation_date</th>\n      <th>Number of team members</th>\n      <th>accelerator</th>\n      <th>funding at the time of application</th>\n      <th>number_employees</th>\n      <th>revenue_1month</th>\n      <th>...</th>\n      <th>revenue_model_subscription_Imputed</th>\n      <th>revenue_model_freemium_Imputed</th>\n      <th>revenue_model_advertising_Imputed</th>\n      <th>revenue_model_licensing_Imputed</th>\n      <th>customer_type - B-to-B-to-C_Imputed</th>\n      <th>customer_type - B-to-B_Imputed</th>\n      <th>customer_type - B-to-C_Imputed</th>\n      <th>customer_type - B-to-G_Imputed</th>\n      <th>percent_increase_in_revenue</th>\n      <th>percent_increase_in_users</th>\n    </tr>\n  </thead>\n  <tbody>\n    <tr>\n      <th>0</th>\n      <td>Uzbekistan</td>\n      <td>Consumer</td>\n      <td>Revenue Stage</td>\n      <td>0.0</td>\n      <td>8</td>\n      <td>4.0</td>\n      <td>1.0</td>\n      <td>0.0</td>\n      <td>1.0</td>\n      <td>110.0</td>\n      <td>...</td>\n      <td>1.0</td>\n      <td>0.0</td>\n      <td>0.0</td>\n      <td>0.0</td>\n      <td>1.0</td>\n      <td>0.0</td>\n      <td>0.0</td>\n      <td>0.0</td>\n      <td>9.459459</td>\n      <td>9.782609</td>\n    </tr>\n    <tr>\n      <th>1</th>\n      <td>Uzbekistan</td>\n      <td>Travel and Transport</td>\n      <td>Development Stage</td>\n      <td>0.0</td>\n      <td>8</td>\n      <td>4.0</td>\n      <td>0.0</td>\n      <td>30000.0</td>\n      <td>3.0</td>\n      <td>8000.0</td>\n      <td>...</td>\n      <td>1.0</td>\n      <td>0.0</td>\n      <td>1.0</td>\n      <td>0.0</td>\n      <td>1.0</td>\n      <td>1.0</td>\n      <td>1.0</td>\n      <td>0.0</td>\n      <td>43.744532</td>\n      <td>69.230769</td>\n    </tr>\n    <tr>\n      <th>2</th>\n      <td>Uzbekistan</td>\n      <td>Financial Services</td>\n      <td>Beta Testing Stage</td>\n      <td>1.0</td>\n      <td>10</td>\n      <td>1.0</td>\n      <td>1.0</td>\n      <td>0.0</td>\n      <td>2.0</td>\n      <td>0.0</td>\n      <td>...</td>\n      <td>1.0</td>\n      <td>1.0</td>\n      <td>1.0</td>\n      <td>0.0</td>\n      <td>0.0</td>\n      <td>1.0</td>\n      <td>0.0</td>\n      <td>0.0</td>\n      <td>25000.000000</td>\n      <td>24.997500</td>\n    </tr>\n    <tr>\n      <th>3</th>\n      <td>Uzbekistan</td>\n      <td>Enterprise</td>\n      <td>Revenue Stage</td>\n      <td>0.0</td>\n      <td>8</td>\n      <td>10.0</td>\n      <td>0.0</td>\n      <td>0.0</td>\n      <td>9.0</td>\n      <td>1380.0</td>\n      <td>...</td>\n      <td>1.0</td>\n      <td>0.0</td>\n      <td>0.0</td>\n      <td>0.0</td>\n      <td>0.0</td>\n      <td>1.0</td>\n      <td>0.0</td>\n      <td>0.0</td>\n      <td>-14.446054</td>\n      <td>-20.588235</td>\n    </tr>\n    <tr>\n      <th>4</th>\n      <td>Uzbekistan</td>\n      <td>HR</td>\n      <td>Revenue Stage</td>\n      <td>1.0</td>\n      <td>10</td>\n      <td>5.0</td>\n      <td>0.0</td>\n      <td>0.0</td>\n      <td>5.0</td>\n      <td>212.0</td>\n      <td>...</td>\n      <td>1.0</td>\n      <td>0.0</td>\n      <td>0.0</td>\n      <td>0.0</td>\n      <td>0.0</td>\n      <td>1.0</td>\n      <td>0.0</td>\n      <td>1.0</td>\n      <td>-49.765258</td>\n      <td>-25.000000</td>\n    </tr>\n  </tbody>\n</table>\n<p>5 rows × 43 columns</p>\n</div>"
     },
     "metadata": {},
     "execution_count": 109
    }
   ],
   "source": [
    "testdf.head()\n"
   ]
  },
  {
   "cell_type": "code",
   "execution_count": 111,
   "metadata": {},
   "outputs": [],
   "source": [
    "testdf.to_csv('cleaned data.csv', index=False)"
   ]
  },
  {
   "cell_type": "code",
   "execution_count": 2,
   "metadata": {},
   "outputs": [
    {
     "output_type": "execute_result",
     "data": {
      "text/plain": [
       "      country              industry      business_stage  incorporated  \\\n",
       "0  Uzbekistan              Consumer       Revenue Stage           0.0   \n",
       "1  Uzbekistan  Travel and Transport   Development Stage           0.0   \n",
       "2  Uzbekistan    Financial Services  Beta Testing Stage           1.0   \n",
       "3  Uzbekistan            Enterprise       Revenue Stage           0.0   \n",
       "4  Uzbekistan                    HR       Revenue Stage           1.0   \n",
       "\n",
       "   incorporation_date  Number of team members  accelerator  \\\n",
       "0                   8                     4.0          1.0   \n",
       "1                   8                     4.0          0.0   \n",
       "2                  10                     1.0          1.0   \n",
       "3                   8                    10.0          0.0   \n",
       "4                  10                     5.0          0.0   \n",
       "\n",
       "   funding at the time of application  number_employees  revenue_1month  ...  \\\n",
       "0                                 0.0               1.0           110.0  ...   \n",
       "1                             30000.0               3.0          8000.0  ...   \n",
       "2                                 0.0               2.0             0.0  ...   \n",
       "3                                 0.0               9.0          1380.0  ...   \n",
       "4                                 0.0               5.0           212.0  ...   \n",
       "\n",
       "   revenue_model_subscription_Imputed  revenue_model_freemium_Imputed  \\\n",
       "0                                 1.0                             0.0   \n",
       "1                                 1.0                             0.0   \n",
       "2                                 1.0                             1.0   \n",
       "3                                 1.0                             0.0   \n",
       "4                                 1.0                             0.0   \n",
       "\n",
       "   revenue_model_advertising_Imputed  revenue_model_licensing_Imputed  \\\n",
       "0                                0.0                              0.0   \n",
       "1                                1.0                              0.0   \n",
       "2                                1.0                              0.0   \n",
       "3                                0.0                              0.0   \n",
       "4                                0.0                              0.0   \n",
       "\n",
       "   customer_type - B-to-B-to-C_Imputed  customer_type - B-to-B_Imputed  \\\n",
       "0                                  1.0                             0.0   \n",
       "1                                  1.0                             1.0   \n",
       "2                                  0.0                             1.0   \n",
       "3                                  0.0                             1.0   \n",
       "4                                  0.0                             1.0   \n",
       "\n",
       "   customer_type - B-to-C_Imputed  customer_type - B-to-G_Imputed  \\\n",
       "0                             0.0                             0.0   \n",
       "1                             1.0                             0.0   \n",
       "2                             0.0                             0.0   \n",
       "3                             0.0                             0.0   \n",
       "4                             0.0                             1.0   \n",
       "\n",
       "   percent_increase_in_revenue  percent_increase_in_users  \n",
       "0                     9.459459                   9.782609  \n",
       "1                    43.744532                  69.230769  \n",
       "2                 25000.000000                  24.997500  \n",
       "3                   -14.446054                 -20.588235  \n",
       "4                   -49.765258                 -25.000000  \n",
       "\n",
       "[5 rows x 43 columns]"
      ],
      "text/html": "<div>\n<style scoped>\n    .dataframe tbody tr th:only-of-type {\n        vertical-align: middle;\n    }\n\n    .dataframe tbody tr th {\n        vertical-align: top;\n    }\n\n    .dataframe thead th {\n        text-align: right;\n    }\n</style>\n<table border=\"1\" class=\"dataframe\">\n  <thead>\n    <tr style=\"text-align: right;\">\n      <th></th>\n      <th>country</th>\n      <th>industry</th>\n      <th>business_stage</th>\n      <th>incorporated</th>\n      <th>incorporation_date</th>\n      <th>Number of team members</th>\n      <th>accelerator</th>\n      <th>funding at the time of application</th>\n      <th>number_employees</th>\n      <th>revenue_1month</th>\n      <th>...</th>\n      <th>revenue_model_subscription_Imputed</th>\n      <th>revenue_model_freemium_Imputed</th>\n      <th>revenue_model_advertising_Imputed</th>\n      <th>revenue_model_licensing_Imputed</th>\n      <th>customer_type - B-to-B-to-C_Imputed</th>\n      <th>customer_type - B-to-B_Imputed</th>\n      <th>customer_type - B-to-C_Imputed</th>\n      <th>customer_type - B-to-G_Imputed</th>\n      <th>percent_increase_in_revenue</th>\n      <th>percent_increase_in_users</th>\n    </tr>\n  </thead>\n  <tbody>\n    <tr>\n      <th>0</th>\n      <td>Uzbekistan</td>\n      <td>Consumer</td>\n      <td>Revenue Stage</td>\n      <td>0.0</td>\n      <td>8</td>\n      <td>4.0</td>\n      <td>1.0</td>\n      <td>0.0</td>\n      <td>1.0</td>\n      <td>110.0</td>\n      <td>...</td>\n      <td>1.0</td>\n      <td>0.0</td>\n      <td>0.0</td>\n      <td>0.0</td>\n      <td>1.0</td>\n      <td>0.0</td>\n      <td>0.0</td>\n      <td>0.0</td>\n      <td>9.459459</td>\n      <td>9.782609</td>\n    </tr>\n    <tr>\n      <th>1</th>\n      <td>Uzbekistan</td>\n      <td>Travel and Transport</td>\n      <td>Development Stage</td>\n      <td>0.0</td>\n      <td>8</td>\n      <td>4.0</td>\n      <td>0.0</td>\n      <td>30000.0</td>\n      <td>3.0</td>\n      <td>8000.0</td>\n      <td>...</td>\n      <td>1.0</td>\n      <td>0.0</td>\n      <td>1.0</td>\n      <td>0.0</td>\n      <td>1.0</td>\n      <td>1.0</td>\n      <td>1.0</td>\n      <td>0.0</td>\n      <td>43.744532</td>\n      <td>69.230769</td>\n    </tr>\n    <tr>\n      <th>2</th>\n      <td>Uzbekistan</td>\n      <td>Financial Services</td>\n      <td>Beta Testing Stage</td>\n      <td>1.0</td>\n      <td>10</td>\n      <td>1.0</td>\n      <td>1.0</td>\n      <td>0.0</td>\n      <td>2.0</td>\n      <td>0.0</td>\n      <td>...</td>\n      <td>1.0</td>\n      <td>1.0</td>\n      <td>1.0</td>\n      <td>0.0</td>\n      <td>0.0</td>\n      <td>1.0</td>\n      <td>0.0</td>\n      <td>0.0</td>\n      <td>25000.000000</td>\n      <td>24.997500</td>\n    </tr>\n    <tr>\n      <th>3</th>\n      <td>Uzbekistan</td>\n      <td>Enterprise</td>\n      <td>Revenue Stage</td>\n      <td>0.0</td>\n      <td>8</td>\n      <td>10.0</td>\n      <td>0.0</td>\n      <td>0.0</td>\n      <td>9.0</td>\n      <td>1380.0</td>\n      <td>...</td>\n      <td>1.0</td>\n      <td>0.0</td>\n      <td>0.0</td>\n      <td>0.0</td>\n      <td>0.0</td>\n      <td>1.0</td>\n      <td>0.0</td>\n      <td>0.0</td>\n      <td>-14.446054</td>\n      <td>-20.588235</td>\n    </tr>\n    <tr>\n      <th>4</th>\n      <td>Uzbekistan</td>\n      <td>HR</td>\n      <td>Revenue Stage</td>\n      <td>1.0</td>\n      <td>10</td>\n      <td>5.0</td>\n      <td>0.0</td>\n      <td>0.0</td>\n      <td>5.0</td>\n      <td>212.0</td>\n      <td>...</td>\n      <td>1.0</td>\n      <td>0.0</td>\n      <td>0.0</td>\n      <td>0.0</td>\n      <td>0.0</td>\n      <td>1.0</td>\n      <td>0.0</td>\n      <td>1.0</td>\n      <td>-49.765258</td>\n      <td>-25.000000</td>\n    </tr>\n  </tbody>\n</table>\n<p>5 rows × 43 columns</p>\n</div>"
     },
     "metadata": {},
     "execution_count": 2
    }
   ],
   "source": [
    "testdf= pd.read_csv('cleaned data.csv')\n",
    "testdf.head()"
   ]
  },
  {
   "cell_type": "code",
   "execution_count": 13,
   "metadata": {},
   "outputs": [
    {
     "output_type": "execute_result",
     "data": {
      "text/plain": [
       "Index(['country', 'industry', 'business_stage', 'incorporated',\n",
       "       'incorporation_date', 'Number of team members', 'accelerator',\n",
       "       'funding at the time of application', 'number_employees',\n",
       "       'revenue_1month', 'revenue_2month', 'revenue_3month', 'users_1month',\n",
       "       'users_2month', 'users_3month', 'paying_users_1month',\n",
       "       'paying_users_2month', 'paying_users_3month',\n",
       "       'number_transactions_1month', 'number_transactions_2month',\n",
       "       'number_transactions_3month', 'burn_rate', 'number of competitors',\n",
       "       'gender_0', 'country_0', 'gender_1', 'Total Funding', 'FUNDED',\n",
       "       'status_of_funding_STATUS', 'website_active',\n",
       "       'revenue_model_commission_Imputed', 'revenue_model_product_Imputed',\n",
       "       'revenue_model_on-demand_Imputed', 'revenue_model_subscription_Imputed',\n",
       "       'revenue_model_freemium_Imputed', 'revenue_model_advertising_Imputed',\n",
       "       'revenue_model_licensing_Imputed',\n",
       "       'customer_type - B-to-B-to-C_Imputed', 'customer_type - B-to-B_Imputed',\n",
       "       'customer_type - B-to-C_Imputed', 'customer_type - B-to-G_Imputed',\n",
       "       'percent_increase_in_revenue', 'percent_increase_in_users'],\n",
       "      dtype='object')"
      ]
     },
     "metadata": {},
     "execution_count": 13
    }
   ],
   "source": [
    "testdf.keys()"
   ]
  },
  {
   "cell_type": "code",
   "execution_count": 3,
   "metadata": {},
   "outputs": [],
   "source": [
    "testdf['raised_e04'] = testdf['Total Funding'].apply(lambda row: 1 if row>=70000 else 0) "
   ]
  },
  {
   "cell_type": "code",
   "execution_count": 4,
   "metadata": {},
   "outputs": [],
   "source": [
    "seed_data= deepcopy(testdf)"
   ]
  },
  {
   "cell_type": "code",
   "execution_count": 5,
   "metadata": {},
   "outputs": [],
   "source": [
    "y = testdf['raised_e04']\n",
    "seed_data.drop(['raised_e04'], axis=1,inplace=True)"
   ]
  },
  {
   "cell_type": "code",
   "execution_count": 6,
   "metadata": {},
   "outputs": [
    {
     "output_type": "execute_result",
     "data": {
      "text/plain": [
       "               country              industry      business_stage  \\\n",
       "0           Uzbekistan              Consumer       Revenue Stage   \n",
       "1           Uzbekistan  Travel and Transport   Development Stage   \n",
       "2           Uzbekistan    Financial Services  Beta Testing Stage   \n",
       "3           Uzbekistan            Enterprise       Revenue Stage   \n",
       "4           Uzbekistan                    HR       Revenue Stage   \n",
       "...                ...                   ...                 ...   \n",
       "4225            Canada       Agri: Agri Tech   Development Stage   \n",
       "4226  Papua New Guinea             Education       Revenue Stage   \n",
       "4227             Benin     Health / Wellness   Pre-Revenue Stage   \n",
       "4228             Samoa    Financial Services   Development Stage   \n",
       "4229           Finland                    HR       Revenue Stage   \n",
       "\n",
       "      incorporated  incorporation_date  Number of team members  accelerator  \\\n",
       "0              0.0                   8                     4.0          1.0   \n",
       "1              0.0                   8                     4.0          0.0   \n",
       "2              1.0                  10                     1.0          1.0   \n",
       "3              0.0                   8                    10.0          0.0   \n",
       "4              1.0                  10                     5.0          0.0   \n",
       "...            ...                 ...                     ...          ...   \n",
       "4225           1.0                  10                     3.0          1.0   \n",
       "4226           1.0                   8                     2.0          1.0   \n",
       "4227           0.0                   8                     5.0          1.0   \n",
       "4228           0.0                  10                     2.0          1.0   \n",
       "4229           1.0                   8                     5.0          1.0   \n",
       "\n",
       "      funding at the time of application  number_employees  revenue_1month  \\\n",
       "0                                    0.0               1.0           110.0   \n",
       "1                                30000.0               3.0          8000.0   \n",
       "2                                    0.0               2.0             0.0   \n",
       "3                                    0.0               9.0          1380.0   \n",
       "4                                    0.0               5.0           212.0   \n",
       "...                                  ...               ...             ...   \n",
       "4225                                 0.0               2.0          3167.0   \n",
       "4226                                 0.0               4.0          4307.0   \n",
       "4227                                 0.0               1.0             0.0   \n",
       "4228                                 0.0               0.0             0.0   \n",
       "4229                                 0.0               3.0          2000.0   \n",
       "\n",
       "      ...  revenue_model_subscription_Imputed  revenue_model_freemium_Imputed  \\\n",
       "0     ...                                 1.0                             0.0   \n",
       "1     ...                                 1.0                             0.0   \n",
       "2     ...                                 1.0                             1.0   \n",
       "3     ...                                 1.0                             0.0   \n",
       "4     ...                                 1.0                             0.0   \n",
       "...   ...                                 ...                             ...   \n",
       "4225  ...                                 0.0                             0.0   \n",
       "4226  ...                                 1.0                             0.0   \n",
       "4227  ...                                 1.0                             1.0   \n",
       "4228  ...                                 1.0                             0.0   \n",
       "4229  ...                                 1.0                             0.0   \n",
       "\n",
       "      revenue_model_advertising_Imputed  revenue_model_licensing_Imputed  \\\n",
       "0                                   0.0                              0.0   \n",
       "1                                   1.0                              0.0   \n",
       "2                                   1.0                              0.0   \n",
       "3                                   0.0                              0.0   \n",
       "4                                   0.0                              0.0   \n",
       "...                                 ...                              ...   \n",
       "4225                                0.0                              0.0   \n",
       "4226                                1.0                              0.0   \n",
       "4227                                1.0                              0.0   \n",
       "4228                                0.0                              0.0   \n",
       "4229                                0.0                              1.0   \n",
       "\n",
       "      customer_type - B-to-B-to-C_Imputed  customer_type - B-to-B_Imputed  \\\n",
       "0                                     1.0                             0.0   \n",
       "1                                     1.0                             1.0   \n",
       "2                                     0.0                             1.0   \n",
       "3                                     0.0                             1.0   \n",
       "4                                     0.0                             1.0   \n",
       "...                                   ...                             ...   \n",
       "4225                                  0.0                             1.0   \n",
       "4226                                  1.0                             1.0   \n",
       "4227                                  1.0                             0.0   \n",
       "4228                                  1.0                             1.0   \n",
       "4229                                  1.0                             0.0   \n",
       "\n",
       "      customer_type - B-to-C_Imputed  customer_type - B-to-G_Imputed  \\\n",
       "0                                0.0                             0.0   \n",
       "1                                1.0                             0.0   \n",
       "2                                0.0                             0.0   \n",
       "3                                0.0                             0.0   \n",
       "4                                0.0                             1.0   \n",
       "...                              ...                             ...   \n",
       "4225                             0.0                             0.0   \n",
       "4226                             1.0                             0.0   \n",
       "4227                             0.0                             0.0   \n",
       "4228                             0.0                             0.0   \n",
       "4229                             0.0                             0.0   \n",
       "\n",
       "      percent_increase_in_revenue  percent_increase_in_users  \n",
       "0                        9.459459                   9.782609  \n",
       "1                       43.744532                  69.230769  \n",
       "2                    25000.000000                  24.997500  \n",
       "3                      -14.446054                 -20.588235  \n",
       "4                      -49.765258                 -25.000000  \n",
       "...                           ...                        ...  \n",
       "4225                   233.033460                  50.000000  \n",
       "4226                   -49.988394                 -41.666667  \n",
       "4227                     0.000000                 -24.987506  \n",
       "4228                     0.000000                   0.000000  \n",
       "4229                     0.000000                 -25.000000  \n",
       "\n",
       "[4230 rows x 43 columns]"
      ],
      "text/html": "<div>\n<style scoped>\n    .dataframe tbody tr th:only-of-type {\n        vertical-align: middle;\n    }\n\n    .dataframe tbody tr th {\n        vertical-align: top;\n    }\n\n    .dataframe thead th {\n        text-align: right;\n    }\n</style>\n<table border=\"1\" class=\"dataframe\">\n  <thead>\n    <tr style=\"text-align: right;\">\n      <th></th>\n      <th>country</th>\n      <th>industry</th>\n      <th>business_stage</th>\n      <th>incorporated</th>\n      <th>incorporation_date</th>\n      <th>Number of team members</th>\n      <th>accelerator</th>\n      <th>funding at the time of application</th>\n      <th>number_employees</th>\n      <th>revenue_1month</th>\n      <th>...</th>\n      <th>revenue_model_subscription_Imputed</th>\n      <th>revenue_model_freemium_Imputed</th>\n      <th>revenue_model_advertising_Imputed</th>\n      <th>revenue_model_licensing_Imputed</th>\n      <th>customer_type - B-to-B-to-C_Imputed</th>\n      <th>customer_type - B-to-B_Imputed</th>\n      <th>customer_type - B-to-C_Imputed</th>\n      <th>customer_type - B-to-G_Imputed</th>\n      <th>percent_increase_in_revenue</th>\n      <th>percent_increase_in_users</th>\n    </tr>\n  </thead>\n  <tbody>\n    <tr>\n      <th>0</th>\n      <td>Uzbekistan</td>\n      <td>Consumer</td>\n      <td>Revenue Stage</td>\n      <td>0.0</td>\n      <td>8</td>\n      <td>4.0</td>\n      <td>1.0</td>\n      <td>0.0</td>\n      <td>1.0</td>\n      <td>110.0</td>\n      <td>...</td>\n      <td>1.0</td>\n      <td>0.0</td>\n      <td>0.0</td>\n      <td>0.0</td>\n      <td>1.0</td>\n      <td>0.0</td>\n      <td>0.0</td>\n      <td>0.0</td>\n      <td>9.459459</td>\n      <td>9.782609</td>\n    </tr>\n    <tr>\n      <th>1</th>\n      <td>Uzbekistan</td>\n      <td>Travel and Transport</td>\n      <td>Development Stage</td>\n      <td>0.0</td>\n      <td>8</td>\n      <td>4.0</td>\n      <td>0.0</td>\n      <td>30000.0</td>\n      <td>3.0</td>\n      <td>8000.0</td>\n      <td>...</td>\n      <td>1.0</td>\n      <td>0.0</td>\n      <td>1.0</td>\n      <td>0.0</td>\n      <td>1.0</td>\n      <td>1.0</td>\n      <td>1.0</td>\n      <td>0.0</td>\n      <td>43.744532</td>\n      <td>69.230769</td>\n    </tr>\n    <tr>\n      <th>2</th>\n      <td>Uzbekistan</td>\n      <td>Financial Services</td>\n      <td>Beta Testing Stage</td>\n      <td>1.0</td>\n      <td>10</td>\n      <td>1.0</td>\n      <td>1.0</td>\n      <td>0.0</td>\n      <td>2.0</td>\n      <td>0.0</td>\n      <td>...</td>\n      <td>1.0</td>\n      <td>1.0</td>\n      <td>1.0</td>\n      <td>0.0</td>\n      <td>0.0</td>\n      <td>1.0</td>\n      <td>0.0</td>\n      <td>0.0</td>\n      <td>25000.000000</td>\n      <td>24.997500</td>\n    </tr>\n    <tr>\n      <th>3</th>\n      <td>Uzbekistan</td>\n      <td>Enterprise</td>\n      <td>Revenue Stage</td>\n      <td>0.0</td>\n      <td>8</td>\n      <td>10.0</td>\n      <td>0.0</td>\n      <td>0.0</td>\n      <td>9.0</td>\n      <td>1380.0</td>\n      <td>...</td>\n      <td>1.0</td>\n      <td>0.0</td>\n      <td>0.0</td>\n      <td>0.0</td>\n      <td>0.0</td>\n      <td>1.0</td>\n      <td>0.0</td>\n      <td>0.0</td>\n      <td>-14.446054</td>\n      <td>-20.588235</td>\n    </tr>\n    <tr>\n      <th>4</th>\n      <td>Uzbekistan</td>\n      <td>HR</td>\n      <td>Revenue Stage</td>\n      <td>1.0</td>\n      <td>10</td>\n      <td>5.0</td>\n      <td>0.0</td>\n      <td>0.0</td>\n      <td>5.0</td>\n      <td>212.0</td>\n      <td>...</td>\n      <td>1.0</td>\n      <td>0.0</td>\n      <td>0.0</td>\n      <td>0.0</td>\n      <td>0.0</td>\n      <td>1.0</td>\n      <td>0.0</td>\n      <td>1.0</td>\n      <td>-49.765258</td>\n      <td>-25.000000</td>\n    </tr>\n    <tr>\n      <th>...</th>\n      <td>...</td>\n      <td>...</td>\n      <td>...</td>\n      <td>...</td>\n      <td>...</td>\n      <td>...</td>\n      <td>...</td>\n      <td>...</td>\n      <td>...</td>\n      <td>...</td>\n      <td>...</td>\n      <td>...</td>\n      <td>...</td>\n      <td>...</td>\n      <td>...</td>\n      <td>...</td>\n      <td>...</td>\n      <td>...</td>\n      <td>...</td>\n      <td>...</td>\n      <td>...</td>\n    </tr>\n    <tr>\n      <th>4225</th>\n      <td>Canada</td>\n      <td>Agri: Agri Tech</td>\n      <td>Development Stage</td>\n      <td>1.0</td>\n      <td>10</td>\n      <td>3.0</td>\n      <td>1.0</td>\n      <td>0.0</td>\n      <td>2.0</td>\n      <td>3167.0</td>\n      <td>...</td>\n      <td>0.0</td>\n      <td>0.0</td>\n      <td>0.0</td>\n      <td>0.0</td>\n      <td>0.0</td>\n      <td>1.0</td>\n      <td>0.0</td>\n      <td>0.0</td>\n      <td>233.033460</td>\n      <td>50.000000</td>\n    </tr>\n    <tr>\n      <th>4226</th>\n      <td>Papua New Guinea</td>\n      <td>Education</td>\n      <td>Revenue Stage</td>\n      <td>1.0</td>\n      <td>8</td>\n      <td>2.0</td>\n      <td>1.0</td>\n      <td>0.0</td>\n      <td>4.0</td>\n      <td>4307.0</td>\n      <td>...</td>\n      <td>1.0</td>\n      <td>0.0</td>\n      <td>1.0</td>\n      <td>0.0</td>\n      <td>1.0</td>\n      <td>1.0</td>\n      <td>1.0</td>\n      <td>0.0</td>\n      <td>-49.988394</td>\n      <td>-41.666667</td>\n    </tr>\n    <tr>\n      <th>4227</th>\n      <td>Benin</td>\n      <td>Health / Wellness</td>\n      <td>Pre-Revenue Stage</td>\n      <td>0.0</td>\n      <td>8</td>\n      <td>5.0</td>\n      <td>1.0</td>\n      <td>0.0</td>\n      <td>1.0</td>\n      <td>0.0</td>\n      <td>...</td>\n      <td>1.0</td>\n      <td>1.0</td>\n      <td>1.0</td>\n      <td>0.0</td>\n      <td>1.0</td>\n      <td>0.0</td>\n      <td>0.0</td>\n      <td>0.0</td>\n      <td>0.000000</td>\n      <td>-24.987506</td>\n    </tr>\n    <tr>\n      <th>4228</th>\n      <td>Samoa</td>\n      <td>Financial Services</td>\n      <td>Development Stage</td>\n      <td>0.0</td>\n      <td>10</td>\n      <td>2.0</td>\n      <td>1.0</td>\n      <td>0.0</td>\n      <td>0.0</td>\n      <td>0.0</td>\n      <td>...</td>\n      <td>1.0</td>\n      <td>0.0</td>\n      <td>0.0</td>\n      <td>0.0</td>\n      <td>1.0</td>\n      <td>1.0</td>\n      <td>0.0</td>\n      <td>0.0</td>\n      <td>0.000000</td>\n      <td>0.000000</td>\n    </tr>\n    <tr>\n      <th>4229</th>\n      <td>Finland</td>\n      <td>HR</td>\n      <td>Revenue Stage</td>\n      <td>1.0</td>\n      <td>8</td>\n      <td>5.0</td>\n      <td>1.0</td>\n      <td>0.0</td>\n      <td>3.0</td>\n      <td>2000.0</td>\n      <td>...</td>\n      <td>1.0</td>\n      <td>0.0</td>\n      <td>0.0</td>\n      <td>1.0</td>\n      <td>1.0</td>\n      <td>0.0</td>\n      <td>0.0</td>\n      <td>0.0</td>\n      <td>0.000000</td>\n      <td>-25.000000</td>\n    </tr>\n  </tbody>\n</table>\n<p>4230 rows × 43 columns</p>\n</div>"
     },
     "metadata": {},
     "execution_count": 6
    }
   ],
   "source": [
    "seed_data"
   ]
  },
  {
   "cell_type": "code",
   "execution_count": 7,
   "metadata": {},
   "outputs": [],
   "source": [
    "keys= pd.get_dummies(seed_data).keys()"
   ]
  },
  {
   "cell_type": "code",
   "execution_count": 8,
   "metadata": {},
   "outputs": [],
   "source": [
    "X= pd.get_dummies(seed_data)\n",
    "X= np.array(X)\n",
    "y= np.array(y)"
   ]
  },
  {
   "cell_type": "code",
   "execution_count": 9,
   "metadata": {},
   "outputs": [
    {
     "output_type": "execute_result",
     "data": {
      "text/plain": [
       "(4230, 316)"
      ]
     },
     "metadata": {},
     "execution_count": 9
    }
   ],
   "source": [
    "X.shape"
   ]
  },
  {
   "cell_type": "code",
   "execution_count": 10,
   "metadata": {},
   "outputs": [],
   "source": [
    "X_train, X_test, y_train, y_test = train_test_split(X,y, test_size=0.2, random_state=1)"
   ]
  },
  {
   "cell_type": "code",
   "execution_count": 11,
   "metadata": {},
   "outputs": [],
   "source": [
    "sc_X = MinMaxScaler()\n",
    "X_train = sc_X.fit_transform(X_train)\n",
    "X_test = sc_X.transform(X_test)"
   ]
  },
  {
   "cell_type": "code",
   "execution_count": 14,
   "metadata": {},
   "outputs": [],
   "source": [
    "model= tf.keras.Sequential()\n",
    "model.add(Dense(500, activation='relu',input_shape=(316,) ))\n",
    "#model.add(Dense(300, activation='relu'))\n",
    "model.add(Dense(1, activation='sigmoid'))\n",
    "model.compile(optimizer='adam', loss='binary_crossentropy', metrics=['AUC','accuracy'])\n"
   ]
  },
  {
   "cell_type": "code",
   "execution_count": 15,
   "metadata": {},
   "outputs": [
    {
     "output_type": "stream",
     "name": "stdout",
     "text": [
      "Epoch 1/20\n",
      "212/212 [==============================] - 3s 7ms/step - loss: 0.4889 - auc: 0.7576 - accuracy: 0.7487 - val_loss: 0.2933 - val_auc: 0.9275 - val_accuracy: 0.8522\n",
      "Epoch 2/20\n",
      "212/212 [==============================] - 1s 4ms/step - loss: 0.2912 - auc: 0.9297 - accuracy: 0.8557 - val_loss: 0.2779 - val_auc: 0.9326 - val_accuracy: 0.8558\n",
      "Epoch 3/20\n",
      "212/212 [==============================] - 1s 5ms/step - loss: 0.2499 - auc: 0.9497 - accuracy: 0.8804 - val_loss: 0.2745 - val_auc: 0.9323 - val_accuracy: 0.8605\n",
      "Epoch 4/20\n",
      "212/212 [==============================] - 1s 5ms/step - loss: 0.2213 - auc: 0.9593 - accuracy: 0.8911 - val_loss: 0.2757 - val_auc: 0.9336 - val_accuracy: 0.8582\n",
      "Epoch 5/20\n",
      "212/212 [==============================] - 1s 6ms/step - loss: 0.1949 - auc: 0.9722 - accuracy: 0.9120 - val_loss: 0.2793 - val_auc: 0.9292 - val_accuracy: 0.8475\n",
      "Epoch 6/20\n",
      "212/212 [==============================] - 1s 4ms/step - loss: 0.1689 - auc: 0.9815 - accuracy: 0.9317 - val_loss: 0.2814 - val_auc: 0.9329 - val_accuracy: 0.8475\n",
      "Epoch 7/20\n",
      "212/212 [==============================] - 1s 5ms/step - loss: 0.1435 - auc: 0.9890 - accuracy: 0.9475 - val_loss: 0.2797 - val_auc: 0.9334 - val_accuracy: 0.8712\n",
      "Epoch 8/20\n",
      "212/212 [==============================] - 1s 6ms/step - loss: 0.1197 - auc: 0.9927 - accuracy: 0.9580 - val_loss: 0.2802 - val_auc: 0.9338 - val_accuracy: 0.8652\n",
      "Epoch 9/20\n",
      "212/212 [==============================] - 1s 5ms/step - loss: 0.1016 - auc: 0.9955 - accuracy: 0.9700 - val_loss: 0.2810 - val_auc: 0.9358 - val_accuracy: 0.8570\n",
      "Epoch 10/20\n",
      "212/212 [==============================] - 1s 6ms/step - loss: 0.0858 - auc: 0.9969 - accuracy: 0.9769 - val_loss: 0.3003 - val_auc: 0.9339 - val_accuracy: 0.8629\n",
      "Epoch 11/20\n",
      "212/212 [==============================] - 1s 6ms/step - loss: 0.0745 - auc: 0.9977 - accuracy: 0.9761 - val_loss: 0.2877 - val_auc: 0.9404 - val_accuracy: 0.8652\n",
      "Epoch 12/20\n",
      "212/212 [==============================] - 1s 5ms/step - loss: 0.0609 - auc: 0.9987 - accuracy: 0.9849 - val_loss: 0.2897 - val_auc: 0.9396 - val_accuracy: 0.8794\n",
      "Epoch 13/20\n",
      "212/212 [==============================] - 1s 6ms/step - loss: 0.0554 - auc: 0.9984 - accuracy: 0.9853 - val_loss: 0.3097 - val_auc: 0.9442 - val_accuracy: 0.8783\n",
      "Epoch 14/20\n",
      "212/212 [==============================] - 1s 6ms/step - loss: 0.0482 - auc: 0.9988 - accuracy: 0.9864 - val_loss: 0.2927 - val_auc: 0.9422 - val_accuracy: 0.8723\n",
      "Epoch 15/20\n",
      "212/212 [==============================] - 1s 3ms/step - loss: 0.0412 - auc: 0.9993 - accuracy: 0.9890 - val_loss: 0.3084 - val_auc: 0.9414 - val_accuracy: 0.8759\n",
      "Epoch 16/20\n",
      "212/212 [==============================] - 1s 4ms/step - loss: 0.0381 - auc: 0.9994 - accuracy: 0.9881 - val_loss: 0.3163 - val_auc: 0.9407 - val_accuracy: 0.8700\n",
      "Epoch 17/20\n",
      "212/212 [==============================] - 1s 3ms/step - loss: 0.0325 - auc: 0.9995 - accuracy: 0.9904 - val_loss: 0.3128 - val_auc: 0.9387 - val_accuracy: 0.8664\n",
      "Epoch 18/20\n",
      "212/212 [==============================] - 1s 4ms/step - loss: 0.0343 - auc: 0.9994 - accuracy: 0.9899 - val_loss: 0.4541 - val_auc: 0.9225 - val_accuracy: 0.8522\n",
      "Epoch 19/20\n",
      "212/212 [==============================] - 1s 4ms/step - loss: 0.0354 - auc: 0.9995 - accuracy: 0.9869 - val_loss: 0.3649 - val_auc: 0.9355 - val_accuracy: 0.8641\n",
      "Epoch 20/20\n",
      "212/212 [==============================] - 1s 3ms/step - loss: 0.0341 - auc: 0.9991 - accuracy: 0.9895 - val_loss: 0.3368 - val_auc: 0.9374 - val_accuracy: 0.8641\n"
     ]
    },
    {
     "output_type": "execute_result",
     "data": {
      "text/plain": [
       "<tensorflow.python.keras.callbacks.History at 0x7f15385b9e90>"
      ]
     },
     "metadata": {},
     "execution_count": 15
    }
   ],
   "source": [
    "model.fit(X_train, y_train,validation_data=(X_test,y_test), epochs=20, batch_size=16, verbose=1)\n"
   ]
  }
 ]
}