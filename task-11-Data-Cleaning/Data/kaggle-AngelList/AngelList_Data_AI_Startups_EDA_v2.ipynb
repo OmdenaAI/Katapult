{
 "cells": [
  {
   "cell_type": "code",
   "execution_count": 1,
   "metadata": {},
   "outputs": [],
   "source": [
    "import numpy as np\n",
    "import pandas as pd\n",
    "import matplotlib.pyplot as plt\n",
    "import seaborn as sns\n",
    "%matplotlib inline"
   ]
  },
  {
   "cell_type": "code",
   "execution_count": 2,
   "metadata": {},
   "outputs": [],
   "source": [
    "df = pd.read_csv('AngelList_Data_AI_Startups_v2.csv')"
   ]
  },
  {
   "cell_type": "code",
   "execution_count": 3,
   "metadata": {},
   "outputs": [
    {
     "name": "stdout",
     "output_type": "stream",
     "text": [
      "<class 'pandas.core.frame.DataFrame'>\n",
      "RangeIndex: 497 entries, 0 to 496\n",
      "Data columns (total 16 columns):\n",
      " #   Column         Non-Null Count  Dtype  \n",
      "---  ------         --------------  -----  \n",
      " 0   Name           497 non-null    object \n",
      " 1   Profile URL    497 non-null    object \n",
      " 2   Signal         497 non-null    int64  \n",
      " 3   Location       481 non-null    object \n",
      " 4   Market         493 non-null    object \n",
      " 5   Website        496 non-null    object \n",
      " 6   Employees      479 non-null    object \n",
      " 7   Stage          274 non-null    object \n",
      " 8   Total Raised   285 non-null    float64\n",
      " 9   Joining_Month  497 non-null    object \n",
      " 10  Joining_Year   497 non-null    object \n",
      " 11  latitude       496 non-null    float64\n",
      " 12  longitude      496 non-null    float64\n",
      " 13  date_today     497 non-null    object \n",
      " 14  Age            497 non-null    int64  \n",
      " 15  Country        497 non-null    object \n",
      "dtypes: float64(3), int64(2), object(11)\n",
      "memory usage: 62.2+ KB\n"
     ]
    }
   ],
   "source": [
    "#I added the columns date_today, Age (date today - Joining Date in Number of Years) and Country to the original dataset\n",
    "df.info()"
   ]
  },
  {
   "cell_type": "code",
   "execution_count": 4,
   "metadata": {},
   "outputs": [
    {
     "data": {
      "text/plain": [
       "(497, 16)"
      ]
     },
     "execution_count": 4,
     "metadata": {},
     "output_type": "execute_result"
    }
   ],
   "source": [
    "df.shape"
   ]
  },
  {
   "cell_type": "code",
   "execution_count": 5,
   "metadata": {},
   "outputs": [
    {
     "data": {
      "text/plain": [
       "Name             497\n",
       "Profile URL      497\n",
       "Signal             5\n",
       "Location         168\n",
       "Market           199\n",
       "Website          496\n",
       "Employees          5\n",
       "Stage              5\n",
       "Total Raised     191\n",
       "Joining_Month     12\n",
       "Joining_Year       9\n",
       "latitude         165\n",
       "longitude        165\n",
       "date_today         1\n",
       "Age                9\n",
       "Country           52\n",
       "dtype: int64"
      ]
     },
     "execution_count": 5,
     "metadata": {},
     "output_type": "execute_result"
    }
   ],
   "source": [
    "df.nunique()"
   ]
  },
  {
   "cell_type": "code",
   "execution_count": 6,
   "metadata": {},
   "outputs": [
    {
     "data": {
      "text/html": [
       "<div>\n",
       "<style scoped>\n",
       "    .dataframe tbody tr th:only-of-type {\n",
       "        vertical-align: middle;\n",
       "    }\n",
       "\n",
       "    .dataframe tbody tr th {\n",
       "        vertical-align: top;\n",
       "    }\n",
       "\n",
       "    .dataframe thead th {\n",
       "        text-align: right;\n",
       "    }\n",
       "</style>\n",
       "<table border=\"1\" class=\"dataframe\">\n",
       "  <thead>\n",
       "    <tr style=\"text-align: right;\">\n",
       "      <th></th>\n",
       "      <th>Signal</th>\n",
       "      <th>Total Raised</th>\n",
       "      <th>latitude</th>\n",
       "      <th>longitude</th>\n",
       "      <th>Age</th>\n",
       "    </tr>\n",
       "  </thead>\n",
       "  <tbody>\n",
       "    <tr>\n",
       "      <th>count</th>\n",
       "      <td>497.000000</td>\n",
       "      <td>2.850000e+02</td>\n",
       "      <td>496.000000</td>\n",
       "      <td>496.000000</td>\n",
       "      <td>497.000000</td>\n",
       "    </tr>\n",
       "    <tr>\n",
       "      <th>mean</th>\n",
       "      <td>3.975855</td>\n",
       "      <td>9.556324e+06</td>\n",
       "      <td>37.348618</td>\n",
       "      <td>-53.157099</td>\n",
       "      <td>7.146881</td>\n",
       "    </tr>\n",
       "    <tr>\n",
       "      <th>std</th>\n",
       "      <td>0.884123</td>\n",
       "      <td>5.081401e+07</td>\n",
       "      <td>14.111227</td>\n",
       "      <td>73.452452</td>\n",
       "      <td>1.366563</td>\n",
       "    </tr>\n",
       "    <tr>\n",
       "      <th>min</th>\n",
       "      <td>1.000000</td>\n",
       "      <td>1.200000e+04</td>\n",
       "      <td>-37.814218</td>\n",
       "      <td>-157.855676</td>\n",
       "      <td>3.000000</td>\n",
       "    </tr>\n",
       "    <tr>\n",
       "      <th>25%</th>\n",
       "      <td>3.000000</td>\n",
       "      <td>2.500000e+05</td>\n",
       "      <td>34.220389</td>\n",
       "      <td>-122.101038</td>\n",
       "      <td>6.000000</td>\n",
       "    </tr>\n",
       "    <tr>\n",
       "      <th>50%</th>\n",
       "      <td>4.000000</td>\n",
       "      <td>1.045000e+06</td>\n",
       "      <td>37.779281</td>\n",
       "      <td>-75.560071</td>\n",
       "      <td>7.000000</td>\n",
       "    </tr>\n",
       "    <tr>\n",
       "      <th>75%</th>\n",
       "      <td>5.000000</td>\n",
       "      <td>3.900000e+06</td>\n",
       "      <td>42.782146</td>\n",
       "      <td>6.177879</td>\n",
       "      <td>8.000000</td>\n",
       "    </tr>\n",
       "    <tr>\n",
       "      <th>max</th>\n",
       "      <td>5.000000</td>\n",
       "      <td>5.839000e+08</td>\n",
       "      <td>61.066692</td>\n",
       "      <td>151.216454</td>\n",
       "      <td>11.000000</td>\n",
       "    </tr>\n",
       "  </tbody>\n",
       "</table>\n",
       "</div>"
      ],
      "text/plain": [
       "           Signal  Total Raised    latitude   longitude         Age\n",
       "count  497.000000  2.850000e+02  496.000000  496.000000  497.000000\n",
       "mean     3.975855  9.556324e+06   37.348618  -53.157099    7.146881\n",
       "std      0.884123  5.081401e+07   14.111227   73.452452    1.366563\n",
       "min      1.000000  1.200000e+04  -37.814218 -157.855676    3.000000\n",
       "25%      3.000000  2.500000e+05   34.220389 -122.101038    6.000000\n",
       "50%      4.000000  1.045000e+06   37.779281  -75.560071    7.000000\n",
       "75%      5.000000  3.900000e+06   42.782146    6.177879    8.000000\n",
       "max      5.000000  5.839000e+08   61.066692  151.216454   11.000000"
      ]
     },
     "execution_count": 6,
     "metadata": {},
     "output_type": "execute_result"
    }
   ],
   "source": [
    "df.describe()"
   ]
  },
  {
   "cell_type": "code",
   "execution_count": 7,
   "metadata": {},
   "outputs": [],
   "source": [
    "#remove outliers of df using IQR\n",
    "Q1 = 250000\n",
    "Q3 = 3900000\n",
    "IQR = Q3- Q1"
   ]
  },
  {
   "cell_type": "code",
   "execution_count": 8,
   "metadata": {},
   "outputs": [
    {
     "name": "stdout",
     "output_type": "stream",
     "text": [
      "-5225000.0 , 9375000.0\n"
     ]
    }
   ],
   "source": [
    "lower_range = Q1 - (1.5 * IQR)\n",
    "upper_range = Q3 + (1.5 * IQR)\n",
    "print(lower_range,\",\", upper_range)"
   ]
  },
  {
   "cell_type": "code",
   "execution_count": 9,
   "metadata": {},
   "outputs": [],
   "source": [
    "#df2 is identical to df except that it has removed outliers, will be used for the histogram later\n",
    "df2 = df[df['Total Raised'] <= upper_range]"
   ]
  },
  {
   "cell_type": "code",
   "execution_count": 10,
   "metadata": {},
   "outputs": [
    {
     "data": {
      "text/html": [
       "<div>\n",
       "<style scoped>\n",
       "    .dataframe tbody tr th:only-of-type {\n",
       "        vertical-align: middle;\n",
       "    }\n",
       "\n",
       "    .dataframe tbody tr th {\n",
       "        vertical-align: top;\n",
       "    }\n",
       "\n",
       "    .dataframe thead th {\n",
       "        text-align: right;\n",
       "    }\n",
       "</style>\n",
       "<table border=\"1\" class=\"dataframe\">\n",
       "  <thead>\n",
       "    <tr style=\"text-align: right;\">\n",
       "      <th></th>\n",
       "      <th>Name</th>\n",
       "      <th>Profile URL</th>\n",
       "      <th>Signal</th>\n",
       "      <th>Location</th>\n",
       "      <th>Market</th>\n",
       "      <th>Website</th>\n",
       "      <th>Employees</th>\n",
       "      <th>Stage</th>\n",
       "      <th>Total Raised</th>\n",
       "      <th>Joining_Month</th>\n",
       "      <th>Joining_Year</th>\n",
       "      <th>latitude</th>\n",
       "      <th>longitude</th>\n",
       "      <th>date_today</th>\n",
       "      <th>Age</th>\n",
       "      <th>Country</th>\n",
       "    </tr>\n",
       "  </thead>\n",
       "  <tbody>\n",
       "    <tr>\n",
       "      <th>1</th>\n",
       "      <td>Samba TV</td>\n",
       "      <td>https://angel.co/company/samba-tv</td>\n",
       "      <td>5</td>\n",
       "      <td>San Francisco</td>\n",
       "      <td>Big Data</td>\n",
       "      <td>http://www.samba.tv</td>\n",
       "      <td>201-500</td>\n",
       "      <td>Series A</td>\n",
       "      <td>8000000.0</td>\n",
       "      <td>Dec</td>\n",
       "      <td>01/01/2010</td>\n",
       "      <td>37.779281</td>\n",
       "      <td>-122.419236</td>\n",
       "      <td>03/01/2021</td>\n",
       "      <td>11</td>\n",
       "      <td>United States of America</td>\n",
       "    </tr>\n",
       "    <tr>\n",
       "      <th>2</th>\n",
       "      <td>Charity Engine</td>\n",
       "      <td>https://angel.co/company/charity-engine</td>\n",
       "      <td>5</td>\n",
       "      <td>Boston</td>\n",
       "      <td>Big Data Analytics</td>\n",
       "      <td>http://www.charityengine.com</td>\n",
       "      <td>1-10</td>\n",
       "      <td>NaN</td>\n",
       "      <td>312000.0</td>\n",
       "      <td>Oct</td>\n",
       "      <td>01/01/2010</td>\n",
       "      <td>42.360253</td>\n",
       "      <td>-71.058291</td>\n",
       "      <td>03/01/2021</td>\n",
       "      <td>11</td>\n",
       "      <td>United States of America</td>\n",
       "    </tr>\n",
       "    <tr>\n",
       "      <th>4</th>\n",
       "      <td>Clearfit</td>\n",
       "      <td>https://angel.co/company/clearfit</td>\n",
       "      <td>5</td>\n",
       "      <td>Toronto</td>\n",
       "      <td>Human Resources</td>\n",
       "      <td>http://clearfit.com</td>\n",
       "      <td>11-50</td>\n",
       "      <td>Series A</td>\n",
       "      <td>8700000.0</td>\n",
       "      <td>Sep</td>\n",
       "      <td>01/01/2011</td>\n",
       "      <td>43.653963</td>\n",
       "      <td>-79.387207</td>\n",
       "      <td>03/01/2021</td>\n",
       "      <td>10</td>\n",
       "      <td>Canada</td>\n",
       "    </tr>\n",
       "    <tr>\n",
       "      <th>5</th>\n",
       "      <td>Kimera Systems</td>\n",
       "      <td>https://angel.co/company/kimera-systems</td>\n",
       "      <td>3</td>\n",
       "      <td>Portland</td>\n",
       "      <td>Internet of Things</td>\n",
       "      <td>http://www.kimerasystems.com</td>\n",
       "      <td>1-10</td>\n",
       "      <td>NaN</td>\n",
       "      <td>100000.0</td>\n",
       "      <td>Dec</td>\n",
       "      <td>01/01/2011</td>\n",
       "      <td>45.520247</td>\n",
       "      <td>-122.674195</td>\n",
       "      <td>03/01/2021</td>\n",
       "      <td>10</td>\n",
       "      <td>United States of America</td>\n",
       "    </tr>\n",
       "    <tr>\n",
       "      <th>7</th>\n",
       "      <td>Pick1</td>\n",
       "      <td>https://angel.co/company/pick1</td>\n",
       "      <td>5</td>\n",
       "      <td>Rome</td>\n",
       "      <td>Market Research</td>\n",
       "      <td>http://www.pick1.com</td>\n",
       "      <td>11-50</td>\n",
       "      <td>Acquired</td>\n",
       "      <td>1650000.0</td>\n",
       "      <td>Feb</td>\n",
       "      <td>01/01/2011</td>\n",
       "      <td>41.894802</td>\n",
       "      <td>12.485338</td>\n",
       "      <td>03/01/2021</td>\n",
       "      <td>10</td>\n",
       "      <td>Italy</td>\n",
       "    </tr>\n",
       "    <tr>\n",
       "      <th>...</th>\n",
       "      <td>...</td>\n",
       "      <td>...</td>\n",
       "      <td>...</td>\n",
       "      <td>...</td>\n",
       "      <td>...</td>\n",
       "      <td>...</td>\n",
       "      <td>...</td>\n",
       "      <td>...</td>\n",
       "      <td>...</td>\n",
       "      <td>...</td>\n",
       "      <td>...</td>\n",
       "      <td>...</td>\n",
       "      <td>...</td>\n",
       "      <td>...</td>\n",
       "      <td>...</td>\n",
       "      <td>...</td>\n",
       "    </tr>\n",
       "    <tr>\n",
       "      <th>488</th>\n",
       "      <td>IDVigil</td>\n",
       "      <td>https://angel.co/company/idvigil</td>\n",
       "      <td>4</td>\n",
       "      <td>Agoura Hills</td>\n",
       "      <td>Data Visualization</td>\n",
       "      <td>http://idvigil.com</td>\n",
       "      <td>1-10</td>\n",
       "      <td>NaN</td>\n",
       "      <td>100000.0</td>\n",
       "      <td>Jan</td>\n",
       "      <td>01/01/2016</td>\n",
       "      <td>34.147910</td>\n",
       "      <td>-118.765704</td>\n",
       "      <td>03/01/2021</td>\n",
       "      <td>5</td>\n",
       "      <td>United States of America</td>\n",
       "    </tr>\n",
       "    <tr>\n",
       "      <th>489</th>\n",
       "      <td>Connection Labs</td>\n",
       "      <td>https://angel.co/company/peper</td>\n",
       "      <td>4</td>\n",
       "      <td>Taipei</td>\n",
       "      <td>China Internet</td>\n",
       "      <td>http://www.cnct.co</td>\n",
       "      <td>11-50</td>\n",
       "      <td>Seed</td>\n",
       "      <td>400000.0</td>\n",
       "      <td>Jan</td>\n",
       "      <td>01/01/2016</td>\n",
       "      <td>25.037520</td>\n",
       "      <td>121.563680</td>\n",
       "      <td>03/01/2021</td>\n",
       "      <td>5</td>\n",
       "      <td>Taiwan</td>\n",
       "    </tr>\n",
       "    <tr>\n",
       "      <th>490</th>\n",
       "      <td>Datasnap.io</td>\n",
       "      <td>https://angel.co/company/datasnap-io</td>\n",
       "      <td>4</td>\n",
       "      <td>San Francisco</td>\n",
       "      <td>Retail Technology</td>\n",
       "      <td>http://www.datasnap.io</td>\n",
       "      <td>NaN</td>\n",
       "      <td>Seed</td>\n",
       "      <td>1300000.0</td>\n",
       "      <td>Aug</td>\n",
       "      <td>01/01/2017</td>\n",
       "      <td>37.779281</td>\n",
       "      <td>-122.419236</td>\n",
       "      <td>03/01/2021</td>\n",
       "      <td>4</td>\n",
       "      <td>United States of America</td>\n",
       "    </tr>\n",
       "    <tr>\n",
       "      <th>494</th>\n",
       "      <td>Quarrio</td>\n",
       "      <td>https://angel.co/company/quarrio</td>\n",
       "      <td>3</td>\n",
       "      <td>Berkeley</td>\n",
       "      <td>Big Data Analytics</td>\n",
       "      <td>http://www.quarrio.com</td>\n",
       "      <td>1-10</td>\n",
       "      <td>NaN</td>\n",
       "      <td>2100000.0</td>\n",
       "      <td>Aug</td>\n",
       "      <td>01/01/2017</td>\n",
       "      <td>37.870839</td>\n",
       "      <td>-122.272864</td>\n",
       "      <td>03/01/2021</td>\n",
       "      <td>4</td>\n",
       "      <td>United States of America</td>\n",
       "    </tr>\n",
       "    <tr>\n",
       "      <th>496</th>\n",
       "      <td>N&amp;C, Inc</td>\n",
       "      <td>https://angel.co/company/n-c-inc</td>\n",
       "      <td>3</td>\n",
       "      <td>Baltimore</td>\n",
       "      <td>Government Innovation</td>\n",
       "      <td>http://www.Regendus.com</td>\n",
       "      <td>1-10</td>\n",
       "      <td>NaN</td>\n",
       "      <td>684000.0</td>\n",
       "      <td>Feb</td>\n",
       "      <td>01/01/2018</td>\n",
       "      <td>39.290882</td>\n",
       "      <td>-76.610759</td>\n",
       "      <td>03/01/2021</td>\n",
       "      <td>3</td>\n",
       "      <td>United States of America</td>\n",
       "    </tr>\n",
       "  </tbody>\n",
       "</table>\n",
       "<p>245 rows × 16 columns</p>\n",
       "</div>"
      ],
      "text/plain": [
       "                Name                              Profile URL  Signal  \\\n",
       "1           Samba TV        https://angel.co/company/samba-tv       5   \n",
       "2     Charity Engine  https://angel.co/company/charity-engine       5   \n",
       "4           Clearfit        https://angel.co/company/clearfit       5   \n",
       "5     Kimera Systems  https://angel.co/company/kimera-systems       3   \n",
       "7              Pick1           https://angel.co/company/pick1       5   \n",
       "..               ...                                      ...     ...   \n",
       "488          IDVigil         https://angel.co/company/idvigil       4   \n",
       "489  Connection Labs           https://angel.co/company/peper       4   \n",
       "490      Datasnap.io     https://angel.co/company/datasnap-io       4   \n",
       "494         Quarrio          https://angel.co/company/quarrio       3   \n",
       "496        N&C, Inc          https://angel.co/company/n-c-inc       3   \n",
       "\n",
       "          Location                 Market                       Website  \\\n",
       "1    San Francisco               Big Data           http://www.samba.tv   \n",
       "2           Boston     Big Data Analytics  http://www.charityengine.com   \n",
       "4          Toronto        Human Resources           http://clearfit.com   \n",
       "5         Portland     Internet of Things  http://www.kimerasystems.com   \n",
       "7             Rome        Market Research          http://www.pick1.com   \n",
       "..             ...                    ...                           ...   \n",
       "488   Agoura Hills     Data Visualization            http://idvigil.com   \n",
       "489         Taipei         China Internet            http://www.cnct.co   \n",
       "490  San Francisco      Retail Technology        http://www.datasnap.io   \n",
       "494       Berkeley     Big Data Analytics        http://www.quarrio.com   \n",
       "496      Baltimore  Government Innovation       http://www.Regendus.com   \n",
       "\n",
       "    Employees     Stage  Total Raised Joining_Month Joining_Year   latitude  \\\n",
       "1     201-500  Series A     8000000.0          Dec    01/01/2010  37.779281   \n",
       "2        1-10       NaN      312000.0          Oct    01/01/2010  42.360253   \n",
       "4       11-50  Series A     8700000.0          Sep    01/01/2011  43.653963   \n",
       "5        1-10       NaN      100000.0          Dec    01/01/2011  45.520247   \n",
       "7       11-50  Acquired     1650000.0          Feb    01/01/2011  41.894802   \n",
       "..        ...       ...           ...           ...          ...        ...   \n",
       "488      1-10       NaN      100000.0          Jan    01/01/2016  34.147910   \n",
       "489     11-50      Seed      400000.0          Jan    01/01/2016  25.037520   \n",
       "490       NaN      Seed     1300000.0          Aug    01/01/2017  37.779281   \n",
       "494      1-10       NaN     2100000.0          Aug    01/01/2017  37.870839   \n",
       "496      1-10       NaN      684000.0          Feb    01/01/2018  39.290882   \n",
       "\n",
       "      longitude  date_today  Age                   Country  \n",
       "1   -122.419236  03/01/2021   11  United States of America  \n",
       "2    -71.058291  03/01/2021   11  United States of America  \n",
       "4    -79.387207  03/01/2021   10                    Canada  \n",
       "5   -122.674195  03/01/2021   10  United States of America  \n",
       "7     12.485338  03/01/2021   10                     Italy  \n",
       "..          ...         ...  ...                       ...  \n",
       "488 -118.765704  03/01/2021    5  United States of America  \n",
       "489  121.563680  03/01/2021    5                    Taiwan  \n",
       "490 -122.419236  03/01/2021    4  United States of America  \n",
       "494 -122.272864  03/01/2021    4  United States of America  \n",
       "496  -76.610759  03/01/2021    3  United States of America  \n",
       "\n",
       "[245 rows x 16 columns]"
      ]
     },
     "execution_count": 10,
     "metadata": {},
     "output_type": "execute_result"
    }
   ],
   "source": [
    "df2"
   ]
  },
  {
   "cell_type": "code",
   "execution_count": 11,
   "metadata": {},
   "outputs": [
    {
     "data": {
      "text/html": [
       "<div>\n",
       "<style scoped>\n",
       "    .dataframe tbody tr th:only-of-type {\n",
       "        vertical-align: middle;\n",
       "    }\n",
       "\n",
       "    .dataframe tbody tr th {\n",
       "        vertical-align: top;\n",
       "    }\n",
       "\n",
       "    .dataframe thead th {\n",
       "        text-align: right;\n",
       "    }\n",
       "</style>\n",
       "<table border=\"1\" class=\"dataframe\">\n",
       "  <thead>\n",
       "    <tr style=\"text-align: right;\">\n",
       "      <th></th>\n",
       "      <th>Signal</th>\n",
       "      <th>Total Raised</th>\n",
       "      <th>latitude</th>\n",
       "      <th>longitude</th>\n",
       "      <th>Age</th>\n",
       "    </tr>\n",
       "  </thead>\n",
       "  <tbody>\n",
       "    <tr>\n",
       "      <th>count</th>\n",
       "      <td>245.000000</td>\n",
       "      <td>2.450000e+02</td>\n",
       "      <td>244.000000</td>\n",
       "      <td>244.000000</td>\n",
       "      <td>245.000000</td>\n",
       "    </tr>\n",
       "    <tr>\n",
       "      <th>mean</th>\n",
       "      <td>4.085714</td>\n",
       "      <td>1.603170e+06</td>\n",
       "      <td>38.137065</td>\n",
       "      <td>-51.365216</td>\n",
       "      <td>7.330612</td>\n",
       "    </tr>\n",
       "    <tr>\n",
       "      <th>std</th>\n",
       "      <td>0.812807</td>\n",
       "      <td>2.045635e+06</td>\n",
       "      <td>13.699882</td>\n",
       "      <td>72.121701</td>\n",
       "      <td>1.318563</td>\n",
       "    </tr>\n",
       "    <tr>\n",
       "      <th>min</th>\n",
       "      <td>1.000000</td>\n",
       "      <td>1.200000e+04</td>\n",
       "      <td>-37.814218</td>\n",
       "      <td>-157.855676</td>\n",
       "      <td>3.000000</td>\n",
       "    </tr>\n",
       "    <tr>\n",
       "      <th>25%</th>\n",
       "      <td>3.000000</td>\n",
       "      <td>2.000000e+05</td>\n",
       "      <td>35.207571</td>\n",
       "      <td>-121.990097</td>\n",
       "      <td>7.000000</td>\n",
       "    </tr>\n",
       "    <tr>\n",
       "      <th>50%</th>\n",
       "      <td>4.000000</td>\n",
       "      <td>6.840000e+05</td>\n",
       "      <td>37.779281</td>\n",
       "      <td>-74.065148</td>\n",
       "      <td>7.000000</td>\n",
       "    </tr>\n",
       "    <tr>\n",
       "      <th>75%</th>\n",
       "      <td>5.000000</td>\n",
       "      <td>2.250000e+06</td>\n",
       "      <td>43.653963</td>\n",
       "      <td>3.098075</td>\n",
       "      <td>8.000000</td>\n",
       "    </tr>\n",
       "    <tr>\n",
       "      <th>max</th>\n",
       "      <td>5.000000</td>\n",
       "      <td>9.100000e+06</td>\n",
       "      <td>59.938732</td>\n",
       "      <td>151.216454</td>\n",
       "      <td>11.000000</td>\n",
       "    </tr>\n",
       "  </tbody>\n",
       "</table>\n",
       "</div>"
      ],
      "text/plain": [
       "           Signal  Total Raised    latitude   longitude         Age\n",
       "count  245.000000  2.450000e+02  244.000000  244.000000  245.000000\n",
       "mean     4.085714  1.603170e+06   38.137065  -51.365216    7.330612\n",
       "std      0.812807  2.045635e+06   13.699882   72.121701    1.318563\n",
       "min      1.000000  1.200000e+04  -37.814218 -157.855676    3.000000\n",
       "25%      3.000000  2.000000e+05   35.207571 -121.990097    7.000000\n",
       "50%      4.000000  6.840000e+05   37.779281  -74.065148    7.000000\n",
       "75%      5.000000  2.250000e+06   43.653963    3.098075    8.000000\n",
       "max      5.000000  9.100000e+06   59.938732  151.216454   11.000000"
      ]
     },
     "execution_count": 11,
     "metadata": {},
     "output_type": "execute_result"
    }
   ],
   "source": [
    "df2.describe()"
   ]
  },
  {
   "cell_type": "markdown",
   "metadata": {},
   "source": [
    "## Distribution Plot for Total Raised Funds"
   ]
  },
  {
   "cell_type": "code",
   "execution_count": 12,
   "metadata": {},
   "outputs": [
    {
     "data": {
      "image/png": "[encoded data removed]",
      "text/plain": [
       "<Figure size 432x288 with 1 Axes>"
      ]
     },
     "metadata": {
      "needs_background": "light"
     },
     "output_type": "display_data"
    }
   ],
   "source": [
    "#Total Raised Funds - Histogram\n",
    "sns.distplot(df2['Total Raised'],kde=False,axlabel='Total Raised ($)').set_title('Total Raised Funds - Histogram')\n",
    "plt.ticklabel_format(style='plain', axis='x')"
   ]
  },
  {
   "cell_type": "markdown",
   "metadata": {},
   "source": [
    "<b>Mean Value for Total Raised Plots = $1.6M </b>\n",
    "\n",
    "Min: $12,000\n",
    "    \n",
    "Max: $9.1M [583.9M if including outliers]\n",
    "\n",
    "The data is very wide as it is only shows Total Raised Funds and not Funds Raised per Round (which would have been more helpful)"
   ]
  },
  {
   "cell_type": "code",
   "execution_count": 13,
   "metadata": {},
   "outputs": [
    {
     "data": {
      "text/plain": [
       "<matplotlib.axes._subplots.AxesSubplot at 0x24ee8d06fa0>"
      ]
     },
     "execution_count": 13,
     "metadata": {},
     "output_type": "execute_result"
    },
    {
     "data": {
      "image/png": "[encoded data removed]",
      "text/plain": [
       "<Figure size 432x288 with 1 Axes>"
      ]
     },
     "metadata": {
      "needs_background": "light"
     },
     "output_type": "display_data"
    }
   ],
   "source": [
    "#Total Raised Funds Boxplot\n",
    "sns.boxplot(df2['Total Raised'])"
   ]
  },
  {
   "cell_type": "markdown",
   "metadata": {},
   "source": [
    "## Countplot for Startups per Stage"
   ]
  },
  {
   "cell_type": "code",
   "execution_count": 14,
   "metadata": {},
   "outputs": [
    {
     "data": {
      "text/plain": [
       "<matplotlib.axes._subplots.AxesSubplot at 0x24ee8d7e0d0>"
      ]
     },
     "execution_count": 14,
     "metadata": {},
     "output_type": "execute_result"
    },
    {
     "data": {
      "image/png": "[encoded data removed]",
      "text/plain": [
       "<Figure size 432x288 with 1 Axes>"
      ]
     },
     "metadata": {
      "needs_background": "light"
     },
     "output_type": "display_data"
    }
   ],
   "source": [
    "#Countplot for Stage\n",
    "sns.countplot(df['Stage'],order=df['Stage'].value_counts().index)"
   ]
  },
  {
   "cell_type": "code",
   "execution_count": 15,
   "metadata": {},
   "outputs": [
    {
     "data": {
      "image/png": "[encoded data removed]",
      "text/plain": [
       "<Figure size 1440x720 with 1 Axes>"
      ]
     },
     "metadata": {},
     "output_type": "display_data"
    }
   ],
   "source": [
    "import matplotlib.pyplot as plt\n",
    "\n",
    "labels = ['Seed', 'Acquired', 'Series A', '\\nSeries C', 'Series B']\n",
    "sizes = [179,43,37,8,7]\n",
    "colors = ['lightcoral', 'gold', 'skyblue','lightcyan','thistle']\n",
    "\n",
    "fig1, ax1 = plt.subplots(figsize=(20,10))\n",
    "ax1.pie(sizes, colors=colors, labels=labels, autopct='%1.0f%%', textprops={'fontsize': 18,'fontname':'Century Gothic','fontweight':'bold'},\n",
    "        shadow=False, startangle=90)\n",
    "ax1.axis('equal')  # Equal aspect ratio ensures that pie is drawn as a circle.\n",
    "plt.title(\"# of Startups per Stage\\n\", fontsize=24, color='darkblue', fontname='Century Gothic', fontweight='bold') \n",
    "plt.show()"
   ]
  },
  {
   "cell_type": "markdown",
   "metadata": {},
   "source": [
    "<b> A substantial amount of the startups (65%) in this dataset (Angel List Startups) are at the seed stage. </b>"
   ]
  },
  {
   "cell_type": "markdown",
   "metadata": {},
   "source": [
    "## Countplot for Employee Count"
   ]
  },
  {
   "cell_type": "code",
   "execution_count": 16,
   "metadata": {},
   "outputs": [
    {
     "data": {
      "text/plain": [
       "<matplotlib.axes._subplots.AxesSubplot at 0x24ee8de29a0>"
      ]
     },
     "execution_count": 16,
     "metadata": {},
     "output_type": "execute_result"
    },
    {
     "data": {
      "image/png": "[encoded data removed]",
      "text/plain": [
       "<Figure size 432x288 with 1 Axes>"
      ]
     },
     "metadata": {
      "needs_background": "light"
     },
     "output_type": "display_data"
    }
   ],
   "source": [
    "#Countplot for Employee Count\n",
    "sns.countplot(df['Employees'],order=df['Employees'].value_counts().index)"
   ]
  },
  {
   "cell_type": "code",
   "execution_count": 17,
   "metadata": {},
   "outputs": [
    {
     "data": {
      "image/png": "[encoded data removed]",
      "text/plain": [
       "<Figure size 1440x720 with 1 Axes>"
      ]
     },
     "metadata": {},
     "output_type": "display_data"
    }
   ],
   "source": [
    "labels = ['1-10', '11-50', '\\n\\n\\n51-200', '\\n\\n201-500', '501-1000']\n",
    "sizes = [278,170,26,4,1]\n",
    "colors = ['lightcoral', 'gold', 'skyblue','lightcyan','thistle']\n",
    "\n",
    "fig1, ax1 = plt.subplots(figsize=(20,10))\n",
    "ax1.pie(sizes, colors=colors, labels=labels, autopct='%1.0f%%', textprops={'fontsize': 16,'fontname':'Century Gothic','fontweight':'bold'},\n",
    "        shadow=False, startangle=90)\n",
    "ax1.axis('equal')  # Equal aspect ratio ensures that pie is drawn as a circle.\n",
    "plt.title(\"# of Startups per Employee Count\\n\", fontsize=24, color='darkblue', fontname='Century Gothic', fontweight='bold') \n",
    "plt.show()"
   ]
  },
  {
   "cell_type": "markdown",
   "metadata": {},
   "source": [
    "<b> 93% of Startups in this dataset have 50 employees or below. </b>"
   ]
  },
  {
   "cell_type": "markdown",
   "metadata": {},
   "source": [
    "## Most \\# of Startups Per Country"
   ]
  },
  {
   "cell_type": "code",
   "execution_count": 18,
   "metadata": {},
   "outputs": [],
   "source": [
    "df3 = pd.DataFrame(df['Country'].value_counts())\n",
    "df3.reset_index(inplace=True)\n",
    "df3.columns = ['Country','Startup_Count']"
   ]
  },
  {
   "cell_type": "code",
   "execution_count": 19,
   "metadata": {},
   "outputs": [
    {
     "data": {
      "text/html": [
       "<div>\n",
       "<style scoped>\n",
       "    .dataframe tbody tr th:only-of-type {\n",
       "        vertical-align: middle;\n",
       "    }\n",
       "\n",
       "    .dataframe tbody tr th {\n",
       "        vertical-align: top;\n",
       "    }\n",
       "\n",
       "    .dataframe thead th {\n",
       "        text-align: right;\n",
       "    }\n",
       "</style>\n",
       "<table border=\"1\" class=\"dataframe\">\n",
       "  <thead>\n",
       "    <tr style=\"text-align: right;\">\n",
       "      <th></th>\n",
       "      <th>Country</th>\n",
       "      <th>Startup_Count</th>\n",
       "    </tr>\n",
       "  </thead>\n",
       "  <tbody>\n",
       "    <tr>\n",
       "      <th>0</th>\n",
       "      <td>United States of America</td>\n",
       "      <td>288</td>\n",
       "    </tr>\n",
       "    <tr>\n",
       "      <th>1</th>\n",
       "      <td>England</td>\n",
       "      <td>26</td>\n",
       "    </tr>\n",
       "    <tr>\n",
       "      <th>2</th>\n",
       "      <td>Germany</td>\n",
       "      <td>21</td>\n",
       "    </tr>\n",
       "    <tr>\n",
       "      <th>3</th>\n",
       "      <td>India</td>\n",
       "      <td>20</td>\n",
       "    </tr>\n",
       "    <tr>\n",
       "      <th>4</th>\n",
       "      <td>Canada</td>\n",
       "      <td>20</td>\n",
       "    </tr>\n",
       "    <tr>\n",
       "      <th>5</th>\n",
       "      <td>Afghanistan</td>\n",
       "      <td>16</td>\n",
       "    </tr>\n",
       "    <tr>\n",
       "      <th>6</th>\n",
       "      <td>France</td>\n",
       "      <td>11</td>\n",
       "    </tr>\n",
       "    <tr>\n",
       "      <th>7</th>\n",
       "      <td>Israel</td>\n",
       "      <td>8</td>\n",
       "    </tr>\n",
       "    <tr>\n",
       "      <th>8</th>\n",
       "      <td>Italy</td>\n",
       "      <td>8</td>\n",
       "    </tr>\n",
       "    <tr>\n",
       "      <th>9</th>\n",
       "      <td>Singapore</td>\n",
       "      <td>5</td>\n",
       "    </tr>\n",
       "    <tr>\n",
       "      <th>10</th>\n",
       "      <td>Australia</td>\n",
       "      <td>5</td>\n",
       "    </tr>\n",
       "    <tr>\n",
       "      <th>11</th>\n",
       "      <td>Spain</td>\n",
       "      <td>4</td>\n",
       "    </tr>\n",
       "    <tr>\n",
       "      <th>12</th>\n",
       "      <td>Bulgaria</td>\n",
       "      <td>4</td>\n",
       "    </tr>\n",
       "    <tr>\n",
       "      <th>13</th>\n",
       "      <td>Portugal</td>\n",
       "      <td>4</td>\n",
       "    </tr>\n",
       "    <tr>\n",
       "      <th>14</th>\n",
       "      <td>Brazil</td>\n",
       "      <td>3</td>\n",
       "    </tr>\n",
       "    <tr>\n",
       "      <th>15</th>\n",
       "      <td>Netherlands</td>\n",
       "      <td>3</td>\n",
       "    </tr>\n",
       "    <tr>\n",
       "      <th>16</th>\n",
       "      <td>Mexico</td>\n",
       "      <td>3</td>\n",
       "    </tr>\n",
       "    <tr>\n",
       "      <th>17</th>\n",
       "      <td>Taiwan</td>\n",
       "      <td>3</td>\n",
       "    </tr>\n",
       "    <tr>\n",
       "      <th>18</th>\n",
       "      <td>Austria</td>\n",
       "      <td>2</td>\n",
       "    </tr>\n",
       "    <tr>\n",
       "      <th>19</th>\n",
       "      <td>Sweden</td>\n",
       "      <td>2</td>\n",
       "    </tr>\n",
       "    <tr>\n",
       "      <th>20</th>\n",
       "      <td>Switzerland</td>\n",
       "      <td>2</td>\n",
       "    </tr>\n",
       "    <tr>\n",
       "      <th>21</th>\n",
       "      <td>Ukraine</td>\n",
       "      <td>2</td>\n",
       "    </tr>\n",
       "    <tr>\n",
       "      <th>22</th>\n",
       "      <td>Denmark</td>\n",
       "      <td>2</td>\n",
       "    </tr>\n",
       "    <tr>\n",
       "      <th>23</th>\n",
       "      <td>Colombia</td>\n",
       "      <td>2</td>\n",
       "    </tr>\n",
       "    <tr>\n",
       "      <th>24</th>\n",
       "      <td>Hong Kong</td>\n",
       "      <td>2</td>\n",
       "    </tr>\n",
       "    <tr>\n",
       "      <th>25</th>\n",
       "      <td>Finland</td>\n",
       "      <td>2</td>\n",
       "    </tr>\n",
       "    <tr>\n",
       "      <th>26</th>\n",
       "      <td>Russia</td>\n",
       "      <td>2</td>\n",
       "    </tr>\n",
       "    <tr>\n",
       "      <th>27</th>\n",
       "      <td>Japan</td>\n",
       "      <td>2</td>\n",
       "    </tr>\n",
       "    <tr>\n",
       "      <th>28</th>\n",
       "      <td>Estonia</td>\n",
       "      <td>2</td>\n",
       "    </tr>\n",
       "    <tr>\n",
       "      <th>29</th>\n",
       "      <td>Slovenia</td>\n",
       "      <td>1</td>\n",
       "    </tr>\n",
       "    <tr>\n",
       "      <th>30</th>\n",
       "      <td>United Arab Emirates</td>\n",
       "      <td>1</td>\n",
       "    </tr>\n",
       "    <tr>\n",
       "      <th>31</th>\n",
       "      <td>Philippines</td>\n",
       "      <td>1</td>\n",
       "    </tr>\n",
       "    <tr>\n",
       "      <th>32</th>\n",
       "      <td>Chile</td>\n",
       "      <td>1</td>\n",
       "    </tr>\n",
       "    <tr>\n",
       "      <th>33</th>\n",
       "      <td>Iran</td>\n",
       "      <td>1</td>\n",
       "    </tr>\n",
       "    <tr>\n",
       "      <th>34</th>\n",
       "      <td>Slovakia</td>\n",
       "      <td>1</td>\n",
       "    </tr>\n",
       "    <tr>\n",
       "      <th>35</th>\n",
       "      <td>Poland</td>\n",
       "      <td>1</td>\n",
       "    </tr>\n",
       "    <tr>\n",
       "      <th>36</th>\n",
       "      <td>Pakistan</td>\n",
       "      <td>1</td>\n",
       "    </tr>\n",
       "    <tr>\n",
       "      <th>37</th>\n",
       "      <td>Belgium</td>\n",
       "      <td>1</td>\n",
       "    </tr>\n",
       "    <tr>\n",
       "      <th>38</th>\n",
       "      <td>Kenya</td>\n",
       "      <td>1</td>\n",
       "    </tr>\n",
       "    <tr>\n",
       "      <th>39</th>\n",
       "      <td>Croatia</td>\n",
       "      <td>1</td>\n",
       "    </tr>\n",
       "    <tr>\n",
       "      <th>40</th>\n",
       "      <td>Norway</td>\n",
       "      <td>1</td>\n",
       "    </tr>\n",
       "    <tr>\n",
       "      <th>41</th>\n",
       "      <td>Luxembourg</td>\n",
       "      <td>1</td>\n",
       "    </tr>\n",
       "    <tr>\n",
       "      <th>42</th>\n",
       "      <td>Scotland</td>\n",
       "      <td>1</td>\n",
       "    </tr>\n",
       "    <tr>\n",
       "      <th>43</th>\n",
       "      <td>Egypt</td>\n",
       "      <td>1</td>\n",
       "    </tr>\n",
       "    <tr>\n",
       "      <th>44</th>\n",
       "      <td>Ireland</td>\n",
       "      <td>1</td>\n",
       "    </tr>\n",
       "    <tr>\n",
       "      <th>45</th>\n",
       "      <td>0</td>\n",
       "      <td>1</td>\n",
       "    </tr>\n",
       "    <tr>\n",
       "      <th>46</th>\n",
       "      <td>Turkey</td>\n",
       "      <td>1</td>\n",
       "    </tr>\n",
       "    <tr>\n",
       "      <th>47</th>\n",
       "      <td>South Africa</td>\n",
       "      <td>1</td>\n",
       "    </tr>\n",
       "    <tr>\n",
       "      <th>48</th>\n",
       "      <td>Argentina</td>\n",
       "      <td>1</td>\n",
       "    </tr>\n",
       "    <tr>\n",
       "      <th>49</th>\n",
       "      <td>Jordan</td>\n",
       "      <td>1</td>\n",
       "    </tr>\n",
       "    <tr>\n",
       "      <th>50</th>\n",
       "      <td>Czech Republic</td>\n",
       "      <td>1</td>\n",
       "    </tr>\n",
       "    <tr>\n",
       "      <th>51</th>\n",
       "      <td>Hungary</td>\n",
       "      <td>1</td>\n",
       "    </tr>\n",
       "  </tbody>\n",
       "</table>\n",
       "</div>"
      ],
      "text/plain": [
       "                     Country  Startup_Count\n",
       "0   United States of America            288\n",
       "1                    England             26\n",
       "2                    Germany             21\n",
       "3                      India             20\n",
       "4                     Canada             20\n",
       "5                Afghanistan             16\n",
       "6                     France             11\n",
       "7                     Israel              8\n",
       "8                      Italy              8\n",
       "9                  Singapore              5\n",
       "10                 Australia              5\n",
       "11                     Spain              4\n",
       "12                  Bulgaria              4\n",
       "13                  Portugal              4\n",
       "14                    Brazil              3\n",
       "15               Netherlands              3\n",
       "16                    Mexico              3\n",
       "17                    Taiwan              3\n",
       "18                   Austria              2\n",
       "19                    Sweden              2\n",
       "20               Switzerland              2\n",
       "21                   Ukraine              2\n",
       "22                   Denmark              2\n",
       "23                  Colombia              2\n",
       "24                 Hong Kong              2\n",
       "25                   Finland              2\n",
       "26                    Russia              2\n",
       "27                     Japan              2\n",
       "28                   Estonia              2\n",
       "29                  Slovenia              1\n",
       "30      United Arab Emirates              1\n",
       "31               Philippines              1\n",
       "32                     Chile              1\n",
       "33                      Iran              1\n",
       "34                  Slovakia              1\n",
       "35                    Poland              1\n",
       "36                  Pakistan              1\n",
       "37                   Belgium              1\n",
       "38                     Kenya              1\n",
       "39                   Croatia              1\n",
       "40                    Norway              1\n",
       "41                Luxembourg              1\n",
       "42                  Scotland              1\n",
       "43                     Egypt              1\n",
       "44                   Ireland              1\n",
       "45                         0              1\n",
       "46                    Turkey              1\n",
       "47              South Africa              1\n",
       "48                 Argentina              1\n",
       "49                    Jordan              1\n",
       "50            Czech Republic              1\n",
       "51                   Hungary              1"
      ]
     },
     "execution_count": 19,
     "metadata": {},
     "output_type": "execute_result"
    }
   ],
   "source": [
    "#Most # of Startups per Country\n",
    "#Note that Afghanistan data may not accurately represent the true location of these startups.\n",
    "#The Longitude and Latitude data given for the 16 Startups were identical - it is possible they were placeholders)\n",
    "df3"
   ]
  },
  {
   "cell_type": "code",
   "execution_count": 20,
   "metadata": {
    "scrolled": true
   },
   "outputs": [
    {
     "data": {
      "text/plain": [
       "<matplotlib.axes._subplots.AxesSubplot at 0x24ee8eec7c0>"
      ]
     },
     "execution_count": 20,
     "metadata": {},
     "output_type": "execute_result"
    },
    {
     "data": {
      "image/png": "[encoded data removed]",
      "text/plain": [
       "<Figure size 432x288 with 1 Axes>"
      ]
     },
     "metadata": {
      "needs_background": "light"
     },
     "output_type": "display_data"
    }
   ],
   "source": [
    "#Top 20 Countries in terms of # of Startups\n",
    "sns.barplot(x='Startup_Count',y='Country',data=df3.head(20))"
   ]
  },
  {
   "cell_type": "markdown",
   "metadata": {},
   "source": [
    "<b> United States of America has a very large representation (58%) for this dataset. </b>\n",
    "\n",
    "<i> Note: Afghanistan data may not accurately represent the true location of these startups.\n",
    "The Longitude and Latitude data given for the 16 'Afghanistan' Startups were identical - it is possible they were placeholders) </i>"
   ]
  },
  {
   "cell_type": "markdown",
   "metadata": {},
   "source": [
    "## Most \\# of Startups Per City/Location"
   ]
  },
  {
   "cell_type": "code",
   "execution_count": 21,
   "metadata": {},
   "outputs": [
    {
     "data": {
      "text/html": [
       "<div>\n",
       "<style scoped>\n",
       "    .dataframe tbody tr th:only-of-type {\n",
       "        vertical-align: middle;\n",
       "    }\n",
       "\n",
       "    .dataframe tbody tr th {\n",
       "        vertical-align: top;\n",
       "    }\n",
       "\n",
       "    .dataframe thead th {\n",
       "        text-align: right;\n",
       "    }\n",
       "</style>\n",
       "<table border=\"1\" class=\"dataframe\">\n",
       "  <thead>\n",
       "    <tr style=\"text-align: right;\">\n",
       "      <th></th>\n",
       "      <th>Location</th>\n",
       "      <th>Startup_Count</th>\n",
       "    </tr>\n",
       "  </thead>\n",
       "  <tbody>\n",
       "    <tr>\n",
       "      <th>0</th>\n",
       "      <td>San Francisco</td>\n",
       "      <td>76</td>\n",
       "    </tr>\n",
       "    <tr>\n",
       "      <th>1</th>\n",
       "      <td>New York City</td>\n",
       "      <td>37</td>\n",
       "    </tr>\n",
       "    <tr>\n",
       "      <th>2</th>\n",
       "      <td>London</td>\n",
       "      <td>20</td>\n",
       "    </tr>\n",
       "    <tr>\n",
       "      <th>3</th>\n",
       "      <td>Los Angeles</td>\n",
       "      <td>13</td>\n",
       "    </tr>\n",
       "    <tr>\n",
       "      <th>4</th>\n",
       "      <td>Austin</td>\n",
       "      <td>11</td>\n",
       "    </tr>\n",
       "    <tr>\n",
       "      <th>...</th>\n",
       "      <td>...</td>\n",
       "      <td>...</td>\n",
       "    </tr>\n",
       "    <tr>\n",
       "      <th>163</th>\n",
       "      <td>Canada</td>\n",
       "      <td>1</td>\n",
       "    </tr>\n",
       "    <tr>\n",
       "      <th>164</th>\n",
       "      <td>United Kingdom</td>\n",
       "      <td>1</td>\n",
       "    </tr>\n",
       "    <tr>\n",
       "      <th>165</th>\n",
       "      <td>France</td>\n",
       "      <td>1</td>\n",
       "    </tr>\n",
       "    <tr>\n",
       "      <th>166</th>\n",
       "      <td>Marseille</td>\n",
       "      <td>1</td>\n",
       "    </tr>\n",
       "    <tr>\n",
       "      <th>167</th>\n",
       "      <td>Netherlands</td>\n",
       "      <td>1</td>\n",
       "    </tr>\n",
       "  </tbody>\n",
       "</table>\n",
       "<p>168 rows × 2 columns</p>\n",
       "</div>"
      ],
      "text/plain": [
       "           Location  Startup_Count\n",
       "0     San Francisco             76\n",
       "1     New York City             37\n",
       "2            London             20\n",
       "3       Los Angeles             13\n",
       "4            Austin             11\n",
       "..              ...            ...\n",
       "163          Canada              1\n",
       "164  United Kingdom              1\n",
       "165          France              1\n",
       "166       Marseille              1\n",
       "167     Netherlands              1\n",
       "\n",
       "[168 rows x 2 columns]"
      ]
     },
     "execution_count": 21,
     "metadata": {},
     "output_type": "execute_result"
    }
   ],
   "source": [
    "df4 = pd.DataFrame(df['Location'].value_counts())\n",
    "df4.reset_index(inplace=True)\n",
    "df4.columns = ['Location','Startup_Count']\n",
    "df4"
   ]
  },
  {
   "cell_type": "code",
   "execution_count": 22,
   "metadata": {},
   "outputs": [
    {
     "data": {
      "text/plain": [
       "<matplotlib.axes._subplots.AxesSubplot at 0x24ee9535af0>"
      ]
     },
     "execution_count": 22,
     "metadata": {},
     "output_type": "execute_result"
    },
    {
     "data": {
      "image/png": "[encoded data removed]",
      "text/plain": [
       "<Figure size 432x288 with 1 Axes>"
      ]
     },
     "metadata": {
      "needs_background": "light"
     },
     "output_type": "display_data"
    }
   ],
   "source": [
    "#Top 20 Cities in terms of # of Startups\n",
    "sns.barplot(x='Startup_Count',y='Location',data=df4.head(20))"
   ]
  },
  {
   "cell_type": "markdown",
   "metadata": {},
   "source": [
    "<b> Majority of the cities are located in the USA with San Francisco and New York City leading the numbers for startup count. \n",
    "\n",
    "London (England), Berlin (Germany), Bengaluru (India), Toronto (Canada) and Paris (France) are non-USA cities which have a decent number of startups in the dataset. </b>"
   ]
  },
  {
   "cell_type": "code",
   "execution_count": 23,
   "metadata": {},
   "outputs": [
    {
     "data": {
      "text/plain": [
       "Location       Country                 \n",
       "San Francisco  United States of America    76\n",
       "New York City  United States of America    37\n",
       "London         England                     20\n",
       "Los Angeles    United States of America    13\n",
       "Austin         United States of America    11\n",
       "Boston         United States of America    10\n",
       "Berlin         Germany                     10\n",
       "Palo Alto      United States of America    10\n",
       "Mountain View  United States of America     8\n",
       "Seattle        United States of America     7\n",
       "Sunnyvale      United States of America     7\n",
       "Bengaluru      India                        7\n",
       "Toronto        Canada                       7\n",
       "San Diego      United States of America     6\n",
       "San Jose       United States of America     6\n",
       "Paris          France                       6\n",
       "San Mateo      United States of America     6\n",
       "Vancouver      Canada                       5\n",
       "Singapore      Singapore                    5\n",
       "Atlanta        United States of America     5\n",
       "Name: Name, dtype: int64"
      ]
     },
     "execution_count": 23,
     "metadata": {},
     "output_type": "execute_result"
    }
   ],
   "source": [
    "#Most # of Startups per City / Location\n",
    "df.groupby(['Location','Country'])['Name'].count().sort_values(ascending=False).head(20)"
   ]
  },
  {
   "cell_type": "markdown",
   "metadata": {},
   "source": [
    "## Most \\# of Startups Market/Nature of Startup"
   ]
  },
  {
   "cell_type": "code",
   "execution_count": 24,
   "metadata": {},
   "outputs": [
    {
     "data": {
      "text/html": [
       "<div>\n",
       "<style scoped>\n",
       "    .dataframe tbody tr th:only-of-type {\n",
       "        vertical-align: middle;\n",
       "    }\n",
       "\n",
       "    .dataframe tbody tr th {\n",
       "        vertical-align: top;\n",
       "    }\n",
       "\n",
       "    .dataframe thead th {\n",
       "        text-align: right;\n",
       "    }\n",
       "</style>\n",
       "<table border=\"1\" class=\"dataframe\">\n",
       "  <thead>\n",
       "    <tr style=\"text-align: right;\">\n",
       "      <th></th>\n",
       "      <th>Market</th>\n",
       "      <th>Startup_Count</th>\n",
       "    </tr>\n",
       "  </thead>\n",
       "  <tbody>\n",
       "    <tr>\n",
       "      <th>0</th>\n",
       "      <td>SaaS</td>\n",
       "      <td>16</td>\n",
       "    </tr>\n",
       "    <tr>\n",
       "      <th>1</th>\n",
       "      <td>Big Data Analytics</td>\n",
       "      <td>14</td>\n",
       "    </tr>\n",
       "    <tr>\n",
       "      <th>2</th>\n",
       "      <td>Predictive Analytics</td>\n",
       "      <td>13</td>\n",
       "    </tr>\n",
       "    <tr>\n",
       "      <th>3</th>\n",
       "      <td>Internet of Things</td>\n",
       "      <td>13</td>\n",
       "    </tr>\n",
       "    <tr>\n",
       "      <th>4</th>\n",
       "      <td>Mobile Commerce</td>\n",
       "      <td>10</td>\n",
       "    </tr>\n",
       "    <tr>\n",
       "      <th>...</th>\n",
       "      <td>...</td>\n",
       "      <td>...</td>\n",
       "    </tr>\n",
       "    <tr>\n",
       "      <th>194</th>\n",
       "      <td>Sensors</td>\n",
       "      <td>1</td>\n",
       "    </tr>\n",
       "    <tr>\n",
       "      <th>195</th>\n",
       "      <td>Digital Signage</td>\n",
       "      <td>1</td>\n",
       "    </tr>\n",
       "    <tr>\n",
       "      <th>196</th>\n",
       "      <td>Fast-Moving Consumer Goods</td>\n",
       "      <td>1</td>\n",
       "    </tr>\n",
       "    <tr>\n",
       "      <th>197</th>\n",
       "      <td>Website</td>\n",
       "      <td>1</td>\n",
       "    </tr>\n",
       "    <tr>\n",
       "      <th>198</th>\n",
       "      <td>Online Video Advertising</td>\n",
       "      <td>1</td>\n",
       "    </tr>\n",
       "  </tbody>\n",
       "</table>\n",
       "<p>199 rows × 2 columns</p>\n",
       "</div>"
      ],
      "text/plain": [
       "                         Market  Startup_Count\n",
       "0                          SaaS             16\n",
       "1            Big Data Analytics             14\n",
       "2          Predictive Analytics             13\n",
       "3            Internet of Things             13\n",
       "4               Mobile Commerce             10\n",
       "..                          ...            ...\n",
       "194                     Sensors              1\n",
       "195             Digital Signage              1\n",
       "196  Fast-Moving Consumer Goods              1\n",
       "197                     Website              1\n",
       "198    Online Video Advertising              1\n",
       "\n",
       "[199 rows x 2 columns]"
      ]
     },
     "execution_count": 24,
     "metadata": {},
     "output_type": "execute_result"
    }
   ],
   "source": [
    "df5 = pd.DataFrame(df['Market'].value_counts())\n",
    "df5.reset_index(inplace=True)\n",
    "df5.columns = ['Market','Startup_Count']\n",
    "df5"
   ]
  },
  {
   "cell_type": "code",
   "execution_count": 25,
   "metadata": {},
   "outputs": [
    {
     "data": {
      "text/plain": [
       "<matplotlib.axes._subplots.AxesSubplot at 0x24ee95f7c70>"
      ]
     },
     "execution_count": 25,
     "metadata": {},
     "output_type": "execute_result"
    },
    {
     "data": {
      "image/png": "[encoded data removed]",
      "text/plain": [
       "<Figure size 432x288 with 1 Axes>"
      ]
     },
     "metadata": {
      "needs_background": "light"
     },
     "output_type": "display_data"
    }
   ],
   "source": [
    "#Most # of Startups per Market/Nature of Startup\n",
    "sns.barplot(x='Startup_Count',y='Market',data=df5.head(20))"
   ]
  },
  {
   "cell_type": "markdown",
   "metadata": {},
   "source": [
    "<b> SaaS, Big Data Analytics, Internet of Things and Predictive Analytics lead the category in terms of # of startups. </b>"
   ]
  },
  {
   "cell_type": "markdown",
   "metadata": {},
   "source": [
    "## Highest Funded Market"
   ]
  },
  {
   "cell_type": "code",
   "execution_count": 26,
   "metadata": {},
   "outputs": [
    {
     "data": {
      "text/html": [
       "<div>\n",
       "<style scoped>\n",
       "    .dataframe tbody tr th:only-of-type {\n",
       "        vertical-align: middle;\n",
       "    }\n",
       "\n",
       "    .dataframe tbody tr th {\n",
       "        vertical-align: top;\n",
       "    }\n",
       "\n",
       "    .dataframe thead th {\n",
       "        text-align: right;\n",
       "    }\n",
       "</style>\n",
       "<table border=\"1\" class=\"dataframe\">\n",
       "  <thead>\n",
       "    <tr style=\"text-align: right;\">\n",
       "      <th></th>\n",
       "      <th>Market</th>\n",
       "      <th>Total Raised</th>\n",
       "    </tr>\n",
       "  </thead>\n",
       "  <tbody>\n",
       "    <tr>\n",
       "      <th>0</th>\n",
       "      <td>Artificial Intelligence / Machine Learning</td>\n",
       "      <td>200680000.0</td>\n",
       "    </tr>\n",
       "    <tr>\n",
       "      <th>1</th>\n",
       "      <td>Technology</td>\n",
       "      <td>195050000.0</td>\n",
       "    </tr>\n",
       "    <tr>\n",
       "      <th>2</th>\n",
       "      <td>Robotics</td>\n",
       "      <td>115970000.0</td>\n",
       "    </tr>\n",
       "    <tr>\n",
       "      <th>3</th>\n",
       "      <td>Personal Finance</td>\n",
       "      <td>53706000.0</td>\n",
       "    </tr>\n",
       "    <tr>\n",
       "      <th>4</th>\n",
       "      <td>Digital Signage</td>\n",
       "      <td>26700000.0</td>\n",
       "    </tr>\n",
       "    <tr>\n",
       "      <th>...</th>\n",
       "      <td>...</td>\n",
       "      <td>...</td>\n",
       "    </tr>\n",
       "    <tr>\n",
       "      <th>194</th>\n",
       "      <td>Tracking</td>\n",
       "      <td>NaN</td>\n",
       "    </tr>\n",
       "    <tr>\n",
       "      <th>195</th>\n",
       "      <td>Unifed Communications</td>\n",
       "      <td>NaN</td>\n",
       "    </tr>\n",
       "    <tr>\n",
       "      <th>196</th>\n",
       "      <td>User Testing</td>\n",
       "      <td>NaN</td>\n",
       "    </tr>\n",
       "    <tr>\n",
       "      <th>197</th>\n",
       "      <td>Website</td>\n",
       "      <td>NaN</td>\n",
       "    </tr>\n",
       "    <tr>\n",
       "      <th>198</th>\n",
       "      <td>Writing</td>\n",
       "      <td>NaN</td>\n",
       "    </tr>\n",
       "  </tbody>\n",
       "</table>\n",
       "<p>199 rows × 2 columns</p>\n",
       "</div>"
      ],
      "text/plain": [
       "                                         Market  Total Raised\n",
       "0    Artificial Intelligence / Machine Learning   200680000.0\n",
       "1                                    Technology   195050000.0\n",
       "2                                      Robotics   115970000.0\n",
       "3                              Personal Finance    53706000.0\n",
       "4                               Digital Signage    26700000.0\n",
       "..                                          ...           ...\n",
       "194                                    Tracking           NaN\n",
       "195                       Unifed Communications           NaN\n",
       "196                                User Testing           NaN\n",
       "197                                     Website           NaN\n",
       "198                                     Writing           NaN\n",
       "\n",
       "[199 rows x 2 columns]"
      ]
     },
     "execution_count": 26,
     "metadata": {},
     "output_type": "execute_result"
    }
   ],
   "source": [
    "df6 = pd.DataFrame(df.groupby(['Market'])['Total Raised'].mean().sort_values(ascending=False))\n",
    "df6.reset_index(inplace=True)\n",
    "df6.columns = ['Market','Total Raised']\n",
    "df6"
   ]
  },
  {
   "cell_type": "code",
   "execution_count": 27,
   "metadata": {},
   "outputs": [
    {
     "data": {
      "text/plain": [
       "<matplotlib.axes._subplots.AxesSubplot at 0x24ee96fd280>"
      ]
     },
     "execution_count": 27,
     "metadata": {},
     "output_type": "execute_result"
    },
    {
     "data": {
      "image/png": "[encoded data removed]",
      "text/plain": [
       "<Figure size 432x288 with 1 Axes>"
      ]
     },
     "metadata": {
      "needs_background": "light"
     },
     "output_type": "display_data"
    }
   ],
   "source": [
    "#Highest Funded Markets (Top 20)\n",
    "sns.barplot(x='Total Raised',y='Market',data=df6.head(20))"
   ]
  },
  {
   "cell_type": "markdown",
   "metadata": {},
   "source": [
    "<b> AI/ML, Technology and Robotics are largely ahead in Total $ Amount Raised </b>"
   ]
  },
  {
   "cell_type": "markdown",
   "metadata": {},
   "source": [
    "## Highest Funded Startups"
   ]
  },
  {
   "cell_type": "code",
   "execution_count": 28,
   "metadata": {},
   "outputs": [
    {
     "data": {
      "text/plain": [
       "Name                 Market                                    \n",
       "Kreditech            Technology                                    583900000.0\n",
       "Zymergen             Robotics                                      576000000.0\n",
       "Recursion            Artificial Intelligence / Machine Learning    200680000.0\n",
       "Tala                 Personal Finance                              107400000.0\n",
       "AppZen               Finance Technology                            102500000.0\n",
       "Handle My Health     Internet of Things                             74038082.0\n",
       "Glint                Human Resources                                50700000.0\n",
       "Vidado               Artificial Intelligence                        47400000.0\n",
       "Clarifai             Photo Sharing                                  40000000.0\n",
       "SQream Technologies  Databases                                      33400000.0\n",
       "DataScience.com      Big Data Analytics                             28000000.0\n",
       "uSens                Digital Signage                                26700000.0\n",
       "Scalyr               Developer Tools                                26100000.0\n",
       "RedOwl Analytics     Analytics                                      24500000.0\n",
       "Mavrx                Agriculture                                    22420000.0\n",
       "RADAR                Retail Technology                              21830000.0\n",
       "Filament             Industrial Automation                          21000000.0\n",
       "zeotap               Mobile Advertising                             20700000.0\n",
       "Qordoba              SaaS                                           19500000.0\n",
       "Snips                Internet of Things                             19300000.0\n",
       "Name: Total Raised, dtype: float64"
      ]
     },
     "execution_count": 28,
     "metadata": {},
     "output_type": "execute_result"
    }
   ],
   "source": [
    "#Highest Funded Startups\n",
    "df.groupby(['Name','Market'])['Total Raised'].mean().sort_values(ascending=False).head(20)"
   ]
  },
  {
   "cell_type": "code",
   "execution_count": 29,
   "metadata": {},
   "outputs": [
    {
     "data": {
      "text/html": [
       "<div>\n",
       "<style scoped>\n",
       "    .dataframe tbody tr th:only-of-type {\n",
       "        vertical-align: middle;\n",
       "    }\n",
       "\n",
       "    .dataframe tbody tr th {\n",
       "        vertical-align: top;\n",
       "    }\n",
       "\n",
       "    .dataframe thead th {\n",
       "        text-align: right;\n",
       "    }\n",
       "</style>\n",
       "<table border=\"1\" class=\"dataframe\">\n",
       "  <thead>\n",
       "    <tr style=\"text-align: right;\">\n",
       "      <th></th>\n",
       "      <th>Name</th>\n",
       "      <th>Total Raised</th>\n",
       "    </tr>\n",
       "  </thead>\n",
       "  <tbody>\n",
       "    <tr>\n",
       "      <th>0</th>\n",
       "      <td>Kreditech</td>\n",
       "      <td>583900000.0</td>\n",
       "    </tr>\n",
       "    <tr>\n",
       "      <th>1</th>\n",
       "      <td>Zymergen</td>\n",
       "      <td>576000000.0</td>\n",
       "    </tr>\n",
       "    <tr>\n",
       "      <th>2</th>\n",
       "      <td>Recursion</td>\n",
       "      <td>200680000.0</td>\n",
       "    </tr>\n",
       "    <tr>\n",
       "      <th>3</th>\n",
       "      <td>Tala</td>\n",
       "      <td>107400000.0</td>\n",
       "    </tr>\n",
       "    <tr>\n",
       "      <th>4</th>\n",
       "      <td>AppZen</td>\n",
       "      <td>102500000.0</td>\n",
       "    </tr>\n",
       "    <tr>\n",
       "      <th>...</th>\n",
       "      <td>...</td>\n",
       "      <td>...</td>\n",
       "    </tr>\n",
       "    <tr>\n",
       "      <th>492</th>\n",
       "      <td>pitchLove</td>\n",
       "      <td>NaN</td>\n",
       "    </tr>\n",
       "    <tr>\n",
       "      <th>493</th>\n",
       "      <td>simMachines</td>\n",
       "      <td>NaN</td>\n",
       "    </tr>\n",
       "    <tr>\n",
       "      <th>494</th>\n",
       "      <td>tarla.io</td>\n",
       "      <td>NaN</td>\n",
       "    </tr>\n",
       "    <tr>\n",
       "      <th>495</th>\n",
       "      <td>the Scaffold</td>\n",
       "      <td>NaN</td>\n",
       "    </tr>\n",
       "    <tr>\n",
       "      <th>496</th>\n",
       "      <td>tuplejump</td>\n",
       "      <td>NaN</td>\n",
       "    </tr>\n",
       "  </tbody>\n",
       "</table>\n",
       "<p>497 rows × 2 columns</p>\n",
       "</div>"
      ],
      "text/plain": [
       "             Name  Total Raised\n",
       "0       Kreditech   583900000.0\n",
       "1        Zymergen   576000000.0\n",
       "2       Recursion   200680000.0\n",
       "3           Tala    107400000.0\n",
       "4          AppZen   102500000.0\n",
       "..            ...           ...\n",
       "492     pitchLove           NaN\n",
       "493   simMachines           NaN\n",
       "494      tarla.io           NaN\n",
       "495  the Scaffold           NaN\n",
       "496     tuplejump           NaN\n",
       "\n",
       "[497 rows x 2 columns]"
      ]
     },
     "execution_count": 29,
     "metadata": {},
     "output_type": "execute_result"
    }
   ],
   "source": [
    "df7 = pd.DataFrame(df.groupby(['Name'])['Total Raised'].mean().sort_values(ascending=False))\n",
    "df7.reset_index(inplace=True)\n",
    "df7.columns = ['Name','Total Raised']\n",
    "df7"
   ]
  },
  {
   "cell_type": "code",
   "execution_count": 30,
   "metadata": {},
   "outputs": [
    {
     "data": {
      "text/plain": [
       "<matplotlib.axes._subplots.AxesSubplot at 0x24ee8cce850>"
      ]
     },
     "execution_count": 30,
     "metadata": {},
     "output_type": "execute_result"
    },
    {
     "data": {
      "image/png": "[encoded data removed]",
      "text/plain": [
       "<Figure size 432x288 with 1 Axes>"
      ]
     },
     "metadata": {
      "needs_background": "light"
     },
     "output_type": "display_data"
    }
   ],
   "source": [
    "#Highest Funded Startups (Top 20)\n",
    "sns.barplot(x='Total Raised',y='Name',data=df7.head(20))"
   ]
  },
  {
   "cell_type": "markdown",
   "metadata": {},
   "source": [
    "<b> Kreditech ($583.9M)\n",
    "\n",
    "Zymergen ($576M)\n",
    "\n",
    "Recursion ($200.68M) </b>"
   ]
  },
  {
   "cell_type": "code",
   "execution_count": null,
   "metadata": {},
   "outputs": [],
   "source": []
  },
  {
   "cell_type": "code",
   "execution_count": 31,
   "metadata": {},
   "outputs": [
    {
     "data": {
      "text/plain": [
       "Stage\n",
       "Series C    6900000.0\n",
       "Series B    2000000.0\n",
       "Acquired     115000.0\n",
       "Series A      20000.0\n",
       "Seed          15000.0\n",
       "Name: Total Raised, dtype: float64"
      ]
     },
     "execution_count": 31,
     "metadata": {},
     "output_type": "execute_result"
    }
   ],
   "source": [
    "df.groupby(['Stage'])['Total Raised'].min().sort_values(ascending=False).head(20)"
   ]
  },
  {
   "cell_type": "code",
   "execution_count": 32,
   "metadata": {},
   "outputs": [
    {
     "data": {
      "text/plain": [
       "Stage\n",
       "Series C    576000000.0\n",
       "Acquired     74038082.0\n",
       "Series B     33400000.0\n",
       "Series A     28000000.0\n",
       "Seed         26100000.0\n",
       "Name: Total Raised, dtype: float64"
      ]
     },
     "execution_count": 32,
     "metadata": {},
     "output_type": "execute_result"
    }
   ],
   "source": [
    "df.groupby(['Stage'])['Total Raised'].max().sort_values(ascending=False).head(20)"
   ]
  },
  {
   "cell_type": "code",
   "execution_count": 33,
   "metadata": {},
   "outputs": [
    {
     "data": {
      "text/plain": [
       "Stage\n",
       "Series C    1.329725e+08\n",
       "Series B    1.786071e+07\n",
       "Series A    1.043275e+07\n",
       "Acquired    9.737349e+06\n",
       "Seed        1.356948e+06\n",
       "Name: Total Raised, dtype: float64"
      ]
     },
     "execution_count": 33,
     "metadata": {},
     "output_type": "execute_result"
    }
   ],
   "source": [
    "df.groupby(['Stage'])['Total Raised'].mean().sort_values(ascending=False).head(20)"
   ]
  },
  {
   "cell_type": "code",
   "execution_count": null,
   "metadata": {},
   "outputs": [],
   "source": [
    "# Stages and corresponding range of Amounts Raised:\n",
    "\n",
    "#   Seed: $15,000 - $26.1M     | Mean: $1,356,948\n",
    "#   Series A: $20,000 - $28M   | Mean: $10,432,750\n",
    "#   Series B: $2M - $33.4M     | Mean: $17,860,710\n",
    "#   Series C: $6.9M - $576M    | Mean: $132,972,500 (due to Outliers)\n",
    "#   Acquired: $115,000 - $74M  | Mean: $9,737,349"
   ]
  },
  {
   "cell_type": "code",
   "execution_count": null,
   "metadata": {},
   "outputs": [],
   "source": []
  },
  {
   "cell_type": "code",
   "execution_count": 34,
   "metadata": {},
   "outputs": [
    {
     "data": {
      "text/html": [
       "<div>\n",
       "<style scoped>\n",
       "    .dataframe tbody tr th:only-of-type {\n",
       "        vertical-align: middle;\n",
       "    }\n",
       "\n",
       "    .dataframe tbody tr th {\n",
       "        vertical-align: top;\n",
       "    }\n",
       "\n",
       "    .dataframe thead th {\n",
       "        text-align: right;\n",
       "    }\n",
       "</style>\n",
       "<table border=\"1\" class=\"dataframe\">\n",
       "  <thead>\n",
       "    <tr style=\"text-align: right;\">\n",
       "      <th></th>\n",
       "      <th>Signal</th>\n",
       "      <th>Total Raised</th>\n",
       "      <th>latitude</th>\n",
       "      <th>longitude</th>\n",
       "      <th>Age</th>\n",
       "    </tr>\n",
       "  </thead>\n",
       "  <tbody>\n",
       "    <tr>\n",
       "      <th>Signal</th>\n",
       "      <td>1.000000</td>\n",
       "      <td>0.151260</td>\n",
       "      <td>0.000655</td>\n",
       "      <td>-0.329850</td>\n",
       "      <td>0.306643</td>\n",
       "    </tr>\n",
       "    <tr>\n",
       "      <th>Total Raised</th>\n",
       "      <td>0.151260</td>\n",
       "      <td>1.000000</td>\n",
       "      <td>0.031039</td>\n",
       "      <td>-0.032362</td>\n",
       "      <td>0.046937</td>\n",
       "    </tr>\n",
       "    <tr>\n",
       "      <th>latitude</th>\n",
       "      <td>0.000655</td>\n",
       "      <td>0.031039</td>\n",
       "      <td>1.000000</td>\n",
       "      <td>-0.214569</td>\n",
       "      <td>-0.033593</td>\n",
       "    </tr>\n",
       "    <tr>\n",
       "      <th>longitude</th>\n",
       "      <td>-0.329850</td>\n",
       "      <td>-0.032362</td>\n",
       "      <td>-0.214569</td>\n",
       "      <td>1.000000</td>\n",
       "      <td>-0.053950</td>\n",
       "    </tr>\n",
       "    <tr>\n",
       "      <th>Age</th>\n",
       "      <td>0.306643</td>\n",
       "      <td>0.046937</td>\n",
       "      <td>-0.033593</td>\n",
       "      <td>-0.053950</td>\n",
       "      <td>1.000000</td>\n",
       "    </tr>\n",
       "  </tbody>\n",
       "</table>\n",
       "</div>"
      ],
      "text/plain": [
       "                Signal  Total Raised  latitude  longitude       Age\n",
       "Signal        1.000000      0.151260  0.000655  -0.329850  0.306643\n",
       "Total Raised  0.151260      1.000000  0.031039  -0.032362  0.046937\n",
       "latitude      0.000655      0.031039  1.000000  -0.214569 -0.033593\n",
       "longitude    -0.329850     -0.032362 -0.214569   1.000000 -0.053950\n",
       "Age           0.306643      0.046937 -0.033593  -0.053950  1.000000"
      ]
     },
     "execution_count": 34,
     "metadata": {},
     "output_type": "execute_result"
    }
   ],
   "source": [
    "#Correlation matrix - no useful correlations. not much numerical information for this dataset.\n",
    "df.corr()"
   ]
  },
  {
   "cell_type": "code",
   "execution_count": 35,
   "metadata": {},
   "outputs": [
    {
     "data": {
      "text/plain": [
       "<matplotlib.axes._subplots.AxesSubplot at 0x24ee933f880>"
      ]
     },
     "execution_count": 35,
     "metadata": {},
     "output_type": "execute_result"
    },
    {
     "data": {
      "image/png": "[encoded data removed]",
      "text/plain": [
       "<Figure size 432x288 with 2 Axes>"
      ]
     },
     "metadata": {
      "needs_background": "light"
     },
     "output_type": "display_data"
    }
   ],
   "source": [
    "sns.heatmap(df.corr(),cmap='rocket_r')"
   ]
  },
  {
   "cell_type": "code",
   "execution_count": null,
   "metadata": {},
   "outputs": [],
   "source": []
  }
 ],
 "metadata": {
  "kernelspec": {
   "display_name": "Python 3",
   "language": "python",
   "name": "python3"
  },
  "language_info": {
   "codemirror_mode": {
    "name": "ipython",
    "version": 3
   },
   "file_extension": ".py",
   "mimetype": "text/x-python",
   "name": "python",
   "nbconvert_exporter": "python",
   "pygments_lexer": "ipython3",
   "version": "3.8.3"
  }
 },
 "nbformat": 4,
 "nbformat_minor": 4
}
