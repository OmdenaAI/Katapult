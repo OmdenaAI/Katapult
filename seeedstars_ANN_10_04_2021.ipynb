{
 "cells": [
  {
   "cell_type": "code",
   "execution_count": 1,
   "metadata": {},
   "outputs": [],
   "source": [
    "import pandas as pd\n",
    "import numpy as np"
   ]
  },
  {
   "cell_type": "code",
   "execution_count": 2,
   "metadata": {},
   "outputs": [],
   "source": [
    "df = pd.read_csv('Seedstars_dataset_EDA_v0.csv', sep=';')"
   ]
  },
  {
   "cell_type": "code",
   "execution_count": 3,
   "metadata": {},
   "outputs": [
    {
     "data": {
      "text/html": [
       "<div>\n",
       "<style scoped>\n",
       "    .dataframe tbody tr th:only-of-type {\n",
       "        vertical-align: middle;\n",
       "    }\n",
       "\n",
       "    .dataframe tbody tr th {\n",
       "        vertical-align: top;\n",
       "    }\n",
       "\n",
       "    .dataframe thead th {\n",
       "        text-align: right;\n",
       "    }\n",
       "</style>\n",
       "<table border=\"1\" class=\"dataframe\">\n",
       "  <thead>\n",
       "    <tr style=\"text-align: right;\">\n",
       "      <th></th>\n",
       "      <th>Unnamed: 0</th>\n",
       "      <th>company_id</th>\n",
       "      <th>country</th>\n",
       "      <th>industry</th>\n",
       "      <th>business_stage</th>\n",
       "      <th>incorporated</th>\n",
       "      <th>incorporation_date</th>\n",
       "      <th>Number of team members</th>\n",
       "      <th>accelerator</th>\n",
       "      <th>amount_to_raise</th>\n",
       "      <th>...</th>\n",
       "      <th>revenue_model_subscription_Imputed</th>\n",
       "      <th>revenue_model_freemium_Imputed</th>\n",
       "      <th>revenue_model_advertising_Imputed</th>\n",
       "      <th>revenue_model_licensing_Imputed</th>\n",
       "      <th>customer_type - B-to-B-to-C_Imputed</th>\n",
       "      <th>customer_type - B-to-B_Imputed</th>\n",
       "      <th>customer_type - B-to-C_Imputed</th>\n",
       "      <th>customer_type - B-to-G_Imputed</th>\n",
       "      <th>percent_increase_in_revenue</th>\n",
       "      <th>percent_increase_in_users</th>\n",
       "    </tr>\n",
       "  </thead>\n",
       "  <tbody>\n",
       "    <tr>\n",
       "      <th>0</th>\n",
       "      <td>0</td>\n",
       "      <td>1</td>\n",
       "      <td>Uzbekistan</td>\n",
       "      <td>Consumer Services</td>\n",
       "      <td>Revenue Stage</td>\n",
       "      <td>0.0</td>\n",
       "      <td>2017</td>\n",
       "      <td>4.0</td>\n",
       "      <td>1.0</td>\n",
       "      <td>0</td>\n",
       "      <td>...</td>\n",
       "      <td>1.0</td>\n",
       "      <td>0.0</td>\n",
       "      <td>0.0</td>\n",
       "      <td>0.0</td>\n",
       "      <td>1.0</td>\n",
       "      <td>0.0</td>\n",
       "      <td>0.0</td>\n",
       "      <td>0.0</td>\n",
       "      <td>9.459459</td>\n",
       "      <td>9.782609</td>\n",
       "    </tr>\n",
       "    <tr>\n",
       "      <th>1</th>\n",
       "      <td>1</td>\n",
       "      <td>224</td>\n",
       "      <td>Uzbekistan</td>\n",
       "      <td>Travel and Transport</td>\n",
       "      <td>Development Stage</td>\n",
       "      <td>0.0</td>\n",
       "      <td>2017</td>\n",
       "      <td>4.0</td>\n",
       "      <td>0.0</td>\n",
       "      <td>30000</td>\n",
       "      <td>...</td>\n",
       "      <td>1.0</td>\n",
       "      <td>0.0</td>\n",
       "      <td>1.0</td>\n",
       "      <td>0.0</td>\n",
       "      <td>1.0</td>\n",
       "      <td>1.0</td>\n",
       "      <td>1.0</td>\n",
       "      <td>0.0</td>\n",
       "      <td>43.744532</td>\n",
       "      <td>69.230769</td>\n",
       "    </tr>\n",
       "    <tr>\n",
       "      <th>2</th>\n",
       "      <td>2</td>\n",
       "      <td>365</td>\n",
       "      <td>Uzbekistan</td>\n",
       "      <td>Financial Services</td>\n",
       "      <td>Beta Testing Stage</td>\n",
       "      <td>1.0</td>\n",
       "      <td>2019</td>\n",
       "      <td>1.0</td>\n",
       "      <td>1.0</td>\n",
       "      <td>3000</td>\n",
       "      <td>...</td>\n",
       "      <td>1.0</td>\n",
       "      <td>1.0</td>\n",
       "      <td>1.0</td>\n",
       "      <td>0.0</td>\n",
       "      <td>0.0</td>\n",
       "      <td>1.0</td>\n",
       "      <td>0.0</td>\n",
       "      <td>0.0</td>\n",
       "      <td>25000.000000</td>\n",
       "      <td>24.997500</td>\n",
       "    </tr>\n",
       "    <tr>\n",
       "      <th>3</th>\n",
       "      <td>3</td>\n",
       "      <td>440</td>\n",
       "      <td>Uzbekistan</td>\n",
       "      <td>Enterprise Services</td>\n",
       "      <td>Revenue Stage</td>\n",
       "      <td>0.0</td>\n",
       "      <td>2017</td>\n",
       "      <td>10.0</td>\n",
       "      <td>0.0</td>\n",
       "      <td>0</td>\n",
       "      <td>...</td>\n",
       "      <td>1.0</td>\n",
       "      <td>0.0</td>\n",
       "      <td>0.0</td>\n",
       "      <td>0.0</td>\n",
       "      <td>0.0</td>\n",
       "      <td>1.0</td>\n",
       "      <td>0.0</td>\n",
       "      <td>0.0</td>\n",
       "      <td>-14.446054</td>\n",
       "      <td>-20.588235</td>\n",
       "    </tr>\n",
       "    <tr>\n",
       "      <th>4</th>\n",
       "      <td>4</td>\n",
       "      <td>866</td>\n",
       "      <td>Uzbekistan</td>\n",
       "      <td>HR</td>\n",
       "      <td>Revenue Stage</td>\n",
       "      <td>1.0</td>\n",
       "      <td>2019</td>\n",
       "      <td>5.0</td>\n",
       "      <td>0.0</td>\n",
       "      <td>0</td>\n",
       "      <td>...</td>\n",
       "      <td>1.0</td>\n",
       "      <td>0.0</td>\n",
       "      <td>0.0</td>\n",
       "      <td>0.0</td>\n",
       "      <td>0.0</td>\n",
       "      <td>1.0</td>\n",
       "      <td>0.0</td>\n",
       "      <td>1.0</td>\n",
       "      <td>-49.765258</td>\n",
       "      <td>-25.000000</td>\n",
       "    </tr>\n",
       "  </tbody>\n",
       "</table>\n",
       "<p>5 rows × 55 columns</p>\n",
       "</div>"
      ],
      "text/plain": [
       "   Unnamed: 0  company_id     country              industry  \\\n",
       "0           0           1  Uzbekistan     Consumer Services   \n",
       "1           1         224  Uzbekistan  Travel and Transport   \n",
       "2           2         365  Uzbekistan    Financial Services   \n",
       "3           3         440  Uzbekistan   Enterprise Services   \n",
       "4           4         866  Uzbekistan                    HR   \n",
       "\n",
       "       business_stage  incorporated  incorporation_date  \\\n",
       "0       Revenue Stage           0.0                2017   \n",
       "1   Development Stage           0.0                2017   \n",
       "2  Beta Testing Stage           1.0                2019   \n",
       "3       Revenue Stage           0.0                2017   \n",
       "4       Revenue Stage           1.0                2019   \n",
       "\n",
       "   Number of team members  accelerator  amount_to_raise  ...  \\\n",
       "0                     4.0          1.0                0  ...   \n",
       "1                     4.0          0.0            30000  ...   \n",
       "2                     1.0          1.0             3000  ...   \n",
       "3                    10.0          0.0                0  ...   \n",
       "4                     5.0          0.0                0  ...   \n",
       "\n",
       "   revenue_model_subscription_Imputed  revenue_model_freemium_Imputed  \\\n",
       "0                                 1.0                             0.0   \n",
       "1                                 1.0                             0.0   \n",
       "2                                 1.0                             1.0   \n",
       "3                                 1.0                             0.0   \n",
       "4                                 1.0                             0.0   \n",
       "\n",
       "   revenue_model_advertising_Imputed  revenue_model_licensing_Imputed  \\\n",
       "0                                0.0                              0.0   \n",
       "1                                1.0                              0.0   \n",
       "2                                1.0                              0.0   \n",
       "3                                0.0                              0.0   \n",
       "4                                0.0                              0.0   \n",
       "\n",
       "   customer_type - B-to-B-to-C_Imputed  customer_type - B-to-B_Imputed  \\\n",
       "0                                  1.0                             0.0   \n",
       "1                                  1.0                             1.0   \n",
       "2                                  0.0                             1.0   \n",
       "3                                  0.0                             1.0   \n",
       "4                                  0.0                             1.0   \n",
       "\n",
       "   customer_type - B-to-C_Imputed  customer_type - B-to-G_Imputed  \\\n",
       "0                             0.0                             0.0   \n",
       "1                             1.0                             0.0   \n",
       "2                             0.0                             0.0   \n",
       "3                             0.0                             0.0   \n",
       "4                             0.0                             1.0   \n",
       "\n",
       "   percent_increase_in_revenue  percent_increase_in_users  \n",
       "0                     9.459459                   9.782609  \n",
       "1                    43.744532                  69.230769  \n",
       "2                 25000.000000                  24.997500  \n",
       "3                   -14.446054                 -20.588235  \n",
       "4                   -49.765258                 -25.000000  \n",
       "\n",
       "[5 rows x 55 columns]"
      ]
     },
     "execution_count": 3,
     "metadata": {},
     "output_type": "execute_result"
    }
   ],
   "source": [
    "df.head()"
   ]
  },
  {
   "cell_type": "code",
   "execution_count": 4,
   "metadata": {},
   "outputs": [],
   "source": [
    "feats = ['status_of_funding_STATUS',\n",
    " 'country',\n",
    " 'industry',\n",
    " 'business_stage',\n",
    " 'year_segment',\n",
    " 'role_0',\n",
    " 'country_0',\n",
    " 'role_1']\n",
    "df_final = pd.get_dummies(df,columns=feats,drop_first=True)"
   ]
  },
  {
   "cell_type": "code",
   "execution_count": 5,
   "metadata": {},
   "outputs": [
    {
     "data": {
      "text/plain": [
       "(4244, 1826)"
      ]
     },
     "execution_count": 5,
     "metadata": {},
     "output_type": "execute_result"
    }
   ],
   "source": [
    "df_final.shape\n"
   ]
  },
  {
   "cell_type": "code",
   "execution_count": 6,
   "metadata": {},
   "outputs": [],
   "source": [
    "from sklearn.model_selection import train_test_split"
   ]
  },
  {
   "cell_type": "code",
   "execution_count": 7,
   "metadata": {},
   "outputs": [],
   "source": [
    "X = df_final.drop(['website_active'],axis=1).values\n",
    "y = df_final['website_active'].values"
   ]
  },
  {
   "cell_type": "code",
   "execution_count": 8,
   "metadata": {},
   "outputs": [],
   "source": [
    "X_train, X_test, y_train, y_test = train_test_split(X, y, test_size=0.2)"
   ]
  },
  {
   "cell_type": "markdown",
   "metadata": {},
   "source": [
    "# Transforming the data"
   ]
  },
  {
   "cell_type": "code",
   "execution_count": 9,
   "metadata": {},
   "outputs": [],
   "source": [
    "from sklearn.preprocessing import StandardScaler\n",
    "sc = StandardScaler()\n",
    "X_train = sc.fit_transform(X_train)\n",
    "X_test = sc.transform(X_test)"
   ]
  },
  {
   "cell_type": "code",
   "execution_count": 10,
   "metadata": {},
   "outputs": [],
   "source": [
    "from sklearn.manifold import TSNE"
   ]
  },
  {
   "cell_type": "code",
   "execution_count": 11,
   "metadata": {},
   "outputs": [],
   "source": [
    "\n",
    "#tsne = TSNE()\n",
    "#tsne_data = tsne.fit_transform(scaler.fit_transform(num_data))\n",
    "#X_train = tsne.fit_transform(X_train)\n",
    "#X_test = tsne.fit_transform(X_test)"
   ]
  },
  {
   "cell_type": "code",
   "execution_count": 12,
   "metadata": {},
   "outputs": [
    {
     "data": {
      "text/plain": [
       "(3395, 1825)"
      ]
     },
     "execution_count": 12,
     "metadata": {},
     "output_type": "execute_result"
    }
   ],
   "source": [
    "X_train.shape"
   ]
  },
  {
   "cell_type": "code",
   "execution_count": 13,
   "metadata": {},
   "outputs": [
    {
     "data": {
      "text/plain": [
       "(849, 1825)"
      ]
     },
     "execution_count": 13,
     "metadata": {},
     "output_type": "execute_result"
    }
   ],
   "source": [
    "X_test.shape"
   ]
  },
  {
   "cell_type": "markdown",
   "metadata": {},
   "source": [
    "# Building Artificial Neural Network"
   ]
  },
  {
   "cell_type": "code",
   "execution_count": 14,
   "metadata": {},
   "outputs": [
    {
     "name": "stderr",
     "output_type": "stream",
     "text": [
      "Using TensorFlow backend.\n",
      "C:\\Users\\meral\\anaconda3\\lib\\site-packages\\tensorflow\\python\\framework\\dtypes.py:516: FutureWarning: Passing (type, 1) or '1type' as a synonym of type is deprecated; in a future version of numpy, it will be understood as (type, (1,)) / '(1,)type'.\n",
      "  _np_qint8 = np.dtype([(\"qint8\", np.int8, 1)])\n",
      "C:\\Users\\meral\\anaconda3\\lib\\site-packages\\tensorflow\\python\\framework\\dtypes.py:517: FutureWarning: Passing (type, 1) or '1type' as a synonym of type is deprecated; in a future version of numpy, it will be understood as (type, (1,)) / '(1,)type'.\n",
      "  _np_quint8 = np.dtype([(\"quint8\", np.uint8, 1)])\n",
      "C:\\Users\\meral\\anaconda3\\lib\\site-packages\\tensorflow\\python\\framework\\dtypes.py:518: FutureWarning: Passing (type, 1) or '1type' as a synonym of type is deprecated; in a future version of numpy, it will be understood as (type, (1,)) / '(1,)type'.\n",
      "  _np_qint16 = np.dtype([(\"qint16\", np.int16, 1)])\n",
      "C:\\Users\\meral\\anaconda3\\lib\\site-packages\\tensorflow\\python\\framework\\dtypes.py:519: FutureWarning: Passing (type, 1) or '1type' as a synonym of type is deprecated; in a future version of numpy, it will be understood as (type, (1,)) / '(1,)type'.\n",
      "  _np_quint16 = np.dtype([(\"quint16\", np.uint16, 1)])\n",
      "C:\\Users\\meral\\anaconda3\\lib\\site-packages\\tensorflow\\python\\framework\\dtypes.py:520: FutureWarning: Passing (type, 1) or '1type' as a synonym of type is deprecated; in a future version of numpy, it will be understood as (type, (1,)) / '(1,)type'.\n",
      "  _np_qint32 = np.dtype([(\"qint32\", np.int32, 1)])\n",
      "C:\\Users\\meral\\anaconda3\\lib\\site-packages\\tensorflow\\python\\framework\\dtypes.py:525: FutureWarning: Passing (type, 1) or '1type' as a synonym of type is deprecated; in a future version of numpy, it will be understood as (type, (1,)) / '(1,)type'.\n",
      "  np_resource = np.dtype([(\"resource\", np.ubyte, 1)])\n",
      "C:\\Users\\meral\\anaconda3\\lib\\site-packages\\tensorboard\\compat\\tensorflow_stub\\dtypes.py:541: FutureWarning: Passing (type, 1) or '1type' as a synonym of type is deprecated; in a future version of numpy, it will be understood as (type, (1,)) / '(1,)type'.\n",
      "  _np_qint8 = np.dtype([(\"qint8\", np.int8, 1)])\n",
      "C:\\Users\\meral\\anaconda3\\lib\\site-packages\\tensorboard\\compat\\tensorflow_stub\\dtypes.py:542: FutureWarning: Passing (type, 1) or '1type' as a synonym of type is deprecated; in a future version of numpy, it will be understood as (type, (1,)) / '(1,)type'.\n",
      "  _np_quint8 = np.dtype([(\"quint8\", np.uint8, 1)])\n",
      "C:\\Users\\meral\\anaconda3\\lib\\site-packages\\tensorboard\\compat\\tensorflow_stub\\dtypes.py:543: FutureWarning: Passing (type, 1) or '1type' as a synonym of type is deprecated; in a future version of numpy, it will be understood as (type, (1,)) / '(1,)type'.\n",
      "  _np_qint16 = np.dtype([(\"qint16\", np.int16, 1)])\n",
      "C:\\Users\\meral\\anaconda3\\lib\\site-packages\\tensorboard\\compat\\tensorflow_stub\\dtypes.py:544: FutureWarning: Passing (type, 1) or '1type' as a synonym of type is deprecated; in a future version of numpy, it will be understood as (type, (1,)) / '(1,)type'.\n",
      "  _np_quint16 = np.dtype([(\"quint16\", np.uint16, 1)])\n",
      "C:\\Users\\meral\\anaconda3\\lib\\site-packages\\tensorboard\\compat\\tensorflow_stub\\dtypes.py:545: FutureWarning: Passing (type, 1) or '1type' as a synonym of type is deprecated; in a future version of numpy, it will be understood as (type, (1,)) / '(1,)type'.\n",
      "  _np_qint32 = np.dtype([(\"qint32\", np.int32, 1)])\n",
      "C:\\Users\\meral\\anaconda3\\lib\\site-packages\\tensorboard\\compat\\tensorflow_stub\\dtypes.py:550: FutureWarning: Passing (type, 1) or '1type' as a synonym of type is deprecated; in a future version of numpy, it will be understood as (type, (1,)) / '(1,)type'.\n",
      "  np_resource = np.dtype([(\"resource\", np.ubyte, 1)])\n"
     ]
    }
   ],
   "source": [
    "import keras\n",
    "from keras.models import Sequential\n",
    "from keras.layers import Dense"
   ]
  },
  {
   "cell_type": "code",
   "execution_count": 15,
   "metadata": {},
   "outputs": [],
   "source": [
    "classifier = Sequential()"
   ]
  },
  {
   "cell_type": "code",
   "execution_count": 16,
   "metadata": {},
   "outputs": [],
   "source": [
    "classifier.add(Dense(9, kernel_initializer = \"uniform\",activation = \"relu\", input_dim=1825))"
   ]
  },
  {
   "cell_type": "code",
   "execution_count": 17,
   "metadata": {},
   "outputs": [],
   "source": [
    "classifier.add(Dense(1, kernel_initializer = \"uniform\",activation = \"sigmoid\"))"
   ]
  },
  {
   "cell_type": "code",
   "execution_count": 18,
   "metadata": {},
   "outputs": [
    {
     "name": "stdout",
     "output_type": "stream",
     "text": [
      "WARNING:tensorflow:From C:\\Users\\meral\\anaconda3\\lib\\site-packages\\tensorflow\\python\\ops\\nn_impl.py:180: add_dispatch_support.<locals>.wrapper (from tensorflow.python.ops.array_ops) is deprecated and will be removed in a future version.\n",
      "Instructions for updating:\n",
      "Use tf.where in 2.0, which has the same broadcast rule as np.where\n"
     ]
    }
   ],
   "source": [
    "classifier.compile(optimizer= \"adam\",loss = \"binary_crossentropy\",metrics = [\"accuracy\"])"
   ]
  },
  {
   "cell_type": "code",
   "execution_count": 19,
   "metadata": {},
   "outputs": [
    {
     "name": "stdout",
     "output_type": "stream",
     "text": [
      "WARNING:tensorflow:From C:\\Users\\meral\\anaconda3\\lib\\site-packages\\keras\\backend\\tensorflow_backend.py:422: The name tf.global_variables is deprecated. Please use tf.compat.v1.global_variables instead.\n",
      "\n",
      "Epoch 1/1\n",
      "3395/3395 [==============================] - 0s 97us/step - loss: 0.6205 - accuracy: 0.6851\n"
     ]
    },
    {
     "data": {
      "text/plain": [
       "<keras.callbacks.callbacks.History at 0x29249a971c8>"
      ]
     },
     "execution_count": 19,
     "metadata": {},
     "output_type": "execute_result"
    }
   ],
   "source": [
    "classifier.fit(X_train, y_train, batch_size = 10, epochs = 1)"
   ]
  },
  {
   "cell_type": "markdown",
   "metadata": {},
   "source": [
    "# Running predictions on the Test Set"
   ]
  },
  {
   "cell_type": "code",
   "execution_count": 20,
   "metadata": {},
   "outputs": [],
   "source": [
    "y_pred = classifier.predict(X_test)"
   ]
  },
  {
   "cell_type": "code",
   "execution_count": 21,
   "metadata": {},
   "outputs": [],
   "source": [
    "#Since you’ve already trained the classifier with the training set, \n",
    "#this code will use the learning from the training process to make predictions on the test set. \n",
    "#This will give you the probabilities of website is active. You’ll work with a probability of 50% and above to indicate a high chance of the website activity the company.\n",
    "y_pred = (y_pred > 0.5)"
   ]
  },
  {
   "cell_type": "markdown",
   "metadata": {},
   "source": [
    "# Checking the Confusion Matrix"
   ]
  },
  {
   "cell_type": "code",
   "execution_count": 22,
   "metadata": {},
   "outputs": [
    {
     "data": {
      "text/plain": [
       "array([[  0, 252],\n",
       "       [  0, 597]], dtype=int64)"
      ]
     },
     "execution_count": 22,
     "metadata": {},
     "output_type": "execute_result"
    }
   ],
   "source": [
    "from sklearn.metrics import confusion_matrix\n",
    "cm = confusion_matrix(y_test, y_pred)\n",
    "cm"
   ]
  },
  {
   "cell_type": "markdown",
   "metadata": {},
   "source": [
    "# Improving the Model Accuracy"
   ]
  },
  {
   "cell_type": "code",
   "execution_count": 23,
   "metadata": {},
   "outputs": [],
   "source": [
    "from keras.wrappers.scikit_learn import KerasClassifier\n",
    "from sklearn.model_selection import cross_val_score"
   ]
  },
  {
   "cell_type": "code",
   "execution_count": 24,
   "metadata": {},
   "outputs": [],
   "source": [
    "def make_classifier():\n",
    "    classifier = Sequential()\n",
    "    classifier.add(Dense(9, kernel_initializer = \"uniform\", activation = \"relu\", input_dim=1825))\n",
    "    classifier.add(Dense(1, kernel_initializer = \"uniform\", activation = \"sigmoid\"))\n",
    "    classifier.compile(optimizer= \"adam\",loss = \"binary_crossentropy\",metrics = [\"accuracy\"])\n",
    "    return classifier"
   ]
  },
  {
   "cell_type": "code",
   "execution_count": 25,
   "metadata": {},
   "outputs": [],
   "source": [
    "classifier = KerasClassifier(build_fn = make_classifier, batch_size=10, nb_epoch=1)"
   ]
  },
  {
   "cell_type": "code",
   "execution_count": 26,
   "metadata": {},
   "outputs": [],
   "source": [
    "accuracies = cross_val_score(estimator = classifier,X = X_train,y = y_train,cv = 10,n_jobs = -1)\n",
    " \n"
   ]
  },
  {
   "cell_type": "code",
   "execution_count": 27,
   "metadata": {},
   "outputs": [
    {
     "data": {
      "text/plain": [
       "0.70104199051857"
      ]
     },
     "execution_count": 27,
     "metadata": {},
     "output_type": "execute_result"
    }
   ],
   "source": [
    "mean = accuracies.mean()\n",
    "mean"
   ]
  },
  {
   "cell_type": "code",
   "execution_count": 28,
   "metadata": {},
   "outputs": [
    {
     "data": {
      "text/plain": [
       "0.00018278310437086276"
      ]
     },
     "execution_count": 28,
     "metadata": {},
     "output_type": "execute_result"
    }
   ],
   "source": [
    "variance = accuracies.var()\n",
    "variance"
   ]
  },
  {
   "cell_type": "code",
   "execution_count": 29,
   "metadata": {},
   "outputs": [],
   "source": [
    "#You’ve improved your model’s accuracy by using K-Fold cross-validation. \n",
    "#In the next step, you’ll work on the overfitting problem."
   ]
  },
  {
   "cell_type": "markdown",
   "metadata": {},
   "source": [
    "# Adding Dropout Regularization to Fight Over-Fitting"
   ]
  },
  {
   "cell_type": "code",
   "execution_count": 30,
   "metadata": {},
   "outputs": [],
   "source": [
    "from keras.layers import Dropout\n",
    "\n",
    "classifier = Sequential()\n",
    "classifier.add(Dense(9, kernel_initializer = \"uniform\", activation = \"relu\", input_dim=1825))\n",
    "classifier.add(Dropout(rate = 0.1))\n",
    "classifier.add(Dense(1, kernel_initializer = \"uniform\", activation = \"sigmoid\"))\n",
    "classifier.compile(optimizer= \"adam\",loss = \"binary_crossentropy\",metrics = [\"accuracy\"])"
   ]
  },
  {
   "cell_type": "markdown",
   "metadata": {},
   "source": [
    "# Hyperparameter Tuning"
   ]
  },
  {
   "cell_type": "code",
   "execution_count": 31,
   "metadata": {},
   "outputs": [],
   "source": [
    "from sklearn.model_selection import GridSearchCV\n",
    "def make_classifier(optimizer):\n",
    "    classifier = Sequential()\n",
    "    classifier.add(Dense(9, kernel_initializer = \"uniform\", activation = \"relu\", input_dim=1825))\n",
    "    classifier.add(Dense(1, kernel_initializer = \"uniform\", activation = \"sigmoid\"))\n",
    "    classifier.compile(optimizer= optimizer,loss = \"binary_crossentropy\",metrics = [\"accuracy\"])\n",
    "    return classifier"
   ]
  },
  {
   "cell_type": "code",
   "execution_count": 32,
   "metadata": {},
   "outputs": [],
   "source": [
    "classifier = KerasClassifier(build_fn = make_classifier)"
   ]
  },
  {
   "cell_type": "code",
   "execution_count": 33,
   "metadata": {},
   "outputs": [],
   "source": [
    "params = {\n",
    "    'batch_size':[20,35],\n",
    "    'epochs':[2,3],\n",
    "    'optimizer':['adam','rmsprop']\n",
    "}"
   ]
  },
  {
   "cell_type": "code",
   "execution_count": 34,
   "metadata": {},
   "outputs": [],
   "source": [
    "grid_search = GridSearchCV(estimator=classifier,\n",
    "                           param_grid=params,\n",
    "                           scoring=\"accuracy\",\n",
    "                           cv=2)"
   ]
  },
  {
   "cell_type": "code",
   "execution_count": 35,
   "metadata": {},
   "outputs": [
    {
     "name": "stdout",
     "output_type": "stream",
     "text": [
      "Epoch 1/2\n",
      "1697/1697 [==============================] - 0s 98us/step - loss: 0.6484 - accuracy: 0.7012\n",
      "Epoch 2/2\n",
      "1697/1697 [==============================] - 0s 85us/step - loss: 0.5675 - accuracy: 0.7083\n",
      "Epoch 1/2\n",
      "1698/1698 [==============================] - 0s 112us/step - loss: 0.6544 - accuracy: 0.6631\n",
      "Epoch 2/2\n",
      "1698/1698 [==============================] - 0s 47us/step - loss: 0.5692 - accuracy: 0.6938\n",
      "Epoch 1/2\n",
      "1697/1697 [==============================] - 0s 99us/step - loss: 0.6646 - accuracy: 0.6612\n",
      "Epoch 2/2\n",
      "1697/1697 [==============================] - 0s 42us/step - loss: 0.5914 - accuracy: 0.7083\n",
      "Epoch 1/2\n",
      "1698/1698 [==============================] - 0s 96us/step - loss: 0.6634 - accuracy: 0.6519\n",
      "Epoch 2/2\n",
      "1698/1698 [==============================] - 0s 46us/step - loss: 0.5991 - accuracy: 0.6938\n",
      "Epoch 1/3\n",
      "1697/1697 [==============================] - 0s 107us/step - loss: 0.6664 - accuracy: 0.6547\n",
      "Epoch 2/3\n",
      "1697/1697 [==============================] - 0s 50us/step - loss: 0.5825 - accuracy: 0.7083\n",
      "Epoch 3/3\n",
      "1697/1697 [==============================] - 0s 50us/step - loss: 0.5146 - accuracy: 0.7083\n",
      "Epoch 1/3\n",
      "1698/1698 [==============================] - 0s 121us/step - loss: 0.6560 - accuracy: 0.6667\n",
      "Epoch 2/3\n",
      "1698/1698 [==============================] - 0s 50us/step - loss: 0.5757 - accuracy: 0.6938\n",
      "Epoch 3/3\n",
      "1698/1698 [==============================] - 0s 50us/step - loss: 0.5170 - accuracy: 0.6938\n",
      "Epoch 1/3\n",
      "1697/1697 [==============================] - 0s 116us/step - loss: 0.6542 - accuracy: 0.6700\n",
      "Epoch 2/3\n",
      "1697/1697 [==============================] - 0s 53us/step - loss: 0.5886 - accuracy: 0.7083\n",
      "Epoch 3/3\n",
      "1697/1697 [==============================] - 0s 57us/step - loss: 0.5507 - accuracy: 0.7083\n",
      "Epoch 1/3\n",
      "1698/1698 [==============================] - 0s 207us/step - loss: 0.6403 - accuracy: 0.6926\n",
      "Epoch 2/3\n",
      "1698/1698 [==============================] - 0s 100us/step - loss: 0.5808 - accuracy: 0.6938\n",
      "Epoch 3/3\n",
      "1698/1698 [==============================] - 0s 72us/step - loss: 0.5473 - accuracy: 0.6938\n",
      "Epoch 1/2\n",
      "1697/1697 [==============================] - 0s 107us/step - loss: 0.6701 - accuracy: 0.6741\n",
      "Epoch 2/2\n",
      "1697/1697 [==============================] - 0s 38us/step - loss: 0.5860 - accuracy: 0.7083\n",
      "Epoch 1/2\n",
      "1698/1698 [==============================] - 0s 124us/step - loss: 0.6721 - accuracy: 0.6490\n",
      "Epoch 2/2\n",
      "1698/1698 [==============================] - 0s 46us/step - loss: 0.5958 - accuracy: 0.6938\n",
      "Epoch 1/2\n",
      "1697/1697 [==============================] - 0s 106us/step - loss: 0.6710 - accuracy: 0.6411\n",
      "Epoch 2/2\n",
      "1697/1697 [==============================] - 0s 39us/step - loss: 0.5955 - accuracy: 0.7083\n",
      "Epoch 1/2\n",
      "1698/1698 [==============================] - 0s 160us/step - loss: 0.6579 - accuracy: 0.6843\n",
      "Epoch 2/2\n",
      "1698/1698 [==============================] - 0s 58us/step - loss: 0.5911 - accuracy: 0.6938\n",
      "Epoch 1/3\n",
      "1697/1697 [==============================] - 0s 122us/step - loss: 0.6649 - accuracy: 0.6859\n",
      "Epoch 2/3\n",
      "1697/1697 [==============================] - 0s 44us/step - loss: 0.5826 - accuracy: 0.7083\n",
      "Epoch 3/3\n",
      "1697/1697 [==============================] - 0s 45us/step - loss: 0.5264 - accuracy: 0.7083\n",
      "Epoch 1/3\n",
      "1698/1698 [==============================] - 0s 126us/step - loss: 0.6788 - accuracy: 0.6031\n",
      "Epoch 2/3\n",
      "1698/1698 [==============================] - 0s 45us/step - loss: 0.6056 - accuracy: 0.6938\n",
      "Epoch 3/3\n",
      "1698/1698 [==============================] - 0s 47us/step - loss: 0.5463 - accuracy: 0.6938\n",
      "Epoch 1/3\n",
      "1697/1697 [==============================] - 0s 114us/step - loss: 0.6686 - accuracy: 0.6370\n",
      "Epoch 2/3\n",
      "1697/1697 [==============================] - 0s 39us/step - loss: 0.6005 - accuracy: 0.7083\n",
      "Epoch 3/3\n",
      "1697/1697 [==============================] - 0s 41us/step - loss: 0.5619 - accuracy: 0.7083\n",
      "Epoch 1/3\n",
      "1698/1698 [==============================] - 0s 129us/step - loss: 0.6645 - accuracy: 0.6572\n",
      "Epoch 2/3\n",
      "1698/1698 [==============================] - 0s 53us/step - loss: 0.5986 - accuracy: 0.6938\n",
      "Epoch 3/3\n",
      "1698/1698 [==============================] - 0s 45us/step - loss: 0.5618 - accuracy: 0.6938\n",
      "Epoch 1/2\n",
      "3395/3395 [==============================] - 0s 135us/step - loss: 0.6395 - accuracy: 0.6825\n",
      "Epoch 2/2\n",
      "3395/3395 [==============================] - 0s 70us/step - loss: 0.5728 - accuracy: 0.7010\n"
     ]
    }
   ],
   "source": [
    "grid_search = grid_search.fit(X_train,y_train)"
   ]
  },
  {
   "cell_type": "code",
   "execution_count": 36,
   "metadata": {},
   "outputs": [],
   "source": [
    "best_param = grid_search.best_params_\n",
    "best_accuracy = grid_search.best_score_"
   ]
  },
  {
   "cell_type": "code",
   "execution_count": 37,
   "metadata": {},
   "outputs": [
    {
     "data": {
      "text/plain": [
       "{'batch_size': 20, 'epochs': 2, 'optimizer': 'rmsprop'}"
      ]
     },
     "execution_count": 37,
     "metadata": {},
     "output_type": "execute_result"
    }
   ],
   "source": [
    "best_param"
   ]
  },
  {
   "cell_type": "code",
   "execution_count": 38,
   "metadata": {},
   "outputs": [
    {
     "data": {
      "text/plain": [
       "0.7010330709011191"
      ]
     },
     "execution_count": 38,
     "metadata": {},
     "output_type": "execute_result"
    }
   ],
   "source": [
    "best_accuracy"
   ]
  },
  {
   "cell_type": "code",
   "execution_count": null,
   "metadata": {},
   "outputs": [],
   "source": []
  },
  {
   "cell_type": "code",
   "execution_count": null,
   "metadata": {},
   "outputs": [],
   "source": []
  }
 ],
 "metadata": {
  "kernelspec": {
   "display_name": "Python 3",
   "language": "python",
   "name": "python3"
  },
  "language_info": {
   "codemirror_mode": {
    "name": "ipython",
    "version": 3
   },
   "file_extension": ".py",
   "mimetype": "text/x-python",
   "name": "python",
   "nbconvert_exporter": "python",
   "pygments_lexer": "ipython3",
   "version": "3.7.6"
  }
 },
 "nbformat": 4,
 "nbformat_minor": 4
}
