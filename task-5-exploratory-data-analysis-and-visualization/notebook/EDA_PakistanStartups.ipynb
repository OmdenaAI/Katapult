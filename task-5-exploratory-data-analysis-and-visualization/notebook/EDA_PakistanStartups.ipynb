{
  "nbformat": 4,
  "nbformat_minor": 0,
  "metadata": {
    "colab": {
      "name": "EDA_PakistanStartups.ipynb",
      "provenance": [],
      "include_colab_link": true
    },
    "kernelspec": {
      "name": "python3",
      "display_name": "Python 3"
    }
  },
  "cells": [
    {
      "cell_type": "markdown",
      "metadata": {
        "id": "view-in-github",
        "colab_type": "text"
      },
      "source": [
        "<a href=\"https://colab.research.google.com/github/OmdenaAI/Katapult/blob/main/task-5-exploratory-data-analysis-and-visualization/notebook/EDA_PakistanStartups.ipynb\" target=\"_parent\"><img src=\"https://colab.research.google.com/assets/colab-badge.svg\" alt=\"Open In Colab\"/></a>"
      ]
    },
    {
      "cell_type": "markdown",
      "metadata": {
        "id": "E8PPlg9W_e4-"
      },
      "source": [
        "[Pakistani Funded Startup Data dataset from Kaggle](https://www.kaggle.com/hasnainajmal281/pakistani-funded-startup-data)"
      ]
    },
    {
      "cell_type": "markdown",
      "metadata": {
        "id": "FmmeDTEM6on2"
      },
      "source": [
        ""
      ]
    },
    {
      "cell_type": "markdown",
      "metadata": {
        "id": "-Q4vNahM5Ql2"
      },
      "source": [
        "**Testing Google colab with GitHub**"
      ]
    },
    {
      "cell_type": "code",
      "metadata": {
        "id": "PTGOVk2_aL-d"
      },
      "source": [
        "import pandas as pd\n",
        "import seaborn as sns\n",
        "import matplotlib.pyplot as plt"
      ],
      "execution_count": 1,
      "outputs": []
    },
    {
      "cell_type": "markdown",
      "metadata": {
        "id": "2KNpTonwZTY_"
      },
      "source": [
        "## Loading Data"
      ]
    },
    {
      "cell_type": "code",
      "metadata": {
        "id": "5k4EcqPgawkA"
      },
      "source": [
        "startups = pd.read_excel('FundedStartupsPakistan.xlsx', sheet_name = 0)\n",
        "investors = pd.read_excel('FundedStartupsPakistan.xlsx', sheet_name = 2)"
      ],
      "execution_count": null,
      "outputs": []
    },
    {
      "cell_type": "code",
      "metadata": {
        "colab": {
          "base_uri": "https://localhost:8080/"
        },
        "id": "m0ceMKJSfYxA",
        "outputId": "69e8b16f-0ae6-47e9-e24e-d05bb753fae5"
      },
      "source": [
        "startups.shape"
      ],
      "execution_count": null,
      "outputs": [
        {
          "output_type": "execute_result",
          "data": {
            "text/plain": [
              "(113, 36)"
            ]
          },
          "metadata": {
            "tags": []
          },
          "execution_count": 3
        }
      ]
    },
    {
      "cell_type": "code",
      "metadata": {
        "id": "B26mXcZugRDD",
        "colab": {
          "base_uri": "https://localhost:8080/",
          "height": 411
        },
        "outputId": "3ccbb2ff-12b0-4455-81a0-488c908cd312"
      },
      "source": [
        "startups.sample(5)"
      ],
      "execution_count": null,
      "outputs": [
        {
          "output_type": "execute_result",
          "data": {
            "text/html": [
              "<div>\n",
              "<style scoped>\n",
              "    .dataframe tbody tr th:only-of-type {\n",
              "        vertical-align: middle;\n",
              "    }\n",
              "\n",
              "    .dataframe tbody tr th {\n",
              "        vertical-align: top;\n",
              "    }\n",
              "\n",
              "    .dataframe thead th {\n",
              "        text-align: right;\n",
              "    }\n",
              "</style>\n",
              "<table border=\"1\" class=\"dataframe\">\n",
              "  <thead>\n",
              "    <tr style=\"text-align: right;\">\n",
              "      <th></th>\n",
              "      <th>Startup name</th>\n",
              "      <th>Active (opinion by CMs)</th>\n",
              "      <th>Last edited by</th>\n",
              "      <th>Location</th>\n",
              "      <th>HQ</th>\n",
              "      <th>Founded date</th>\n",
              "      <th>Industry (Vertical)</th>\n",
              "      <th>Horizontal</th>\n",
              "      <th>Operating status</th>\n",
              "      <th>Funding status</th>\n",
              "      <th>Employees</th>\n",
              "      <th>Founder 1</th>\n",
              "      <th>Founder 2</th>\n",
              "      <th>Founder 3</th>\n",
              "      <th>Founder 4</th>\n",
              "      <th>Founder 5</th>\n",
              "      <th>Unnamed: 16</th>\n",
              "      <th>Website</th>\n",
              "      <th>Social media URLs</th>\n",
              "      <th>Email</th>\n",
              "      <th>Phone</th>\n",
              "      <th>Funding round 1 (Investment)</th>\n",
              "      <th>Founder round 1 investors</th>\n",
              "      <th>Funding round 1 date</th>\n",
              "      <th>Funding round 2 (Investment)</th>\n",
              "      <th>Founder round 2 investors</th>\n",
              "      <th>Funding round 2 date</th>\n",
              "      <th>Funding round 3 (Investment)</th>\n",
              "      <th>Founder round 3 investors</th>\n",
              "      <th>Funding round 3 date</th>\n",
              "      <th>Funding round 4 (Investment)</th>\n",
              "      <th>Founder round 4 investors</th>\n",
              "      <th>Funding round 4 date</th>\n",
              "      <th>Funding round 5 (Investment)</th>\n",
              "      <th>Founder round 5 investors</th>\n",
              "      <th>Funding round 5 date</th>\n",
              "    </tr>\n",
              "  </thead>\n",
              "  <tbody>\n",
              "    <tr>\n",
              "      <th>26</th>\n",
              "      <td>Bazaar Technologies</td>\n",
              "      <td>NaN</td>\n",
              "      <td>-</td>\n",
              "      <td>Karachi, Sindh, Pakistan</td>\n",
              "      <td>Asia-Pacific (APAC)</td>\n",
              "      <td>2020-01-05 00:00:00</td>\n",
              "      <td>Retail</td>\n",
              "      <td>B2B,E-commerce</td>\n",
              "      <td>Active</td>\n",
              "      <td>Pre-seed</td>\n",
              "      <td>11 to 50</td>\n",
              "      <td>Hamza Jawaid</td>\n",
              "      <td>Saad Jangda</td>\n",
              "      <td>-</td>\n",
              "      <td>-</td>\n",
              "      <td>-</td>\n",
              "      <td>NaN</td>\n",
              "      <td>www.bazaar-tech.com</td>\n",
              "      <td>https://www.linkedin.com/company/bazaartechnol...</td>\n",
              "      <td>hello@bazaar-tech.com</td>\n",
              "      <td>NaN</td>\n",
              "      <td>1300000</td>\n",
              "      <td>Indus Valley Capital, Alter Global</td>\n",
              "      <td>2020-01-06 00:00:00</td>\n",
              "      <td>NaN</td>\n",
              "      <td>NaN</td>\n",
              "      <td>NaN</td>\n",
              "      <td>NaN</td>\n",
              "      <td>NaN</td>\n",
              "      <td>NaN</td>\n",
              "      <td>NaN</td>\n",
              "      <td>NaN</td>\n",
              "      <td>NaN</td>\n",
              "      <td>NaN</td>\n",
              "      <td>NaN</td>\n",
              "      <td>NaN</td>\n",
              "    </tr>\n",
              "    <tr>\n",
              "      <th>45</th>\n",
              "      <td>FindMyAdventure</td>\n",
              "      <td>Y</td>\n",
              "      <td>-</td>\n",
              "      <td>Karachi, Sindh, Pakistan</td>\n",
              "      <td>Asia-Pacific</td>\n",
              "      <td>2016-08-01 00:00:00</td>\n",
              "      <td>Adventure Travel</td>\n",
              "      <td>E- commerce</td>\n",
              "      <td>Active</td>\n",
              "      <td>Seed</td>\n",
              "      <td>11 to 50</td>\n",
              "      <td>Muhammad Komail Abbas</td>\n",
              "      <td>-</td>\n",
              "      <td>-</td>\n",
              "      <td>-</td>\n",
              "      <td>-</td>\n",
              "      <td>NaN</td>\n",
              "      <td>http://www.findmyadventure.pk/</td>\n",
              "      <td>https://www.facebook.com/findmyadventure</td>\n",
              "      <td>team@findmyadventure.pk</td>\n",
              "      <td>0333-0596362</td>\n",
              "      <td>-</td>\n",
              "      <td>NaN</td>\n",
              "      <td>2019-03-13 00:00:00</td>\n",
              "      <td>NaN</td>\n",
              "      <td>NaN</td>\n",
              "      <td>NaN</td>\n",
              "      <td>NaN</td>\n",
              "      <td>NaN</td>\n",
              "      <td>NaN</td>\n",
              "      <td>NaN</td>\n",
              "      <td>NaN</td>\n",
              "      <td>NaN</td>\n",
              "      <td>NaN</td>\n",
              "      <td>NaN</td>\n",
              "      <td>NaN</td>\n",
              "    </tr>\n",
              "    <tr>\n",
              "      <th>46</th>\n",
              "      <td>AzaadHealth</td>\n",
              "      <td>NaN</td>\n",
              "      <td>-</td>\n",
              "      <td>Karachi, Sindh, Pakistan</td>\n",
              "      <td>Asia-Pacific</td>\n",
              "      <td>2016-08-01 00:00:00</td>\n",
              "      <td>Medical</td>\n",
              "      <td>Big Data</td>\n",
              "      <td>Active</td>\n",
              "      <td>Seed</td>\n",
              "      <td>1 to 10</td>\n",
              "      <td>Inam Haq</td>\n",
              "      <td>Rehan uddin</td>\n",
              "      <td>Syed Abrar</td>\n",
              "      <td>-</td>\n",
              "      <td>-</td>\n",
              "      <td>NaN</td>\n",
              "      <td>https://www.azaadhealth.com/</td>\n",
              "      <td>https://www.facebook.com/AzaadHealth</td>\n",
              "      <td>abrar@azaadhealth.com</td>\n",
              "      <td>0345-2209627</td>\n",
              "      <td>NaN</td>\n",
              "      <td>NaN</td>\n",
              "      <td>2018-03-30 00:00:00</td>\n",
              "      <td>NaN</td>\n",
              "      <td>NaN</td>\n",
              "      <td>NaN</td>\n",
              "      <td>NaN</td>\n",
              "      <td>NaN</td>\n",
              "      <td>NaN</td>\n",
              "      <td>NaN</td>\n",
              "      <td>NaN</td>\n",
              "      <td>NaN</td>\n",
              "      <td>NaN</td>\n",
              "      <td>NaN</td>\n",
              "      <td>NaN</td>\n",
              "    </tr>\n",
              "    <tr>\n",
              "      <th>86</th>\n",
              "      <td>PriceMatch</td>\n",
              "      <td>NaN</td>\n",
              "      <td>-</td>\n",
              "      <td>Lahore, Pakistan</td>\n",
              "      <td>APAC</td>\n",
              "      <td>2012</td>\n",
              "      <td>Retail</td>\n",
              "      <td>Ecommerce</td>\n",
              "      <td>Active</td>\n",
              "      <td>Seed</td>\n",
              "      <td>NaN</td>\n",
              "      <td>NaN</td>\n",
              "      <td>NaN</td>\n",
              "      <td>NaN</td>\n",
              "      <td>-</td>\n",
              "      <td>-</td>\n",
              "      <td>NaN</td>\n",
              "      <td>http://pricematch.pk/</td>\n",
              "      <td>https://twitter.com/pricematchpk, https://www....</td>\n",
              "      <td>NaN</td>\n",
              "      <td>NaN</td>\n",
              "      <td>€90K</td>\n",
              "      <td>NaN</td>\n",
              "      <td>13-12-12</td>\n",
              "      <td>NaN</td>\n",
              "      <td>NaN</td>\n",
              "      <td>NaN</td>\n",
              "      <td>NaN</td>\n",
              "      <td>NaN</td>\n",
              "      <td>NaN</td>\n",
              "      <td>NaN</td>\n",
              "      <td>NaN</td>\n",
              "      <td>NaN</td>\n",
              "      <td>NaN</td>\n",
              "      <td>NaN</td>\n",
              "      <td>NaN</td>\n",
              "    </tr>\n",
              "    <tr>\n",
              "      <th>50</th>\n",
              "      <td>Sastaticket.pk</td>\n",
              "      <td>Y</td>\n",
              "      <td>-</td>\n",
              "      <td>Karachi, Sindh, Pakistan</td>\n",
              "      <td>Asia-Pacific</td>\n",
              "      <td>2016-01-01 00:00:00</td>\n",
              "      <td>Travel Agency</td>\n",
              "      <td>E- commerce</td>\n",
              "      <td>Active</td>\n",
              "      <td>Early Stage Venture</td>\n",
              "      <td>11 to 50</td>\n",
              "      <td>Bilal Mekhri</td>\n",
              "      <td>Shazil Mekhri</td>\n",
              "      <td>-</td>\n",
              "      <td>-</td>\n",
              "      <td>-</td>\n",
              "      <td>NaN</td>\n",
              "      <td>https://www.sastaticket.pk/</td>\n",
              "      <td>https://www.facebook.com/sastaticket.pk</td>\n",
              "      <td>https://twitter.com/sastaticketpk</td>\n",
              "      <td>021-111 172 782</td>\n",
              "      <td>1500000</td>\n",
              "      <td>Gobi Partners</td>\n",
              "      <td>2018-11-10 00:00:00</td>\n",
              "      <td>NaN</td>\n",
              "      <td>NaN</td>\n",
              "      <td>NaN</td>\n",
              "      <td>NaN</td>\n",
              "      <td>NaN</td>\n",
              "      <td>NaN</td>\n",
              "      <td>NaN</td>\n",
              "      <td>NaN</td>\n",
              "      <td>NaN</td>\n",
              "      <td>NaN</td>\n",
              "      <td>NaN</td>\n",
              "      <td>NaN</td>\n",
              "    </tr>\n",
              "  </tbody>\n",
              "</table>\n",
              "</div>"
            ],
            "text/plain": [
              "           Startup name  ... Funding round 5 date\n",
              "26  Bazaar Technologies  ...                  NaN\n",
              "45      FindMyAdventure  ...                  NaN\n",
              "46          AzaadHealth  ...                  NaN\n",
              "86           PriceMatch  ...                  NaN\n",
              "50       Sastaticket.pk  ...                  NaN\n",
              "\n",
              "[5 rows x 36 columns]"
            ]
          },
          "metadata": {
            "tags": []
          },
          "execution_count": 4
        }
      ]
    },
    {
      "cell_type": "code",
      "metadata": {
        "colab": {
          "base_uri": "https://localhost:8080/"
        },
        "id": "-QiQ0r8_h42_",
        "outputId": "c7a54a28-16bc-47f8-cff1-16b6f97e58bc"
      },
      "source": [
        "startups.duplicated().sum()"
      ],
      "execution_count": null,
      "outputs": [
        {
          "output_type": "execute_result",
          "data": {
            "text/plain": [
              "0"
            ]
          },
          "metadata": {
            "tags": []
          },
          "execution_count": 5
        }
      ]
    },
    {
      "cell_type": "code",
      "metadata": {
        "id": "ycZWnfduhU5h",
        "colab": {
          "base_uri": "https://localhost:8080/",
          "height": 1000
        },
        "outputId": "4a794a5f-f9a5-413d-e2fa-21d723a01ec7"
      },
      "source": [
        "percent_missing = startups.isnull().sum() * 100 / len(startups)\n",
        "missing_startups_df = pd.DataFrame({'column_name': startups.columns,\n",
        "                                 'percent_missing': percent_missing})\n",
        "missing_startups_df"
      ],
      "execution_count": null,
      "outputs": [
        {
          "output_type": "execute_result",
          "data": {
            "text/html": [
              "<div>\n",
              "<style scoped>\n",
              "    .dataframe tbody tr th:only-of-type {\n",
              "        vertical-align: middle;\n",
              "    }\n",
              "\n",
              "    .dataframe tbody tr th {\n",
              "        vertical-align: top;\n",
              "    }\n",
              "\n",
              "    .dataframe thead th {\n",
              "        text-align: right;\n",
              "    }\n",
              "</style>\n",
              "<table border=\"1\" class=\"dataframe\">\n",
              "  <thead>\n",
              "    <tr style=\"text-align: right;\">\n",
              "      <th></th>\n",
              "      <th>column_name</th>\n",
              "      <th>percent_missing</th>\n",
              "    </tr>\n",
              "  </thead>\n",
              "  <tbody>\n",
              "    <tr>\n",
              "      <th>Startup name</th>\n",
              "      <td>Startup name</td>\n",
              "      <td>0.000000</td>\n",
              "    </tr>\n",
              "    <tr>\n",
              "      <th>Active (opinion by CMs)</th>\n",
              "      <td>Active (opinion by CMs)</td>\n",
              "      <td>62.831858</td>\n",
              "    </tr>\n",
              "    <tr>\n",
              "      <th>Last edited by</th>\n",
              "      <td>Last edited by</td>\n",
              "      <td>2.654867</td>\n",
              "    </tr>\n",
              "    <tr>\n",
              "      <th>Location</th>\n",
              "      <td>Location</td>\n",
              "      <td>7.079646</td>\n",
              "    </tr>\n",
              "    <tr>\n",
              "      <th>HQ</th>\n",
              "      <td>HQ</td>\n",
              "      <td>7.079646</td>\n",
              "    </tr>\n",
              "    <tr>\n",
              "      <th>Founded date</th>\n",
              "      <td>Founded date</td>\n",
              "      <td>8.849558</td>\n",
              "    </tr>\n",
              "    <tr>\n",
              "      <th>Industry (Vertical)</th>\n",
              "      <td>Industry (Vertical)</td>\n",
              "      <td>10.619469</td>\n",
              "    </tr>\n",
              "    <tr>\n",
              "      <th>Horizontal</th>\n",
              "      <td>Horizontal</td>\n",
              "      <td>26.548673</td>\n",
              "    </tr>\n",
              "    <tr>\n",
              "      <th>Operating status</th>\n",
              "      <td>Operating status</td>\n",
              "      <td>7.079646</td>\n",
              "    </tr>\n",
              "    <tr>\n",
              "      <th>Funding status</th>\n",
              "      <td>Funding status</td>\n",
              "      <td>7.079646</td>\n",
              "    </tr>\n",
              "    <tr>\n",
              "      <th>Employees</th>\n",
              "      <td>Employees</td>\n",
              "      <td>12.389381</td>\n",
              "    </tr>\n",
              "    <tr>\n",
              "      <th>Founder 1</th>\n",
              "      <td>Founder 1</td>\n",
              "      <td>11.504425</td>\n",
              "    </tr>\n",
              "    <tr>\n",
              "      <th>Founder 2</th>\n",
              "      <td>Founder 2</td>\n",
              "      <td>13.274336</td>\n",
              "    </tr>\n",
              "    <tr>\n",
              "      <th>Founder 3</th>\n",
              "      <td>Founder 3</td>\n",
              "      <td>16.814159</td>\n",
              "    </tr>\n",
              "    <tr>\n",
              "      <th>Founder 4</th>\n",
              "      <td>Founder 4</td>\n",
              "      <td>7.079646</td>\n",
              "    </tr>\n",
              "    <tr>\n",
              "      <th>Founder 5</th>\n",
              "      <td>Founder 5</td>\n",
              "      <td>7.079646</td>\n",
              "    </tr>\n",
              "    <tr>\n",
              "      <th>Unnamed: 16</th>\n",
              "      <td>Unnamed: 16</td>\n",
              "      <td>100.000000</td>\n",
              "    </tr>\n",
              "    <tr>\n",
              "      <th>Website</th>\n",
              "      <td>Website</td>\n",
              "      <td>7.964602</td>\n",
              "    </tr>\n",
              "    <tr>\n",
              "      <th>Social media URLs</th>\n",
              "      <td>Social media URLs</td>\n",
              "      <td>28.318584</td>\n",
              "    </tr>\n",
              "    <tr>\n",
              "      <th>Email</th>\n",
              "      <td>Email</td>\n",
              "      <td>22.123894</td>\n",
              "    </tr>\n",
              "    <tr>\n",
              "      <th>Phone</th>\n",
              "      <td>Phone</td>\n",
              "      <td>38.053097</td>\n",
              "    </tr>\n",
              "    <tr>\n",
              "      <th>Funding round 1 (Investment)</th>\n",
              "      <td>Funding round 1 (Investment)</td>\n",
              "      <td>28.318584</td>\n",
              "    </tr>\n",
              "    <tr>\n",
              "      <th>Founder round 1 investors</th>\n",
              "      <td>Founder round 1 investors</td>\n",
              "      <td>45.132743</td>\n",
              "    </tr>\n",
              "    <tr>\n",
              "      <th>Funding round 1 date</th>\n",
              "      <td>Funding round 1 date</td>\n",
              "      <td>10.619469</td>\n",
              "    </tr>\n",
              "    <tr>\n",
              "      <th>Funding round 2 (Investment)</th>\n",
              "      <td>Funding round 2 (Investment)</td>\n",
              "      <td>65.486726</td>\n",
              "    </tr>\n",
              "    <tr>\n",
              "      <th>Founder round 2 investors</th>\n",
              "      <td>Founder round 2 investors</td>\n",
              "      <td>70.796460</td>\n",
              "    </tr>\n",
              "    <tr>\n",
              "      <th>Funding round 2 date</th>\n",
              "      <td>Funding round 2 date</td>\n",
              "      <td>63.716814</td>\n",
              "    </tr>\n",
              "    <tr>\n",
              "      <th>Funding round 3 (Investment)</th>\n",
              "      <td>Funding round 3 (Investment)</td>\n",
              "      <td>74.336283</td>\n",
              "    </tr>\n",
              "    <tr>\n",
              "      <th>Founder round 3 investors</th>\n",
              "      <td>Founder round 3 investors</td>\n",
              "      <td>76.991150</td>\n",
              "    </tr>\n",
              "    <tr>\n",
              "      <th>Funding round 3 date</th>\n",
              "      <td>Funding round 3 date</td>\n",
              "      <td>74.336283</td>\n",
              "    </tr>\n",
              "    <tr>\n",
              "      <th>Funding round 4 (Investment)</th>\n",
              "      <td>Funding round 4 (Investment)</td>\n",
              "      <td>77.876106</td>\n",
              "    </tr>\n",
              "    <tr>\n",
              "      <th>Founder round 4 investors</th>\n",
              "      <td>Founder round 4 investors</td>\n",
              "      <td>78.761062</td>\n",
              "    </tr>\n",
              "    <tr>\n",
              "      <th>Funding round 4 date</th>\n",
              "      <td>Funding round 4 date</td>\n",
              "      <td>77.876106</td>\n",
              "    </tr>\n",
              "    <tr>\n",
              "      <th>Funding round 5 (Investment)</th>\n",
              "      <td>Funding round 5 (Investment)</td>\n",
              "      <td>80.530973</td>\n",
              "    </tr>\n",
              "    <tr>\n",
              "      <th>Founder round 5 investors</th>\n",
              "      <td>Founder round 5 investors</td>\n",
              "      <td>80.530973</td>\n",
              "    </tr>\n",
              "    <tr>\n",
              "      <th>Funding round 5 date</th>\n",
              "      <td>Funding round 5 date</td>\n",
              "      <td>80.530973</td>\n",
              "    </tr>\n",
              "  </tbody>\n",
              "</table>\n",
              "</div>"
            ],
            "text/plain": [
              "                                               column_name  percent_missing\n",
              "Startup name                                  Startup name         0.000000\n",
              "Active (opinion by CMs)            Active (opinion by CMs)        62.831858\n",
              "Last edited by                              Last edited by         2.654867\n",
              "Location                                          Location         7.079646\n",
              "HQ                                                      HQ         7.079646\n",
              "Founded date                                  Founded date         8.849558\n",
              "Industry (Vertical)                    Industry (Vertical)        10.619469\n",
              "Horizontal                                      Horizontal        26.548673\n",
              "Operating status                          Operating status         7.079646\n",
              "Funding status                              Funding status         7.079646\n",
              "Employees                                        Employees        12.389381\n",
              "Founder 1                                        Founder 1        11.504425\n",
              "Founder 2                                        Founder 2        13.274336\n",
              "Founder 3                                        Founder 3        16.814159\n",
              "Founder 4                                        Founder 4         7.079646\n",
              "Founder 5                                        Founder 5         7.079646\n",
              "Unnamed: 16                                    Unnamed: 16       100.000000\n",
              "Website                                            Website         7.964602\n",
              "Social media URLs                        Social media URLs        28.318584\n",
              "Email                                                Email        22.123894\n",
              "Phone                                                Phone        38.053097\n",
              "Funding round 1 (Investment)  Funding round 1 (Investment)        28.318584\n",
              "Founder round 1 investors        Founder round 1 investors        45.132743\n",
              "Funding round 1 date                  Funding round 1 date        10.619469\n",
              "Funding round 2 (Investment)  Funding round 2 (Investment)        65.486726\n",
              "Founder round 2 investors        Founder round 2 investors        70.796460\n",
              "Funding round 2 date                  Funding round 2 date        63.716814\n",
              "Funding round 3 (Investment)  Funding round 3 (Investment)        74.336283\n",
              "Founder round 3 investors        Founder round 3 investors        76.991150\n",
              "Funding round 3 date                  Funding round 3 date        74.336283\n",
              "Funding round 4 (Investment)  Funding round 4 (Investment)        77.876106\n",
              "Founder round 4 investors        Founder round 4 investors        78.761062\n",
              "Funding round 4 date                  Funding round 4 date        77.876106\n",
              "Funding round 5 (Investment)  Funding round 5 (Investment)        80.530973\n",
              "Founder round 5 investors        Founder round 5 investors        80.530973\n",
              "Funding round 5 date                  Funding round 5 date        80.530973"
            ]
          },
          "metadata": {
            "tags": []
          },
          "execution_count": 6
        }
      ]
    },
    {
      "cell_type": "code",
      "metadata": {
        "id": "yjpKRQxwhpxf"
      },
      "source": [
        "startups = startups.rename(columns={'Startup name': 'Startup'})"
      ],
      "execution_count": null,
      "outputs": []
    },
    {
      "cell_type": "code",
      "metadata": {
        "id": "oAk1KjduHsdq"
      },
      "source": [
        "startups['Startup'] = startups['Startup'].apply(lambda x: x.lower())"
      ],
      "execution_count": null,
      "outputs": []
    },
    {
      "cell_type": "code",
      "metadata": {
        "colab": {
          "base_uri": "https://localhost:8080/"
        },
        "id": "MtVz-zUYfr_x",
        "outputId": "2d5c4103-0eb9-4320-ab4a-31367b018215"
      },
      "source": [
        "investors.shape"
      ],
      "execution_count": null,
      "outputs": [
        {
          "output_type": "execute_result",
          "data": {
            "text/plain": [
              "(143, 8)"
            ]
          },
          "metadata": {
            "tags": []
          },
          "execution_count": 9
        }
      ]
    },
    {
      "cell_type": "code",
      "metadata": {
        "colab": {
          "base_uri": "https://localhost:8080/",
          "height": 306
        },
        "id": "vebGsdh7gUh4",
        "outputId": "6dec347b-6bec-4cc4-f683-e672bc6da83d"
      },
      "source": [
        "investors.sample(5)"
      ],
      "execution_count": null,
      "outputs": [
        {
          "output_type": "execute_result",
          "data": {
            "text/html": [
              "<div>\n",
              "<style scoped>\n",
              "    .dataframe tbody tr th:only-of-type {\n",
              "        vertical-align: middle;\n",
              "    }\n",
              "\n",
              "    .dataframe tbody tr th {\n",
              "        vertical-align: top;\n",
              "    }\n",
              "\n",
              "    .dataframe thead th {\n",
              "        text-align: right;\n",
              "    }\n",
              "</style>\n",
              "<table border=\"1\" class=\"dataframe\">\n",
              "  <thead>\n",
              "    <tr style=\"text-align: right;\">\n",
              "      <th></th>\n",
              "      <th>Investor/VC Fund</th>\n",
              "      <th>Startup</th>\n",
              "      <th>Industry</th>\n",
              "      <th>Horizontal</th>\n",
              "      <th>Total Round Amount</th>\n",
              "      <th>Lead Investor (Yes/No)</th>\n",
              "      <th>Funding Round</th>\n",
              "      <th>Date</th>\n",
              "    </tr>\n",
              "  </thead>\n",
              "  <tbody>\n",
              "    <tr>\n",
              "      <th>119</th>\n",
              "      <td>Suhail Tirmizi</td>\n",
              "      <td>Tier3 Pakistan</td>\n",
              "      <td>Information Technology</td>\n",
              "      <td>Security</td>\n",
              "      <td>NaN</td>\n",
              "      <td>NaN</td>\n",
              "      <td>Seed</td>\n",
              "      <td>2016-05-08</td>\n",
              "    </tr>\n",
              "    <tr>\n",
              "      <th>127</th>\n",
              "      <td>Vostok Emerging Finance</td>\n",
              "      <td>Finja</td>\n",
              "      <td>Banking</td>\n",
              "      <td>Fintech</td>\n",
              "      <td>3000000</td>\n",
              "      <td>YES</td>\n",
              "      <td>Convertible Note</td>\n",
              "      <td>2019-11-11</td>\n",
              "    </tr>\n",
              "    <tr>\n",
              "      <th>142</th>\n",
              "      <td>NaN</td>\n",
              "      <td>Touch'd</td>\n",
              "      <td>Information Technology</td>\n",
              "      <td>App</td>\n",
              "      <td>80000</td>\n",
              "      <td>NaN</td>\n",
              "      <td>Seed</td>\n",
              "      <td>2013-11-01</td>\n",
              "    </tr>\n",
              "    <tr>\n",
              "      <th>3</th>\n",
              "      <td>To be mentioned</td>\n",
              "      <td>Fotisto</td>\n",
              "      <td>Information Technology</td>\n",
              "      <td>Marketing/CRM</td>\n",
              "      <td>15000</td>\n",
              "      <td>NaN</td>\n",
              "      <td>Pre-Seed</td>\n",
              "      <td>2019-02-01</td>\n",
              "    </tr>\n",
              "    <tr>\n",
              "      <th>90</th>\n",
              "      <td>Pre Seed Round - Entertainer Asia - Vouch365</td>\n",
              "      <td>Entertainer Asia - Vouch365</td>\n",
              "      <td>Beauty fitness</td>\n",
              "      <td>NaN</td>\n",
              "      <td>500000</td>\n",
              "      <td>No</td>\n",
              "      <td>Seed</td>\n",
              "      <td>2016-02-10</td>\n",
              "    </tr>\n",
              "  </tbody>\n",
              "</table>\n",
              "</div>"
            ],
            "text/plain": [
              "                                 Investor/VC Fund  ...       Date\n",
              "119                                Suhail Tirmizi  ... 2016-05-08\n",
              "127                       Vostok Emerging Finance  ... 2019-11-11\n",
              "142                                           NaN  ... 2013-11-01\n",
              "3                                 To be mentioned  ... 2019-02-01\n",
              "90   Pre Seed Round - Entertainer Asia - Vouch365  ... 2016-02-10\n",
              "\n",
              "[5 rows x 8 columns]"
            ]
          },
          "metadata": {
            "tags": []
          },
          "execution_count": 10
        }
      ]
    },
    {
      "cell_type": "code",
      "metadata": {
        "colab": {
          "base_uri": "https://localhost:8080/"
        },
        "id": "P3SzVAWXhmRP",
        "outputId": "022a114f-2aeb-4932-abf0-4f7f5298cce4"
      },
      "source": [
        "investors.duplicated().sum()"
      ],
      "execution_count": null,
      "outputs": [
        {
          "output_type": "execute_result",
          "data": {
            "text/plain": [
              "0"
            ]
          },
          "metadata": {
            "tags": []
          },
          "execution_count": 11
        }
      ]
    },
    {
      "cell_type": "code",
      "metadata": {
        "colab": {
          "base_uri": "https://localhost:8080/",
          "height": 297
        },
        "id": "vRWRrHccgX-O",
        "outputId": "a5e084a2-dc26-496a-addb-fa81382d8812"
      },
      "source": [
        "percent_missing = investors.isnull().sum() * 100 / len(investors)\n",
        "missing_investors_df = pd.DataFrame({'column_name': investors.columns,\n",
        "                                 'percent_missing': percent_missing})\n",
        "missing_investors_df"
      ],
      "execution_count": null,
      "outputs": [
        {
          "output_type": "execute_result",
          "data": {
            "text/html": [
              "<div>\n",
              "<style scoped>\n",
              "    .dataframe tbody tr th:only-of-type {\n",
              "        vertical-align: middle;\n",
              "    }\n",
              "\n",
              "    .dataframe tbody tr th {\n",
              "        vertical-align: top;\n",
              "    }\n",
              "\n",
              "    .dataframe thead th {\n",
              "        text-align: right;\n",
              "    }\n",
              "</style>\n",
              "<table border=\"1\" class=\"dataframe\">\n",
              "  <thead>\n",
              "    <tr style=\"text-align: right;\">\n",
              "      <th></th>\n",
              "      <th>column_name</th>\n",
              "      <th>percent_missing</th>\n",
              "    </tr>\n",
              "  </thead>\n",
              "  <tbody>\n",
              "    <tr>\n",
              "      <th>Investor/VC Fund</th>\n",
              "      <td>Investor/VC Fund</td>\n",
              "      <td>4.895105</td>\n",
              "    </tr>\n",
              "    <tr>\n",
              "      <th>Startup</th>\n",
              "      <td>Startup</td>\n",
              "      <td>0.699301</td>\n",
              "    </tr>\n",
              "    <tr>\n",
              "      <th>Industry</th>\n",
              "      <td>Industry</td>\n",
              "      <td>0.699301</td>\n",
              "    </tr>\n",
              "    <tr>\n",
              "      <th>Horizontal</th>\n",
              "      <td>Horizontal</td>\n",
              "      <td>23.076923</td>\n",
              "    </tr>\n",
              "    <tr>\n",
              "      <th>Total Round Amount</th>\n",
              "      <td>Total Round Amount</td>\n",
              "      <td>9.090909</td>\n",
              "    </tr>\n",
              "    <tr>\n",
              "      <th>Lead Investor (Yes/No)</th>\n",
              "      <td>Lead Investor (Yes/No)</td>\n",
              "      <td>26.573427</td>\n",
              "    </tr>\n",
              "    <tr>\n",
              "      <th>Funding Round</th>\n",
              "      <td>Funding Round</td>\n",
              "      <td>2.797203</td>\n",
              "    </tr>\n",
              "    <tr>\n",
              "      <th>Date</th>\n",
              "      <td>Date</td>\n",
              "      <td>2.797203</td>\n",
              "    </tr>\n",
              "  </tbody>\n",
              "</table>\n",
              "</div>"
            ],
            "text/plain": [
              "                                   column_name  percent_missing\n",
              "Investor/VC Fund              Investor/VC Fund         4.895105\n",
              "Startup                                Startup         0.699301\n",
              "Industry                              Industry         0.699301\n",
              "Horizontal                          Horizontal        23.076923\n",
              "Total Round Amount          Total Round Amount         9.090909\n",
              "Lead Investor (Yes/No)  Lead Investor (Yes/No)        26.573427\n",
              "Funding Round                    Funding Round         2.797203\n",
              "Date                                      Date         2.797203"
            ]
          },
          "metadata": {
            "tags": []
          },
          "execution_count": 12
        }
      ]
    },
    {
      "cell_type": "code",
      "metadata": {
        "id": "mdeK0IIPIH1_"
      },
      "source": [
        "investors['Startup'] = investors['Startup'].apply(lambda x: str(x).lower())"
      ],
      "execution_count": null,
      "outputs": []
    },
    {
      "cell_type": "code",
      "metadata": {
        "id": "DVlwee82kB8b",
        "colab": {
          "base_uri": "https://localhost:8080/",
          "height": 445
        },
        "outputId": "d901ba47-affd-4dbc-ac95-7106eae8975f"
      },
      "source": [
        "companies = pd.merge(startups, investors, on= 'Startup', how ='inner')\n",
        "companies.head()"
      ],
      "execution_count": null,
      "outputs": [
        {
          "output_type": "execute_result",
          "data": {
            "text/html": [
              "<div>\n",
              "<style scoped>\n",
              "    .dataframe tbody tr th:only-of-type {\n",
              "        vertical-align: middle;\n",
              "    }\n",
              "\n",
              "    .dataframe tbody tr th {\n",
              "        vertical-align: top;\n",
              "    }\n",
              "\n",
              "    .dataframe thead th {\n",
              "        text-align: right;\n",
              "    }\n",
              "</style>\n",
              "<table border=\"1\" class=\"dataframe\">\n",
              "  <thead>\n",
              "    <tr style=\"text-align: right;\">\n",
              "      <th></th>\n",
              "      <th>Startup</th>\n",
              "      <th>Active (opinion by CMs)</th>\n",
              "      <th>Last edited by</th>\n",
              "      <th>Location</th>\n",
              "      <th>HQ</th>\n",
              "      <th>Founded date</th>\n",
              "      <th>Industry (Vertical)</th>\n",
              "      <th>Horizontal_x</th>\n",
              "      <th>Operating status</th>\n",
              "      <th>Funding status</th>\n",
              "      <th>Employees</th>\n",
              "      <th>Founder 1</th>\n",
              "      <th>Founder 2</th>\n",
              "      <th>Founder 3</th>\n",
              "      <th>Founder 4</th>\n",
              "      <th>Founder 5</th>\n",
              "      <th>Unnamed: 16</th>\n",
              "      <th>Website</th>\n",
              "      <th>Social media URLs</th>\n",
              "      <th>Email</th>\n",
              "      <th>Phone</th>\n",
              "      <th>Funding round 1 (Investment)</th>\n",
              "      <th>Founder round 1 investors</th>\n",
              "      <th>Funding round 1 date</th>\n",
              "      <th>Funding round 2 (Investment)</th>\n",
              "      <th>Founder round 2 investors</th>\n",
              "      <th>Funding round 2 date</th>\n",
              "      <th>Funding round 3 (Investment)</th>\n",
              "      <th>Founder round 3 investors</th>\n",
              "      <th>Funding round 3 date</th>\n",
              "      <th>Funding round 4 (Investment)</th>\n",
              "      <th>Founder round 4 investors</th>\n",
              "      <th>Funding round 4 date</th>\n",
              "      <th>Funding round 5 (Investment)</th>\n",
              "      <th>Founder round 5 investors</th>\n",
              "      <th>Funding round 5 date</th>\n",
              "      <th>Investor/VC Fund</th>\n",
              "      <th>Industry</th>\n",
              "      <th>Horizontal_y</th>\n",
              "      <th>Total Round Amount</th>\n",
              "      <th>Lead Investor (Yes/No)</th>\n",
              "      <th>Funding Round</th>\n",
              "      <th>Date</th>\n",
              "    </tr>\n",
              "  </thead>\n",
              "  <tbody>\n",
              "    <tr>\n",
              "      <th>0</th>\n",
              "      <td>propakistani</td>\n",
              "      <td>Y</td>\n",
              "      <td>-</td>\n",
              "      <td>Islamabad</td>\n",
              "      <td>Asia-Pacific</td>\n",
              "      <td>2008-05-05 00:00:00</td>\n",
              "      <td>Digital Media, Information Technology</td>\n",
              "      <td>-</td>\n",
              "      <td>Active</td>\n",
              "      <td>Early Stage Venture</td>\n",
              "      <td>1 to10</td>\n",
              "      <td>Aamir Attaa</td>\n",
              "      <td>-</td>\n",
              "      <td>-</td>\n",
              "      <td>-</td>\n",
              "      <td>-</td>\n",
              "      <td>NaN</td>\n",
              "      <td>https://propakistani.pk/</td>\n",
              "      <td>https://twitter.com/ProPakistaniPK,https://www...</td>\n",
              "      <td>aamir@propakistani.com</td>\n",
              "      <td>-</td>\n",
              "      <td>Undisclosed</td>\n",
              "      <td>Eikon 7,The Interactive Group,Umayr Abbasi, Us...</td>\n",
              "      <td>2019-07-26 00:00:00</td>\n",
              "      <td>-</td>\n",
              "      <td>-</td>\n",
              "      <td>-</td>\n",
              "      <td>-</td>\n",
              "      <td>-</td>\n",
              "      <td>-</td>\n",
              "      <td>-</td>\n",
              "      <td>-</td>\n",
              "      <td>-</td>\n",
              "      <td>-</td>\n",
              "      <td>-</td>\n",
              "      <td>-</td>\n",
              "      <td>Eikon7</td>\n",
              "      <td>Information Technology</td>\n",
              "      <td>News/Media</td>\n",
              "      <td>NaN</td>\n",
              "      <td>YES</td>\n",
              "      <td>Series A</td>\n",
              "      <td>2019-07-26</td>\n",
              "    </tr>\n",
              "    <tr>\n",
              "      <th>1</th>\n",
              "      <td>dealsmash</td>\n",
              "      <td>NaN</td>\n",
              "      <td>-</td>\n",
              "      <td>Islamabad</td>\n",
              "      <td>Asia-Pacific</td>\n",
              "      <td>2016-04-15 00:00:00</td>\n",
              "      <td>Retail, Artificial Intelligence</td>\n",
              "      <td>Analytics, ,Artificial Intelligence</td>\n",
              "      <td>Active</td>\n",
              "      <td>Seed</td>\n",
              "      <td>1 to 10</td>\n",
              "      <td>Ahsan Vaqar Hundal</td>\n",
              "      <td>Ali Hasnain</td>\n",
              "      <td>Hamza Iftikhar</td>\n",
              "      <td>-</td>\n",
              "      <td>-</td>\n",
              "      <td>NaN</td>\n",
              "      <td>http://www.dealsmash.co/</td>\n",
              "      <td>https://www.linkedin.com/company/dealsmash,htt...</td>\n",
              "      <td>info@dealsmash.co</td>\n",
              "      <td>#ERROR!</td>\n",
              "      <td>PKR 8.8M</td>\n",
              "      <td>National ICT R&amp;D Fund</td>\n",
              "      <td>2017-05-15 00:00:00</td>\n",
              "      <td>150000</td>\n",
              "      <td>Al-Hilal Securties Advisors</td>\n",
              "      <td>2018-02-27 00:00:00</td>\n",
              "      <td>-</td>\n",
              "      <td>-</td>\n",
              "      <td>-</td>\n",
              "      <td>-</td>\n",
              "      <td>-</td>\n",
              "      <td>-</td>\n",
              "      <td>-</td>\n",
              "      <td>-</td>\n",
              "      <td>-</td>\n",
              "      <td>Al Hilal Securities Advisors</td>\n",
              "      <td>Retail</td>\n",
              "      <td>Lifestyle</td>\n",
              "      <td>234000</td>\n",
              "      <td>Yes</td>\n",
              "      <td>Seed</td>\n",
              "      <td>2016-04-15</td>\n",
              "    </tr>\n",
              "    <tr>\n",
              "      <th>2</th>\n",
              "      <td>dealsmash</td>\n",
              "      <td>NaN</td>\n",
              "      <td>-</td>\n",
              "      <td>Islamabad</td>\n",
              "      <td>Asia-Pacific</td>\n",
              "      <td>2016-04-15 00:00:00</td>\n",
              "      <td>Retail, Artificial Intelligence</td>\n",
              "      <td>Analytics, ,Artificial Intelligence</td>\n",
              "      <td>Active</td>\n",
              "      <td>Seed</td>\n",
              "      <td>1 to 10</td>\n",
              "      <td>Ahsan Vaqar Hundal</td>\n",
              "      <td>Ali Hasnain</td>\n",
              "      <td>Hamza Iftikhar</td>\n",
              "      <td>-</td>\n",
              "      <td>-</td>\n",
              "      <td>NaN</td>\n",
              "      <td>http://www.dealsmash.co/</td>\n",
              "      <td>https://www.linkedin.com/company/dealsmash,htt...</td>\n",
              "      <td>info@dealsmash.co</td>\n",
              "      <td>#ERROR!</td>\n",
              "      <td>PKR 8.8M</td>\n",
              "      <td>National ICT R&amp;D Fund</td>\n",
              "      <td>2017-05-15 00:00:00</td>\n",
              "      <td>150000</td>\n",
              "      <td>Al-Hilal Securties Advisors</td>\n",
              "      <td>2018-02-27 00:00:00</td>\n",
              "      <td>-</td>\n",
              "      <td>-</td>\n",
              "      <td>-</td>\n",
              "      <td>-</td>\n",
              "      <td>-</td>\n",
              "      <td>-</td>\n",
              "      <td>-</td>\n",
              "      <td>-</td>\n",
              "      <td>-</td>\n",
              "      <td>Al Hilal Securities Advisors</td>\n",
              "      <td>Retail</td>\n",
              "      <td>Lifestyle</td>\n",
              "      <td>PKR8800000</td>\n",
              "      <td>YES</td>\n",
              "      <td>Seed</td>\n",
              "      <td>2017-05-15</td>\n",
              "    </tr>\n",
              "    <tr>\n",
              "      <th>3</th>\n",
              "      <td>dealsmash</td>\n",
              "      <td>NaN</td>\n",
              "      <td>-</td>\n",
              "      <td>Islamabad</td>\n",
              "      <td>Asia-Pacific</td>\n",
              "      <td>2016-04-15 00:00:00</td>\n",
              "      <td>Retail, Artificial Intelligence</td>\n",
              "      <td>Analytics, ,Artificial Intelligence</td>\n",
              "      <td>Active</td>\n",
              "      <td>Seed</td>\n",
              "      <td>1 to 10</td>\n",
              "      <td>Ahsan Vaqar Hundal</td>\n",
              "      <td>Ali Hasnain</td>\n",
              "      <td>Hamza Iftikhar</td>\n",
              "      <td>-</td>\n",
              "      <td>-</td>\n",
              "      <td>NaN</td>\n",
              "      <td>http://www.dealsmash.co/</td>\n",
              "      <td>https://www.linkedin.com/company/dealsmash,htt...</td>\n",
              "      <td>info@dealsmash.co</td>\n",
              "      <td>#ERROR!</td>\n",
              "      <td>PKR 8.8M</td>\n",
              "      <td>National ICT R&amp;D Fund</td>\n",
              "      <td>2017-05-15 00:00:00</td>\n",
              "      <td>150000</td>\n",
              "      <td>Al-Hilal Securties Advisors</td>\n",
              "      <td>2018-02-27 00:00:00</td>\n",
              "      <td>-</td>\n",
              "      <td>-</td>\n",
              "      <td>-</td>\n",
              "      <td>-</td>\n",
              "      <td>-</td>\n",
              "      <td>-</td>\n",
              "      <td>-</td>\n",
              "      <td>-</td>\n",
              "      <td>-</td>\n",
              "      <td>National ICT R&amp;D Fund</td>\n",
              "      <td>Retail</td>\n",
              "      <td>Lifestyle</td>\n",
              "      <td>234000</td>\n",
              "      <td>Yes</td>\n",
              "      <td>Seed</td>\n",
              "      <td>2016-04-15</td>\n",
              "    </tr>\n",
              "    <tr>\n",
              "      <th>4</th>\n",
              "      <td>dealsmash</td>\n",
              "      <td>NaN</td>\n",
              "      <td>-</td>\n",
              "      <td>Islamabad</td>\n",
              "      <td>Asia-Pacific</td>\n",
              "      <td>2016-04-15 00:00:00</td>\n",
              "      <td>Retail, Artificial Intelligence</td>\n",
              "      <td>Analytics, ,Artificial Intelligence</td>\n",
              "      <td>Active</td>\n",
              "      <td>Seed</td>\n",
              "      <td>1 to 10</td>\n",
              "      <td>Ahsan Vaqar Hundal</td>\n",
              "      <td>Ali Hasnain</td>\n",
              "      <td>Hamza Iftikhar</td>\n",
              "      <td>-</td>\n",
              "      <td>-</td>\n",
              "      <td>NaN</td>\n",
              "      <td>http://www.dealsmash.co/</td>\n",
              "      <td>https://www.linkedin.com/company/dealsmash,htt...</td>\n",
              "      <td>info@dealsmash.co</td>\n",
              "      <td>#ERROR!</td>\n",
              "      <td>PKR 8.8M</td>\n",
              "      <td>National ICT R&amp;D Fund</td>\n",
              "      <td>2017-05-15 00:00:00</td>\n",
              "      <td>150000</td>\n",
              "      <td>Al-Hilal Securties Advisors</td>\n",
              "      <td>2018-02-27 00:00:00</td>\n",
              "      <td>-</td>\n",
              "      <td>-</td>\n",
              "      <td>-</td>\n",
              "      <td>-</td>\n",
              "      <td>-</td>\n",
              "      <td>-</td>\n",
              "      <td>-</td>\n",
              "      <td>-</td>\n",
              "      <td>-</td>\n",
              "      <td>National ICT R&amp;D Fund</td>\n",
              "      <td>Retail</td>\n",
              "      <td>Lifestyle</td>\n",
              "      <td>150000</td>\n",
              "      <td>NaN</td>\n",
              "      <td>Seed</td>\n",
              "      <td>2018-02-27</td>\n",
              "    </tr>\n",
              "  </tbody>\n",
              "</table>\n",
              "</div>"
            ],
            "text/plain": [
              "        Startup Active (opinion by CMs)  ... Funding Round       Date\n",
              "0  propakistani                       Y  ...      Series A 2019-07-26\n",
              "1     dealsmash                     NaN  ...          Seed 2016-04-15\n",
              "2     dealsmash                     NaN  ...          Seed 2017-05-15\n",
              "3     dealsmash                     NaN  ...          Seed 2016-04-15\n",
              "4     dealsmash                     NaN  ...          Seed 2018-02-27\n",
              "\n",
              "[5 rows x 43 columns]"
            ]
          },
          "metadata": {
            "tags": []
          },
          "execution_count": 14
        }
      ]
    },
    {
      "cell_type": "code",
      "metadata": {
        "colab": {
          "base_uri": "https://localhost:8080/"
        },
        "id": "w04coXgpHSqr",
        "outputId": "3d633287-d36f-4390-bbff-de786a30ad65"
      },
      "source": [
        "companies.shape"
      ],
      "execution_count": null,
      "outputs": [
        {
          "output_type": "execute_result",
          "data": {
            "text/plain": [
              "(123, 43)"
            ]
          },
          "metadata": {
            "tags": []
          },
          "execution_count": 15
        }
      ]
    },
    {
      "cell_type": "code",
      "metadata": {
        "colab": {
          "base_uri": "https://localhost:8080/"
        },
        "id": "4B_YmaSBMHDf",
        "outputId": "1492ba6c-3323-419f-dbc3-28b18ac07582"
      },
      "source": [
        "companies.info()"
      ],
      "execution_count": null,
      "outputs": [
        {
          "output_type": "stream",
          "text": [
            "<class 'pandas.core.frame.DataFrame'>\n",
            "Int64Index: 123 entries, 0 to 122\n",
            "Data columns (total 43 columns):\n",
            " #   Column                        Non-Null Count  Dtype         \n",
            "---  ------                        --------------  -----         \n",
            " 0   Startup                       123 non-null    object        \n",
            " 1   Active (opinion by CMs)       65 non-null     object        \n",
            " 2   Last edited by                117 non-null    object        \n",
            " 3   Location                      123 non-null    object        \n",
            " 4   HQ                            123 non-null    object        \n",
            " 5   Founded date                  122 non-null    object        \n",
            " 6   Industry (Vertical)           120 non-null    object        \n",
            " 7   Horizontal_x                  116 non-null    object        \n",
            " 8   Operating status              123 non-null    object        \n",
            " 9   Funding status                123 non-null    object        \n",
            " 10  Employees                     117 non-null    object        \n",
            " 11  Founder 1                     119 non-null    object        \n",
            " 12  Founder 2                     120 non-null    object        \n",
            " 13  Founder 3                     117 non-null    object        \n",
            " 14  Founder 4                     123 non-null    object        \n",
            " 15  Founder 5                     123 non-null    object        \n",
            " 16  Unnamed: 16                   0 non-null      float64       \n",
            " 17  Website                       123 non-null    object        \n",
            " 18  Social media URLs             116 non-null    object        \n",
            " 19  Email                         113 non-null    object        \n",
            " 20  Phone                         96 non-null     object        \n",
            " 21  Funding round 1 (Investment)  111 non-null    object        \n",
            " 22  Founder round 1 investors     95 non-null     object        \n",
            " 23  Funding round 1 date          119 non-null    object        \n",
            " 24  Funding round 2 (Investment)  72 non-null     object        \n",
            " 25  Founder round 2 investors     69 non-null     object        \n",
            " 26  Funding round 2 date          72 non-null     object        \n",
            " 27  Funding round 3 (Investment)  64 non-null     object        \n",
            " 28  Founder round 3 investors     63 non-null     object        \n",
            " 29  Funding round 3 date          64 non-null     object        \n",
            " 30  Funding round 4 (Investment)  46 non-null     object        \n",
            " 31  Founder round 4 investors     46 non-null     object        \n",
            " 32  Funding round 4 date          46 non-null     object        \n",
            " 33  Funding round 5 (Investment)  42 non-null     object        \n",
            " 34  Founder round 5 investors     42 non-null     object        \n",
            " 35  Funding round 5 date          42 non-null     object        \n",
            " 36  Investor/VC Fund              120 non-null    object        \n",
            " 37  Industry                      123 non-null    object        \n",
            " 38  Horizontal_y                  95 non-null     object        \n",
            " 39  Total Round Amount            111 non-null    object        \n",
            " 40  Lead Investor (Yes/No)        92 non-null     object        \n",
            " 41  Funding Round                 123 non-null    object        \n",
            " 42  Date                          120 non-null    datetime64[ns]\n",
            "dtypes: datetime64[ns](1), float64(1), object(41)\n",
            "memory usage: 42.3+ KB\n"
          ],
          "name": "stdout"
        }
      ]
    },
    {
      "cell_type": "markdown",
      "metadata": {
        "id": "22GdX8WlZbJX"
      },
      "source": [
        "## Features Engineering"
      ]
    },
    {
      "cell_type": "markdown",
      "metadata": {
        "id": "ltSN4VIWgwOL"
      },
      "source": [
        "### Founded date"
      ]
    },
    {
      "cell_type": "code",
      "metadata": {
        "colab": {
          "base_uri": "https://localhost:8080/"
        },
        "id": "3UNa0IyiVSfj",
        "outputId": "56c4ce9c-f8b8-4efd-c49e-424d0c995ed4"
      },
      "source": [
        "companies[\"Founded date\"].sample(5)"
      ],
      "execution_count": null,
      "outputs": [
        {
          "output_type": "execute_result",
          "data": {
            "text/plain": [
              "39                   2014\n",
              "37                   2019\n",
              "32    2017-09-01 00:00:00\n",
              "28                   2017\n",
              "13    2016-03-10 00:00:00\n",
              "Name: Founded date, dtype: object"
            ]
          },
          "metadata": {
            "tags": []
          },
          "execution_count": 17
        }
      ]
    },
    {
      "cell_type": "code",
      "metadata": {
        "id": "BZcA-WN_fQTB"
      },
      "source": [
        "def fillYear(mydate):\n",
        "  mydate = str(mydate)\n",
        "  if mydate == 'nan' or mydate == '-':\n",
        "    return '2018' # Mode value\n",
        "  units = mydate.split('-')\n",
        "  if len(units[0]) == 4: # For the dates with the format '%Y-%m-%d &H:&M:S'\n",
        "    return units[0]\n",
        "  elif len(units) == 3: # For the dates with the format 'dd-mm-yy'\n",
        "    return '20' + units[2]\n",
        "  return mydate\n",
        "\n",
        "companies[\"Founded Year\"] = companies[\"Founded date\"].apply(lambda x: fillYear(x))"
      ],
      "execution_count": null,
      "outputs": []
    },
    {
      "cell_type": "code",
      "metadata": {
        "colab": {
          "base_uri": "https://localhost:8080/"
        },
        "id": "l4nFg-JbXATr",
        "outputId": "33e3a649-ab8b-412f-8346-c05c5d8cc148"
      },
      "source": [
        "companies[\"Founded Year\"].unique()"
      ],
      "execution_count": null,
      "outputs": [
        {
          "output_type": "execute_result",
          "data": {
            "text/plain": [
              "array(['2008', '2016', '2017', '2015', '2012', '2014', '2018', '2011',\n",
              "       '2019', '2020', '2010', '2013'], dtype=object)"
            ]
          },
          "metadata": {
            "tags": []
          },
          "execution_count": 19
        }
      ]
    },
    {
      "cell_type": "code",
      "metadata": {
        "colab": {
          "base_uri": "https://localhost:8080/"
        },
        "id": "tbuisD1UXM1L",
        "outputId": "21b619ff-e4d5-4fef-9f14-f17071f094c7"
      },
      "source": [
        "companies[\"Founded Year\"].mode()"
      ],
      "execution_count": null,
      "outputs": [
        {
          "output_type": "execute_result",
          "data": {
            "text/plain": [
              "0    2018\n",
              "dtype: object"
            ]
          },
          "metadata": {
            "tags": []
          },
          "execution_count": 20
        }
      ]
    },
    {
      "cell_type": "code",
      "metadata": {
        "colab": {
          "base_uri": "https://localhost:8080/",
          "height": 426
        },
        "id": "iYsyktpqa5Hm",
        "outputId": "52a27af7-f143-4503-9ca3-59bacfe757c1"
      },
      "source": [
        "# New startups per year\n",
        "sns.set(style=\"whitegrid\")\n",
        "fig, ax = plt.subplots()\n",
        "fig.set_size_inches(15, 5)\n",
        "ax.axes.set_title(\"Evolving by year\",fontsize=20,pad=40)\n",
        "ax = sns.countplot(x='Founded Year', data=companies, order= companies['Founded Year'].value_counts().index.sort_values(), palette=\"Blues\")\n",
        "ax.set_xlabel('Founded Year', fontsize=20, labelpad=30)\n",
        "ax.set_ylabel('Startups count', fontsize=20, labelpad=30)\n",
        "ax.xaxis.set_tick_params(labelsize=10)\n",
        "ax.yaxis.set_tick_params(labelsize=10)"
      ],
      "execution_count": null,
      "outputs": [
        {
          "output_type": "display_data",
          "data": {
            "image/png": "[encoded data removed]",
            "text/plain": [
              "<Figure size 1080x360 with 1 Axes>"
            ]
          },
          "metadata": {
            "tags": []
          }
        }
      ]
    },
    {
      "cell_type": "markdown",
      "metadata": {
        "id": "zDGnuAPUg37h"
      },
      "source": [
        "### Online Presence"
      ]
    },
    {
      "cell_type": "markdown",
      "metadata": {
        "id": "gaM4JZuaiHXe"
      },
      "source": [
        "We want to know if:\n",
        "- the startup has a website or not.\n",
        "- the social networks profile existence."
      ]
    },
    {
      "cell_type": "code",
      "metadata": {
        "colab": {
          "base_uri": "https://localhost:8080/"
        },
        "id": "Ewl1n2qBmFVk",
        "outputId": "45be1599-797f-4dee-9d43-1352a7755ed6"
      },
      "source": [
        "companies['Website'].describe()"
      ],
      "execution_count": null,
      "outputs": [
        {
          "output_type": "execute_result",
          "data": {
            "text/plain": [
              "count                 123\n",
              "unique                 62\n",
              "top       rideairlift.com\n",
              "freq                   17\n",
              "Name: Website, dtype: object"
            ]
          },
          "metadata": {
            "tags": []
          },
          "execution_count": 22
        }
      ]
    },
    {
      "cell_type": "code",
      "metadata": {
        "id": "wNdUeUMRaREy"
      },
      "source": [
        "companies['Website'] = companies['Website'].apply(lambda x: int(x != \"\" or not pd.isnull(x)))"
      ],
      "execution_count": null,
      "outputs": []
    },
    {
      "cell_type": "code",
      "metadata": {
        "colab": {
          "base_uri": "https://localhost:8080/"
        },
        "id": "xLSGKRjRm13k",
        "outputId": "d062b21f-1081-41c7-805e-519ab50dcd1e"
      },
      "source": [
        "companies['Website'].unique()"
      ],
      "execution_count": null,
      "outputs": [
        {
          "output_type": "execute_result",
          "data": {
            "text/plain": [
              "array([1])"
            ]
          },
          "metadata": {
            "tags": []
          },
          "execution_count": 24
        }
      ]
    },
    {
      "cell_type": "markdown",
      "metadata": {
        "id": "rAmPsZFHnZsB"
      },
      "source": [
        "All starups in the dataset have websites. They can be useful for scraping in other tasks."
      ]
    },
    {
      "cell_type": "code",
      "metadata": {
        "id": "AuYmeGKYRBCp"
      },
      "source": [
        "# Social Media channels presence\n",
        "def socialMedia(network):\n",
        "  network = str(network).lower()\n",
        "  social_count = 0\n",
        "  if 'facebook' in network:\n",
        "    social_count +=1\n",
        "  if 'twitter' in network:\n",
        "    social_count +=3\n",
        "  if 'linkedin' in network:\n",
        "    social_count +=5\n",
        "  return social_count\n",
        "\n",
        "companies[\"Social media\"] = companies[\"Social media URLs\"].apply(lambda x: socialMedia(x))"
      ],
      "execution_count": null,
      "outputs": []
    },
    {
      "cell_type": "code",
      "metadata": {
        "colab": {
          "base_uri": "https://localhost:8080/"
        },
        "id": "faQd40zQpPtl",
        "outputId": "0004ddc2-307e-4243-fb42-431b353fa3ba"
      },
      "source": [
        "companies[\"Social media\"].unique()"
      ],
      "execution_count": null,
      "outputs": [
        {
          "output_type": "execute_result",
          "data": {
            "text/plain": [
              "array([4, 9, 1, 5, 6, 0, 3])"
            ]
          },
          "metadata": {
            "tags": []
          },
          "execution_count": 26
        }
      ]
    },
    {
      "cell_type": "code",
      "metadata": {
        "colab": {
          "base_uri": "https://localhost:8080/",
          "height": 265
        },
        "id": "_NoanntIqygc",
        "outputId": "c88eb220-40ac-4a97-ac02-99ea4847632c"
      },
      "source": [
        "companies[\"Social media\"].value_counts().plot.pie(autopct='%1.0f%%')\n"
      ],
      "execution_count": null,
      "outputs": [
        {
          "output_type": "execute_result",
          "data": {
            "text/plain": [
              "<matplotlib.axes._subplots.AxesSubplot at 0x7f7791b2ee10>"
            ]
          },
          "metadata": {
            "tags": []
          },
          "execution_count": 27
        },
        {
          "output_type": "display_data",
          "data": {
            "image/png": "[encoded data removed]",
            "text/plain": [
              "<Figure size 432x288 with 1 Axes>"
            ]
          },
          "metadata": {
            "tags": []
          }
        }
      ]
    },
    {
      "cell_type": "markdown",
      "metadata": {
        "id": "_M1ajsSDsuRB"
      },
      "source": [
        "44% of the startups have only facebook page whereas 17% are present on all social platforms. <br/> Only 8% have no presence on any social network."
      ]
    },
    {
      "cell_type": "markdown",
      "metadata": {
        "id": "SWCJkGc9g9q-"
      },
      "source": [
        "### Location"
      ]
    },
    {
      "cell_type": "code",
      "metadata": {
        "colab": {
          "base_uri": "https://localhost:8080/"
        },
        "id": "V_2FRrV1VcF_",
        "outputId": "326c49c6-e85a-46de-d21d-6521e6f33783"
      },
      "source": [
        "companies[\"Location\"].unique()"
      ],
      "execution_count": null,
      "outputs": [
        {
          "output_type": "execute_result",
          "data": {
            "text/plain": [
              "array(['Islamabad', 'Lahore', 'Karachi', 'Lahore, Punjab, Pakistan',\n",
              "       'Karachi, Sindh, Pakistan', 'Islamabad, Islamabad, Pakistan',\n",
              "       'Gujrat, Punjab, Pakistan',\n",
              "       'Pakistan Kili, North-West Frontier, Pakistan',\n",
              "       'Lahore, Punjab,Pakistan', 'Islamabad, Pakistan', 'Lahore,',\n",
              "       'Karachi,', 'Lahore, Pakistan', 'Islamabad,Pakistan',\n",
              "       'Karachi,Pakistan'], dtype=object)"
            ]
          },
          "metadata": {
            "tags": []
          },
          "execution_count": 28
        }
      ]
    },
    {
      "cell_type": "code",
      "metadata": {
        "id": "BsRf3ucSVo3l"
      },
      "source": [
        "companies[\"Location\"] = companies[\"Location\"].apply(lambda x: x.split(',')[0] if ',' in x else x)"
      ],
      "execution_count": null,
      "outputs": []
    },
    {
      "cell_type": "code",
      "metadata": {
        "colab": {
          "base_uri": "https://localhost:8080/"
        },
        "id": "V8Bfhvl3V2T5",
        "outputId": "4e342cea-cb14-4215-ac6d-f9866710683a"
      },
      "source": [
        "companies[\"Location\"].unique()"
      ],
      "execution_count": null,
      "outputs": [
        {
          "output_type": "execute_result",
          "data": {
            "text/plain": [
              "array(['Islamabad', 'Lahore', 'Karachi', 'Gujrat', 'Pakistan Kili'],\n",
              "      dtype=object)"
            ]
          },
          "metadata": {
            "tags": []
          },
          "execution_count": 30
        }
      ]
    },
    {
      "cell_type": "code",
      "metadata": {
        "id": "R9_c811KmDRH",
        "colab": {
          "base_uri": "https://localhost:8080/"
        },
        "outputId": "70e963d2-b942-47c7-a23b-e4f23a24f804"
      },
      "source": [
        "companies.HQ.unique()"
      ],
      "execution_count": null,
      "outputs": [
        {
          "output_type": "execute_result",
          "data": {
            "text/plain": [
              "array(['Asia-Pacific', 'Asia-Pacific (APAC)', 'APAC'], dtype=object)"
            ]
          },
          "metadata": {
            "tags": []
          },
          "execution_count": 31
        }
      ]
    },
    {
      "cell_type": "markdown",
      "metadata": {
        "id": "J0gwBJweeleV"
      },
      "source": [
        "HQ information in this case is redundant because we're focusing on the same country."
      ]
    },
    {
      "cell_type": "code",
      "metadata": {
        "colab": {
          "base_uri": "https://localhost:8080/",
          "height": 426
        },
        "id": "rHosU4hhWgTy",
        "outputId": "63d331bd-34bd-4883-ae53-29e7216f022c"
      },
      "source": [
        "# Display startups count concentration by city\n",
        "sns.set(style=\"whitegrid\")\n",
        "fig, ax = plt.subplots()\n",
        "fig.set_size_inches(15, 5)\n",
        "ax.axes.set_title(\"City popularity for startups\",fontsize=20,pad=40)\n",
        "ax = sns.countplot(x='Location', data=companies, order=companies['Location'].value_counts().index, palette=\"rocket\")\n",
        "ax.set_xlabel('City', fontsize=20, labelpad=30)\n",
        "ax.set_ylabel('Startups count', fontsize=20, labelpad=30)\n",
        "ax.xaxis.set_tick_params(labelsize=10)\n",
        "ax.yaxis.set_tick_params(labelsize=10)"
      ],
      "execution_count": null,
      "outputs": [
        {
          "output_type": "display_data",
          "data": {
            "image/png": "[encoded data removed]",
            "text/plain": [
              "<Figure size 1080x360 with 1 Axes>"
            ]
          },
          "metadata": {
            "tags": []
          }
        }
      ]
    },
    {
      "cell_type": "markdown",
      "metadata": {
        "id": "S9Pbt5JYhC7H"
      },
      "source": [
        "### Activity Status"
      ]
    },
    {
      "cell_type": "code",
      "metadata": {
        "colab": {
          "base_uri": "https://localhost:8080/"
        },
        "id": "aLljsAndeWso",
        "outputId": "e274102f-ed45-4987-fe66-7e6b3702c432"
      },
      "source": [
        "companies['Active (opinion by CMs)'].isnull().sum() * 100 / len(companies['Active (opinion by CMs)'])"
      ],
      "execution_count": null,
      "outputs": [
        {
          "output_type": "execute_result",
          "data": {
            "text/plain": [
              "47.15447154471545"
            ]
          },
          "metadata": {
            "tags": []
          },
          "execution_count": 33
        }
      ]
    },
    {
      "cell_type": "markdown",
      "metadata": {
        "id": "4lBCBV13eztj"
      },
      "source": [
        "47% of the startups have unknown activity status which is the value that we want to predict in the future (A successful startup survives, hence active). Since 'Operating status' has no missing data we drop 'Active (opinion by CMS)'"
      ]
    },
    {
      "cell_type": "code",
      "metadata": {
        "colab": {
          "base_uri": "https://localhost:8080/"
        },
        "id": "YK9pf2YtfRhl",
        "outputId": "4cf49a94-4e4c-40c7-939d-7c337793c520"
      },
      "source": [
        "companies['Operating status'].isnull().sum() * 100 / len(companies['Operating status'])"
      ],
      "execution_count": null,
      "outputs": [
        {
          "output_type": "execute_result",
          "data": {
            "text/plain": [
              "0.0"
            ]
          },
          "metadata": {
            "tags": []
          },
          "execution_count": 34
        }
      ]
    },
    {
      "cell_type": "code",
      "metadata": {
        "colab": {
          "base_uri": "https://localhost:8080/"
        },
        "id": "O0h7TSk7fZFQ",
        "outputId": "7db7ff59-d858-4de1-b78a-7e0931e62ffd"
      },
      "source": [
        "companies['Operating status'].describe()"
      ],
      "execution_count": null,
      "outputs": [
        {
          "output_type": "execute_result",
          "data": {
            "text/plain": [
              "count        123\n",
              "unique         1\n",
              "top       Active\n",
              "freq         123\n",
              "Name: Operating status, dtype: object"
            ]
          },
          "metadata": {
            "tags": []
          },
          "execution_count": 35
        }
      ]
    },
    {
      "cell_type": "markdown",
      "metadata": {
        "id": "etDAg0Uifo2D"
      },
      "source": [
        "This portion of the dataset has only active startups which may influence the model later if proceeded with this data because there are no information on failed startups. In other meaning, there is no other way to punish the model of it predicts a startup to be successful then it fails in real life."
      ]
    },
    {
      "cell_type": "markdown",
      "metadata": {
        "id": "YkYA9R1ShGUA"
      },
      "source": [
        "### Funding status"
      ]
    },
    {
      "cell_type": "code",
      "metadata": {
        "colab": {
          "base_uri": "https://localhost:8080/"
        },
        "id": "wrkF5qQogox6",
        "outputId": "dcdeb0d6-3837-4bf9-e31f-0f60076a2650"
      },
      "source": [
        "companies['Funding status'].unique()"
      ],
      "execution_count": null,
      "outputs": [
        {
          "output_type": "execute_result",
          "data": {
            "text/plain": [
              "array(['Early Stage Venture', 'Seed', 'Pre-seed', 'Angel', 'Pre-Seed',\n",
              "       'Early Stage'], dtype=object)"
            ]
          },
          "metadata": {
            "tags": []
          },
          "execution_count": 36
        }
      ]
    },
    {
      "cell_type": "code",
      "metadata": {
        "id": "zvZAoN8_imhi"
      },
      "source": [
        "def fundStatus(myfund):\n",
        "  if myfund.lower() == 'pre-seed' :\n",
        "    return '0-Pre-seed'\n",
        "  elif myfund == 'Seed':\n",
        "    return '1-Seed'\n",
        "  elif myfund == 'Angel':\n",
        "    return '2-Angel'\n",
        "  else:\n",
        "    return '3-Early Stage'\n",
        "\n",
        "companies['Funding status'] = companies['Funding status'].apply(lambda x: fundStatus(x))"
      ],
      "execution_count": null,
      "outputs": []
    },
    {
      "cell_type": "code",
      "metadata": {
        "colab": {
          "base_uri": "https://localhost:8080/"
        },
        "id": "DFMey2Z6kFDB",
        "outputId": "3ac8de9e-3f65-4eb0-f30a-9eaae76b9e39"
      },
      "source": [
        "companies['Funding status'].mode()"
      ],
      "execution_count": null,
      "outputs": [
        {
          "output_type": "execute_result",
          "data": {
            "text/plain": [
              "0    1-Seed\n",
              "dtype: object"
            ]
          },
          "metadata": {
            "tags": []
          },
          "execution_count": 38
        }
      ]
    },
    {
      "cell_type": "code",
      "metadata": {
        "colab": {
          "base_uri": "https://localhost:8080/",
          "height": 426
        },
        "id": "pq6702FOkKl_",
        "outputId": "2ba4f71d-50c7-4da1-9511-666ae2bca9d1"
      },
      "source": [
        "# Display startups count concentration by city\n",
        "sns.set(style=\"whitegrid\")\n",
        "fig, ax = plt.subplots()\n",
        "fig.set_size_inches(15, 5)\n",
        "ax.axes.set_title(\"Investment stages ordered by the amount of money\",fontsize=20,pad=40)\n",
        "ax = sns.countplot(x='Funding status', data=companies, order=companies['Funding status'].value_counts().index.sort_values(), palette=\"rocket\")\n",
        "ax.set_xlabel('Stage', fontsize=20, labelpad=30)\n",
        "ax.set_ylabel('Startups count', fontsize=20, labelpad=30)\n",
        "ax.xaxis.set_tick_params(labelsize=10)\n",
        "ax.yaxis.set_tick_params(labelsize=10)"
      ],
      "execution_count": null,
      "outputs": [
        {
          "output_type": "display_data",
          "data": {
            "image/png": "[encoded data removed]",
            "text/plain": [
              "<Figure size 1080x360 with 1 Axes>"
            ]
          },
          "metadata": {
            "tags": []
          }
        }
      ]
    },
    {
      "cell_type": "markdown",
      "metadata": {
        "id": "aDoN1GbChIE1"
      },
      "source": [
        "### Employees"
      ]
    },
    {
      "cell_type": "code",
      "metadata": {
        "colab": {
          "base_uri": "https://localhost:8080/"
        },
        "id": "5gcSNFSlhKPO",
        "outputId": "b423f2c8-4a7a-4a92-ea1e-64ca512f63ad"
      },
      "source": [
        "companies['Employees'].unique()"
      ],
      "execution_count": null,
      "outputs": [
        {
          "output_type": "execute_result",
          "data": {
            "text/plain": [
              "array(['1 to10', '1 to 10', '11 to 50', '101 to 250', '-', '10 to 50',\n",
              "       nan, '501 to 1000'], dtype=object)"
            ]
          },
          "metadata": {
            "tags": []
          },
          "execution_count": 40
        }
      ]
    },
    {
      "cell_type": "code",
      "metadata": {
        "id": "exJwk4Mdk8ig"
      },
      "source": [
        "# We remove the duplicate info and assign the min nbr in each category\n",
        "def employees(employee):\n",
        "  employee = str(employee)\n",
        "  if employee == '-' or employee == 'nan':\n",
        "    return '10' # Mode\n",
        "  elif employee[-2:] == '10':\n",
        "    return '1'\n",
        "  elif employee == '11 to 50' or employee == '10 to 50':\n",
        "    return '10'\n",
        "  elif employee == '101 to 250':\n",
        "    return '100'\n",
        "  else:\n",
        "    return '500'\n",
        "  \n",
        "companies['Employees'] = companies['Employees'].apply(lambda x: employees(x))"
      ],
      "execution_count": null,
      "outputs": []
    },
    {
      "cell_type": "code",
      "metadata": {
        "colab": {
          "base_uri": "https://localhost:8080/"
        },
        "id": "bdA8EEWzur1i",
        "outputId": "92b1431a-62ad-401f-b347-a08648b07a1f"
      },
      "source": [
        "companies['Employees'].mode()"
      ],
      "execution_count": null,
      "outputs": [
        {
          "output_type": "execute_result",
          "data": {
            "text/plain": [
              "0    10\n",
              "dtype: object"
            ]
          },
          "metadata": {
            "tags": []
          },
          "execution_count": 42
        }
      ]
    },
    {
      "cell_type": "code",
      "metadata": {
        "colab": {
          "base_uri": "https://localhost:8080/"
        },
        "id": "BY_5-od8vk7I",
        "outputId": "d58959ac-e1e4-40f5-ca12-d41b06d5e452"
      },
      "source": [
        "companies['Employees'].unique()"
      ],
      "execution_count": null,
      "outputs": [
        {
          "output_type": "execute_result",
          "data": {
            "text/plain": [
              "array(['1', '10', '100', '500'], dtype=object)"
            ]
          },
          "metadata": {
            "tags": []
          },
          "execution_count": 43
        }
      ]
    },
    {
      "cell_type": "code",
      "metadata": {
        "colab": {
          "base_uri": "https://localhost:8080/",
          "height": 426
        },
        "id": "TXnUxfPBvW4D",
        "outputId": "88b0aec8-cda5-4c9f-c4b4-99abf23a9657"
      },
      "source": [
        "sns.set(style=\"whitegrid\")\n",
        "fig, ax = plt.subplots()\n",
        "fig.set_size_inches(15, 5)\n",
        "ax.axes.set_title(\"Min Employees number per startup\",fontsize=20,pad=40)\n",
        "ax = sns.countplot(x='Employees', data=companies, order=companies['Employees'].value_counts().index.sort_values(), palette=\"rocket\")\n",
        "ax.set_xlabel('Min Employees number', fontsize=20, labelpad=30)\n",
        "ax.set_ylabel('Startups count', fontsize=20, labelpad=30)\n",
        "ax.xaxis.set_tick_params(labelsize=10)\n",
        "ax.yaxis.set_tick_params(labelsize=10)"
      ],
      "execution_count": null,
      "outputs": [
        {
          "output_type": "display_data",
          "data": {
            "image/png": "[encoded data removed]",
            "text/plain": [
              "<Figure size 1080x360 with 1 Axes>"
            ]
          },
          "metadata": {
            "tags": []
          }
        }
      ]
    },
    {
      "cell_type": "markdown",
      "metadata": {
        "id": "IZ_MSnt2wELG"
      },
      "source": [
        "Most startups have between 10 to 50 employees."
      ]
    },
    {
      "cell_type": "markdown",
      "metadata": {
        "id": "VEhQ7stKh9i7"
      },
      "source": [
        "### Industry"
      ]
    },
    {
      "cell_type": "code",
      "metadata": {
        "colab": {
          "base_uri": "https://localhost:8080/"
        },
        "id": "WPbK1gkhh_9K",
        "outputId": "f1456274-c88a-4c35-df95-562c74bb9292"
      },
      "source": [
        "companies['Industry'].unique()"
      ],
      "execution_count": null,
      "outputs": [
        {
          "output_type": "execute_result",
          "data": {
            "text/plain": [
              "array(['Information Technology', 'Retail', 'Fashion', 'Banking',\n",
              "       'Logistics', 'Financial Services', 'Marketplace', 'Transportation',\n",
              "       'Services', 'Health Care', 'Automotive', 'IT', 'B2B',\n",
              "       'working community', 'Workspace', 'Management', 'Education',\n",
              "       'Mobile', 'Beauty fitness', 'Transportaion', 'Travel',\n",
              "       'Local Advertising', 'health Care', 'Technology',\n",
              "       'Media And Entertainment', 'Digital Entertainment'], dtype=object)"
            ]
          },
          "metadata": {
            "tags": []
          },
          "execution_count": 45
        }
      ]
    },
    {
      "cell_type": "code",
      "metadata": {
        "id": "K3-Vml7ByKWl"
      },
      "source": [
        "def getIndustry(industry):\n",
        "  if industry == 'Information Technology' or industry == 'Technology':\n",
        "    return 'IT'\n",
        "  elif any(indus in industry for indus in ['Media And Entertainment', 'Digital Entertainment']):\n",
        "    return 'Entertainment'\n",
        "  elif industry == 'Transportaion':\n",
        "     return 'Transportation'\n",
        "  return industry\n",
        "  \n",
        "companies['Employees'] = companies['Employees'].apply(lambda x: employees(x))"
      ],
      "execution_count": null,
      "outputs": []
    },
    {
      "cell_type": "code",
      "metadata": {
        "colab": {
          "base_uri": "https://localhost:8080/"
        },
        "id": "QkGrwOAHx-iG",
        "outputId": "f9e58cce-f6c9-4648-9629-b3534efb2878"
      },
      "source": [
        "companies['Horizontal_x'].unique()"
      ],
      "execution_count": null,
      "outputs": [
        {
          "output_type": "execute_result",
          "data": {
            "text/plain": [
              "array(['-', 'Analytics, ,Artificial Intelligence', nan,\n",
              "       'Mobile Payments, Software', 'Lifestyle', 'Real Estate',\n",
              "       'Information Services', 'Social Media Marketing, Brand Marketing',\n",
              "       'Content Creators, Photography',\n",
              "       'Mobile Device, Mobile Apps, Personal Health', 'Mobile App',\n",
              "       'Information Services, Information Technology',\n",
              "       'Ride sharing, Courier service, local shopping',\n",
              "       'E-commerce,CRM,Enterprise software, ios, web development, software',\n",
              "       'B2B,E-commerce', 'Co-working', 'Information Technology, Database',\n",
              "       'Banking, Financial services', 'Web development, Mobile App',\n",
              "       'App, Online', 'Artificial Intelligence', 'E-commerce',\n",
              "       'Automotive, Classified', 'Mobile devices', 'SaaS', 'Retail',\n",
              "       'Wellness', 'Information Technology', 'E- commerce', 'Big Data',\n",
              "       'Internet', 'Ecommerce', 'Content, Video production',\n",
              "       'Sharing economy', 'Ecommerce , online Delivery',\n",
              "       'Marketplace, Automotive', 'Music Streaming',\n",
              "       'Delivery, Ecommerce'], dtype=object)"
            ]
          },
          "metadata": {
            "tags": []
          },
          "execution_count": 47
        }
      ]
    },
    {
      "cell_type": "code",
      "metadata": {
        "id": "EBLdvIkSzxLw"
      },
      "source": [
        "def getIndustry_x(industry):\n",
        "  industry = str(industry)\n",
        "  if industry == '-' or industry == 'nan':\n",
        "    return 'Mobile App'\n",
        "  elif 'Artificial Intelligence' in industry:\n",
        "    return 'AI'\n",
        "  elif 'Bank' in industry or 'Payment' in industry:\n",
        "    return 'Finance'\n",
        "  elif any(indus in industry for indus in ['Health','Wellness', 'Lifestyle']):\n",
        "    return 'Wellness'\n",
        "  elif 'Web' in industry or 'SaaS' in industry:\n",
        "    return 'Web App'\n",
        "  elif 'Delivery' in industry or 'Courier' in industry:\n",
        "    return 'Delivery'\n",
        "  elif 'commerce' in industry:\n",
        "    return 'E-commerce'\n",
        "  elif any(indus in industry for indus in ['Internet', 'Information Services', 'Information Technology']):\n",
        "    return 'IT'\n",
        "  elif 'Mobile' in industry or 'App':\n",
        "    return 'Mobile App'\n",
        "  elif 'Content' in industry:\n",
        "    return 'Content(Photo/Video)'\n",
        "  elif 'Automotive' in industry:\n",
        "    return 'Automative'  \n",
        "  elif 'Marketing' in industry:\n",
        "    return 'Marketing'\n",
        "  else:\n",
        "    return industry\n",
        "  \n",
        "companies['Horizontal_x'] = companies['Horizontal_x'].apply(lambda x: getIndustry_x(x))"
      ],
      "execution_count": null,
      "outputs": []
    },
    {
      "cell_type": "code",
      "metadata": {
        "colab": {
          "base_uri": "https://localhost:8080/"
        },
        "id": "tgHOc2TB3I6k",
        "outputId": "aaeb5bbb-3ecc-4ab7-9d02-6483a5f95617"
      },
      "source": [
        "companies['Horizontal_x'].unique()"
      ],
      "execution_count": null,
      "outputs": [
        {
          "output_type": "execute_result",
          "data": {
            "text/plain": [
              "array(['Mobile App', 'AI', 'Finance', 'Wellness', 'IT', 'Delivery',\n",
              "       'E-commerce', 'Web App'], dtype=object)"
            ]
          },
          "metadata": {
            "tags": []
          },
          "execution_count": 49
        }
      ]
    },
    {
      "cell_type": "code",
      "metadata": {
        "colab": {
          "base_uri": "https://localhost:8080/"
        },
        "id": "4CDFqwgy3eAx",
        "outputId": "9600dbed-dcae-491d-8862-4ec40dfe80e1"
      },
      "source": [
        "companies['Horizontal_x'].mode()"
      ],
      "execution_count": null,
      "outputs": [
        {
          "output_type": "execute_result",
          "data": {
            "text/plain": [
              "0    Mobile App\n",
              "dtype: object"
            ]
          },
          "metadata": {
            "tags": []
          },
          "execution_count": 50
        }
      ]
    },
    {
      "cell_type": "code",
      "metadata": {
        "colab": {
          "base_uri": "https://localhost:8080/"
        },
        "id": "a_FqUTDnx6sJ",
        "outputId": "7664aba4-7cc9-42a2-b8bf-709187576c3d"
      },
      "source": [
        "companies['Horizontal_y'].unique()"
      ],
      "execution_count": null,
      "outputs": [
        {
          "output_type": "execute_result",
          "data": {
            "text/plain": [
              "array(['News/Media', 'Lifestyle', nan, 'Fintech', 'Real Estate',\n",
              "       'Customer Service', 'Security', 'Marketing/CRM', 'Ride sharing',\n",
              "       'Training', 'E-Commerce', 'Education', 'Technology', 'Services',\n",
              "       'Health Care', 'B2B', 'Web Development', 'Artificial Intelligence',\n",
              "       'Classifieds', 'Telehealth', 'Tickets', 'Fashion', 'CRM',\n",
              "       'Marketing', 'Digital Entertainment', 'Food Delivery', 'Music'],\n",
              "      dtype=object)"
            ]
          },
          "metadata": {
            "tags": []
          },
          "execution_count": 51
        }
      ]
    },
    {
      "cell_type": "code",
      "metadata": {
        "colab": {
          "base_uri": "https://localhost:8080/"
        },
        "id": "m0GgBRL_9K6M",
        "outputId": "0db4b0fb-c6dd-4b33-c5b6-8032c1a6d589"
      },
      "source": [
        "companies['Horizontal_y'].mode()"
      ],
      "execution_count": null,
      "outputs": [
        {
          "output_type": "execute_result",
          "data": {
            "text/plain": [
              "0    Technology\n",
              "dtype: object"
            ]
          },
          "metadata": {
            "tags": []
          },
          "execution_count": 52
        }
      ]
    },
    {
      "cell_type": "code",
      "metadata": {
        "id": "3WxYBGyB9Zw6"
      },
      "source": [
        "companies['Horizontal_y'].fillna(companies['Horizontal_y'].mode(), inplace=True)"
      ],
      "execution_count": null,
      "outputs": []
    },
    {
      "cell_type": "code",
      "metadata": {
        "colab": {
          "base_uri": "https://localhost:8080/"
        },
        "id": "7Mp2BGC97UQ7",
        "outputId": "c69cc83b-739c-4632-f947-7251e162f6ff"
      },
      "source": [
        "sns.set(style=\"whitegrid\")\n",
        "fig, ax = plt.subplots()\n",
        "fig.set_size_inches(10, 10)\n",
        "ax.axes.set_title(\"Horizontal Industry\",fontsize=20,pad=40)\n",
        "ax = sns.scatterplot(data=companies, x='Horizontal_x', y='Horizontal_y')\n",
        "ax.set_xlabel('Horizontal_x', fontsize=20, labelpad=30)\n",
        "ax.set_ylabel('Horizontal_y', fontsize=20, labelpad=30)\n",
        "ax.xaxis.set_tick_params(labelsize=10)\n",
        "ax.yaxis.set_tick_params(labelsize=10)"
      ],
      "execution_count": null,
      "outputs": [
        {
          "output_type": "display_data",
          "data": {
            "image/png": "[encoded data removed]",
            "text/plain": [
              "<Figure size 720x720 with 1 Axes>"
            ]
          },
          "metadata": {
            "tags": []
          }
        }
      ]
    },
    {
      "cell_type": "markdown",
      "metadata": {
        "id": "KGntnifhhhPZ"
      },
      "source": [
        "### Investors"
      ]
    },
    {
      "cell_type": "code",
      "metadata": {
        "colab": {
          "base_uri": "https://localhost:8080/"
        },
        "id": "5O67oMArhgh2",
        "outputId": "01016a82-3a48-41fd-d563-b798edea7c9f"
      },
      "source": [
        "# companies['Founder round 1 investors']\n",
        "# companies['Founder round 2 investors']\n",
        "# companies['Founder round 3 investors']\n",
        "# companies['Founder round 4 investors']\n",
        "# companies['Founder round 5 investors']\n",
        "\n",
        "len(companies['Investor/VC Fund'].unique())"
      ],
      "execution_count": null,
      "outputs": [
        {
          "output_type": "execute_result",
          "data": {
            "text/plain": [
              "80"
            ]
          },
          "metadata": {
            "tags": []
          },
          "execution_count": 55
        }
      ]
    },
    {
      "cell_type": "markdown",
      "metadata": {
        "id": "Wk_MZdMs-qcQ"
      },
      "source": [
        "80 different investors."
      ]
    },
    {
      "cell_type": "code",
      "metadata": {
        "colab": {
          "base_uri": "https://localhost:8080/"
        },
        "id": "MnzV9a5b-L5a",
        "outputId": "a1d45b64-6565-4c91-efbd-28a1f0f90b8c"
      },
      "source": [
        "companies[companies['Investor/VC Fund'] == 'Self-Funding']"
      ],
      "execution_count": null,
      "outputs": [
        {
          "output_type": "execute_result",
          "data": {
            "text/html": [
              "<div>\n",
              "<style scoped>\n",
              "    .dataframe tbody tr th:only-of-type {\n",
              "        vertical-align: middle;\n",
              "    }\n",
              "\n",
              "    .dataframe tbody tr th {\n",
              "        vertical-align: top;\n",
              "    }\n",
              "\n",
              "    .dataframe thead th {\n",
              "        text-align: right;\n",
              "    }\n",
              "</style>\n",
              "<table border=\"1\" class=\"dataframe\">\n",
              "  <thead>\n",
              "    <tr style=\"text-align: right;\">\n",
              "      <th></th>\n",
              "      <th>Startup</th>\n",
              "      <th>Active (opinion by CMs)</th>\n",
              "      <th>Last edited by</th>\n",
              "      <th>Location</th>\n",
              "      <th>HQ</th>\n",
              "      <th>Founded date</th>\n",
              "      <th>Industry (Vertical)</th>\n",
              "      <th>Horizontal_x</th>\n",
              "      <th>Operating status</th>\n",
              "      <th>Funding status</th>\n",
              "      <th>Employees</th>\n",
              "      <th>Founder 1</th>\n",
              "      <th>Founder 2</th>\n",
              "      <th>Founder 3</th>\n",
              "      <th>Founder 4</th>\n",
              "      <th>Founder 5</th>\n",
              "      <th>Unnamed: 16</th>\n",
              "      <th>Website</th>\n",
              "      <th>Social media URLs</th>\n",
              "      <th>Email</th>\n",
              "      <th>Phone</th>\n",
              "      <th>Funding round 1 (Investment)</th>\n",
              "      <th>Founder round 1 investors</th>\n",
              "      <th>Funding round 1 date</th>\n",
              "      <th>Funding round 2 (Investment)</th>\n",
              "      <th>Founder round 2 investors</th>\n",
              "      <th>Funding round 2 date</th>\n",
              "      <th>Funding round 3 (Investment)</th>\n",
              "      <th>Founder round 3 investors</th>\n",
              "      <th>Funding round 3 date</th>\n",
              "      <th>Funding round 4 (Investment)</th>\n",
              "      <th>Founder round 4 investors</th>\n",
              "      <th>Funding round 4 date</th>\n",
              "      <th>Funding round 5 (Investment)</th>\n",
              "      <th>Founder round 5 investors</th>\n",
              "      <th>Funding round 5 date</th>\n",
              "      <th>Investor/VC Fund</th>\n",
              "      <th>Industry</th>\n",
              "      <th>Horizontal_y</th>\n",
              "      <th>Total Round Amount</th>\n",
              "      <th>Lead Investor (Yes/No)</th>\n",
              "      <th>Funding Round</th>\n",
              "      <th>Date</th>\n",
              "      <th>Founded Year</th>\n",
              "      <th>Social media</th>\n",
              "    </tr>\n",
              "  </thead>\n",
              "  <tbody>\n",
              "    <tr>\n",
              "      <th>105</th>\n",
              "      <td>devcontact</td>\n",
              "      <td>NaN</td>\n",
              "      <td>-</td>\n",
              "      <td>Lahore</td>\n",
              "      <td>Asia-Pacific (APAC)</td>\n",
              "      <td>2014-10-01 00:00:00</td>\n",
              "      <td>NaN</td>\n",
              "      <td>Mobile App</td>\n",
              "      <td>Active</td>\n",
              "      <td>1-Seed</td>\n",
              "      <td>1</td>\n",
              "      <td>-</td>\n",
              "      <td>-</td>\n",
              "      <td>-</td>\n",
              "      <td>-</td>\n",
              "      <td>-</td>\n",
              "      <td>NaN</td>\n",
              "      <td>1</td>\n",
              "      <td>NaN</td>\n",
              "      <td>NaN</td>\n",
              "      <td>401-555-1395</td>\n",
              "      <td>$100K</td>\n",
              "      <td>NaN</td>\n",
              "      <td>2014-11-17 00:00:00</td>\n",
              "      <td>NaN</td>\n",
              "      <td>NaN</td>\n",
              "      <td>NaN</td>\n",
              "      <td>NaN</td>\n",
              "      <td>NaN</td>\n",
              "      <td>NaN</td>\n",
              "      <td>NaN</td>\n",
              "      <td>NaN</td>\n",
              "      <td>NaN</td>\n",
              "      <td>NaN</td>\n",
              "      <td>NaN</td>\n",
              "      <td>NaN</td>\n",
              "      <td>Self-Funding</td>\n",
              "      <td>Information Technology</td>\n",
              "      <td>CRM</td>\n",
              "      <td>100000</td>\n",
              "      <td>No</td>\n",
              "      <td>Seed</td>\n",
              "      <td>2014-11-17</td>\n",
              "      <td>2014</td>\n",
              "      <td>0</td>\n",
              "    </tr>\n",
              "  </tbody>\n",
              "</table>\n",
              "</div>"
            ],
            "text/plain": [
              "        Startup Active (opinion by CMs)  ... Founded Year Social media\n",
              "105  devcontact                     NaN  ...         2014            0\n",
              "\n",
              "[1 rows x 45 columns]"
            ]
          },
          "metadata": {
            "tags": []
          },
          "execution_count": 56
        }
      ]
    },
    {
      "cell_type": "markdown",
      "metadata": {
        "id": "H3cW13Mj-bti"
      },
      "source": [
        "We checked if it's common to save its own money (Love money (from Family&Friends, Personal Savings)) but there is only 1 record. "
      ]
    },
    {
      "cell_type": "markdown",
      "metadata": {
        "id": "S4DN1zMQhi6O"
      },
      "source": [
        "### Founders"
      ]
    },
    {
      "cell_type": "code",
      "metadata": {
        "id": "6VNF4foR-vPV"
      },
      "source": [
        "# companies['Founder 1']\n",
        "# companies['Founder 2']\n",
        "# companies['Founder 3']\n",
        "# companies['Founder 4']\n",
        "# companies['Founder 5']"
      ],
      "execution_count": null,
      "outputs": []
    },
    {
      "cell_type": "markdown",
      "metadata": {
        "id": "9I64ayNBxbVH"
      },
      "source": [
        "From this dataset, we can notice redundant names which is known as Serial Entrepreneurs. \n",
        "Founders are an important factor, \n",
        "usually investors interview them personaly.\n",
        "but is only their name presence is important? \n",
        "Should we get more information abt founders, like how many years of experience, successful/failed startups, expertise field.."
      ]
    },
    {
      "cell_type": "markdown",
      "metadata": {
        "id": "EpVsAXNfZy_8"
      },
      "source": [
        "## Cleaning"
      ]
    },
    {
      "cell_type": "code",
      "metadata": {
        "id": "ymVciiv3aVwG"
      },
      "source": [
        "# useless columns?\n",
        "companies.drop(['Unnamed: 16', 'Email', 'Phone', 'HQ', 'Social media URLs', 'Last edited by', 'Founded date', 'Date', 'Active (opinion by CMs)'], axis=1,  inplace = True)"
      ],
      "execution_count": null,
      "outputs": []
    }
  ]
}